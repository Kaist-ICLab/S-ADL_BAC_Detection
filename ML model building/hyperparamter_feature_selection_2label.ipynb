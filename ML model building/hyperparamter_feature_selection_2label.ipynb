{
 "cells": [
  {
   "cell_type": "code",
   "execution_count": 11,
   "metadata": {},
   "outputs": [
    {
     "name": "stdout",
     "output_type": "stream",
     "text": [
      "Collecting numpy==1.22\n",
      "  Downloading numpy-1.22.0-cp310-cp310-macosx_10_9_x86_64.whl (17.7 MB)\n",
      "\u001b[2K     \u001b[90m━━━━━━━━━━━━━━━━━━━━━━━━━━━━━━━━━━━━━━━━\u001b[0m \u001b[32m17.7/17.7 MB\u001b[0m \u001b[31m3.8 MB/s\u001b[0m eta \u001b[36m0:00:00\u001b[0m00:01\u001b[0m00:01\u001b[0m\n",
      "\u001b[?25hInstalling collected packages: numpy\n",
      "  Attempting uninstall: numpy\n",
      "    Found existing installation: numpy 1.22.3\n",
      "    Uninstalling numpy-1.22.3:\n",
      "      Successfully uninstalled numpy-1.22.3\n",
      "Successfully installed numpy-1.22.0\n",
      "Note: you may need to restart the kernel to use updated packages.\n"
     ]
    }
   ],
   "source": [
    "pip install numpy==1.22"
   ]
  },
  {
   "cell_type": "code",
   "execution_count": 5,
   "metadata": {},
   "outputs": [
    {
     "name": "stdout",
     "output_type": "stream",
     "text": [
      "Collecting pandas\n",
      "  Downloading pandas-1.4.3-cp310-cp310-macosx_10_9_x86_64.whl (11.5 MB)\n",
      "\u001b[2K     \u001b[90m━━━━━━━━━━━━━━━━━━━━━━━━━━━━━━━━━━━━━━━━\u001b[0m \u001b[32m11.5/11.5 MB\u001b[0m \u001b[31m4.0 MB/s\u001b[0m eta \u001b[36m0:00:00\u001b[0m00:01\u001b[0m00:01\u001b[0m\n",
      "\u001b[?25hCollecting pytz>=2020.1\n",
      "  Downloading pytz-2022.2.1-py2.py3-none-any.whl (500 kB)\n",
      "\u001b[2K     \u001b[90m━━━━━━━━━━━━━━━━━━━━━━━━━━━━━━━━━━━━━━━\u001b[0m \u001b[32m500.6/500.6 kB\u001b[0m \u001b[31m3.7 MB/s\u001b[0m eta \u001b[36m0:00:00\u001b[0m00:01\u001b[0m00:01\u001b[0m\n",
      "\u001b[?25hRequirement already satisfied: numpy>=1.21.0 in /Users/ihansu/opt/anaconda3/envs/project/lib/python3.10/site-packages (from pandas) (1.23.2)\n",
      "Requirement already satisfied: python-dateutil>=2.8.1 in /Users/ihansu/opt/anaconda3/envs/project/lib/python3.10/site-packages (from pandas) (2.8.2)\n",
      "Requirement already satisfied: six>=1.5 in /Users/ihansu/opt/anaconda3/envs/project/lib/python3.10/site-packages (from python-dateutil>=2.8.1->pandas) (1.16.0)\n",
      "Installing collected packages: pytz, pandas\n",
      "Successfully installed pandas-1.4.3 pytz-2022.2.1\n",
      "Note: you may need to restart the kernel to use updated packages.\n"
     ]
    }
   ],
   "source": [
    "pip install pandas"
   ]
  },
  {
   "cell_type": "code",
   "execution_count": 7,
   "metadata": {},
   "outputs": [
    {
     "name": "stdout",
     "output_type": "stream",
     "text": [
      "Collecting shap\n",
      "  Downloading shap-0.41.0-cp310-cp310-macosx_10_9_x86_64.whl (436 kB)\n",
      "\u001b[2K     \u001b[90m━━━━━━━━━━━━━━━━━━━━━━━━━━━━━━━━━━━━━━━\u001b[0m \u001b[32m436.5/436.5 kB\u001b[0m \u001b[31m2.5 MB/s\u001b[0m eta \u001b[36m0:00:00\u001b[0m00:01\u001b[0m00:01\u001b[0m\n",
      "\u001b[?25hCollecting scikit-learn\n",
      "  Downloading scikit_learn-1.1.2-cp310-cp310-macosx_10_9_x86_64.whl (8.7 MB)\n",
      "\u001b[2K     \u001b[90m━━━━━━━━━━━━━━━━━━━━━━━━━━━━━━━━━━━━━━━━\u001b[0m \u001b[32m8.7/8.7 MB\u001b[0m \u001b[31m4.4 MB/s\u001b[0m eta \u001b[36m0:00:00\u001b[0m00:01\u001b[0m00:01\u001b[0m\n",
      "\u001b[?25hRequirement already satisfied: numpy in /Users/ihansu/opt/anaconda3/envs/project/lib/python3.10/site-packages (from shap) (1.23.2)\n",
      "Requirement already satisfied: packaging>20.9 in /Users/ihansu/opt/anaconda3/envs/project/lib/python3.10/site-packages (from shap) (21.3)\n",
      "Collecting tqdm>4.25.0\n",
      "  Downloading tqdm-4.64.0-py2.py3-none-any.whl (78 kB)\n",
      "\u001b[2K     \u001b[90m━━━━━━━━━━━━━━━━━━━━━━━━━━━━━━━━━━━━━━━━\u001b[0m \u001b[32m78.4/78.4 kB\u001b[0m \u001b[31m1.7 MB/s\u001b[0m eta \u001b[36m0:00:00\u001b[0ma \u001b[36m0:00:01\u001b[0m\n",
      "\u001b[?25hCollecting numba\n",
      "  Downloading numba-0.56.0-cp310-cp310-macosx_10_14_x86_64.whl (2.5 MB)\n",
      "\u001b[2K     \u001b[90m━━━━━━━━━━━━━━━━━━━━━━━━━━━━━━━━━━━━━━━━\u001b[0m \u001b[32m2.5/2.5 MB\u001b[0m \u001b[31m4.5 MB/s\u001b[0m eta \u001b[36m0:00:00\u001b[0m00:01\u001b[0m00:01\u001b[0m\n",
      "\u001b[?25hCollecting slicer==0.0.7\n",
      "  Using cached slicer-0.0.7-py3-none-any.whl (14 kB)\n",
      "Collecting cloudpickle\n",
      "  Downloading cloudpickle-2.1.0-py3-none-any.whl (25 kB)\n",
      "Requirement already satisfied: pandas in /Users/ihansu/opt/anaconda3/envs/project/lib/python3.10/site-packages (from shap) (1.4.3)\n",
      "Collecting scipy\n",
      "  Downloading scipy-1.9.1-cp310-cp310-macosx_12_0_universal2.macosx_10_9_x86_64.whl (58.4 MB)\n",
      "\u001b[2K     \u001b[90m━━━━━━━━━━━━━━━━━━━━━━━━━━━━━━━━━━━━━━━━\u001b[0m \u001b[32m58.4/58.4 MB\u001b[0m \u001b[31m4.2 MB/s\u001b[0m eta \u001b[36m0:00:00\u001b[0m00:01\u001b[0m00:01\u001b[0m\n",
      "\u001b[?25hRequirement already satisfied: pyparsing!=3.0.5,>=2.0.2 in /Users/ihansu/opt/anaconda3/envs/project/lib/python3.10/site-packages (from packaging>20.9->shap) (3.0.9)\n",
      "Requirement already satisfied: setuptools in /Users/ihansu/opt/anaconda3/envs/project/lib/python3.10/site-packages (from numba->shap) (63.4.1)\n",
      "Collecting numpy\n",
      "  Downloading numpy-1.22.4-cp310-cp310-macosx_10_15_x86_64.whl (17.7 MB)\n",
      "\u001b[2K     \u001b[90m━━━━━━━━━━━━━━━━━━━━━━━━━━━━━━━━━━━━━━━━\u001b[0m \u001b[32m17.7/17.7 MB\u001b[0m \u001b[31m4.0 MB/s\u001b[0m eta \u001b[36m0:00:00\u001b[0m00:01\u001b[0m00:01\u001b[0m\n",
      "\u001b[?25hCollecting llvmlite<0.40,>=0.39.0dev0\n",
      "  Downloading llvmlite-0.39.0-cp310-cp310-macosx_10_9_x86_64.whl (25.5 MB)\n",
      "\u001b[2K     \u001b[90m━━━━━━━━━━━━━━━━━━━━━━━━━━━━━━━━━━━━━━━━\u001b[0m \u001b[32m25.5/25.5 MB\u001b[0m \u001b[31m4.9 MB/s\u001b[0m eta \u001b[36m0:00:00\u001b[0m00:01\u001b[0m00:01\u001b[0m\n",
      "\u001b[?25hRequirement already satisfied: python-dateutil>=2.8.1 in /Users/ihansu/opt/anaconda3/envs/project/lib/python3.10/site-packages (from pandas->shap) (2.8.2)\n",
      "Requirement already satisfied: pytz>=2020.1 in /Users/ihansu/opt/anaconda3/envs/project/lib/python3.10/site-packages (from pandas->shap) (2022.2.1)\n",
      "Collecting joblib>=1.0.0\n",
      "  Downloading joblib-1.1.0-py2.py3-none-any.whl (306 kB)\n",
      "\u001b[2K     \u001b[90m━━━━━━━━━━━━━━━━━━━━━━━━━━━━━━━━━━━━━━━\u001b[0m \u001b[32m307.0/307.0 kB\u001b[0m \u001b[31m4.4 MB/s\u001b[0m eta \u001b[36m0:00:00\u001b[0ma \u001b[36m0:00:01\u001b[0m\n",
      "\u001b[?25hCollecting threadpoolctl>=2.0.0\n",
      "  Downloading threadpoolctl-3.1.0-py3-none-any.whl (14 kB)\n",
      "Requirement already satisfied: six>=1.5 in /Users/ihansu/opt/anaconda3/envs/project/lib/python3.10/site-packages (from python-dateutil>=2.8.1->pandas->shap) (1.16.0)\n",
      "Installing collected packages: tqdm, threadpoolctl, slicer, numpy, llvmlite, joblib, cloudpickle, scipy, numba, scikit-learn, shap\n",
      "  Attempting uninstall: numpy\n",
      "    Found existing installation: numpy 1.23.2\n",
      "    Uninstalling numpy-1.23.2:\n",
      "      Successfully uninstalled numpy-1.23.2\n",
      "Successfully installed cloudpickle-2.1.0 joblib-1.1.0 llvmlite-0.39.0 numba-0.56.0 numpy-1.22.4 scikit-learn-1.1.2 scipy-1.9.1 shap-0.41.0 slicer-0.0.7 threadpoolctl-3.1.0 tqdm-4.64.0\n",
      "Note: you may need to restart the kernel to use updated packages.\n"
     ]
    }
   ],
   "source": [
    "pip install shap"
   ]
  },
  {
   "cell_type": "code",
   "execution_count": 2,
   "metadata": {},
   "outputs": [
    {
     "name": "stdout",
     "output_type": "stream",
     "text": [
      "Collecting seaborn\n",
      "  Downloading seaborn-0.11.2-py3-none-any.whl (292 kB)\n",
      "\u001b[2K     \u001b[90m━━━━━━━━━━━━━━━━━━━━━━━━━━━━━━━━━━━━━━━\u001b[0m \u001b[32m292.8/292.8 kB\u001b[0m \u001b[31m1.5 MB/s\u001b[0m eta \u001b[36m0:00:00\u001b[0ma \u001b[36m0:00:01\u001b[0m\n",
      "\u001b[?25hRequirement already satisfied: pandas>=0.23 in /Users/ihansu/opt/anaconda3/envs/project/lib/python3.10/site-packages (from seaborn) (1.4.3)\n",
      "Requirement already satisfied: numpy>=1.15 in /Users/ihansu/opt/anaconda3/envs/project/lib/python3.10/site-packages (from seaborn) (1.22.0)\n",
      "Collecting matplotlib>=2.2\n",
      "  Downloading matplotlib-3.5.3-cp310-cp310-macosx_10_9_x86_64.whl (7.3 MB)\n",
      "\u001b[2K     \u001b[90m━━━━━━━━━━━━━━━━━━━━━━━━━━━━━━━━━━━━━━━━\u001b[0m \u001b[32m7.3/7.3 MB\u001b[0m \u001b[31m2.8 MB/s\u001b[0m eta \u001b[36m0:00:00\u001b[0m00:01\u001b[0m00:01\u001b[0m\n",
      "\u001b[?25hRequirement already satisfied: scipy>=1.0 in /Users/ihansu/opt/anaconda3/envs/project/lib/python3.10/site-packages (from seaborn) (1.9.1)\n",
      "Collecting fonttools>=4.22.0\n",
      "  Downloading fonttools-4.37.1-py3-none-any.whl (957 kB)\n",
      "\u001b[2K     \u001b[90m━━━━━━━━━━━━━━━━━━━━━━━━━━━━━━━━━━━━━━━\u001b[0m \u001b[32m957.2/957.2 kB\u001b[0m \u001b[31m2.6 MB/s\u001b[0m eta \u001b[36m0:00:00\u001b[0m00:01\u001b[0m00:01\u001b[0m\n",
      "\u001b[?25hCollecting pillow>=6.2.0\n",
      "  Downloading Pillow-9.2.0-cp310-cp310-macosx_10_10_x86_64.whl (3.1 MB)\n",
      "\u001b[2K     \u001b[90m━━━━━━━━━━━━━━━━━━━━━━━━━━━━━━━━━━━━━━━━\u001b[0m \u001b[32m3.1/3.1 MB\u001b[0m \u001b[31m3.5 MB/s\u001b[0m eta \u001b[36m0:00:00\u001b[0m00:01\u001b[0m00:01\u001b[0m\n",
      "\u001b[?25hCollecting kiwisolver>=1.0.1\n",
      "  Downloading kiwisolver-1.4.4-cp310-cp310-macosx_10_9_x86_64.whl (65 kB)\n",
      "\u001b[2K     \u001b[90m━━━━━━━━━━━━━━━━━━━━━━━━━━━━━━━━━━━━━━━━\u001b[0m \u001b[32m65.5/65.5 kB\u001b[0m \u001b[31m1.6 MB/s\u001b[0m eta \u001b[36m0:00:00\u001b[0ma \u001b[36m0:00:01\u001b[0m\n",
      "\u001b[?25hRequirement already satisfied: packaging>=20.0 in /Users/ihansu/opt/anaconda3/envs/project/lib/python3.10/site-packages (from matplotlib>=2.2->seaborn) (21.3)\n",
      "Collecting cycler>=0.10\n",
      "  Downloading cycler-0.11.0-py3-none-any.whl (6.4 kB)\n",
      "Requirement already satisfied: python-dateutil>=2.7 in /Users/ihansu/opt/anaconda3/envs/project/lib/python3.10/site-packages (from matplotlib>=2.2->seaborn) (2.8.2)\n",
      "Requirement already satisfied: pyparsing>=2.2.1 in /Users/ihansu/opt/anaconda3/envs/project/lib/python3.10/site-packages (from matplotlib>=2.2->seaborn) (3.0.9)\n",
      "Requirement already satisfied: pytz>=2020.1 in /Users/ihansu/opt/anaconda3/envs/project/lib/python3.10/site-packages (from pandas>=0.23->seaborn) (2022.2.1)\n",
      "Requirement already satisfied: six>=1.5 in /Users/ihansu/opt/anaconda3/envs/project/lib/python3.10/site-packages (from python-dateutil>=2.7->matplotlib>=2.2->seaborn) (1.16.0)\n",
      "Installing collected packages: pillow, kiwisolver, fonttools, cycler, matplotlib, seaborn\n",
      "Successfully installed cycler-0.11.0 fonttools-4.37.1 kiwisolver-1.4.4 matplotlib-3.5.3 pillow-9.2.0 seaborn-0.11.2\n",
      "Note: you may need to restart the kernel to use updated packages.\n"
     ]
    }
   ],
   "source": [
    "pip install seaborn"
   ]
  },
  {
   "cell_type": "code",
   "execution_count": 4,
   "metadata": {},
   "outputs": [
    {
     "name": "stdout",
     "output_type": "stream",
     "text": [
      "Collecting optuna\n",
      "  Downloading optuna-3.0.0-py3-none-any.whl (348 kB)\n",
      "\u001b[2K     \u001b[90m━━━━━━━━━━━━━━━━━━━━━━━━━━━━━━━━━━━━━━━\u001b[0m \u001b[32m348.1/348.1 kB\u001b[0m \u001b[31m2.7 MB/s\u001b[0m eta \u001b[36m0:00:00\u001b[0ma \u001b[36m0:00:01\u001b[0m\n",
      "\u001b[?25hRequirement already satisfied: numpy in /Users/ihansu/opt/anaconda3/envs/project/lib/python3.10/site-packages (from optuna) (1.22.0)\n",
      "Collecting alembic\n",
      "  Downloading alembic-1.8.1-py3-none-any.whl (209 kB)\n",
      "\u001b[2K     \u001b[90m━━━━━━━━━━━━━━━━━━━━━━━━━━━━━━━━━━━━━━━\u001b[0m \u001b[32m209.8/209.8 kB\u001b[0m \u001b[31m1.4 MB/s\u001b[0m eta \u001b[36m0:00:00\u001b[0ma \u001b[36m0:00:01\u001b[0m\n",
      "\u001b[?25hCollecting cliff\n",
      "  Downloading cliff-4.0.0-py3-none-any.whl (80 kB)\n",
      "\u001b[2K     \u001b[90m━━━━━━━━━━━━━━━━━━━━━━━━━━━━━━━━━━━━━━━\u001b[0m \u001b[32m81.0/81.0 kB\u001b[0m \u001b[31m758.0 kB/s\u001b[0m eta \u001b[36m0:00:00\u001b[0m \u001b[36m0:00:01\u001b[0m\n",
      "\u001b[?25hCollecting cmaes>=0.8.2\n",
      "  Downloading cmaes-0.8.2-py3-none-any.whl (15 kB)\n",
      "Collecting PyYAML\n",
      "  Downloading PyYAML-6.0-cp310-cp310-macosx_10_9_x86_64.whl (197 kB)\n",
      "\u001b[2K     \u001b[90m━━━━━━━━━━━━━━━━━━━━━━━━━━━━━━━━━━━━━━━\u001b[0m \u001b[32m197.6/197.6 kB\u001b[0m \u001b[31m1.7 MB/s\u001b[0m eta \u001b[36m0:00:00\u001b[0m00:01\u001b[0m00:01\u001b[0m\n",
      "\u001b[?25hRequirement already satisfied: packaging>=20.0 in /Users/ihansu/opt/anaconda3/envs/project/lib/python3.10/site-packages (from optuna) (21.3)\n",
      "Collecting colorlog\n",
      "  Downloading colorlog-6.6.0-py2.py3-none-any.whl (11 kB)\n",
      "Requirement already satisfied: typing-extensions>=3.10.0.0 in /Users/ihansu/opt/anaconda3/envs/project/lib/python3.10/site-packages (from optuna) (4.3.0)\n",
      "Collecting scipy<1.9.0,>=1.7.0\n",
      "  Downloading scipy-1.8.1-cp310-cp310-macosx_12_0_universal2.macosx_10_9_x86_64.whl (55.7 MB)\n",
      "\u001b[2K     \u001b[90m━━━━━━━━━━━━━━━━━━━━━━━━━━━━━━━━━━━━━━━━\u001b[0m \u001b[32m55.7/55.7 MB\u001b[0m \u001b[31m3.8 MB/s\u001b[0m eta \u001b[36m0:00:00\u001b[0m00:01\u001b[0m00:01\u001b[0m\n",
      "\u001b[?25hRequirement already satisfied: tqdm in /Users/ihansu/opt/anaconda3/envs/project/lib/python3.10/site-packages (from optuna) (4.64.0)\n",
      "Collecting sqlalchemy>=1.1.0\n",
      "  Downloading SQLAlchemy-1.4.40-cp310-cp310-macosx_10_15_x86_64.whl (1.5 MB)\n",
      "\u001b[2K     \u001b[90m━━━━━━━━━━━━━━━━━━━━━━━━━━━━━━━━━━━━━━━━\u001b[0m \u001b[32m1.5/1.5 MB\u001b[0m \u001b[31m4.3 MB/s\u001b[0m eta \u001b[36m0:00:00\u001b[0m00:01\u001b[0m00:01\u001b[0m\n",
      "\u001b[?25hRequirement already satisfied: pyparsing!=3.0.5,>=2.0.2 in /Users/ihansu/opt/anaconda3/envs/project/lib/python3.10/site-packages (from packaging>=20.0->optuna) (3.0.9)\n",
      "Collecting greenlet!=0.4.17\n",
      "  Downloading greenlet-1.1.3-cp310-cp310-macosx_10_15_x86_64.whl (93 kB)\n",
      "\u001b[2K     \u001b[90m━━━━━━━━━━━━━━━━━━━━━━━━━━━━━━━━━━━━━━━━\u001b[0m \u001b[32m93.7/93.7 kB\u001b[0m \u001b[31m2.5 MB/s\u001b[0m eta \u001b[36m0:00:00\u001b[0m\n",
      "\u001b[?25hCollecting Mako\n",
      "  Downloading Mako-1.2.1-py3-none-any.whl (78 kB)\n",
      "\u001b[2K     \u001b[90m━━━━━━━━━━━━━━━━━━━━━━━━━━━━━━━━━━━━━━━━\u001b[0m \u001b[32m78.6/78.6 kB\u001b[0m \u001b[31m1.7 MB/s\u001b[0m eta \u001b[36m0:00:00\u001b[0ma \u001b[36m0:00:01\u001b[0m\n",
      "\u001b[?25hCollecting stevedore>=2.0.1\n",
      "  Downloading stevedore-4.0.0-py3-none-any.whl (49 kB)\n",
      "\u001b[2K     \u001b[90m━━━━━━━━━━━━━━━━━━━━━━━━━━━━━━━━━━━━━━━━\u001b[0m \u001b[32m49.5/49.5 kB\u001b[0m \u001b[31m1.4 MB/s\u001b[0m eta \u001b[36m0:00:00\u001b[0m\n",
      "\u001b[?25hCollecting cmd2>=1.0.0\n",
      "  Downloading cmd2-2.4.2-py3-none-any.whl (147 kB)\n",
      "\u001b[2K     \u001b[90m━━━━━━━━━━━━━━━━━━━━━━━━━━━━━━━━━━━━━━━\u001b[0m \u001b[32m147.1/147.1 kB\u001b[0m \u001b[31m3.2 MB/s\u001b[0m eta \u001b[36m0:00:00\u001b[0ma \u001b[36m0:00:01\u001b[0m\n",
      "\u001b[?25hCollecting PrettyTable>=0.7.2\n",
      "  Downloading prettytable-3.4.0-py3-none-any.whl (27 kB)\n",
      "Collecting importlib-metadata>=4.4\n",
      "  Downloading importlib_metadata-4.12.0-py3-none-any.whl (21 kB)\n",
      "Collecting autopage>=0.4.0\n",
      "  Downloading autopage-0.5.1-py3-none-any.whl (29 kB)\n",
      "Collecting pyperclip>=1.6\n",
      "  Downloading pyperclip-1.8.2.tar.gz (20 kB)\n",
      "  Preparing metadata (setup.py) ... \u001b[?25ldone\n",
      "\u001b[?25hRequirement already satisfied: attrs>=16.3.0 in /Users/ihansu/opt/anaconda3/envs/project/lib/python3.10/site-packages (from cmd2>=1.0.0->cliff->optuna) (21.4.0)\n",
      "Requirement already satisfied: wcwidth>=0.1.7 in /Users/ihansu/opt/anaconda3/envs/project/lib/python3.10/site-packages (from cmd2>=1.0.0->cliff->optuna) (0.2.5)\n",
      "Collecting zipp>=0.5\n",
      "  Downloading zipp-3.8.1-py3-none-any.whl (5.6 kB)\n",
      "Collecting pbr!=2.1.0,>=2.0.0\n",
      "  Downloading pbr-5.10.0-py2.py3-none-any.whl (112 kB)\n",
      "\u001b[2K     \u001b[90m━━━━━━━━━━━━━━━━━━━━━━━━━━━━━━━━━━━━━━━\u001b[0m \u001b[32m112.4/112.4 kB\u001b[0m \u001b[31m2.8 MB/s\u001b[0m eta \u001b[36m0:00:00\u001b[0m\n",
      "\u001b[?25hRequirement already satisfied: MarkupSafe>=0.9.2 in /Users/ihansu/opt/anaconda3/envs/project/lib/python3.10/site-packages (from Mako->alembic->optuna) (2.1.1)\n",
      "Building wheels for collected packages: pyperclip\n",
      "  Building wheel for pyperclip (setup.py) ... \u001b[?25ldone\n",
      "\u001b[?25h  Created wheel for pyperclip: filename=pyperclip-1.8.2-py3-none-any.whl size=11123 sha256=c68abe05b69e13b22b4da7abead4c86015d072f6c65148537ed90261cad4c90a\n",
      "  Stored in directory: /Users/ihansu/Library/Caches/pip/wheels/04/24/fe/140a94a7f1036003ede94579e6b4227fe96c840c6f4dcbe307\n",
      "Successfully built pyperclip\n",
      "Installing collected packages: pyperclip, zipp, scipy, PyYAML, PrettyTable, pbr, Mako, greenlet, colorlog, cmd2, cmaes, autopage, stevedore, sqlalchemy, importlib-metadata, cliff, alembic, optuna\n",
      "  Attempting uninstall: scipy\n",
      "    Found existing installation: scipy 1.9.1\n",
      "    Uninstalling scipy-1.9.1:\n",
      "      Successfully uninstalled scipy-1.9.1\n",
      "Successfully installed Mako-1.2.1 PrettyTable-3.4.0 PyYAML-6.0 alembic-1.8.1 autopage-0.5.1 cliff-4.0.0 cmaes-0.8.2 cmd2-2.4.2 colorlog-6.6.0 greenlet-1.1.3 importlib-metadata-4.12.0 optuna-3.0.0 pbr-5.10.0 pyperclip-1.8.2 scipy-1.8.1 sqlalchemy-1.4.40 stevedore-4.0.0 zipp-3.8.1\n",
      "Note: you may need to restart the kernel to use updated packages.\n"
     ]
    }
   ],
   "source": [
    "pip install optuna"
   ]
  },
  {
   "cell_type": "code",
   "execution_count": 6,
   "metadata": {},
   "outputs": [
    {
     "name": "stdout",
     "output_type": "stream",
     "text": [
      "Collecting xgboost\n",
      "  Downloading xgboost-1.6.2-py3-none-macosx_10_15_x86_64.macosx_11_0_x86_64.macosx_12_0_x86_64.whl (1.7 MB)\n",
      "\u001b[2K     \u001b[90m━━━━━━━━━━━━━━━━━━━━━━━━━━━━━━━━━━━━━━━━\u001b[0m \u001b[32m1.7/1.7 MB\u001b[0m \u001b[31m3.2 MB/s\u001b[0m eta \u001b[36m0:00:00\u001b[0m00:01\u001b[0m00:01\u001b[0m\n",
      "\u001b[?25hRequirement already satisfied: scipy in /Users/ihansu/opt/anaconda3/envs/project/lib/python3.10/site-packages (from xgboost) (1.8.1)\n",
      "Requirement already satisfied: numpy in /Users/ihansu/opt/anaconda3/envs/project/lib/python3.10/site-packages (from xgboost) (1.22.0)\n",
      "Installing collected packages: xgboost\n",
      "Successfully installed xgboost-1.6.2\n",
      "Note: you may need to restart the kernel to use updated packages.\n"
     ]
    }
   ],
   "source": [
    "pip install xgboost"
   ]
  },
  {
   "cell_type": "code",
   "execution_count": 8,
   "metadata": {},
   "outputs": [
    {
     "name": "stdout",
     "output_type": "stream",
     "text": [
      "Collecting lightgbm\n",
      "  Downloading lightgbm-3.3.2-py3-none-macosx_10_14_x86_64.macosx_10_15_x86_64.macosx_11_0_x86_64.whl (1.2 MB)\n",
      "\u001b[2K     \u001b[90m━━━━━━━━━━━━━━━━━━━━━━━━━━━━━━━━━━━━━━━━\u001b[0m \u001b[32m1.2/1.2 MB\u001b[0m \u001b[31m2.6 MB/s\u001b[0m eta \u001b[36m0:00:00\u001b[0m00:01\u001b[0m00:01\u001b[0m\n",
      "\u001b[?25hRequirement already satisfied: scikit-learn!=0.22.0 in /Users/ihansu/opt/anaconda3/envs/project/lib/python3.10/site-packages (from lightgbm) (1.1.2)\n",
      "Requirement already satisfied: wheel in /Users/ihansu/opt/anaconda3/envs/project/lib/python3.10/site-packages (from lightgbm) (0.37.1)\n",
      "Requirement already satisfied: scipy in /Users/ihansu/opt/anaconda3/envs/project/lib/python3.10/site-packages (from lightgbm) (1.8.1)\n",
      "Requirement already satisfied: numpy in /Users/ihansu/opt/anaconda3/envs/project/lib/python3.10/site-packages (from lightgbm) (1.22.0)\n",
      "Requirement already satisfied: joblib>=1.0.0 in /Users/ihansu/opt/anaconda3/envs/project/lib/python3.10/site-packages (from scikit-learn!=0.22.0->lightgbm) (1.1.0)\n",
      "Requirement already satisfied: threadpoolctl>=2.0.0 in /Users/ihansu/opt/anaconda3/envs/project/lib/python3.10/site-packages (from scikit-learn!=0.22.0->lightgbm) (3.1.0)\n",
      "Installing collected packages: lightgbm\n",
      "Successfully installed lightgbm-3.3.2\n",
      "Note: you may need to restart the kernel to use updated packages.\n"
     ]
    }
   ],
   "source": [
    "pip install lightgbm"
   ]
  },
  {
   "cell_type": "code",
   "execution_count": 18,
   "metadata": {},
   "outputs": [
    {
     "name": "stdout",
     "output_type": "stream",
     "text": [
      "Requirement already satisfied: numpy in /Users/ihansu/opt/anaconda3/envs/project/lib/python3.10/site-packages (1.22.3)\n",
      "Collecting numpy\n",
      "  Using cached numpy-1.23.2-cp310-cp310-macosx_10_9_x86_64.whl (18.1 MB)\n",
      "Installing collected packages: numpy\n",
      "  Attempting uninstall: numpy\n",
      "    Found existing installation: numpy 1.22.3\n",
      "    Uninstalling numpy-1.22.3:\n",
      "      Successfully uninstalled numpy-1.22.3\n",
      "\u001b[31mERROR: pip's dependency resolver does not currently take into account all the packages that are installed. This behaviour is the source of the following dependency conflicts.\n",
      "numba 0.56.0 requires numpy<1.23,>=1.18, but you have numpy 1.23.2 which is incompatible.\u001b[0m\u001b[31m\n",
      "\u001b[0mSuccessfully installed numpy-1.23.2\n",
      "Note: you may need to restart the kernel to use updated packages.\n"
     ]
    }
   ],
   "source": [
    "pip install numpy --upgrade"
   ]
  },
  {
   "cell_type": "code",
   "execution_count": 63,
   "metadata": {},
   "outputs": [],
   "source": [
    "import pandas as pd\n",
    "import numpy as np\n",
    "import copy\n",
    "import shap\n",
    "import seaborn as sns\n",
    "import matplotlib.pyplot as plt\n",
    "import optuna\n",
    "from optuna.samplers import TPESampler\n",
    "from optuna.trial import Trial\n",
    "from xgboost import XGBClassifier\n",
    "from lightgbm import LGBMClassifier\n",
    "from sklearn.feature_selection import RFECV\n",
    "from sklearn.preprocessing import MinMaxScaler, MaxAbsScaler, StandardScaler, RobustScaler\n",
    "from sklearn.ensemble import RandomForestClassifier, GradientBoostingClassifier\n",
    "from sklearn.model_selection import GridSearchCV, train_test_split, KFold, LeaveOneOut, StratifiedKFold, cross_val_score\n",
    "from sklearn.metrics import accuracy_score, precision_score, recall_score, f1_score, roc_auc_score, confusion_matrix\n",
    "from sklearn.utils import shuffle\n",
    "from sklearn.base import clone\n",
    "from sklearn import preprocessing"
   ]
  },
  {
   "cell_type": "code",
   "execution_count": 64,
   "metadata": {},
   "outputs": [],
   "source": [
    "import warnings\n",
    "warnings.filterwarnings('ignore')"
   ]
  },
  {
   "cell_type": "code",
   "execution_count": 65,
   "metadata": {},
   "outputs": [],
   "source": [
    "filename = './머신러닝데이터.xlsx'"
   ]
  },
  {
   "cell_type": "code",
   "execution_count": 66,
   "metadata": {
    "scrolled": true
   },
   "outputs": [
    {
     "name": "stdout",
     "output_type": "stream",
     "text": [
      "Requirement already satisfied: openpyxl in /Users/ihansu/opt/anaconda3/envs/project/lib/python3.10/site-packages (3.0.10)\n",
      "Requirement already satisfied: et-xmlfile in /Users/ihansu/opt/anaconda3/envs/project/lib/python3.10/site-packages (from openpyxl) (1.1.0)\n",
      "Note: you may need to restart the kernel to use updated packages.\n"
     ]
    }
   ],
   "source": [
    "pip install openpyxl"
   ]
  },
  {
   "cell_type": "code",
   "execution_count": 67,
   "metadata": {},
   "outputs": [],
   "source": [
    "# Imputation한 데이터를 불러온다\n",
    "scoring_transition_1 = pd.read_excel(filename, sheet_name='scoring_result_merged', engine='openpyxl')\n",
    "scoring_transition_0 = pd.read_excel(filename, sheet_name='scoring_origin', engine='openpyxl')\n",
    "task_completion_time = pd.read_excel(filename, sheet_name='task_completion_time_mean_imput', engine='openpyxl')\n",
    "sms_reply = pd.read_excel(filename, sheet_name='SMS_reply', engine='openpyxl')\n",
    "weather_searching_site_region = pd.read_excel(filename, sheet_name='weather_searching_사이트주소', engine='openpyxl')"
   ]
  },
  {
   "cell_type": "markdown",
   "metadata": {},
   "source": [
    "# 모든 Feature List\n",
    "sms_reply, weather_searching_사이트주소는 feature 리스트가 같습니다"
   ]
  },
  {
   "cell_type": "code",
   "execution_count": 68,
   "metadata": {},
   "outputs": [],
   "source": [
    "# scoring = ['Routine_Screen_Unlock_Pattern', 'Routine_Phone_Register', 'Routine_Phone_Receive', 'Routine_SMS_Reply', 'Routine_Camera', \n",
    "# 'Routine_Location_Searching', 'Routine_Weather_Searching', 'Routine_Transfer', 'Routine_Location_Switching', 'Routine_Weather_Switching', \n",
    "# 'Transition_Phone_Register', 'Transition_Phone_Receive', 'Transition_SMS_Reply', 'Transition_Camera', 'Transition_Location_Searching', \n",
    "# 'Transition_Weather_Searching', 'Transition_Transfer', 'Transition_Location_Switching', 'Transition_Weather_Switching', 'Result_Phone_Register', \n",
    "# 'Result_Phone_Receive', 'Result_SMS_Reply', 'Result_Camera', 'Result_Location_Searching', 'Result_Weather_Searching', 'Result_Transfer', \n",
    "# 'Result_Location_Switching', 'Result_Weather_Switching', 'routine_sum_trial', 'transition_sum_trial', 'result_sum_trial', 'all_sum_trial']\n",
    "\n",
    "# task = ['average_noti_response_app_start', 'median_noti_response_app_start', 'phone_register_noti_response', 'phone_register_total_time_nt', \n",
    "# 'phone_register_screen_unlocking_time', 'phone_register_sms_start_time', 'phone_register_instruction_check_time', 'phone_register_total_time', \n",
    "# 'phone_register_phone_number_register_time', 'phone_register_call_time', 'phone_receive_noti response', 'phone_receive_total_time_nt', 'phone_receive_total_time', \n",
    "# 'phone_receive_missing_call_time_1', 'phone_receive_missing_call_time_2', 'sms_reply_noti_response_time', 'sms_reply_total_time_nt', 'sms_reply_compeltion_time', \n",
    "# 'sms_reply_total_time', 'camera_noti_response', 'camera_total_time_nt', 'camera_instruction_check_time', 'camera_total_time', 'camera_taken_time', \n",
    "# 'camera_gallery_delete_time', 'transfer_noti_response_time', 'transfer_total_time_nt', 'transfer_instruction_check_time', 'transfer_total_time', \n",
    "# 'transfer_usage_time', 'transfer_share_time', 'weather_searching_noti_response', 'weather_searching_total_time_nt', 'weather_searching_instruction_check_time', \n",
    "# 'weather_searching_total_time', 'weather_information_searching_time', 'weather_information_sharing_time', 'weather_switching_notification_response_time', \n",
    "# 'weather_switching_total_time_nt', 'weather_switching_instruction_check_time', 'weather_switching_total_time', \n",
    "# 'weather_switching_first_searching_keyword_typing_time', 'weather_switching_second_searching_keyword_typing_time', \n",
    "# 'weather_switching_information_searching_time', 'weather_switching_information_sharing_texting_time', 'location_searching_noti_response_time', \n",
    "# 'location_searching_total_time_nt', 'location_searching_instruction_check_time', 'location_searching_total_time', 'location_searching_food_typing_time', \n",
    "# 'location_searching_foodtyping_mapfinding_time', 'location_searching_mapfinding_time', 'location_searching_route_sharing_texting_time', \n",
    "# 'location_switching_notification_response', 'location_switching_total_time_nt', 'location_switching_instruction_check', 'location_switching_total_time', \n",
    "# 'location_switching_first_map_typing_time', 'location_switching_second_map_typing_time', 'location_switching_map_finding_time', \n",
    "# 'location_switching_map_route_sharing_time']\n",
    "\n",
    "# sms_and_ws = ['average intercharacter time', 'std intercharacter time', 'median intercharacter time', 'min intercharacter time', 'max intercharacter time', \n",
    "# 'total_time (S)', 'total_count', 'IS (C+IF+INF+F)', 'backspace (F)', 'C', 'IF', 'INF', 'Shift', 'ISø (IS+S)', 'T (total_count-F)', 'WPS', 'WPM', 'AdjWPS', \n",
    "# 'AdjWPM', 'CPS', 'KSPS', 'GPS', 'KSPC', 'GPC', 'MSD', 'COER', 'UER', 'TER', 'CE', 'PC', 'UB', 'WB', 'CPC']"
   ]
  },
  {
   "cell_type": "code",
   "execution_count": 69,
   "metadata": {},
   "outputs": [],
   "source": [
    "# BAC column만 가져온다(Label)\n",
    "y = scoring_transition_1['BAC']\n",
    "\n",
    "# Participant, BAC column을 제거한다\n",
    "scoring_transition_1 = scoring_transition_1.drop(['Participant', 'BAC'], axis=1)\n",
    "scoring_transition_0 = scoring_transition_0.drop(['Participant', 'BAC'], axis=1)\n",
    "task_completion_time = task_completion_time.drop(['Participant', 'BAC'], axis=1)\n",
    "sms_reply = sms_reply.drop(['Participant', 'BAC'], axis=1)\n",
    "weather_searching_site_region = weather_searching_site_region.drop(['Participant', 'BAC'], axis=1)"
   ]
  },
  {
   "cell_type": "code",
   "execution_count": 70,
   "metadata": {},
   "outputs": [],
   "source": [
    "# 라벨 3개용 features\n",
    "# 각 데이터별로 필요한 column들만 뽑는다\n",
    "scoring_transition_1_columns = []\n",
    "\n",
    "scoring_transition_0_columns = ['Routine_Screen_Unlock_Pattern', 'Transition_Phone_Register', 'Transition_Phone_Receive', 'Transition_SMS_Reply', \n",
    "                                'Transition_Camera', 'Transition_Weather_Searching', 'Transition_Transfer', 'transition_sum_trial', 'Result_Phone_Register', 'Result_Phone_Receive', 'Result_SMS_Reply',\n",
    "                                'Result_Camera', 'Result_Weather_Searching', 'Result_Transfer', 'result_sum_trial']\n",
    "\n",
    "task_completion_time_columns = ['average_noti_response_app_start', 'median_noti_response_app_start', 'phone_register_noti_response', \n",
    "'phone_register_screen_unlocking_time', 'phone_register_phone_number_register_time', 'phone_register_call_time', 'phone_register_total_time', \n",
    "'phone_receive_total_time','phone_receive_missing_call_time_2', 'sms_reply_compeltion_time', 'sms_reply_total_time', \n",
    "'camera_taken_time', 'camera_gallery_delete_time', 'camera_total_time', 'transfer_usage_time', 'transfer_share_time', 'transfer_total_time', \n",
    "'weather_information_searching_time', 'weather_information_sharing_time', 'weather_searching_total_time']\n",
    "\n",
    "sms_reply_columns = ['average intercharacter time', 'median intercharacter time', 'min intercharacter time', 'max intercharacter time', \n",
    "'CPS', 'KSPS', 'GPS', 'COER', 'UER', 'TER', 'UB', 'WB']\n",
    "\n",
    "weather_searching_site_region_columns = ['average intercharacter time', 'median intercharacter time', 'min intercharacter time', 'max intercharacter time', \n",
    "'CPS', 'KSPS', 'COER', 'UB', 'WB']"
   ]
  },
  {
   "cell_type": "code",
   "execution_count": 71,
   "metadata": {},
   "outputs": [],
   "source": [
    "# 라벨을 2개용 features\n",
    "scoring_transition_1_columns_two_label = []\n",
    "\n",
    "scoring_transition_0_columns_two_label = ['Routine_Screen_Unlock_Pattern', 'Transition_Phone_Register', 'Transition_Phone_Receive', 'Transition_SMS_Reply', \n",
    "                                        'Transition_Camera', 'Transition_Weather_Searching', 'Transition_Transfer', 'transition_sum_trial', 'Result_Phone_Register', 'Result_Phone_Receive', 'Result_SMS_Reply',\n",
    "                                        'Result_Camera', 'Result_Weather_Searching', 'Result_Transfer', 'result_sum_trial']\n",
    "\n",
    "task_completion_time_columns_two_label = ['average_noti_response_app_start', 'median_noti_response_app_start', 'phone_register_noti_response', \n",
    "'phone_register_screen_unlocking_time', 'phone_register_phone_number_register_time', 'phone_register_call_time', 'phone_register_total_time', \n",
    "'phone_receive_total_time','phone_receive_missing_call_time_2', 'sms_reply_compeltion_time', 'sms_reply_total_time', \n",
    "'camera_taken_time', 'camera_gallery_delete_time', 'camera_total_time', 'transfer_usage_time', 'transfer_share_time', 'transfer_total_time', \n",
    "'weather_information_searching_time', 'weather_information_sharing_time', 'weather_searching_total_time']\n",
    "\n",
    "sms_reply_columns_two_label = ['average intercharacter time', 'median intercharacter time', 'min intercharacter time', 'max intercharacter time', \n",
    "'CPS', 'KSPS', 'GPS', 'COER', 'UER', 'TER', 'UB', 'WB']\n",
    "\n",
    "weather_searching_site_region_columns_two_label = ['average intercharacter time', 'median intercharacter time', 'min intercharacter time', 'max intercharacter time', \n",
    "'CPS', 'KSPS', 'COER', 'UB', 'WB']"
   ]
  },
  {
   "cell_type": "code",
   "execution_count": 72,
   "metadata": {},
   "outputs": [],
   "source": [
    "# 위에서 정한 feature들로 각각의 데이터 프레임을 생성한다\n",
    "scoring_transition_1_df = scoring_transition_1[scoring_transition_1_columns]\n",
    "scoring_transition_0_df = scoring_transition_0[scoring_transition_0_columns]\n",
    "task_completion_time_df = task_completion_time[task_completion_time_columns]\n",
    "sms_reply_df = sms_reply[sms_reply_columns]\n",
    "weather_searching_site_region_df = weather_searching_site_region[weather_searching_site_region_columns]\n",
    "\n",
    "scoring_transition_1_df_two_label = scoring_transition_1[scoring_transition_1_columns_two_label]\n",
    "scoring_transition_0_df_two_label = scoring_transition_0[scoring_transition_0_columns_two_label]\n",
    "task_completion_time_df_two_label = task_completion_time[task_completion_time_columns_two_label]\n",
    "sms_reply_df_two_label = sms_reply[sms_reply_columns_two_label]\n",
    "weather_searching_site_region_df_two_label = weather_searching_site_region[weather_searching_site_region_columns_two_label]"
   ]
  },
  {
   "cell_type": "markdown",
   "metadata": {},
   "source": [
    "# feature명 수정하기\n",
    "위에서 적은 feature명을 그대로 복사해서 가져온 다음 바꾸려는 feature만 수정하면 됩니다"
   ]
  },
  {
   "cell_type": "code",
   "execution_count": 73,
   "metadata": {},
   "outputs": [],
   "source": [
    "# 라벨 3개용 features의 feature명을 수정한다!\n",
    "scoring_transition_1_columns = []\n",
    "\n",
    "scoring_transition_0_columns = ['screen_unlock_trial', 'phone_register_transition', 'phone_receive_transition', 'SMS_reply_transition', \n",
    "'camera_transition', 'info_sear_transition', 'banking_transition', 'total_task_sum_transition', 'phone_register_accuracy', 'phone_receive_accuracy', 'SMS_reply_accuracy',\n",
    "                                        'camera_accuracy', 'weather_searching_accuracy', 'transfer_accuracy', 'total_task_sum_accuracy']\n",
    "\n",
    "task_completion_time_columns = ['average_noti_response_time', 'median_noti_response_time', 'screen_on_after_noti_response', \n",
    "'screen_Unlock_Time', 'phone_number_register_time', 'phone_call_time', 'phone_call_register_task_total_time', \n",
    "'phone_receive_task_total_time','phone_receive_time', 'sms_reply_compeltion_time', 'sms_reply_task_total_time', \n",
    "'camera_taken_time', 'image_delete_time', 'camera_task_total_time', 'banking_usage_time', 'transfer_share_time', 'banking_task_total_time', \n",
    "'info_searching_time', 'info_sharing_time', 'info_search_share_task_total_time']\n",
    "\n",
    "sms_reply_columns = ['average_intercharacter_time', 'median_intercharacter_time', 'min_intercharacter_time', 'max_intercharacter_time', \n",
    "'CPS', 'KSPS', 'GPS', 'COER', 'UER', 'TER', 'UB', 'WB']\n",
    "\n",
    "weather_searching_site_region_columns = ['average_intercharacter_time', 'median_intercharacter_time', 'min_intercharacter_time', 'max_intercharacter_time', \n",
    "'CPS', 'KSPS', 'COER', 'UB', 'WB']\n",
    "\n",
    "scoring_transition_1_df.columns = scoring_transition_1_columns\n",
    "scoring_transition_0_df.columns = scoring_transition_0_columns\n",
    "task_completion_time_df.columns = task_completion_time_columns\n",
    "sms_reply_df.columns = sms_reply_columns\n",
    "weather_searching_site_region_df.columns = weather_searching_site_region_columns"
   ]
  },
  {
   "cell_type": "code",
   "execution_count": 74,
   "metadata": {},
   "outputs": [],
   "source": [
    "# 라벨을 2개용 features의 feature명을 수정한다!\n",
    "scoring_transition_1_columns_two_label = []\n",
    "\n",
    "scoring_transition_0_columns_two_label = ['screen_unlock_trial', 'phone_register_transition', 'phone_receive_transition', 'SMS_reply_transition', \n",
    "'camera_transition', 'info_sear_transition', 'banking_transition', 'total_task_sum_transition', 'phone_register_accuracy', 'phone_receive_accuracy', 'SMS_reply_accuracy',\n",
    "                                        'camera_accuracy', 'weather_searching_accuracy', 'transfer_accuracy', 'total_task_sum_accuracy']\n",
    "\n",
    "task_completion_time_columns_two_label = ['average_noti_response_time', 'median_noti_response_time', 'screen_on_after_noti_response', \n",
    "'screen_Unlock_Time', 'phone_number_register_time', 'phone_call_time', 'phone_call_register_task_total_time', \n",
    "'phone_receive_task_total_time','phone_receive_time', 'sms_reply_compeltion_time', 'sms_reply_task_total_time', \n",
    "'camera_taken_time', 'image_delete_time', 'camera_task_total_time', 'banking_usage_time', 'transfer_share_time', 'banking_task_total_time', \n",
    "'info_searching_time', 'info_sharing_time', 'info_search_share_task_total_time']\n",
    "\n",
    "sms_reply_columns_two_label = ['average_intercharacter_time', 'median_intercharacter_time', 'min_intercharacter_time', 'max_intercharacter_time', \n",
    "'CPS', 'KSPS', 'GPS', 'COER', 'UER', 'TER', 'UB', 'WB']\n",
    "\n",
    "weather_searching_site_region_columns_two_label = ['average_intercharacter_time', 'median_intercharacter_time', 'min_intercharacter_time', 'max_intercharacter_time', \n",
    "'CPS', 'KSPS', 'COER', 'UB', 'WB']\n",
    "\n",
    "scoring_transition_1_df_two_label.columns = scoring_transition_1_columns_two_label\n",
    "scoring_transition_0_df_two_label.columns = scoring_transition_0_columns_two_label\n",
    "task_completion_time_df_two_label.columns = task_completion_time_columns_two_label\n",
    "sms_reply_df_two_label.columns = sms_reply_columns_two_label\n",
    "weather_searching_site_region_df_two_label.columns = weather_searching_site_region_columns_two_label"
   ]
  },
  {
   "cell_type": "code",
   "execution_count": 75,
   "metadata": {},
   "outputs": [],
   "source": [
    "# sms reply와 weather searching 사이트 주소의 feature명이 똑같으므로 feature명을 수정한다\n",
    "sms_reply_df_columns = ['sms_' + col_name for col_name in sms_reply_df.columns] # sms reply feature 이름 앞에 sms_를 붙인다\n",
    "weather_searching_site_region_df_columns = ['ws_' + col_name for col_name in weather_searching_site_region_df.columns] # ws feature 이름 앞에 ws_를 붙인다\n",
    "\n",
    "sms_reply_df.columns = sms_reply_df_columns # 수정된 sms reply feature명을 적용한다\n",
    "weather_searching_site_region_df.columns = weather_searching_site_region_df_columns # 수정된 ws feature명을 적용한다\n",
    "\n",
    "# 위와 동일하게 작동한다\n",
    "sms_reply_df_two_label_columns = ['sms_' + col_name for col_name in sms_reply_df_two_label.columns]\n",
    "weather_searching_site_region_df_two_label_columns = ['ws_' + col_name for col_name in weather_searching_site_region_df_two_label.columns]\n",
    "\n",
    "sms_reply_df_two_label.columns = sms_reply_df_two_label_columns\n",
    "weather_searching_site_region_df_two_label.columns = weather_searching_site_region_df_two_label_columns"
   ]
  },
  {
   "cell_type": "markdown",
   "metadata": {},
   "source": [
    "### merged_df : Label 3개인 데이터 집합\n",
    "### merged_df_two_label : Label 2개인 데이터 집합"
   ]
  },
  {
   "cell_type": "code",
   "execution_count": 76,
   "metadata": {},
   "outputs": [],
   "source": [
    "# 필요한 데이터 프레임들을 합친다\n",
    "merged_df_list = [scoring_transition_1_df, scoring_transition_0_df, task_completion_time_df, sms_reply_df, weather_searching_site_region_df]\n",
    "merged_df_list_two_label = [scoring_transition_1_df_two_label, scoring_transition_0_df_two_label, task_completion_time_df_two_label, \n",
    "sms_reply_df_two_label, weather_searching_site_region_df_two_label]\n",
    "\n",
    "merged_df = pd.concat(merged_df_list, axis=1)\n",
    "merged_df_two_label = pd.concat(merged_df_list_two_label, axis=1)"
   ]
  },
  {
   "cell_type": "code",
   "execution_count": 77,
   "metadata": {},
   "outputs": [],
   "source": [
    "# Categorical 데이터에 대해서 인코딩한다\n",
    "# 어떤 데이터가 Categorical 데이터인가?\n",
    "\n",
    "# 라벨에 대해서 인코딩한다\n",
    "encoder = preprocessing.LabelEncoder()\n",
    "y = encoder.fit_transform(y)"
   ]
  },
  {
   "cell_type": "markdown",
   "metadata": {},
   "source": [
    "### N : 3개 라벨에 대한 feature 개수 / M : 2개 라벨에 대한 feature 개수\n",
    "merged_df.shape = (360, N), y.shape = (360, 1), 라벨 수: 3 </br>\n",
    "merged_df_two_label.shape = (360, M), changed_label.shape = (360, 1), 라벨 수: 2 </br>\n",
    "changed_df.shape = (240, M), changed_y.shape = (240, 1), 라벨 수: 2 </br>"
   ]
  },
  {
   "cell_type": "code",
   "execution_count": 78,
   "metadata": {},
   "outputs": [],
   "source": [
    "# 라벨에 대해서 인코딩한다(0 -> 0, 0.06 -> 1, 0.09 -> 2)\n",
    "encoder = preprocessing.LabelEncoder()\n",
    "y = encoder.fit_transform(y)\n",
    "\n",
    "# 3개의 라벨을 2개의 라벨로 바꾼다\n",
    "changed_label = copy.deepcopy(y)\n",
    "\n",
    "for i in range(len(changed_label)):\n",
    "    if changed_label[i] == 1:\n",
    "        changed_label[i] = 0\n",
    "\n",
    "for i in range(len(changed_label)):\n",
    "    if changed_label[i] == 2:\n",
    "        changed_label[i] = 1\n",
    "\n",
    "# 라벨 0과 라벨 0.06의 평균을 구해서 하나의 라벨로 만든다\n",
    "temp_y = pd.Series(y, name='Label')\n",
    "temp_df = pd.concat([temp_y, merged_df_two_label], axis=1)\n",
    "\n",
    "changed_df = pd.DataFrame(columns=temp_df.columns)\n",
    "\n",
    "num = 0\n",
    "for row_idx in range(0, len(temp_df), 9):\n",
    "    for i in range(3):\n",
    "        changed_df.loc[num] = (temp_df.loc[row_idx + i] + temp_df.loc[row_idx + i + 3])/2\n",
    "        num += 1\n",
    "    for i in range(3):\n",
    "        changed_df.loc[num] = temp_df.loc[row_idx + 6 + i]\n",
    "        num += 1\n",
    "\n",
    "changed_y = changed_df['Label']\n",
    "changed_df = changed_df.drop(['Label'], axis=1)\n",
    "changed_y = encoder.fit_transform(changed_y)\n",
    "\n",
    "# 3 Labels, 2 Labels(just change), 2 Labels(average)에 대한 데이터\n",
    "label_processing = ['3 Labels', '2 Labels(just change)', '2 Labels(average)']\n",
    "data_list = [(merged_df, y), (merged_df_two_label, changed_label), (changed_df, changed_y)]"
   ]
  },
  {
   "cell_type": "code",
   "execution_count": 79,
   "metadata": {},
   "outputs": [],
   "source": [
    "scaler_list = {\n",
    "    'minmax': MinMaxScaler(),\n",
    "    'maxabs': MaxAbsScaler(),\n",
    "    'standard': StandardScaler(),\n",
    "    'robust': RobustScaler()\n",
    "}\n",
    "\n",
    "label_list = {\n",
    "    'three_label': data_list[0],\n",
    "    'two_label_changed': data_list[1],\n",
    "    'two_label_average': data_list[2]\n",
    "}\n",
    "\n",
    "# scaler_name과 label_name을 인자로 받아서 해당하는 X, y를 반환한다\n",
    "def getXy(scaler_name, label_name):\n",
    "    if scaler_name not in scaler_list.keys() and scaler_name != 'no_scale':\n",
    "        raise ValueError(\"scaler_name must be 'minmax' or 'maxabs' or 'standard' or 'robust' or 'no_scale!\")\n",
    "\n",
    "    if label_name not in label_list.keys():\n",
    "        raise ValueError(\"label_name must be 'three_label' or 'two_label_changed' or 'two_label_average'!\")\n",
    "\n",
    "    X, y = label_list[label_name]\n",
    "\n",
    "    if scaler_name != 'no_scale':\n",
    "        scaler = scaler_list[scaler_name]\n",
    "        df = X.copy()\n",
    "\n",
    "        df[df.columns] = scaler.fit_transform(df[df.columns])\n",
    "\n",
    "        X = df\n",
    "        X[X.columns] = scaler.fit_transform(X[X.columns])\n",
    "    \n",
    "    return (X, y)"
   ]
  },
  {
   "cell_type": "markdown",
   "metadata": {},
   "source": [
    "# 어떤 label의 데이터로 돌릴 것인지, 어떤 scaler를 적용할 것인지, inner loop에서 어떤 cv 방법을 적용할 것인지, Stratified K-fold의 K를 정한다"
   ]
  },
  {
   "cell_type": "markdown",
   "metadata": {},
   "source": [
    "### scaler_name = 'minmax' or 'maxabs' or 'standard' or 'robust' or 'no_scale'\n",
    "### label_name = 'three_label' or 'two_label_changed' or 'two_label_average'\n",
    "### cv_method = 'loso' or 'k_fold'\n",
    "### n_fold = 39(default)"
   ]
  },
  {
   "cell_type": "code",
   "execution_count": 88,
   "metadata": {},
   "outputs": [],
   "source": [
    "scaler_name = 'no_scale'\n",
    "label_name = 'two_label_changed'\n",
    "cv_method = 'k_fold'\n",
    "n_fold = 3\n",
    "\n",
    "X, y = getXy(scaler_name=scaler_name, label_name=label_name)"
   ]
  },
  {
   "cell_type": "markdown",
   "metadata": {},
   "source": [
    "# Optuna의 반복 수를 설정한다"
   ]
  },
  {
   "cell_type": "code",
   "execution_count": 89,
   "metadata": {},
   "outputs": [],
   "source": [
    "n_trials = 1"
   ]
  },
  {
   "cell_type": "code",
   "execution_count": 90,
   "metadata": {},
   "outputs": [],
   "source": [
    "def NestedCVwithOptuna(objective, clf, clf_name):\n",
    "    metric_df = pd.DataFrame(columns=['model', 'accuracy', 'precision', 'recall', 'f1_score', 'roc_auc_score'])\n",
    "\n",
    "    # 클래스가 몇 개인지 확인한다\n",
    "    class_nums = len(set(y))\n",
    "    print('class_nums : ', class_nums)\n",
    "    n_splits = 40\n",
    "    kfold = KFold(n_splits=n_splits)\n",
    "\n",
    "    mean_accuracy = 0\n",
    "    mean_precision = 0\n",
    "    mean_recall = 0\n",
    "    mean_f1 = 0\n",
    "    mean_roc_auc = 0\n",
    "    \n",
    "    list_shap_values = list()\n",
    "    list_test_sets = list()\n",
    "    \n",
    "    shap_df_list = [[], [], []]\n",
    "\n",
    "    for num, (train_idx, val_idx) in enumerate(kfold.split(X)):\n",
    "        X_train, X_val = X.iloc[train_idx, :], X.iloc[val_idx, :]\n",
    "        y_train, y_val = y[train_idx], y[val_idx]\n",
    "        \n",
    "        classifier = clone(clf)\n",
    "\n",
    "        # Feature Selection을 진행한다\n",
    "        selector = RFECV(classifier, step=2, cv = KFold(n_splits=3), min_features_to_select=20)\n",
    "        selector = selector.fit(X_train, y_train)\n",
    "\n",
    "        columns = X_train.columns\n",
    "        selected_list = selector.support_\n",
    "\n",
    "        selected_features = [col_name for i, col_name in enumerate(columns) if selected_list[i]]\n",
    "\n",
    "        # 뽑힌 feature들로 데이터를 만든다\n",
    "        X_train = X_train[selected_features]\n",
    "        X_val = X_val[selected_features]\n",
    "\n",
    "        # Bayesian Optimization을 진행한다\n",
    "        sampler = TPESampler()\n",
    "\n",
    "        study = optuna.create_study(direction='maximize', sampler=sampler, study_name=f'{clf_name} Study')\n",
    "        study.optimize(objective(X_train, y_train), n_trials=n_trials)\n",
    "\n",
    "        best_params = study.best_params\n",
    "        print('Optuna Best score : ', study.best_value)\n",
    "        print('Best parameters : ', best_params)\n",
    "        print('Selected features Num: ', len(selected_features))\n",
    "        print('Selected features : ', selected_features)\n",
    "\n",
    "        if clf_name == 'lightgbm':\n",
    "            best_clf = LGBMClassifier(**best_params, random_state=42)\n",
    "        elif clf_name == 'xgboost':\n",
    "            best_clf = XGBClassifier(**best_params, random_state=42)\n",
    "        elif clf_name == 'randomforest':\n",
    "            best_clf = RandomForestClassifier(**best_params, random_state=42)\n",
    "        elif clf_name == 'gbm':\n",
    "            best_clf = GradientBoostingClassifier(**best_params, random_state=42)\n",
    "        \n",
    "        best_clf.fit(X_train, y_train)\n",
    "\n",
    "        y_pred = best_clf.predict(X_val)\n",
    "        y_pred_prob = best_clf.predict_proba(X_val)\n",
    "\n",
    "        # 개별 performance metric을 구한다\n",
    "        accuracy = accuracy_score(y_val, y_pred)\n",
    "        precision = precision_score(y_val, y_pred, average='macro')\n",
    "        recall = recall_score(y_val, y_pred, average='macro')\n",
    "        f1 = f1_score(y_val, y_pred, average='macro')\n",
    "        if class_nums > 2:\n",
    "            roc_auc = roc_auc_score(y_val, y_pred_prob, average='macro', multi_class='ovr')\n",
    "        else:\n",
    "            roc_auc = roc_auc_score(y_val, y_pred)\n",
    "        \n",
    "        # 개별 performance metric을 데이터 프레임으로 저장한다\n",
    "        metric_df.loc[len(metric_df)] = [f'model_{num+1}', accuracy, precision, recall, f1, roc_auc]\n",
    "\n",
    "        # 평균 performance metric을 구한다\n",
    "        mean_accuracy += accuracy / n_splits\n",
    "        mean_precision += accuracy / n_splits\n",
    "        mean_recall += recall / n_splits\n",
    "        mean_f1 += f1 / n_splits\n",
    "        mean_roc_auc += roc_auc / n_splits\n",
    "\n",
    "        print('test accuracy : ', accuracy)\n",
    "\n",
    "        # explaining model\n",
    "        explainer = shap.TreeExplainer(best_clf)\n",
    "        shap_values = explainer.shap_values(X_val)\n",
    "        \n",
    "        if class_nums > 2:\n",
    "            for i in range(3):\n",
    "                shap_df = pd.DataFrame(shap_values[i], columns=X_train.columns)\n",
    "                shap_df_list[i].append(shap_df)\n",
    "        elif len(shap_values) == 2:\n",
    "            for i in range(2):\n",
    "                shap_df = pd.DataFrame(shap_values[i], columns=X_train.columns)\n",
    "                shap_df_list[i].append(shap_df)\n",
    "        else:\n",
    "            shap_df = pd.DataFrame(shap_values, columns=X_train.columns)\n",
    "            shap_df_list[0].append(shap_df)\n",
    "\n",
    "    print()\n",
    "    print('mean accuracy : ', mean_accuracy)\n",
    "    print('mean precision : ', mean_precision)\n",
    "    print('mean recall : ', mean_recall)\n",
    "    print('mean f1 : ', mean_f1)\n",
    "    print('mean roc_auc : ', mean_roc_auc)\n",
    "    print()\n",
    "\n",
    "    metric_df.loc[len(metric_df)] = ['mean', mean_accuracy, mean_precision, mean_recall, mean_f1, mean_roc_auc]\n",
    "\n",
    "    return (shap_df_list, metric_df)"
   ]
  },
  {
   "cell_type": "markdown",
   "metadata": {},
   "source": [
    "## Accuracy가 아닌 다른 metric을 기준으로 Optuna을 하려면 precision ~ roc_auc 주석 중 하나를 풀고 return 해주면 됩니다"
   ]
  },
  {
   "cell_type": "code",
   "execution_count": 91,
   "metadata": {},
   "outputs": [],
   "source": [
    "def InnerCrossValidation(clf, X, y, cv_method, n_fold=39):\n",
    "    class_nums = len(set(y))\n",
    "    if cv_method == 'loso':\n",
    "        kfold = KFold(n_splits=39)\n",
    "        splits = kfold.split(X)\n",
    "    elif cv_method == 'k_fold':\n",
    "        stratified_kfold = StratifiedKFold(n_splits=n_fold)\n",
    "        splits = stratified_kfold.split(X, y)\n",
    "    else:\n",
    "        raise ValueError(\"cv_method must be 'loso' or 'k_fold'!\")\n",
    "    \n",
    "    train_X_len = len(X)\n",
    "    if train_X_len % n_fold != 0:\n",
    "        raise ValueError(f\"{train_X_len} / {n_fold} is not Integer!\")\n",
    "\n",
    "    y_true_list, y_pred_list = [], []\n",
    "    y_pred_prob_list = []\n",
    "    \n",
    "    for train_idx, val_idx in splits:\n",
    "        X_train, X_val = X.iloc[train_idx, :], X.iloc[val_idx, :]\n",
    "        y_train, y_val = y[train_idx], y[val_idx]\n",
    "        \n",
    "        classifier = clone(clf)\n",
    "\n",
    "        # 모델을 학습한다\n",
    "        classifier.fit(X_train, y_train)\n",
    "\n",
    "        y_pred = classifier.predict(X_val)\n",
    "        y_pred_prob = classifier.predict_proba(X_val)\n",
    "        \n",
    "        # 실제, 예측 라벨을 저장한다\n",
    "        y_true_list.extend(y_val)\n",
    "        y_pred_list.extend(y_pred)\n",
    "        y_pred_prob_list.extend(y_pred_prob)\n",
    "    \n",
    "    # 여기를 바꾸면 됩니다\n",
    "    accuracy = accuracy_score(y_true_list, y_pred_list)\n",
    "    # precision = precision_score(y_true_list, y_pred_list, average='macro')\n",
    "    # recall = recall_score(y_true_list, y_pred_list, average='macro')\n",
    "    # f1 = f1_score(y_true_list, y_pred_list, average='macro')\n",
    "    # if class_nums > 2:\n",
    "    #     roc_auc = roc_auc_score(y_val, y_pred_prob, average='macro', multi_class='ovr')\n",
    "    # else:\n",
    "    #     roc_auc = roc_auc_score(y_val, y_pred)\n",
    "\n",
    "    # 반환하는 변수를 바꿔줘야 합니다\n",
    "    return accuracy"
   ]
  },
  {
   "cell_type": "markdown",
   "metadata": {},
   "source": [
    "# Lightgbm Bayesian"
   ]
  },
  {
   "cell_type": "code",
   "execution_count": 92,
   "metadata": {},
   "outputs": [],
   "source": [
    "class LGBMObjective(object):\n",
    "    def __init__(self, X, y):\n",
    "        self.X = X\n",
    "        self.y = y\n",
    "    \n",
    "    def __call__(self, trial: Trial):\n",
    "        lgbm_params = {\n",
    "            'n_estimators': trial.suggest_int('n_estimators', 100, 500),\n",
    "            'learning_rate': trial.suggest_loguniform(\"learning_rate\", 1e-3, 1e-1),\n",
    "            'num_leaves': trial.suggest_int('num_leaves', 2, 256),\n",
    "            'colsample_bytree': trial.suggest_float('colsample_bytree', 0.6, 1.0, step=0.1),\n",
    "            'min_child_samples': trial.suggest_int('min_child_samples', 5, 100),\n",
    "            'subsample': trial.suggest_float('subsample', 0.6, 1.0, step=0.1), \n",
    "            'reg_alpha': trial.suggest_float('reg_alpha', 1.0, 5.0), # lambda_l1\n",
    "            'reg_lambda': trial.suggest_float('reg_lambda', 1.0, 5.0), # lambda_l2\n",
    "            'random_state': 42\n",
    "        }\n",
    "\n",
    "        clf = LGBMClassifier(**lgbm_params)\n",
    "\n",
    "        mean_accuracy = InnerCrossValidation(clf, self.X, self.y, cv_method, n_fold)\n",
    "\n",
    "        return mean_accuracy"
   ]
  },
  {
   "cell_type": "code",
   "execution_count": null,
   "metadata": {},
   "outputs": [
    {
     "name": "stdout",
     "output_type": "stream",
     "text": [
      "class_nums :  2\n"
     ]
    },
    {
     "name": "stderr",
     "output_type": "stream",
     "text": [
      "\u001b[32m[I 2022-08-30 20:04:12,531]\u001b[0m A new study created in memory with name: lightgbm Study\u001b[0m\n",
      "\u001b[32m[I 2022-08-30 20:04:15,562]\u001b[0m Trial 0 finished with value: 0.6894586894586895 and parameters: {'n_estimators': 492, 'learning_rate': 0.002626266839082222, 'num_leaves': 16, 'colsample_bytree': 0.7, 'min_child_samples': 15, 'subsample': 0.9, 'reg_alpha': 4.149674548717352, 'reg_lambda': 4.660302317141511}. Best is trial 0 with value: 0.6894586894586895.\u001b[0m\n"
     ]
    },
    {
     "name": "stdout",
     "output_type": "stream",
     "text": [
      "Optuna Best score :  0.6894586894586895\n",
      "Best parameters :  {'n_estimators': 492, 'learning_rate': 0.002626266839082222, 'num_leaves': 16, 'colsample_bytree': 0.7, 'min_child_samples': 15, 'subsample': 0.9, 'reg_alpha': 4.149674548717352, 'reg_lambda': 4.660302317141511}\n",
      "Selected features Num:  34\n",
      "Selected features :  ['total_task_sum_accuracy', 'average_noti_response_time', 'median_noti_response_time', 'screen_on_after_noti_response', 'screen_Unlock_Time', 'phone_number_register_time', 'phone_call_time', 'phone_call_register_task_total_time', 'phone_receive_task_total_time', 'phone_receive_time', 'sms_reply_compeltion_time', 'sms_reply_task_total_time', 'camera_taken_time', 'image_delete_time', 'camera_task_total_time', 'banking_usage_time', 'transfer_share_time', 'banking_task_total_time', 'info_searching_time', 'info_sharing_time', 'info_search_share_task_total_time', 'sms_average_intercharacter_time', 'sms_median_intercharacter_time', 'sms_min_intercharacter_time', 'sms_max_intercharacter_time', 'sms_COER', 'sms_TER', 'sms_UB', 'ws_median_intercharacter_time', 'ws_min_intercharacter_time', 'ws_max_intercharacter_time', 'ws_CPS', 'ws_KSPS', 'ws_COER']\n",
      "test accuracy :  1.0\n"
     ]
    },
    {
     "name": "stderr",
     "output_type": "stream",
     "text": [
      "\u001b[32m[I 2022-08-30 20:04:37,884]\u001b[0m A new study created in memory with name: lightgbm Study\u001b[0m\n",
      "\u001b[32m[I 2022-08-30 20:04:38,916]\u001b[0m Trial 0 finished with value: 0.7435897435897436 and parameters: {'n_estimators': 486, 'learning_rate': 0.08427970500981366, 'num_leaves': 166, 'colsample_bytree': 0.8, 'min_child_samples': 73, 'subsample': 0.6, 'reg_alpha': 3.1742346063596094, 'reg_lambda': 2.5413814393757193}. Best is trial 0 with value: 0.7435897435897436.\u001b[0m\n"
     ]
    },
    {
     "name": "stdout",
     "output_type": "stream",
     "text": [
      "Optuna Best score :  0.7435897435897436\n",
      "Best parameters :  {'n_estimators': 486, 'learning_rate': 0.08427970500981366, 'num_leaves': 166, 'colsample_bytree': 0.8, 'min_child_samples': 73, 'subsample': 0.6, 'reg_alpha': 3.1742346063596094, 'reg_lambda': 2.5413814393757193}\n",
      "Selected features Num:  40\n",
      "Selected features :  ['total_task_sum_transition', 'total_task_sum_accuracy', 'average_noti_response_time', 'median_noti_response_time', 'screen_on_after_noti_response', 'screen_Unlock_Time', 'phone_number_register_time', 'phone_call_time', 'phone_call_register_task_total_time', 'phone_receive_task_total_time', 'phone_receive_time', 'sms_reply_compeltion_time', 'sms_reply_task_total_time', 'camera_taken_time', 'image_delete_time', 'camera_task_total_time', 'banking_usage_time', 'transfer_share_time', 'banking_task_total_time', 'info_searching_time', 'info_sharing_time', 'info_search_share_task_total_time', 'sms_average_intercharacter_time', 'sms_median_intercharacter_time', 'sms_min_intercharacter_time', 'sms_max_intercharacter_time', 'sms_CPS', 'sms_KSPS', 'sms_GPS', 'sms_COER', 'sms_TER', 'sms_UB', 'ws_average_intercharacter_time', 'ws_median_intercharacter_time', 'ws_min_intercharacter_time', 'ws_max_intercharacter_time', 'ws_CPS', 'ws_KSPS', 'ws_COER', 'ws_UB']\n",
      "test accuracy :  1.0\n"
     ]
    },
    {
     "name": "stderr",
     "output_type": "stream",
     "text": [
      "\u001b[32m[I 2022-08-30 20:04:58,433]\u001b[0m A new study created in memory with name: lightgbm Study\u001b[0m\n",
      "\u001b[32m[I 2022-08-30 20:04:59,396]\u001b[0m Trial 0 finished with value: 0.6638176638176638 and parameters: {'n_estimators': 492, 'learning_rate': 0.0018595794748129469, 'num_leaves': 124, 'colsample_bytree': 0.9, 'min_child_samples': 76, 'subsample': 0.8, 'reg_alpha': 1.922934197447609, 'reg_lambda': 2.7797122993134233}. Best is trial 0 with value: 0.6638176638176638.\u001b[0m\n"
     ]
    },
    {
     "name": "stdout",
     "output_type": "stream",
     "text": [
      "Optuna Best score :  0.6638176638176638\n",
      "Best parameters :  {'n_estimators': 492, 'learning_rate': 0.0018595794748129469, 'num_leaves': 124, 'colsample_bytree': 0.9, 'min_child_samples': 76, 'subsample': 0.8, 'reg_alpha': 1.922934197447609, 'reg_lambda': 2.7797122993134233}\n",
      "Selected features Num:  38\n",
      "Selected features :  ['total_task_sum_accuracy', 'average_noti_response_time', 'median_noti_response_time', 'screen_on_after_noti_response', 'screen_Unlock_Time', 'phone_number_register_time', 'phone_call_time', 'phone_call_register_task_total_time', 'phone_receive_task_total_time', 'phone_receive_time', 'sms_reply_compeltion_time', 'sms_reply_task_total_time', 'camera_taken_time', 'image_delete_time', 'camera_task_total_time', 'banking_usage_time', 'transfer_share_time', 'banking_task_total_time', 'info_searching_time', 'info_sharing_time', 'info_search_share_task_total_time', 'sms_average_intercharacter_time', 'sms_median_intercharacter_time', 'sms_min_intercharacter_time', 'sms_max_intercharacter_time', 'sms_CPS', 'sms_KSPS', 'sms_COER', 'sms_TER', 'sms_UB', 'ws_average_intercharacter_time', 'ws_median_intercharacter_time', 'ws_min_intercharacter_time', 'ws_max_intercharacter_time', 'ws_CPS', 'ws_KSPS', 'ws_COER', 'ws_UB']\n",
      "test accuracy :  1.0\n"
     ]
    },
    {
     "name": "stderr",
     "output_type": "stream",
     "text": [
      "\u001b[32m[I 2022-08-30 20:05:20,353]\u001b[0m A new study created in memory with name: lightgbm Study\u001b[0m\n",
      "\u001b[32m[I 2022-08-30 20:05:21,313]\u001b[0m Trial 0 finished with value: 0.7692307692307693 and parameters: {'n_estimators': 351, 'learning_rate': 0.06756048166314557, 'num_leaves': 174, 'colsample_bytree': 0.9, 'min_child_samples': 67, 'subsample': 0.7, 'reg_alpha': 4.863196375064623, 'reg_lambda': 4.709521265072244}. Best is trial 0 with value: 0.7692307692307693.\u001b[0m\n"
     ]
    },
    {
     "name": "stdout",
     "output_type": "stream",
     "text": [
      "Optuna Best score :  0.7692307692307693\n",
      "Best parameters :  {'n_estimators': 351, 'learning_rate': 0.06756048166314557, 'num_leaves': 174, 'colsample_bytree': 0.9, 'min_child_samples': 67, 'subsample': 0.7, 'reg_alpha': 4.863196375064623, 'reg_lambda': 4.709521265072244}\n",
      "Selected features Num:  40\n",
      "Selected features :  ['total_task_sum_transition', 'total_task_sum_accuracy', 'average_noti_response_time', 'median_noti_response_time', 'screen_on_after_noti_response', 'screen_Unlock_Time', 'phone_number_register_time', 'phone_call_time', 'phone_call_register_task_total_time', 'phone_receive_task_total_time', 'phone_receive_time', 'sms_reply_compeltion_time', 'sms_reply_task_total_time', 'camera_taken_time', 'image_delete_time', 'camera_task_total_time', 'banking_usage_time', 'transfer_share_time', 'banking_task_total_time', 'info_searching_time', 'info_sharing_time', 'info_search_share_task_total_time', 'sms_average_intercharacter_time', 'sms_median_intercharacter_time', 'sms_min_intercharacter_time', 'sms_max_intercharacter_time', 'sms_CPS', 'sms_KSPS', 'sms_GPS', 'sms_COER', 'sms_TER', 'sms_UB', 'ws_average_intercharacter_time', 'ws_median_intercharacter_time', 'ws_min_intercharacter_time', 'ws_max_intercharacter_time', 'ws_CPS', 'ws_KSPS', 'ws_COER', 'ws_UB']\n",
      "test accuracy :  1.0\n"
     ]
    },
    {
     "name": "stderr",
     "output_type": "stream",
     "text": [
      "\u001b[32m[I 2022-08-30 20:05:43,877]\u001b[0m A new study created in memory with name: lightgbm Study\u001b[0m\n",
      "\u001b[32m[I 2022-08-30 20:05:48,060]\u001b[0m Trial 0 finished with value: 0.6638176638176638 and parameters: {'n_estimators': 373, 'learning_rate': 0.0016629111331615857, 'num_leaves': 76, 'colsample_bytree': 0.8, 'min_child_samples': 5, 'subsample': 0.8, 'reg_alpha': 2.7074161288276244, 'reg_lambda': 3.377874067354119}. Best is trial 0 with value: 0.6638176638176638.\u001b[0m\n"
     ]
    },
    {
     "name": "stdout",
     "output_type": "stream",
     "text": [
      "Optuna Best score :  0.6638176638176638\n",
      "Best parameters :  {'n_estimators': 373, 'learning_rate': 0.0016629111331615857, 'num_leaves': 76, 'colsample_bytree': 0.8, 'min_child_samples': 5, 'subsample': 0.8, 'reg_alpha': 2.7074161288276244, 'reg_lambda': 3.377874067354119}\n",
      "Selected features Num:  38\n",
      "Selected features :  ['total_task_sum_accuracy', 'average_noti_response_time', 'median_noti_response_time', 'screen_on_after_noti_response', 'screen_Unlock_Time', 'phone_number_register_time', 'phone_call_time', 'phone_call_register_task_total_time', 'phone_receive_task_total_time', 'phone_receive_time', 'sms_reply_compeltion_time', 'sms_reply_task_total_time', 'camera_taken_time', 'image_delete_time', 'camera_task_total_time', 'banking_usage_time', 'transfer_share_time', 'banking_task_total_time', 'info_searching_time', 'info_sharing_time', 'info_search_share_task_total_time', 'sms_average_intercharacter_time', 'sms_median_intercharacter_time', 'sms_min_intercharacter_time', 'sms_max_intercharacter_time', 'sms_CPS', 'sms_KSPS', 'sms_GPS', 'sms_COER', 'sms_TER', 'sms_UB', 'ws_average_intercharacter_time', 'ws_median_intercharacter_time', 'ws_min_intercharacter_time', 'ws_max_intercharacter_time', 'ws_CPS', 'ws_KSPS', 'ws_COER']\n",
      "test accuracy :  1.0\n"
     ]
    },
    {
     "name": "stderr",
     "output_type": "stream",
     "text": [
      "\u001b[32m[I 2022-08-30 20:06:13,745]\u001b[0m A new study created in memory with name: lightgbm Study\u001b[0m\n",
      "\u001b[32m[I 2022-08-30 20:06:14,757]\u001b[0m Trial 0 finished with value: 0.6666666666666666 and parameters: {'n_estimators': 366, 'learning_rate': 0.001951961578621265, 'num_leaves': 44, 'colsample_bytree': 0.8, 'min_child_samples': 36, 'subsample': 0.9, 'reg_alpha': 3.9896354452426883, 'reg_lambda': 4.010114243332545}. Best is trial 0 with value: 0.6666666666666666.\u001b[0m\n"
     ]
    },
    {
     "name": "stdout",
     "output_type": "stream",
     "text": [
      "Optuna Best score :  0.6666666666666666\n",
      "Best parameters :  {'n_estimators': 366, 'learning_rate': 0.001951961578621265, 'num_leaves': 44, 'colsample_bytree': 0.8, 'min_child_samples': 36, 'subsample': 0.9, 'reg_alpha': 3.9896354452426883, 'reg_lambda': 4.010114243332545}\n",
      "Selected features Num:  26\n",
      "Selected features :  ['total_task_sum_accuracy', 'average_noti_response_time', 'median_noti_response_time', 'screen_on_after_noti_response', 'screen_Unlock_Time', 'phone_number_register_time', 'phone_call_time', 'phone_call_register_task_total_time', 'phone_receive_task_total_time', 'phone_receive_time', 'sms_reply_compeltion_time', 'camera_taken_time', 'image_delete_time', 'banking_usage_time', 'banking_task_total_time', 'info_searching_time', 'info_sharing_time', 'sms_min_intercharacter_time', 'sms_max_intercharacter_time', 'sms_KSPS', 'sms_COER', 'sms_UB', 'ws_median_intercharacter_time', 'ws_min_intercharacter_time', 'ws_CPS', 'ws_COER']\n",
      "test accuracy :  1.0\n"
     ]
    },
    {
     "name": "stderr",
     "output_type": "stream",
     "text": [
      "\u001b[32m[I 2022-08-30 20:06:37,157]\u001b[0m A new study created in memory with name: lightgbm Study\u001b[0m\n",
      "\u001b[32m[I 2022-08-30 20:06:40,017]\u001b[0m Trial 0 finished with value: 0.6666666666666666 and parameters: {'n_estimators': 437, 'learning_rate': 0.0010953431958550066, 'num_leaves': 217, 'colsample_bytree': 0.7, 'min_child_samples': 19, 'subsample': 0.9, 'reg_alpha': 4.500950746925876, 'reg_lambda': 4.491533508878006}. Best is trial 0 with value: 0.6666666666666666.\u001b[0m\n"
     ]
    },
    {
     "name": "stdout",
     "output_type": "stream",
     "text": [
      "Optuna Best score :  0.6666666666666666\n",
      "Best parameters :  {'n_estimators': 437, 'learning_rate': 0.0010953431958550066, 'num_leaves': 217, 'colsample_bytree': 0.7, 'min_child_samples': 19, 'subsample': 0.9, 'reg_alpha': 4.500950746925876, 'reg_lambda': 4.491533508878006}\n",
      "Selected features Num:  30\n",
      "Selected features :  ['total_task_sum_accuracy', 'average_noti_response_time', 'median_noti_response_time', 'screen_on_after_noti_response', 'screen_Unlock_Time', 'phone_number_register_time', 'phone_call_time', 'phone_call_register_task_total_time', 'phone_receive_task_total_time', 'phone_receive_time', 'sms_reply_compeltion_time', 'sms_reply_task_total_time', 'camera_taken_time', 'image_delete_time', 'banking_usage_time', 'transfer_share_time', 'banking_task_total_time', 'info_searching_time', 'info_sharing_time', 'sms_median_intercharacter_time', 'sms_min_intercharacter_time', 'sms_max_intercharacter_time', 'sms_GPS', 'sms_COER', 'sms_TER', 'ws_median_intercharacter_time', 'ws_min_intercharacter_time', 'ws_CPS', 'ws_KSPS', 'ws_COER']\n",
      "test accuracy :  0.6666666666666666\n"
     ]
    },
    {
     "name": "stderr",
     "output_type": "stream",
     "text": [
      "\u001b[32m[I 2022-08-30 20:07:06,891]\u001b[0m A new study created in memory with name: lightgbm Study\u001b[0m\n",
      "\u001b[32m[I 2022-08-30 20:07:07,196]\u001b[0m Trial 0 finished with value: 0.6666666666666666 and parameters: {'n_estimators': 118, 'learning_rate': 0.00611303639833201, 'num_leaves': 183, 'colsample_bytree': 0.8, 'min_child_samples': 74, 'subsample': 0.9, 'reg_alpha': 4.8184847340582255, 'reg_lambda': 1.7109356924793029}. Best is trial 0 with value: 0.6666666666666666.\u001b[0m\n"
     ]
    },
    {
     "name": "stdout",
     "output_type": "stream",
     "text": [
      "Optuna Best score :  0.6666666666666666\n",
      "Best parameters :  {'n_estimators': 118, 'learning_rate': 0.00611303639833201, 'num_leaves': 183, 'colsample_bytree': 0.8, 'min_child_samples': 74, 'subsample': 0.9, 'reg_alpha': 4.8184847340582255, 'reg_lambda': 1.7109356924793029}\n",
      "Selected features Num:  26\n",
      "Selected features :  ['total_task_sum_accuracy', 'average_noti_response_time', 'median_noti_response_time', 'screen_on_after_noti_response', 'screen_Unlock_Time', 'phone_number_register_time', 'phone_call_time', 'phone_call_register_task_total_time', 'phone_receive_time', 'sms_reply_compeltion_time', 'camera_taken_time', 'image_delete_time', 'banking_usage_time', 'transfer_share_time', 'banking_task_total_time', 'info_searching_time', 'info_sharing_time', 'sms_average_intercharacter_time', 'sms_min_intercharacter_time', 'sms_max_intercharacter_time', 'sms_COER', 'sms_TER', 'ws_average_intercharacter_time', 'ws_median_intercharacter_time', 'ws_CPS', 'ws_COER']\n",
      "test accuracy :  0.6666666666666666\n"
     ]
    },
    {
     "name": "stderr",
     "output_type": "stream",
     "text": [
      "\u001b[32m[I 2022-08-30 20:07:33,648]\u001b[0m A new study created in memory with name: lightgbm Study\u001b[0m\n",
      "\u001b[32m[I 2022-08-30 20:07:34,483]\u001b[0m Trial 0 finished with value: 0.7635327635327636 and parameters: {'n_estimators': 283, 'learning_rate': 0.012354182101892715, 'num_leaves': 94, 'colsample_bytree': 0.9, 'min_child_samples': 53, 'subsample': 0.9, 'reg_alpha': 1.5029453601163176, 'reg_lambda': 4.922309133755154}. Best is trial 0 with value: 0.7635327635327636.\u001b[0m\n"
     ]
    },
    {
     "name": "stdout",
     "output_type": "stream",
     "text": [
      "Optuna Best score :  0.7635327635327636\n",
      "Best parameters :  {'n_estimators': 283, 'learning_rate': 0.012354182101892715, 'num_leaves': 94, 'colsample_bytree': 0.9, 'min_child_samples': 53, 'subsample': 0.9, 'reg_alpha': 1.5029453601163176, 'reg_lambda': 4.922309133755154}\n",
      "Selected features Num:  20\n",
      "Selected features :  ['total_task_sum_accuracy', 'average_noti_response_time', 'median_noti_response_time', 'screen_on_after_noti_response', 'screen_Unlock_Time', 'phone_call_time', 'sms_reply_compeltion_time', 'image_delete_time', 'banking_usage_time', 'transfer_share_time', 'banking_task_total_time', 'info_searching_time', 'sms_max_intercharacter_time', 'sms_CPS', 'sms_COER', 'sms_UB', 'ws_median_intercharacter_time', 'ws_CPS', 'ws_KSPS', 'ws_COER']\n",
      "test accuracy :  1.0\n"
     ]
    },
    {
     "name": "stderr",
     "output_type": "stream",
     "text": [
      "\u001b[32m[I 2022-08-30 20:07:56,572]\u001b[0m A new study created in memory with name: lightgbm Study\u001b[0m\n",
      "\u001b[32m[I 2022-08-30 20:07:57,569]\u001b[0m Trial 0 finished with value: 0.6666666666666666 and parameters: {'n_estimators': 397, 'learning_rate': 0.0018753091805180783, 'num_leaves': 67, 'colsample_bytree': 0.9, 'min_child_samples': 73, 'subsample': 0.7, 'reg_alpha': 2.0660401182810286, 'reg_lambda': 4.6161256040135905}. Best is trial 0 with value: 0.6666666666666666.\u001b[0m\n"
     ]
    },
    {
     "name": "stdout",
     "output_type": "stream",
     "text": [
      "Optuna Best score :  0.6666666666666666\n",
      "Best parameters :  {'n_estimators': 397, 'learning_rate': 0.0018753091805180783, 'num_leaves': 67, 'colsample_bytree': 0.9, 'min_child_samples': 73, 'subsample': 0.7, 'reg_alpha': 2.0660401182810286, 'reg_lambda': 4.6161256040135905}\n",
      "Selected features Num:  40\n",
      "Selected features :  ['total_task_sum_accuracy', 'average_noti_response_time', 'median_noti_response_time', 'screen_on_after_noti_response', 'screen_Unlock_Time', 'phone_number_register_time', 'phone_call_time', 'phone_call_register_task_total_time', 'phone_receive_task_total_time', 'phone_receive_time', 'sms_reply_compeltion_time', 'sms_reply_task_total_time', 'camera_taken_time', 'image_delete_time', 'camera_task_total_time', 'banking_usage_time', 'transfer_share_time', 'banking_task_total_time', 'info_searching_time', 'info_sharing_time', 'info_search_share_task_total_time', 'sms_average_intercharacter_time', 'sms_median_intercharacter_time', 'sms_min_intercharacter_time', 'sms_max_intercharacter_time', 'sms_CPS', 'sms_KSPS', 'sms_GPS', 'sms_COER', 'sms_TER', 'sms_UB', 'sms_WB', 'ws_average_intercharacter_time', 'ws_median_intercharacter_time', 'ws_min_intercharacter_time', 'ws_max_intercharacter_time', 'ws_CPS', 'ws_KSPS', 'ws_COER', 'ws_UB']\n",
      "test accuracy :  0.6666666666666666\n"
     ]
    },
    {
     "name": "stderr",
     "output_type": "stream",
     "text": [
      "\u001b[32m[I 2022-08-30 20:08:24,155]\u001b[0m A new study created in memory with name: lightgbm Study\u001b[0m\n",
      "\u001b[32m[I 2022-08-30 20:08:24,579]\u001b[0m Trial 0 finished with value: 0.6666666666666666 and parameters: {'n_estimators': 199, 'learning_rate': 0.0018587821529366133, 'num_leaves': 196, 'colsample_bytree': 0.9, 'min_child_samples': 93, 'subsample': 0.9, 'reg_alpha': 4.478825597014306, 'reg_lambda': 4.511638050235225}. Best is trial 0 with value: 0.6666666666666666.\u001b[0m\n"
     ]
    },
    {
     "name": "stdout",
     "output_type": "stream",
     "text": [
      "Optuna Best score :  0.6666666666666666\n",
      "Best parameters :  {'n_estimators': 199, 'learning_rate': 0.0018587821529366133, 'num_leaves': 196, 'colsample_bytree': 0.9, 'min_child_samples': 93, 'subsample': 0.9, 'reg_alpha': 4.478825597014306, 'reg_lambda': 4.511638050235225}\n",
      "Selected features Num:  26\n",
      "Selected features :  ['total_task_sum_accuracy', 'average_noti_response_time', 'median_noti_response_time', 'screen_on_after_noti_response', 'screen_Unlock_Time', 'phone_number_register_time', 'phone_call_time', 'phone_receive_time', 'sms_reply_compeltion_time', 'camera_taken_time', 'image_delete_time', 'banking_usage_time', 'transfer_share_time', 'banking_task_total_time', 'info_searching_time', 'info_sharing_time', 'sms_min_intercharacter_time', 'sms_max_intercharacter_time', 'sms_CPS', 'sms_KSPS', 'sms_TER', 'ws_average_intercharacter_time', 'ws_median_intercharacter_time', 'ws_min_intercharacter_time', 'ws_CPS', 'ws_COER']\n",
      "test accuracy :  0.6666666666666666\n"
     ]
    },
    {
     "name": "stderr",
     "output_type": "stream",
     "text": [
      "\u001b[32m[I 2022-08-30 20:08:51,543]\u001b[0m A new study created in memory with name: lightgbm Study\u001b[0m\n",
      "\u001b[32m[I 2022-08-30 20:08:52,597]\u001b[0m Trial 0 finished with value: 0.7407407407407407 and parameters: {'n_estimators': 354, 'learning_rate': 0.023228869806402555, 'num_leaves': 204, 'colsample_bytree': 0.8, 'min_child_samples': 63, 'subsample': 0.6, 'reg_alpha': 3.3663578358384028, 'reg_lambda': 4.571429532833319}. Best is trial 0 with value: 0.7407407407407407.\u001b[0m\n"
     ]
    },
    {
     "name": "stdout",
     "output_type": "stream",
     "text": [
      "Optuna Best score :  0.7407407407407407\n",
      "Best parameters :  {'n_estimators': 354, 'learning_rate': 0.023228869806402555, 'num_leaves': 204, 'colsample_bytree': 0.8, 'min_child_samples': 63, 'subsample': 0.6, 'reg_alpha': 3.3663578358384028, 'reg_lambda': 4.571429532833319}\n",
      "Selected features Num:  26\n",
      "Selected features :  ['total_task_sum_accuracy', 'average_noti_response_time', 'median_noti_response_time', 'screen_on_after_noti_response', 'screen_Unlock_Time', 'phone_number_register_time', 'phone_call_time', 'phone_receive_task_total_time', 'phone_receive_time', 'sms_reply_compeltion_time', 'sms_reply_task_total_time', 'camera_taken_time', 'image_delete_time', 'banking_usage_time', 'banking_task_total_time', 'info_searching_time', 'info_sharing_time', 'sms_min_intercharacter_time', 'sms_max_intercharacter_time', 'sms_UB', 'ws_average_intercharacter_time', 'ws_median_intercharacter_time', 'ws_min_intercharacter_time', 'ws_max_intercharacter_time', 'ws_CPS', 'ws_COER']\n",
      "test accuracy :  0.6666666666666666\n"
     ]
    },
    {
     "name": "stderr",
     "output_type": "stream",
     "text": [
      "\u001b[32m[I 2022-08-30 20:09:14,235]\u001b[0m A new study created in memory with name: lightgbm Study\u001b[0m\n",
      "\u001b[32m[I 2022-08-30 20:09:15,814]\u001b[0m Trial 0 finished with value: 0.7806267806267806 and parameters: {'n_estimators': 413, 'learning_rate': 0.04682758318316633, 'num_leaves': 122, 'colsample_bytree': 1.0, 'min_child_samples': 30, 'subsample': 0.8, 'reg_alpha': 3.029222434247094, 'reg_lambda': 4.172770503610652}. Best is trial 0 with value: 0.7806267806267806.\u001b[0m\n"
     ]
    },
    {
     "name": "stdout",
     "output_type": "stream",
     "text": [
      "Optuna Best score :  0.7806267806267806\n",
      "Best parameters :  {'n_estimators': 413, 'learning_rate': 0.04682758318316633, 'num_leaves': 122, 'colsample_bytree': 1.0, 'min_child_samples': 30, 'subsample': 0.8, 'reg_alpha': 3.029222434247094, 'reg_lambda': 4.172770503610652}\n",
      "Selected features Num:  42\n",
      "Selected features :  ['screen_unlock_trial', 'total_task_sum_transition', 'total_task_sum_accuracy', 'average_noti_response_time', 'median_noti_response_time', 'screen_on_after_noti_response', 'screen_Unlock_Time', 'phone_number_register_time', 'phone_call_time', 'phone_call_register_task_total_time', 'phone_receive_task_total_time', 'phone_receive_time', 'sms_reply_compeltion_time', 'sms_reply_task_total_time', 'camera_taken_time', 'image_delete_time', 'camera_task_total_time', 'banking_usage_time', 'transfer_share_time', 'banking_task_total_time', 'info_searching_time', 'info_sharing_time', 'info_search_share_task_total_time', 'sms_average_intercharacter_time', 'sms_median_intercharacter_time', 'sms_min_intercharacter_time', 'sms_max_intercharacter_time', 'sms_CPS', 'sms_KSPS', 'sms_GPS', 'sms_COER', 'sms_TER', 'sms_UB', 'sms_WB', 'ws_average_intercharacter_time', 'ws_median_intercharacter_time', 'ws_min_intercharacter_time', 'ws_max_intercharacter_time', 'ws_CPS', 'ws_KSPS', 'ws_COER', 'ws_UB']\n",
      "test accuracy :  0.6666666666666666\n"
     ]
    },
    {
     "name": "stderr",
     "output_type": "stream",
     "text": [
      "\u001b[32m[I 2022-08-30 20:09:38,992]\u001b[0m A new study created in memory with name: lightgbm Study\u001b[0m\n",
      "\u001b[32m[I 2022-08-30 20:09:40,059]\u001b[0m Trial 0 finished with value: 0.7635327635327636 and parameters: {'n_estimators': 337, 'learning_rate': 0.030733568403062586, 'num_leaves': 95, 'colsample_bytree': 0.8, 'min_child_samples': 48, 'subsample': 0.8, 'reg_alpha': 1.1427736298484645, 'reg_lambda': 1.6101980786598848}. Best is trial 0 with value: 0.7635327635327636.\u001b[0m\n"
     ]
    },
    {
     "name": "stdout",
     "output_type": "stream",
     "text": [
      "Optuna Best score :  0.7635327635327636\n",
      "Best parameters :  {'n_estimators': 337, 'learning_rate': 0.030733568403062586, 'num_leaves': 95, 'colsample_bytree': 0.8, 'min_child_samples': 48, 'subsample': 0.8, 'reg_alpha': 1.1427736298484645, 'reg_lambda': 1.6101980786598848}\n",
      "Selected features Num:  34\n",
      "Selected features :  ['total_task_sum_accuracy', 'average_noti_response_time', 'median_noti_response_time', 'screen_on_after_noti_response', 'screen_Unlock_Time', 'phone_number_register_time', 'phone_call_time', 'phone_call_register_task_total_time', 'phone_receive_task_total_time', 'phone_receive_time', 'sms_reply_compeltion_time', 'camera_taken_time', 'image_delete_time', 'banking_usage_time', 'transfer_share_time', 'banking_task_total_time', 'info_searching_time', 'info_sharing_time', 'info_search_share_task_total_time', 'sms_median_intercharacter_time', 'sms_min_intercharacter_time', 'sms_max_intercharacter_time', 'sms_CPS', 'sms_KSPS', 'sms_COER', 'sms_TER', 'sms_UB', 'ws_average_intercharacter_time', 'ws_median_intercharacter_time', 'ws_min_intercharacter_time', 'ws_max_intercharacter_time', 'ws_CPS', 'ws_KSPS', 'ws_COER']\n",
      "test accuracy :  0.7777777777777778\n"
     ]
    },
    {
     "name": "stderr",
     "output_type": "stream",
     "text": [
      "\u001b[32m[I 2022-08-30 20:10:05,258]\u001b[0m A new study created in memory with name: lightgbm Study\u001b[0m\n",
      "\u001b[32m[I 2022-08-30 20:10:06,271]\u001b[0m Trial 0 finished with value: 0.6752136752136753 and parameters: {'n_estimators': 416, 'learning_rate': 0.002051872446962293, 'num_leaves': 135, 'colsample_bytree': 0.7, 'min_child_samples': 67, 'subsample': 0.9, 'reg_alpha': 1.4144677160516435, 'reg_lambda': 4.638218147647994}. Best is trial 0 with value: 0.6752136752136753.\u001b[0m\n"
     ]
    },
    {
     "name": "stdout",
     "output_type": "stream",
     "text": [
      "Optuna Best score :  0.6752136752136753\n",
      "Best parameters :  {'n_estimators': 416, 'learning_rate': 0.002051872446962293, 'num_leaves': 135, 'colsample_bytree': 0.7, 'min_child_samples': 67, 'subsample': 0.9, 'reg_alpha': 1.4144677160516435, 'reg_lambda': 4.638218147647994}\n",
      "Selected features Num:  36\n",
      "Selected features :  ['total_task_sum_accuracy', 'average_noti_response_time', 'median_noti_response_time', 'screen_on_after_noti_response', 'screen_Unlock_Time', 'phone_number_register_time', 'phone_call_time', 'phone_call_register_task_total_time', 'phone_receive_task_total_time', 'phone_receive_time', 'sms_reply_compeltion_time', 'camera_taken_time', 'image_delete_time', 'camera_task_total_time', 'banking_usage_time', 'transfer_share_time', 'banking_task_total_time', 'info_searching_time', 'info_sharing_time', 'info_search_share_task_total_time', 'sms_median_intercharacter_time', 'sms_min_intercharacter_time', 'sms_max_intercharacter_time', 'sms_CPS', 'sms_KSPS', 'sms_GPS', 'sms_COER', 'sms_TER', 'sms_UB', 'ws_average_intercharacter_time', 'ws_median_intercharacter_time', 'ws_min_intercharacter_time', 'ws_max_intercharacter_time', 'ws_CPS', 'ws_KSPS', 'ws_COER']\n",
      "test accuracy :  0.7777777777777778\n"
     ]
    },
    {
     "name": "stderr",
     "output_type": "stream",
     "text": [
      "\u001b[32m[I 2022-08-30 20:10:27,157]\u001b[0m A new study created in memory with name: lightgbm Study\u001b[0m\n",
      "\u001b[32m[I 2022-08-30 20:10:27,465]\u001b[0m Trial 0 finished with value: 0.6666666666666666 and parameters: {'n_estimators': 180, 'learning_rate': 0.0036889452795845984, 'num_leaves': 10, 'colsample_bytree': 0.6, 'min_child_samples': 83, 'subsample': 0.6, 'reg_alpha': 2.6540907053854976, 'reg_lambda': 2.5687720632801874}. Best is trial 0 with value: 0.6666666666666666.\u001b[0m\n"
     ]
    },
    {
     "name": "stdout",
     "output_type": "stream",
     "text": [
      "Optuna Best score :  0.6666666666666666\n",
      "Best parameters :  {'n_estimators': 180, 'learning_rate': 0.0036889452795845984, 'num_leaves': 10, 'colsample_bytree': 0.6, 'min_child_samples': 83, 'subsample': 0.6, 'reg_alpha': 2.6540907053854976, 'reg_lambda': 2.5687720632801874}\n",
      "Selected features Num:  20\n",
      "Selected features :  ['total_task_sum_accuracy', 'average_noti_response_time', 'median_noti_response_time', 'screen_on_after_noti_response', 'screen_Unlock_Time', 'phone_receive_time', 'sms_reply_compeltion_time', 'image_delete_time', 'banking_usage_time', 'banking_task_total_time', 'info_searching_time', 'info_sharing_time', 'sms_median_intercharacter_time', 'sms_max_intercharacter_time', 'sms_KSPS', 'sms_UB', 'ws_median_intercharacter_time', 'ws_CPS', 'ws_KSPS', 'ws_COER']\n",
      "test accuracy :  0.6666666666666666\n"
     ]
    },
    {
     "name": "stderr",
     "output_type": "stream",
     "text": [
      "\u001b[32m[I 2022-08-30 20:10:51,866]\u001b[0m A new study created in memory with name: lightgbm Study\u001b[0m\n",
      "\u001b[32m[I 2022-08-30 20:10:52,824]\u001b[0m Trial 0 finished with value: 0.6666666666666666 and parameters: {'n_estimators': 478, 'learning_rate': 0.001101300106689901, 'num_leaves': 254, 'colsample_bytree': 0.9, 'min_child_samples': 95, 'subsample': 1.0, 'reg_alpha': 3.388226382500657, 'reg_lambda': 3.104259823277659}. Best is trial 0 with value: 0.6666666666666666.\u001b[0m\n"
     ]
    },
    {
     "name": "stdout",
     "output_type": "stream",
     "text": [
      "Optuna Best score :  0.6666666666666666\n",
      "Best parameters :  {'n_estimators': 478, 'learning_rate': 0.001101300106689901, 'num_leaves': 254, 'colsample_bytree': 0.9, 'min_child_samples': 95, 'subsample': 1.0, 'reg_alpha': 3.388226382500657, 'reg_lambda': 3.104259823277659}\n",
      "Selected features Num:  20\n",
      "Selected features :  ['total_task_sum_accuracy', 'average_noti_response_time', 'median_noti_response_time', 'screen_on_after_noti_response', 'screen_Unlock_Time', 'phone_call_time', 'phone_call_register_task_total_time', 'phone_receive_time', 'sms_reply_compeltion_time', 'image_delete_time', 'banking_usage_time', 'banking_task_total_time', 'info_searching_time', 'info_sharing_time', 'sms_max_intercharacter_time', 'sms_UB', 'ws_average_intercharacter_time', 'ws_median_intercharacter_time', 'ws_CPS', 'ws_COER']\n",
      "test accuracy :  0.6666666666666666\n"
     ]
    },
    {
     "name": "stderr",
     "output_type": "stream",
     "text": [
      "\u001b[32m[I 2022-08-30 20:11:18,727]\u001b[0m A new study created in memory with name: lightgbm Study\u001b[0m\n",
      "\u001b[32m[I 2022-08-30 20:11:19,182]\u001b[0m Trial 0 finished with value: 0.7549857549857549 and parameters: {'n_estimators': 149, 'learning_rate': 0.0451041357432986, 'num_leaves': 61, 'colsample_bytree': 0.8, 'min_child_samples': 62, 'subsample': 1.0, 'reg_alpha': 4.6101144739236855, 'reg_lambda': 4.89705904854025}. Best is trial 0 with value: 0.7549857549857549.\u001b[0m\n"
     ]
    },
    {
     "name": "stdout",
     "output_type": "stream",
     "text": [
      "Optuna Best score :  0.7549857549857549\n",
      "Best parameters :  {'n_estimators': 149, 'learning_rate': 0.0451041357432986, 'num_leaves': 61, 'colsample_bytree': 0.8, 'min_child_samples': 62, 'subsample': 1.0, 'reg_alpha': 4.6101144739236855, 'reg_lambda': 4.89705904854025}\n",
      "Selected features Num:  36\n",
      "Selected features :  ['total_task_sum_accuracy', 'average_noti_response_time', 'median_noti_response_time', 'screen_on_after_noti_response', 'screen_Unlock_Time', 'phone_number_register_time', 'phone_call_time', 'phone_call_register_task_total_time', 'phone_receive_task_total_time', 'phone_receive_time', 'sms_reply_compeltion_time', 'sms_reply_task_total_time', 'camera_taken_time', 'image_delete_time', 'banking_usage_time', 'transfer_share_time', 'banking_task_total_time', 'info_searching_time', 'info_sharing_time', 'sms_average_intercharacter_time', 'sms_median_intercharacter_time', 'sms_min_intercharacter_time', 'sms_max_intercharacter_time', 'sms_CPS', 'sms_KSPS', 'sms_COER', 'sms_TER', 'sms_UB', 'ws_average_intercharacter_time', 'ws_median_intercharacter_time', 'ws_min_intercharacter_time', 'ws_max_intercharacter_time', 'ws_CPS', 'ws_KSPS', 'ws_COER', 'ws_UB']\n",
      "test accuracy :  0.6666666666666666\n"
     ]
    },
    {
     "name": "stderr",
     "output_type": "stream",
     "text": [
      "\u001b[32m[I 2022-08-30 20:11:48,709]\u001b[0m A new study created in memory with name: lightgbm Study\u001b[0m\n",
      "\u001b[32m[I 2022-08-30 20:11:49,413]\u001b[0m Trial 0 finished with value: 0.7236467236467237 and parameters: {'n_estimators': 355, 'learning_rate': 0.019605401098940756, 'num_leaves': 59, 'colsample_bytree': 0.7, 'min_child_samples': 95, 'subsample': 0.8, 'reg_alpha': 3.6033114555376993, 'reg_lambda': 3.83749190021735}. Best is trial 0 with value: 0.7236467236467237.\u001b[0m\n"
     ]
    },
    {
     "name": "stdout",
     "output_type": "stream",
     "text": [
      "Optuna Best score :  0.7236467236467237\n",
      "Best parameters :  {'n_estimators': 355, 'learning_rate': 0.019605401098940756, 'num_leaves': 59, 'colsample_bytree': 0.7, 'min_child_samples': 95, 'subsample': 0.8, 'reg_alpha': 3.6033114555376993, 'reg_lambda': 3.83749190021735}\n",
      "Selected features Num:  20\n",
      "Selected features :  ['total_task_sum_accuracy', 'average_noti_response_time', 'median_noti_response_time', 'screen_on_after_noti_response', 'screen_Unlock_Time', 'phone_call_time', 'phone_call_register_task_total_time', 'sms_reply_compeltion_time', 'image_delete_time', 'banking_usage_time', 'banking_task_total_time', 'info_searching_time', 'sms_min_intercharacter_time', 'sms_max_intercharacter_time', 'sms_COER', 'ws_median_intercharacter_time', 'ws_min_intercharacter_time', 'ws_CPS', 'ws_KSPS', 'ws_COER']\n",
      "test accuracy :  0.8888888888888888\n"
     ]
    },
    {
     "name": "stderr",
     "output_type": "stream",
     "text": [
      "\u001b[32m[I 2022-08-30 20:12:17,647]\u001b[0m A new study created in memory with name: lightgbm Study\u001b[0m\n",
      "\u001b[32m[I 2022-08-30 20:12:18,347]\u001b[0m Trial 0 finished with value: 0.6780626780626781 and parameters: {'n_estimators': 157, 'learning_rate': 0.0042908456737999565, 'num_leaves': 129, 'colsample_bytree': 1.0, 'min_child_samples': 29, 'subsample': 0.7, 'reg_alpha': 2.875835802689659, 'reg_lambda': 2.7626555114827926}. Best is trial 0 with value: 0.6780626780626781.\u001b[0m\n"
     ]
    },
    {
     "name": "stdout",
     "output_type": "stream",
     "text": [
      "Optuna Best score :  0.6780626780626781\n",
      "Best parameters :  {'n_estimators': 157, 'learning_rate': 0.0042908456737999565, 'num_leaves': 129, 'colsample_bytree': 1.0, 'min_child_samples': 29, 'subsample': 0.7, 'reg_alpha': 2.875835802689659, 'reg_lambda': 2.7626555114827926}\n",
      "Selected features Num:  20\n",
      "Selected features :  ['total_task_sum_accuracy', 'average_noti_response_time', 'median_noti_response_time', 'screen_on_after_noti_response', 'screen_Unlock_Time', 'phone_call_time', 'sms_reply_compeltion_time', 'image_delete_time', 'banking_usage_time', 'banking_task_total_time', 'info_searching_time', 'info_sharing_time', 'sms_average_intercharacter_time', 'sms_min_intercharacter_time', 'sms_max_intercharacter_time', 'sms_COER', 'ws_average_intercharacter_time', 'ws_median_intercharacter_time', 'ws_CPS', 'ws_COER']\n",
      "test accuracy :  0.6666666666666666\n"
     ]
    },
    {
     "name": "stderr",
     "output_type": "stream",
     "text": [
      "\u001b[32m[I 2022-08-30 20:12:44,701]\u001b[0m A new study created in memory with name: lightgbm Study\u001b[0m\n",
      "\u001b[32m[I 2022-08-30 20:12:45,222]\u001b[0m Trial 0 finished with value: 0.6666666666666666 and parameters: {'n_estimators': 132, 'learning_rate': 0.004334009156023436, 'num_leaves': 225, 'colsample_bytree': 0.7, 'min_child_samples': 27, 'subsample': 1.0, 'reg_alpha': 4.458953595645921, 'reg_lambda': 4.648608467437336}. Best is trial 0 with value: 0.6666666666666666.\u001b[0m\n"
     ]
    },
    {
     "name": "stdout",
     "output_type": "stream",
     "text": [
      "Optuna Best score :  0.6666666666666666\n",
      "Best parameters :  {'n_estimators': 132, 'learning_rate': 0.004334009156023436, 'num_leaves': 225, 'colsample_bytree': 0.7, 'min_child_samples': 27, 'subsample': 1.0, 'reg_alpha': 4.458953595645921, 'reg_lambda': 4.648608467437336}\n",
      "Selected features Num:  20\n",
      "Selected features :  ['total_task_sum_accuracy', 'average_noti_response_time', 'median_noti_response_time', 'screen_on_after_noti_response', 'screen_Unlock_Time', 'phone_call_register_task_total_time', 'phone_receive_time', 'sms_reply_compeltion_time', 'camera_taken_time', 'image_delete_time', 'banking_usage_time', 'transfer_share_time', 'banking_task_total_time', 'info_searching_time', 'info_sharing_time', 'sms_min_intercharacter_time', 'sms_max_intercharacter_time', 'ws_median_intercharacter_time', 'ws_CPS', 'ws_COER']\n",
      "test accuracy :  0.6666666666666666\n"
     ]
    },
    {
     "name": "stderr",
     "output_type": "stream",
     "text": [
      "\u001b[32m[I 2022-08-30 20:13:09,891]\u001b[0m A new study created in memory with name: lightgbm Study\u001b[0m\n",
      "\u001b[32m[I 2022-08-30 20:13:10,639]\u001b[0m Trial 0 finished with value: 0.7350427350427351 and parameters: {'n_estimators': 380, 'learning_rate': 0.012163564417235121, 'num_leaves': 221, 'colsample_bytree': 1.0, 'min_child_samples': 95, 'subsample': 0.9, 'reg_alpha': 3.8096843734845303, 'reg_lambda': 3.264560241893934}. Best is trial 0 with value: 0.7350427350427351.\u001b[0m\n"
     ]
    },
    {
     "name": "stdout",
     "output_type": "stream",
     "text": [
      "Optuna Best score :  0.7350427350427351\n",
      "Best parameters :  {'n_estimators': 380, 'learning_rate': 0.012163564417235121, 'num_leaves': 221, 'colsample_bytree': 1.0, 'min_child_samples': 95, 'subsample': 0.9, 'reg_alpha': 3.8096843734845303, 'reg_lambda': 3.264560241893934}\n",
      "Selected features Num:  24\n",
      "Selected features :  ['total_task_sum_accuracy', 'average_noti_response_time', 'median_noti_response_time', 'screen_on_after_noti_response', 'screen_Unlock_Time', 'phone_number_register_time', 'phone_call_time', 'phone_receive_task_total_time', 'phone_receive_time', 'sms_reply_compeltion_time', 'camera_taken_time', 'image_delete_time', 'banking_usage_time', 'transfer_share_time', 'banking_task_total_time', 'info_searching_time', 'info_sharing_time', 'sms_min_intercharacter_time', 'sms_max_intercharacter_time', 'sms_TER', 'ws_median_intercharacter_time', 'ws_min_intercharacter_time', 'ws_CPS', 'ws_COER']\n",
      "test accuracy :  0.7777777777777778\n"
     ]
    },
    {
     "name": "stderr",
     "output_type": "stream",
     "text": [
      "\u001b[32m[I 2022-08-30 20:13:32,161]\u001b[0m A new study created in memory with name: lightgbm Study\u001b[0m\n",
      "\u001b[32m[I 2022-08-30 20:13:32,506]\u001b[0m Trial 0 finished with value: 0.7777777777777778 and parameters: {'n_estimators': 161, 'learning_rate': 0.061555968211753104, 'num_leaves': 96, 'colsample_bytree': 0.6, 'min_child_samples': 81, 'subsample': 0.7, 'reg_alpha': 1.9125298162971895, 'reg_lambda': 2.444771828426037}. Best is trial 0 with value: 0.7777777777777778.\u001b[0m\n"
     ]
    },
    {
     "name": "stdout",
     "output_type": "stream",
     "text": [
      "Optuna Best score :  0.7777777777777778\n",
      "Best parameters :  {'n_estimators': 161, 'learning_rate': 0.061555968211753104, 'num_leaves': 96, 'colsample_bytree': 0.6, 'min_child_samples': 81, 'subsample': 0.7, 'reg_alpha': 1.9125298162971895, 'reg_lambda': 2.444771828426037}\n",
      "Selected features Num:  38\n",
      "Selected features :  ['total_task_sum_accuracy', 'average_noti_response_time', 'median_noti_response_time', 'screen_on_after_noti_response', 'screen_Unlock_Time', 'phone_number_register_time', 'phone_call_time', 'phone_call_register_task_total_time', 'phone_receive_task_total_time', 'phone_receive_time', 'sms_reply_compeltion_time', 'sms_reply_task_total_time', 'camera_taken_time', 'image_delete_time', 'camera_task_total_time', 'banking_usage_time', 'transfer_share_time', 'banking_task_total_time', 'info_searching_time', 'info_sharing_time', 'info_search_share_task_total_time', 'sms_average_intercharacter_time', 'sms_median_intercharacter_time', 'sms_min_intercharacter_time', 'sms_max_intercharacter_time', 'sms_CPS', 'sms_KSPS', 'sms_GPS', 'sms_COER', 'sms_TER', 'sms_UB', 'ws_average_intercharacter_time', 'ws_median_intercharacter_time', 'ws_min_intercharacter_time', 'ws_max_intercharacter_time', 'ws_CPS', 'ws_COER', 'ws_UB']\n",
      "test accuracy :  0.6666666666666666\n"
     ]
    },
    {
     "name": "stderr",
     "output_type": "stream",
     "text": [
      "\u001b[32m[I 2022-08-30 20:13:55,419]\u001b[0m A new study created in memory with name: lightgbm Study\u001b[0m\n",
      "\u001b[32m[I 2022-08-30 20:13:57,308]\u001b[0m Trial 0 finished with value: 0.6666666666666666 and parameters: {'n_estimators': 339, 'learning_rate': 0.001057459588810086, 'num_leaves': 194, 'colsample_bytree': 1.0, 'min_child_samples': 22, 'subsample': 0.9, 'reg_alpha': 2.2618144721581546, 'reg_lambda': 1.0156759069573704}. Best is trial 0 with value: 0.6666666666666666.\u001b[0m\n"
     ]
    },
    {
     "name": "stdout",
     "output_type": "stream",
     "text": [
      "Optuna Best score :  0.6666666666666666\n",
      "Best parameters :  {'n_estimators': 339, 'learning_rate': 0.001057459588810086, 'num_leaves': 194, 'colsample_bytree': 1.0, 'min_child_samples': 22, 'subsample': 0.9, 'reg_alpha': 2.2618144721581546, 'reg_lambda': 1.0156759069573704}\n",
      "Selected features Num:  36\n",
      "Selected features :  ['total_task_sum_accuracy', 'average_noti_response_time', 'median_noti_response_time', 'screen_on_after_noti_response', 'screen_Unlock_Time', 'phone_number_register_time', 'phone_call_time', 'phone_call_register_task_total_time', 'phone_receive_task_total_time', 'phone_receive_time', 'sms_reply_compeltion_time', 'sms_reply_task_total_time', 'camera_taken_time', 'image_delete_time', 'banking_usage_time', 'transfer_share_time', 'banking_task_total_time', 'info_searching_time', 'info_sharing_time', 'info_search_share_task_total_time', 'sms_average_intercharacter_time', 'sms_median_intercharacter_time', 'sms_min_intercharacter_time', 'sms_max_intercharacter_time', 'sms_CPS', 'sms_KSPS', 'sms_COER', 'sms_TER', 'sms_UB', 'ws_average_intercharacter_time', 'ws_median_intercharacter_time', 'ws_min_intercharacter_time', 'ws_max_intercharacter_time', 'ws_CPS', 'ws_KSPS', 'ws_COER']\n",
      "test accuracy :  0.6666666666666666\n"
     ]
    },
    {
     "name": "stderr",
     "output_type": "stream",
     "text": [
      "\u001b[32m[I 2022-08-30 20:14:21,873]\u001b[0m A new study created in memory with name: lightgbm Study\u001b[0m\n",
      "\u001b[32m[I 2022-08-30 20:14:23,446]\u001b[0m Trial 0 finished with value: 0.7578347578347578 and parameters: {'n_estimators': 365, 'learning_rate': 0.006505862862884458, 'num_leaves': 27, 'colsample_bytree': 0.8, 'min_child_samples': 33, 'subsample': 0.9, 'reg_alpha': 1.2906791745273947, 'reg_lambda': 2.47532673180978}. Best is trial 0 with value: 0.7578347578347578.\u001b[0m\n"
     ]
    },
    {
     "name": "stdout",
     "output_type": "stream",
     "text": [
      "Optuna Best score :  0.7578347578347578\n",
      "Best parameters :  {'n_estimators': 365, 'learning_rate': 0.006505862862884458, 'num_leaves': 27, 'colsample_bytree': 0.8, 'min_child_samples': 33, 'subsample': 0.9, 'reg_alpha': 1.2906791745273947, 'reg_lambda': 2.47532673180978}\n",
      "Selected features Num:  36\n",
      "Selected features :  ['total_task_sum_accuracy', 'average_noti_response_time', 'median_noti_response_time', 'screen_on_after_noti_response', 'screen_Unlock_Time', 'phone_number_register_time', 'phone_call_time', 'phone_call_register_task_total_time', 'phone_receive_task_total_time', 'phone_receive_time', 'sms_reply_compeltion_time', 'sms_reply_task_total_time', 'camera_taken_time', 'image_delete_time', 'camera_task_total_time', 'banking_usage_time', 'transfer_share_time', 'banking_task_total_time', 'info_searching_time', 'info_sharing_time', 'info_search_share_task_total_time', 'sms_average_intercharacter_time', 'sms_median_intercharacter_time', 'sms_min_intercharacter_time', 'sms_max_intercharacter_time', 'sms_CPS', 'sms_COER', 'sms_TER', 'sms_UB', 'ws_average_intercharacter_time', 'ws_median_intercharacter_time', 'ws_min_intercharacter_time', 'ws_max_intercharacter_time', 'ws_CPS', 'ws_KSPS', 'ws_COER']\n",
      "test accuracy :  0.6666666666666666\n"
     ]
    },
    {
     "name": "stderr",
     "output_type": "stream",
     "text": [
      "\u001b[32m[I 2022-08-30 20:14:49,049]\u001b[0m A new study created in memory with name: lightgbm Study\u001b[0m\n",
      "\u001b[32m[I 2022-08-30 20:14:50,187]\u001b[0m Trial 0 finished with value: 0.7464387464387464 and parameters: {'n_estimators': 367, 'learning_rate': 0.013537684503738883, 'num_leaves': 192, 'colsample_bytree': 1.0, 'min_child_samples': 55, 'subsample': 0.6, 'reg_alpha': 3.5131312158093744, 'reg_lambda': 2.128310117861434}. Best is trial 0 with value: 0.7464387464387464.\u001b[0m\n"
     ]
    },
    {
     "name": "stdout",
     "output_type": "stream",
     "text": [
      "Optuna Best score :  0.7464387464387464\n",
      "Best parameters :  {'n_estimators': 367, 'learning_rate': 0.013537684503738883, 'num_leaves': 192, 'colsample_bytree': 1.0, 'min_child_samples': 55, 'subsample': 0.6, 'reg_alpha': 3.5131312158093744, 'reg_lambda': 2.128310117861434}\n",
      "Selected features Num:  36\n",
      "Selected features :  ['total_task_sum_accuracy', 'average_noti_response_time', 'median_noti_response_time', 'screen_on_after_noti_response', 'screen_Unlock_Time', 'phone_number_register_time', 'phone_call_time', 'phone_call_register_task_total_time', 'phone_receive_task_total_time', 'phone_receive_time', 'sms_reply_compeltion_time', 'camera_taken_time', 'image_delete_time', 'camera_task_total_time', 'banking_usage_time', 'transfer_share_time', 'banking_task_total_time', 'info_searching_time', 'info_sharing_time', 'info_search_share_task_total_time', 'sms_average_intercharacter_time', 'sms_median_intercharacter_time', 'sms_min_intercharacter_time', 'sms_max_intercharacter_time', 'sms_CPS', 'sms_KSPS', 'sms_COER', 'sms_TER', 'ws_average_intercharacter_time', 'ws_median_intercharacter_time', 'ws_min_intercharacter_time', 'ws_max_intercharacter_time', 'ws_CPS', 'ws_KSPS', 'ws_COER', 'ws_UB']\n",
      "test accuracy :  1.0\n"
     ]
    },
    {
     "name": "stderr",
     "output_type": "stream",
     "text": [
      "\u001b[32m[I 2022-08-30 20:15:17,526]\u001b[0m A new study created in memory with name: lightgbm Study\u001b[0m\n",
      "\u001b[32m[I 2022-08-30 20:15:18,442]\u001b[0m Trial 0 finished with value: 0.7378917378917379 and parameters: {'n_estimators': 451, 'learning_rate': 0.011723480192305352, 'num_leaves': 133, 'colsample_bytree': 0.6, 'min_child_samples': 94, 'subsample': 1.0, 'reg_alpha': 1.9891844466521205, 'reg_lambda': 3.3383029808619495}. Best is trial 0 with value: 0.7378917378917379.\u001b[0m\n"
     ]
    },
    {
     "name": "stdout",
     "output_type": "stream",
     "text": [
      "Optuna Best score :  0.7378917378917379\n",
      "Best parameters :  {'n_estimators': 451, 'learning_rate': 0.011723480192305352, 'num_leaves': 133, 'colsample_bytree': 0.6, 'min_child_samples': 94, 'subsample': 1.0, 'reg_alpha': 1.9891844466521205, 'reg_lambda': 3.3383029808619495}\n",
      "Selected features Num:  24\n",
      "Selected features :  ['total_task_sum_accuracy', 'average_noti_response_time', 'median_noti_response_time', 'screen_on_after_noti_response', 'screen_Unlock_Time', 'phone_call_time', 'phone_call_register_task_total_time', 'phone_receive_task_total_time', 'phone_receive_time', 'sms_reply_compeltion_time', 'image_delete_time', 'camera_task_total_time', 'banking_usage_time', 'banking_task_total_time', 'info_searching_time', 'info_sharing_time', 'sms_max_intercharacter_time', 'sms_UB', 'ws_median_intercharacter_time', 'ws_min_intercharacter_time', 'ws_max_intercharacter_time', 'ws_CPS', 'ws_KSPS', 'ws_COER']\n",
      "test accuracy :  0.6666666666666666\n"
     ]
    },
    {
     "name": "stderr",
     "output_type": "stream",
     "text": [
      "\u001b[32m[I 2022-08-30 20:15:45,277]\u001b[0m A new study created in memory with name: lightgbm Study\u001b[0m\n",
      "\u001b[32m[I 2022-08-30 20:15:45,576]\u001b[0m Trial 0 finished with value: 0.6894586894586895 and parameters: {'n_estimators': 181, 'learning_rate': 0.007205653324727397, 'num_leaves': 41, 'colsample_bytree': 0.8, 'min_child_samples': 100, 'subsample': 0.8, 'reg_alpha': 4.523723285786797, 'reg_lambda': 1.3072092842038776}. Best is trial 0 with value: 0.6894586894586895.\u001b[0m\n"
     ]
    },
    {
     "name": "stdout",
     "output_type": "stream",
     "text": [
      "Optuna Best score :  0.6894586894586895\n",
      "Best parameters :  {'n_estimators': 181, 'learning_rate': 0.007205653324727397, 'num_leaves': 41, 'colsample_bytree': 0.8, 'min_child_samples': 100, 'subsample': 0.8, 'reg_alpha': 4.523723285786797, 'reg_lambda': 1.3072092842038776}\n",
      "Selected features Num:  24\n",
      "Selected features :  ['total_task_sum_accuracy', 'average_noti_response_time', 'median_noti_response_time', 'screen_on_after_noti_response', 'screen_Unlock_Time', 'phone_call_time', 'phone_call_register_task_total_time', 'sms_reply_compeltion_time', 'image_delete_time', 'banking_usage_time', 'transfer_share_time', 'banking_task_total_time', 'info_searching_time', 'info_sharing_time', 'sms_min_intercharacter_time', 'sms_max_intercharacter_time', 'sms_CPS', 'sms_COER', 'sms_TER', 'ws_median_intercharacter_time', 'ws_min_intercharacter_time', 'ws_CPS', 'ws_KSPS', 'ws_COER']\n",
      "test accuracy :  0.5555555555555556\n"
     ]
    },
    {
     "name": "stderr",
     "output_type": "stream",
     "text": [
      "\u001b[32m[I 2022-08-30 20:16:13,441]\u001b[0m A new study created in memory with name: lightgbm Study\u001b[0m\n",
      "\u001b[32m[I 2022-08-30 20:16:14,202]\u001b[0m Trial 0 finished with value: 0.7578347578347578 and parameters: {'n_estimators': 377, 'learning_rate': 0.014304792975433476, 'num_leaves': 165, 'colsample_bytree': 1.0, 'min_child_samples': 93, 'subsample': 0.8, 'reg_alpha': 1.4802102406940114, 'reg_lambda': 1.824007632954804}. Best is trial 0 with value: 0.7578347578347578.\u001b[0m\n"
     ]
    },
    {
     "name": "stdout",
     "output_type": "stream",
     "text": [
      "Optuna Best score :  0.7578347578347578\n",
      "Best parameters :  {'n_estimators': 377, 'learning_rate': 0.014304792975433476, 'num_leaves': 165, 'colsample_bytree': 1.0, 'min_child_samples': 93, 'subsample': 0.8, 'reg_alpha': 1.4802102406940114, 'reg_lambda': 1.824007632954804}\n",
      "Selected features Num:  22\n",
      "Selected features :  ['total_task_sum_accuracy', 'average_noti_response_time', 'median_noti_response_time', 'screen_on_after_noti_response', 'screen_Unlock_Time', 'phone_call_time', 'phone_receive_time', 'sms_reply_compeltion_time', 'camera_taken_time', 'image_delete_time', 'banking_usage_time', 'banking_task_total_time', 'info_searching_time', 'info_sharing_time', 'sms_median_intercharacter_time', 'sms_min_intercharacter_time', 'sms_max_intercharacter_time', 'sms_TER', 'sms_UB', 'ws_median_intercharacter_time', 'ws_CPS', 'ws_COER']\n",
      "test accuracy :  0.7777777777777778\n"
     ]
    },
    {
     "name": "stderr",
     "output_type": "stream",
     "text": [
      "\u001b[32m[I 2022-08-30 20:16:36,929]\u001b[0m A new study created in memory with name: lightgbm Study\u001b[0m\n",
      "\u001b[32m[I 2022-08-30 20:16:37,599]\u001b[0m Trial 0 finished with value: 0.6780626780626781 and parameters: {'n_estimators': 285, 'learning_rate': 0.00397303506530798, 'num_leaves': 126, 'colsample_bytree': 0.9, 'min_child_samples': 90, 'subsample': 0.7, 'reg_alpha': 4.0174387255280966, 'reg_lambda': 2.844601325037623}. Best is trial 0 with value: 0.6780626780626781.\u001b[0m\n"
     ]
    },
    {
     "name": "stdout",
     "output_type": "stream",
     "text": [
      "Optuna Best score :  0.6780626780626781\n",
      "Best parameters :  {'n_estimators': 285, 'learning_rate': 0.00397303506530798, 'num_leaves': 126, 'colsample_bytree': 0.9, 'min_child_samples': 90, 'subsample': 0.7, 'reg_alpha': 4.0174387255280966, 'reg_lambda': 2.844601325037623}\n",
      "Selected features Num:  44\n",
      "Selected features :  ['total_task_sum_transition', 'SMS_reply_accuracy', 'weather_searching_accuracy', 'total_task_sum_accuracy', 'average_noti_response_time', 'median_noti_response_time', 'screen_on_after_noti_response', 'screen_Unlock_Time', 'phone_number_register_time', 'phone_call_time', 'phone_call_register_task_total_time', 'phone_receive_task_total_time', 'phone_receive_time', 'sms_reply_compeltion_time', 'sms_reply_task_total_time', 'camera_taken_time', 'image_delete_time', 'camera_task_total_time', 'banking_usage_time', 'transfer_share_time', 'banking_task_total_time', 'info_searching_time', 'info_sharing_time', 'info_search_share_task_total_time', 'sms_average_intercharacter_time', 'sms_median_intercharacter_time', 'sms_min_intercharacter_time', 'sms_max_intercharacter_time', 'sms_CPS', 'sms_KSPS', 'sms_GPS', 'sms_COER', 'sms_UER', 'sms_TER', 'sms_UB', 'sms_WB', 'ws_average_intercharacter_time', 'ws_median_intercharacter_time', 'ws_min_intercharacter_time', 'ws_max_intercharacter_time', 'ws_CPS', 'ws_KSPS', 'ws_COER', 'ws_UB']\n",
      "test accuracy :  0.7777777777777778\n"
     ]
    },
    {
     "name": "stderr",
     "output_type": "stream",
     "text": [
      "\u001b[32m[I 2022-08-30 20:17:03,492]\u001b[0m A new study created in memory with name: lightgbm Study\u001b[0m\n",
      "\u001b[32m[I 2022-08-30 20:17:04,388]\u001b[0m Trial 0 finished with value: 0.6951566951566952 and parameters: {'n_estimators': 276, 'learning_rate': 0.010226189543716322, 'num_leaves': 4, 'colsample_bytree': 0.8, 'min_child_samples': 48, 'subsample': 0.7, 'reg_alpha': 2.454837878291151, 'reg_lambda': 3.6265164793043176}. Best is trial 0 with value: 0.6951566951566952.\u001b[0m\n"
     ]
    },
    {
     "name": "stdout",
     "output_type": "stream",
     "text": [
      "Optuna Best score :  0.6951566951566952\n",
      "Best parameters :  {'n_estimators': 276, 'learning_rate': 0.010226189543716322, 'num_leaves': 4, 'colsample_bytree': 0.8, 'min_child_samples': 48, 'subsample': 0.7, 'reg_alpha': 2.454837878291151, 'reg_lambda': 3.6265164793043176}\n",
      "Selected features Num:  32\n",
      "Selected features :  ['total_task_sum_accuracy', 'average_noti_response_time', 'median_noti_response_time', 'screen_on_after_noti_response', 'screen_Unlock_Time', 'phone_number_register_time', 'phone_call_time', 'phone_call_register_task_total_time', 'phone_receive_task_total_time', 'phone_receive_time', 'sms_reply_compeltion_time', 'camera_taken_time', 'image_delete_time', 'banking_usage_time', 'transfer_share_time', 'banking_task_total_time', 'info_searching_time', 'info_sharing_time', 'info_search_share_task_total_time', 'sms_average_intercharacter_time', 'sms_median_intercharacter_time', 'sms_min_intercharacter_time', 'sms_max_intercharacter_time', 'sms_TER', 'sms_UB', 'ws_average_intercharacter_time', 'ws_median_intercharacter_time', 'ws_min_intercharacter_time', 'ws_max_intercharacter_time', 'ws_CPS', 'ws_KSPS', 'ws_COER']\n",
      "test accuracy :  0.7777777777777778\n"
     ]
    },
    {
     "name": "stderr",
     "output_type": "stream",
     "text": [
      "\u001b[32m[I 2022-08-30 20:17:30,480]\u001b[0m A new study created in memory with name: lightgbm Study\u001b[0m\n",
      "\u001b[32m[I 2022-08-30 20:17:30,799]\u001b[0m Trial 0 finished with value: 0.717948717948718 and parameters: {'n_estimators': 156, 'learning_rate': 0.07973150726483061, 'num_leaves': 215, 'colsample_bytree': 1.0, 'min_child_samples': 91, 'subsample': 1.0, 'reg_alpha': 3.926634234690336, 'reg_lambda': 2.595859185905162}. Best is trial 0 with value: 0.717948717948718.\u001b[0m\n"
     ]
    },
    {
     "name": "stdout",
     "output_type": "stream",
     "text": [
      "Optuna Best score :  0.717948717948718\n",
      "Best parameters :  {'n_estimators': 156, 'learning_rate': 0.07973150726483061, 'num_leaves': 215, 'colsample_bytree': 1.0, 'min_child_samples': 91, 'subsample': 1.0, 'reg_alpha': 3.926634234690336, 'reg_lambda': 2.595859185905162}\n",
      "Selected features Num:  26\n",
      "Selected features :  ['total_task_sum_accuracy', 'average_noti_response_time', 'median_noti_response_time', 'screen_on_after_noti_response', 'screen_Unlock_Time', 'phone_call_time', 'phone_call_register_task_total_time', 'phone_receive_task_total_time', 'phone_receive_time', 'sms_reply_compeltion_time', 'image_delete_time', 'banking_usage_time', 'transfer_share_time', 'banking_task_total_time', 'info_searching_time', 'info_sharing_time', 'sms_average_intercharacter_time', 'sms_median_intercharacter_time', 'sms_min_intercharacter_time', 'sms_max_intercharacter_time', 'sms_COER', 'sms_TER', 'ws_average_intercharacter_time', 'ws_median_intercharacter_time', 'ws_CPS', 'ws_COER']\n",
      "test accuracy :  0.7777777777777778\n"
     ]
    }
   ],
   "source": [
    "clf = LGBMClassifier(random_state=42)\n",
    "shap_df_list, metric_df = NestedCVwithOptuna(LGBMObjective, clf, 'lightgbm')"
   ]
  },
  {
   "cell_type": "markdown",
   "metadata": {},
   "source": [
    "## 40개의 모델의 개별 performance metric + 평균 performnace metric을 저장한다\n",
    "## 각 모델별 test set의 feature에 따른 shap value를 저장한다"
   ]
  },
  {
   "cell_type": "code",
   "execution_count": null,
   "metadata": {},
   "outputs": [],
   "source": [
    "if label_name == 'three_label':\n",
    "    shap_values_df_0 = pd.concat(shap_df_list[0])\n",
    "    shap_values_df_1 = pd.concat(shap_df_list[1])\n",
    "    shap_values_df_2 = pd.concat(shap_df_list[2])\n",
    "\n",
    "    with pd.ExcelWriter(f\"./lgbm_result_fs_2label.xlsx\") as writer:\n",
    "        metric_df.to_excel(writer, sheet_name=\"performance metric\", index=False)\n",
    "        shap_values_df_0.to_excel(writer, sheet_name=\"shap_list_0\", index=False)\n",
    "        shap_values_df_1.to_excel(writer, sheet_name=\"shap_list_1\", index=False)\n",
    "        shap_values_df_2.to_excel(writer, sheet_name=\"shap_list_2\", index=False)\n",
    "\n",
    "if label_name != 'three_label':\n",
    "    shap_values_df = pd.concat(shap_df_list[0])\n",
    "\n",
    "    with pd.ExcelWriter(f\"./lgbm_result_fs_2label.xlsx\") as writer:\n",
    "        metric_df.to_excel(writer, sheet_name=\"performance metric\", index=False)\n",
    "        shap_values_df.to_excel(writer, sheet_name=\"shap_list\", index=False)"
   ]
  },
  {
   "cell_type": "markdown",
   "metadata": {},
   "source": [
    "# Xgboost Bayesian"
   ]
  },
  {
   "cell_type": "code",
   "execution_count": 31,
   "metadata": {},
   "outputs": [],
   "source": [
    "class XBGObjective(object):\n",
    "    def __init__(self, X, y):\n",
    "        self.X = X\n",
    "        self.y = y\n",
    "\n",
    "    def __call__(self, trial: Trial):    \n",
    "        xgb_params = {\n",
    "            'n_estimators': trial.suggest_int('n_estimators', 50, 500),\n",
    "            'learning_rate': trial.suggest_loguniform(\"learning_rate\", 1e-3, 1e-1),\n",
    "            'max_depth': trial.suggest_int('max_depth', 3, 10),\n",
    "            'min_child_weight': trial.suggest_int('min_child_weight', 1, 9),\n",
    "            'colsample_bytree': trial.suggest_float('colsample_bytree', 0.5, 1.0, step=0.1),\n",
    "            'subsample': trial.suggest_float('subsample', 0.5, 1.0, step=0.1),\n",
    "            'gamma': trial.suggest_float('gamma', 0.0, 5.0, step=0.1),\n",
    "            'reg_alpha': trial.suggest_float('reg_alpha', 1.0, 5.0), # lambda_l1\n",
    "            'reg_lambda': trial.suggest_float('reg_lambda', 1.0, 5.0), # lambda_l2\n",
    "            'random_state': 42\n",
    "        }\n",
    "\n",
    "        clf = XGBClassifier(**xgb_params)\n",
    "\n",
    "        mean_accuracy = InnerCrossValidation(clf, self.X, self.y, cv_method, n_fold)\n",
    "\n",
    "        return mean_accuracy"
   ]
  },
  {
   "cell_type": "code",
   "execution_count": 32,
   "metadata": {},
   "outputs": [
    {
     "name": "stderr",
     "output_type": "stream",
     "text": [
      "\u001b[32m[I 2022-08-28 22:22:07,306]\u001b[0m A new study created in memory with name: xgboost Study\u001b[0m\n"
     ]
    },
    {
     "name": "stdout",
     "output_type": "stream",
     "text": [
      "class_nums :  2\n"
     ]
    },
    {
     "name": "stderr",
     "output_type": "stream",
     "text": [
      "\u001b[32m[I 2022-08-28 22:22:10,122]\u001b[0m Trial 0 finished with value: 0.7692307692307693 and parameters: {'n_estimators': 439, 'learning_rate': 0.0002472873616023207, 'max_depth': 8, 'min_child_weight': 2, 'colsample_bytree': 0.7, 'subsample': 0.9, 'gamma': 0.2, 'reg_alpha': 1.779755163462574, 'reg_lambda': 1.8620792710380027}. Best is trial 0 with value: 0.7692307692307693.\u001b[0m\n"
     ]
    },
    {
     "name": "stdout",
     "output_type": "stream",
     "text": [
      "Optuna Best score :  0.7692307692307693\n"
     ]
    },
    {
     "name": "stderr",
     "output_type": "stream",
     "text": [
      "\u001b[32m[I 2022-08-28 22:22:10,569]\u001b[0m A new study created in memory with name: xgboost Study\u001b[0m\n"
     ]
    },
    {
     "name": "stdout",
     "output_type": "stream",
     "text": [
      "test accuracy :  1.0\n"
     ]
    },
    {
     "name": "stderr",
     "output_type": "stream",
     "text": [
      "\u001b[32m[I 2022-08-28 22:22:12,646]\u001b[0m Trial 0 finished with value: 0.7692307692307693 and parameters: {'n_estimators': 415, 'learning_rate': 0.007132260495815669, 'max_depth': 4, 'min_child_weight': 2, 'colsample_bytree': 0.7, 'subsample': 0.7, 'gamma': 4.1000000000000005, 'reg_alpha': 4.150335636616924, 'reg_lambda': 3.0634693174330714}. Best is trial 0 with value: 0.7692307692307693.\u001b[0m\n"
     ]
    },
    {
     "name": "stdout",
     "output_type": "stream",
     "text": [
      "Optuna Best score :  0.7692307692307693\n"
     ]
    },
    {
     "name": "stderr",
     "output_type": "stream",
     "text": [
      "\u001b[32m[I 2022-08-28 22:22:12,966]\u001b[0m A new study created in memory with name: xgboost Study\u001b[0m\n"
     ]
    },
    {
     "name": "stdout",
     "output_type": "stream",
     "text": [
      "test accuracy :  1.0\n"
     ]
    },
    {
     "name": "stderr",
     "output_type": "stream",
     "text": [
      "\u001b[32m[I 2022-08-28 22:22:15,356]\u001b[0m Trial 0 finished with value: 0.7435897435897436 and parameters: {'n_estimators': 417, 'learning_rate': 0.0002570443509561165, 'max_depth': 7, 'min_child_weight': 4, 'colsample_bytree': 0.6, 'subsample': 0.9, 'gamma': 0.7000000000000001, 'reg_alpha': 4.94986912699046, 'reg_lambda': 4.991730690571341}. Best is trial 0 with value: 0.7435897435897436.\u001b[0m\n"
     ]
    },
    {
     "name": "stdout",
     "output_type": "stream",
     "text": [
      "Optuna Best score :  0.7435897435897436\n"
     ]
    },
    {
     "name": "stderr",
     "output_type": "stream",
     "text": [
      "\u001b[32m[I 2022-08-28 22:22:15,700]\u001b[0m A new study created in memory with name: xgboost Study\u001b[0m\n"
     ]
    },
    {
     "name": "stdout",
     "output_type": "stream",
     "text": [
      "test accuracy :  1.0\n"
     ]
    },
    {
     "name": "stderr",
     "output_type": "stream",
     "text": [
      "\u001b[32m[I 2022-08-28 22:22:17,148]\u001b[0m Trial 0 finished with value: 0.7492877492877493 and parameters: {'n_estimators': 346, 'learning_rate': 0.0001573611932151284, 'max_depth': 3, 'min_child_weight': 7, 'colsample_bytree': 0.5, 'subsample': 0.7, 'gamma': 2.8000000000000003, 'reg_alpha': 3.283777247927489, 'reg_lambda': 1.572738845633281}. Best is trial 0 with value: 0.7492877492877493.\u001b[0m\n"
     ]
    },
    {
     "name": "stdout",
     "output_type": "stream",
     "text": [
      "Optuna Best score :  0.7492877492877493\n",
      "test accuracy :  1.0\n"
     ]
    },
    {
     "name": "stderr",
     "output_type": "stream",
     "text": [
      "\u001b[32m[I 2022-08-28 22:22:17,355]\u001b[0m A new study created in memory with name: xgboost Study\u001b[0m\n",
      "\u001b[32m[I 2022-08-28 22:22:18,380]\u001b[0m Trial 0 finished with value: 0.792022792022792 and parameters: {'n_estimators': 168, 'learning_rate': 0.025089503356483633, 'max_depth': 6, 'min_child_weight': 2, 'colsample_bytree': 0.9, 'subsample': 0.8, 'gamma': 3.0, 'reg_alpha': 1.5952222536120066, 'reg_lambda': 4.283981902958346}. Best is trial 0 with value: 0.792022792022792.\u001b[0m\n"
     ]
    },
    {
     "name": "stdout",
     "output_type": "stream",
     "text": [
      "Optuna Best score :  0.792022792022792\n",
      "test accuracy :  1.0\n"
     ]
    },
    {
     "name": "stderr",
     "output_type": "stream",
     "text": [
      "\u001b[32m[I 2022-08-28 22:22:18,590]\u001b[0m A new study created in memory with name: xgboost Study\u001b[0m\n",
      "\u001b[32m[I 2022-08-28 22:22:19,565]\u001b[0m Trial 0 finished with value: 0.7321937321937322 and parameters: {'n_estimators': 244, 'learning_rate': 0.0007769840413821829, 'max_depth': 7, 'min_child_weight': 9, 'colsample_bytree': 0.6, 'subsample': 0.7, 'gamma': 0.7000000000000001, 'reg_alpha': 3.356698722631553, 'reg_lambda': 1.0990767541893942}. Best is trial 0 with value: 0.7321937321937322.\u001b[0m\n",
      "\u001b[32m[I 2022-08-28 22:22:19,719]\u001b[0m A new study created in memory with name: xgboost Study\u001b[0m\n"
     ]
    },
    {
     "name": "stdout",
     "output_type": "stream",
     "text": [
      "Optuna Best score :  0.7321937321937322\n",
      "test accuracy :  1.0\n"
     ]
    },
    {
     "name": "stderr",
     "output_type": "stream",
     "text": [
      "\u001b[32m[I 2022-08-28 22:22:20,928]\u001b[0m Trial 0 finished with value: 0.7663817663817664 and parameters: {'n_estimators': 307, 'learning_rate': 0.09095157633421118, 'max_depth': 3, 'min_child_weight': 1, 'colsample_bytree': 0.9, 'subsample': 0.8, 'gamma': 0.6000000000000001, 'reg_alpha': 4.350634051157123, 'reg_lambda': 1.760735260969088}. Best is trial 0 with value: 0.7663817663817664.\u001b[0m\n",
      "\u001b[32m[I 2022-08-28 22:22:21,127]\u001b[0m A new study created in memory with name: xgboost Study\u001b[0m\n"
     ]
    },
    {
     "name": "stdout",
     "output_type": "stream",
     "text": [
      "Optuna Best score :  0.7663817663817664\n",
      "test accuracy :  1.0\n"
     ]
    },
    {
     "name": "stderr",
     "output_type": "stream",
     "text": [
      "\u001b[32m[I 2022-08-28 22:22:22,308]\u001b[0m Trial 0 finished with value: 0.7549857549857549 and parameters: {'n_estimators': 246, 'learning_rate': 0.00024992198130392463, 'max_depth': 4, 'min_child_weight': 8, 'colsample_bytree': 0.8, 'subsample': 1.0, 'gamma': 0.30000000000000004, 'reg_alpha': 2.051589433203005, 'reg_lambda': 3.0637623989450273}. Best is trial 0 with value: 0.7549857549857549.\u001b[0m\n",
      "\u001b[32m[I 2022-08-28 22:22:22,488]\u001b[0m A new study created in memory with name: xgboost Study\u001b[0m\n"
     ]
    },
    {
     "name": "stdout",
     "output_type": "stream",
     "text": [
      "Optuna Best score :  0.7549857549857549\n",
      "test accuracy :  1.0\n"
     ]
    },
    {
     "name": "stderr",
     "output_type": "stream",
     "text": [
      "\u001b[32m[I 2022-08-28 22:22:24,181]\u001b[0m Trial 0 finished with value: 0.7207977207977208 and parameters: {'n_estimators': 447, 'learning_rate': 0.0008726794771117431, 'max_depth': 9, 'min_child_weight': 9, 'colsample_bytree': 0.7, 'subsample': 0.5, 'gamma': 4.2, 'reg_alpha': 1.915290709386512, 'reg_lambda': 2.4510578273217}. Best is trial 0 with value: 0.7207977207977208.\u001b[0m\n"
     ]
    },
    {
     "name": "stdout",
     "output_type": "stream",
     "text": [
      "Optuna Best score :  0.7207977207977208\n",
      "test accuracy :  1.0\n"
     ]
    },
    {
     "name": "stderr",
     "output_type": "stream",
     "text": [
      "\u001b[32m[I 2022-08-28 22:22:24,411]\u001b[0m A new study created in memory with name: xgboost Study\u001b[0m\n",
      "\u001b[32m[I 2022-08-28 22:22:26,016]\u001b[0m Trial 0 finished with value: 0.7521367521367521 and parameters: {'n_estimators': 394, 'learning_rate': 0.00161859702010901, 'max_depth': 7, 'min_child_weight': 7, 'colsample_bytree': 1.0, 'subsample': 0.6, 'gamma': 0.7000000000000001, 'reg_alpha': 4.367850190240267, 'reg_lambda': 2.0140485069666036}. Best is trial 0 with value: 0.7521367521367521.\u001b[0m\n"
     ]
    },
    {
     "name": "stdout",
     "output_type": "stream",
     "text": [
      "Optuna Best score :  0.7521367521367521\n",
      "test accuracy :  0.8888888888888888\n"
     ]
    },
    {
     "name": "stderr",
     "output_type": "stream",
     "text": [
      "\u001b[32m[I 2022-08-28 22:22:26,238]\u001b[0m A new study created in memory with name: xgboost Study\u001b[0m\n",
      "\u001b[32m[I 2022-08-28 22:22:27,233]\u001b[0m Trial 0 finished with value: 0.7606837606837606 and parameters: {'n_estimators': 209, 'learning_rate': 0.0008953223623360992, 'max_depth': 8, 'min_child_weight': 3, 'colsample_bytree': 1.0, 'subsample': 0.6, 'gamma': 1.8, 'reg_alpha': 2.280002930115382, 'reg_lambda': 4.044638042927836}. Best is trial 0 with value: 0.7606837606837606.\u001b[0m\n",
      "\u001b[32m[I 2022-08-28 22:22:27,397]\u001b[0m A new study created in memory with name: xgboost Study\u001b[0m\n"
     ]
    },
    {
     "name": "stdout",
     "output_type": "stream",
     "text": [
      "Optuna Best score :  0.7606837606837606\n",
      "test accuracy :  0.6666666666666666\n"
     ]
    },
    {
     "name": "stderr",
     "output_type": "stream",
     "text": [
      "\u001b[32m[I 2022-08-28 22:22:28,146]\u001b[0m Trial 0 finished with value: 0.7635327635327636 and parameters: {'n_estimators': 166, 'learning_rate': 0.00040130162236227566, 'max_depth': 7, 'min_child_weight': 8, 'colsample_bytree': 0.6, 'subsample': 0.7, 'gamma': 0.2, 'reg_alpha': 1.8819207012063157, 'reg_lambda': 2.3677426958828907}. Best is trial 0 with value: 0.7635327635327636.\u001b[0m\n",
      "\u001b[32m[I 2022-08-28 22:22:28,249]\u001b[0m A new study created in memory with name: xgboost Study\u001b[0m\n"
     ]
    },
    {
     "name": "stdout",
     "output_type": "stream",
     "text": [
      "Optuna Best score :  0.7635327635327636\n",
      "test accuracy :  0.6666666666666666\n"
     ]
    },
    {
     "name": "stderr",
     "output_type": "stream",
     "text": [
      "\u001b[32m[I 2022-08-28 22:22:31,018]\u001b[0m Trial 0 finished with value: 0.811965811965812 and parameters: {'n_estimators': 444, 'learning_rate': 0.004378699808908474, 'max_depth': 10, 'min_child_weight': 2, 'colsample_bytree': 0.7, 'subsample': 1.0, 'gamma': 0.6000000000000001, 'reg_alpha': 3.3145528850981107, 'reg_lambda': 1.9343786183710492}. Best is trial 0 with value: 0.811965811965812.\u001b[0m\n"
     ]
    },
    {
     "name": "stdout",
     "output_type": "stream",
     "text": [
      "Optuna Best score :  0.811965811965812\n"
     ]
    },
    {
     "name": "stderr",
     "output_type": "stream",
     "text": [
      "\u001b[32m[I 2022-08-28 22:22:31,512]\u001b[0m A new study created in memory with name: xgboost Study\u001b[0m\n"
     ]
    },
    {
     "name": "stdout",
     "output_type": "stream",
     "text": [
      "test accuracy :  0.6666666666666666\n"
     ]
    },
    {
     "name": "stderr",
     "output_type": "stream",
     "text": [
      "\u001b[32m[I 2022-08-28 22:22:32,650]\u001b[0m Trial 0 finished with value: 0.7207977207977208 and parameters: {'n_estimators': 341, 'learning_rate': 0.00016339633720776007, 'max_depth': 9, 'min_child_weight': 9, 'colsample_bytree': 0.8, 'subsample': 0.5, 'gamma': 4.9, 'reg_alpha': 1.7994311580937428, 'reg_lambda': 4.995017967395645}. Best is trial 0 with value: 0.7207977207977208.\u001b[0m\n"
     ]
    },
    {
     "name": "stdout",
     "output_type": "stream",
     "text": [
      "Optuna Best score :  0.7207977207977208\n",
      "test accuracy :  0.7777777777777778\n"
     ]
    },
    {
     "name": "stderr",
     "output_type": "stream",
     "text": [
      "\u001b[32m[I 2022-08-28 22:22:32,853]\u001b[0m A new study created in memory with name: xgboost Study\u001b[0m\n",
      "\u001b[32m[I 2022-08-28 22:22:34,484]\u001b[0m Trial 0 finished with value: 0.7692307692307693 and parameters: {'n_estimators': 391, 'learning_rate': 0.00016026547273547122, 'max_depth': 4, 'min_child_weight': 7, 'colsample_bytree': 1.0, 'subsample': 0.8, 'gamma': 3.2, 'reg_alpha': 1.761623104921235, 'reg_lambda': 3.7139157764696806}. Best is trial 0 with value: 0.7692307692307693.\u001b[0m\n"
     ]
    },
    {
     "name": "stdout",
     "output_type": "stream",
     "text": [
      "Optuna Best score :  0.7692307692307693\n"
     ]
    },
    {
     "name": "stderr",
     "output_type": "stream",
     "text": [
      "\u001b[32m[I 2022-08-28 22:22:34,740]\u001b[0m A new study created in memory with name: xgboost Study\u001b[0m\n"
     ]
    },
    {
     "name": "stdout",
     "output_type": "stream",
     "text": [
      "test accuracy :  0.8888888888888888\n"
     ]
    },
    {
     "name": "stderr",
     "output_type": "stream",
     "text": [
      "\u001b[32m[I 2022-08-28 22:22:35,588]\u001b[0m Trial 0 finished with value: 0.8034188034188035 and parameters: {'n_estimators': 112, 'learning_rate': 0.01710329921442241, 'max_depth': 7, 'min_child_weight': 1, 'colsample_bytree': 1.0, 'subsample': 0.7, 'gamma': 0.7000000000000001, 'reg_alpha': 3.393052380189377, 'reg_lambda': 3.547883247208093}. Best is trial 0 with value: 0.8034188034188035.\u001b[0m\n",
      "\u001b[32m[I 2022-08-28 22:22:35,720]\u001b[0m A new study created in memory with name: xgboost Study\u001b[0m\n"
     ]
    },
    {
     "name": "stdout",
     "output_type": "stream",
     "text": [
      "Optuna Best score :  0.8034188034188035\n",
      "test accuracy :  0.6666666666666666\n"
     ]
    },
    {
     "name": "stderr",
     "output_type": "stream",
     "text": [
      "\u001b[32m[I 2022-08-28 22:22:36,017]\u001b[0m Trial 0 finished with value: 0.792022792022792 and parameters: {'n_estimators': 53, 'learning_rate': 0.033172906398642045, 'max_depth': 9, 'min_child_weight': 9, 'colsample_bytree': 1.0, 'subsample': 1.0, 'gamma': 4.0, 'reg_alpha': 1.5614012217235347, 'reg_lambda': 1.9987292840603494}. Best is trial 0 with value: 0.792022792022792.\u001b[0m\n",
      "\u001b[32m[I 2022-08-28 22:22:36,066]\u001b[0m A new study created in memory with name: xgboost Study\u001b[0m\n"
     ]
    },
    {
     "name": "stdout",
     "output_type": "stream",
     "text": [
      "Optuna Best score :  0.792022792022792\n",
      "test accuracy :  0.5555555555555556\n"
     ]
    },
    {
     "name": "stderr",
     "output_type": "stream",
     "text": [
      "\u001b[32m[I 2022-08-28 22:22:36,496]\u001b[0m Trial 0 finished with value: 0.8034188034188035 and parameters: {'n_estimators': 73, 'learning_rate': 0.03227378099468157, 'max_depth': 6, 'min_child_weight': 3, 'colsample_bytree': 0.8, 'subsample': 0.8, 'gamma': 0.7000000000000001, 'reg_alpha': 3.3129076697197464, 'reg_lambda': 2.2597201480697566}. Best is trial 0 with value: 0.8034188034188035.\u001b[0m\n",
      "\u001b[32m[I 2022-08-28 22:22:36,572]\u001b[0m A new study created in memory with name: xgboost Study\u001b[0m\n"
     ]
    },
    {
     "name": "stdout",
     "output_type": "stream",
     "text": [
      "Optuna Best score :  0.8034188034188035\n",
      "test accuracy :  0.5555555555555556\n"
     ]
    },
    {
     "name": "stderr",
     "output_type": "stream",
     "text": [
      "\u001b[32m[I 2022-08-28 22:22:37,735]\u001b[0m Trial 0 finished with value: 0.7635327635327636 and parameters: {'n_estimators': 302, 'learning_rate': 0.004119735069549154, 'max_depth': 7, 'min_child_weight': 9, 'colsample_bytree': 1.0, 'subsample': 0.8, 'gamma': 3.1, 'reg_alpha': 4.663193467446092, 'reg_lambda': 2.73695559996948}. Best is trial 0 with value: 0.7635327635327636.\u001b[0m\n"
     ]
    },
    {
     "name": "stdout",
     "output_type": "stream",
     "text": [
      "Optuna Best score :  0.7635327635327636\n",
      "test accuracy :  0.6666666666666666\n"
     ]
    },
    {
     "name": "stderr",
     "output_type": "stream",
     "text": [
      "\u001b[32m[I 2022-08-28 22:22:37,956]\u001b[0m A new study created in memory with name: xgboost Study\u001b[0m\n",
      "\u001b[32m[I 2022-08-28 22:22:38,622]\u001b[0m Trial 0 finished with value: 0.8091168091168092 and parameters: {'n_estimators': 116, 'learning_rate': 0.05626625117181885, 'max_depth': 6, 'min_child_weight': 3, 'colsample_bytree': 0.9, 'subsample': 0.8, 'gamma': 1.4000000000000001, 'reg_alpha': 4.173592042364968, 'reg_lambda': 4.163138993672922}. Best is trial 0 with value: 0.8091168091168092.\u001b[0m\n",
      "\u001b[32m[I 2022-08-28 22:22:38,737]\u001b[0m A new study created in memory with name: xgboost Study\u001b[0m\n"
     ]
    },
    {
     "name": "stdout",
     "output_type": "stream",
     "text": [
      "Optuna Best score :  0.8091168091168092\n",
      "test accuracy :  0.8888888888888888\n"
     ]
    },
    {
     "name": "stderr",
     "output_type": "stream",
     "text": [
      "\u001b[32m[I 2022-08-28 22:22:41,146]\u001b[0m Trial 0 finished with value: 0.7977207977207977 and parameters: {'n_estimators': 421, 'learning_rate': 0.006143330167985399, 'max_depth': 5, 'min_child_weight': 1, 'colsample_bytree': 0.7, 'subsample': 0.7, 'gamma': 0.9, 'reg_alpha': 2.3253818557510124, 'reg_lambda': 4.891949713723024}. Best is trial 0 with value: 0.7977207977207977.\u001b[0m\n"
     ]
    },
    {
     "name": "stdout",
     "output_type": "stream",
     "text": [
      "Optuna Best score :  0.7977207977207977\n"
     ]
    },
    {
     "name": "stderr",
     "output_type": "stream",
     "text": [
      "\u001b[32m[I 2022-08-28 22:22:41,547]\u001b[0m A new study created in memory with name: xgboost Study\u001b[0m\n"
     ]
    },
    {
     "name": "stdout",
     "output_type": "stream",
     "text": [
      "test accuracy :  0.8888888888888888\n"
     ]
    },
    {
     "name": "stderr",
     "output_type": "stream",
     "text": [
      "\u001b[32m[I 2022-08-28 22:22:42,031]\u001b[0m Trial 0 finished with value: 0.7606837606837606 and parameters: {'n_estimators': 71, 'learning_rate': 0.01116865379534018, 'max_depth': 9, 'min_child_weight': 4, 'colsample_bytree': 0.9, 'subsample': 1.0, 'gamma': 2.5, 'reg_alpha': 1.0548660234217122, 'reg_lambda': 4.277259114861744}. Best is trial 0 with value: 0.7606837606837606.\u001b[0m\n",
      "\u001b[32m[I 2022-08-28 22:22:42,105]\u001b[0m A new study created in memory with name: xgboost Study\u001b[0m\n"
     ]
    },
    {
     "name": "stdout",
     "output_type": "stream",
     "text": [
      "Optuna Best score :  0.7606837606837606\n",
      "test accuracy :  0.5555555555555556\n"
     ]
    },
    {
     "name": "stderr",
     "output_type": "stream",
     "text": [
      "\u001b[32m[I 2022-08-28 22:22:43,126]\u001b[0m Trial 0 finished with value: 0.7777777777777778 and parameters: {'n_estimators': 241, 'learning_rate': 0.007499792891369625, 'max_depth': 6, 'min_child_weight': 9, 'colsample_bytree': 1.0, 'subsample': 1.0, 'gamma': 0.4, 'reg_alpha': 3.0076557128557417, 'reg_lambda': 1.8582469201558158}. Best is trial 0 with value: 0.7777777777777778.\u001b[0m\n",
      "\u001b[32m[I 2022-08-28 22:22:43,293]\u001b[0m A new study created in memory with name: xgboost Study\u001b[0m\n"
     ]
    },
    {
     "name": "stdout",
     "output_type": "stream",
     "text": [
      "Optuna Best score :  0.7777777777777778\n",
      "test accuracy :  0.6666666666666666\n"
     ]
    },
    {
     "name": "stderr",
     "output_type": "stream",
     "text": [
      "\u001b[32m[I 2022-08-28 22:22:43,958]\u001b[0m Trial 0 finished with value: 0.7521367521367521 and parameters: {'n_estimators': 154, 'learning_rate': 0.0006847696586085113, 'max_depth': 8, 'min_child_weight': 8, 'colsample_bytree': 0.8, 'subsample': 0.9, 'gamma': 0.2, 'reg_alpha': 3.349715160290812, 'reg_lambda': 4.940499441870771}. Best is trial 0 with value: 0.7521367521367521.\u001b[0m\n",
      "\u001b[32m[I 2022-08-28 22:22:44,067]\u001b[0m A new study created in memory with name: xgboost Study\u001b[0m\n"
     ]
    },
    {
     "name": "stdout",
     "output_type": "stream",
     "text": [
      "Optuna Best score :  0.7521367521367521\n",
      "test accuracy :  0.7777777777777778\n"
     ]
    },
    {
     "name": "stderr",
     "output_type": "stream",
     "text": [
      "\u001b[32m[I 2022-08-28 22:22:44,699]\u001b[0m Trial 0 finished with value: 0.7806267806267806 and parameters: {'n_estimators': 133, 'learning_rate': 0.012598290593487547, 'max_depth': 4, 'min_child_weight': 3, 'colsample_bytree': 0.8, 'subsample': 0.6, 'gamma': 0.30000000000000004, 'reg_alpha': 3.2355134603118816, 'reg_lambda': 3.7431853866748828}. Best is trial 0 with value: 0.7806267806267806.\u001b[0m\n",
      "\u001b[32m[I 2022-08-28 22:22:44,803]\u001b[0m A new study created in memory with name: xgboost Study\u001b[0m\n"
     ]
    },
    {
     "name": "stdout",
     "output_type": "stream",
     "text": [
      "Optuna Best score :  0.7806267806267806\n",
      "test accuracy :  0.5555555555555556\n"
     ]
    },
    {
     "name": "stderr",
     "output_type": "stream",
     "text": [
      "\u001b[32m[I 2022-08-28 22:22:46,080]\u001b[0m Trial 0 finished with value: 0.7720797720797721 and parameters: {'n_estimators': 275, 'learning_rate': 0.010286677422048212, 'max_depth': 9, 'min_child_weight': 8, 'colsample_bytree': 1.0, 'subsample': 1.0, 'gamma': 2.8000000000000003, 'reg_alpha': 3.700403454423865, 'reg_lambda': 4.564813216709039}. Best is trial 0 with value: 0.7720797720797721.\u001b[0m\n"
     ]
    },
    {
     "name": "stdout",
     "output_type": "stream",
     "text": [
      "Optuna Best score :  0.7720797720797721\n"
     ]
    },
    {
     "name": "stderr",
     "output_type": "stream",
     "text": [
      "\u001b[32m[I 2022-08-28 22:22:46,350]\u001b[0m A new study created in memory with name: xgboost Study\u001b[0m\n"
     ]
    },
    {
     "name": "stdout",
     "output_type": "stream",
     "text": [
      "test accuracy :  0.7777777777777778\n"
     ]
    },
    {
     "name": "stderr",
     "output_type": "stream",
     "text": [
      "\u001b[32m[I 2022-08-28 22:22:47,890]\u001b[0m Trial 0 finished with value: 0.7606837606837606 and parameters: {'n_estimators': 469, 'learning_rate': 0.0002540971537179174, 'max_depth': 8, 'min_child_weight': 8, 'colsample_bytree': 1.0, 'subsample': 0.5, 'gamma': 0.0, 'reg_alpha': 3.963776706566543, 'reg_lambda': 1.8202682753781558}. Best is trial 0 with value: 0.7606837606837606.\u001b[0m\n"
     ]
    },
    {
     "name": "stdout",
     "output_type": "stream",
     "text": [
      "Optuna Best score :  0.7606837606837606\n",
      "test accuracy :  0.4444444444444444\n"
     ]
    },
    {
     "name": "stderr",
     "output_type": "stream",
     "text": [
      "\u001b[32m[I 2022-08-28 22:22:48,122]\u001b[0m A new study created in memory with name: xgboost Study\u001b[0m\n",
      "\u001b[32m[I 2022-08-28 22:22:49,750]\u001b[0m Trial 0 finished with value: 0.7948717948717948 and parameters: {'n_estimators': 410, 'learning_rate': 0.025120095667334915, 'max_depth': 3, 'min_child_weight': 5, 'colsample_bytree': 0.5, 'subsample': 0.5, 'gamma': 1.4000000000000001, 'reg_alpha': 4.717131717540265, 'reg_lambda': 3.115180967165032}. Best is trial 0 with value: 0.7948717948717948.\u001b[0m\n"
     ]
    },
    {
     "name": "stdout",
     "output_type": "stream",
     "text": [
      "Optuna Best score :  0.7948717948717948\n"
     ]
    },
    {
     "name": "stderr",
     "output_type": "stream",
     "text": [
      "\u001b[32m[I 2022-08-28 22:22:49,994]\u001b[0m A new study created in memory with name: xgboost Study\u001b[0m\n"
     ]
    },
    {
     "name": "stdout",
     "output_type": "stream",
     "text": [
      "test accuracy :  0.6666666666666666\n"
     ]
    },
    {
     "name": "stderr",
     "output_type": "stream",
     "text": [
      "\u001b[32m[I 2022-08-28 22:22:51,119]\u001b[0m Trial 0 finished with value: 0.7891737891737892 and parameters: {'n_estimators': 322, 'learning_rate': 0.026264286023403954, 'max_depth': 8, 'min_child_weight': 7, 'colsample_bytree': 0.8, 'subsample': 0.6, 'gamma': 3.0, 'reg_alpha': 3.474122818221138, 'reg_lambda': 4.574992509269601}. Best is trial 0 with value: 0.7891737891737892.\u001b[0m\n",
      "\u001b[32m[I 2022-08-28 22:22:51,291]\u001b[0m A new study created in memory with name: xgboost Study\u001b[0m\n"
     ]
    },
    {
     "name": "stdout",
     "output_type": "stream",
     "text": [
      "Optuna Best score :  0.7891737891737892\n",
      "test accuracy :  0.5555555555555556\n"
     ]
    },
    {
     "name": "stderr",
     "output_type": "stream",
     "text": [
      "\u001b[32m[I 2022-08-28 22:22:52,419]\u001b[0m Trial 0 finished with value: 0.7578347578347578 and parameters: {'n_estimators': 312, 'learning_rate': 0.08674427249976438, 'max_depth': 4, 'min_child_weight': 8, 'colsample_bytree': 0.5, 'subsample': 0.8, 'gamma': 0.0, 'reg_alpha': 2.4573375535396864, 'reg_lambda': 2.031313436920013}. Best is trial 0 with value: 0.7578347578347578.\u001b[0m\n"
     ]
    },
    {
     "name": "stdout",
     "output_type": "stream",
     "text": [
      "Optuna Best score :  0.7578347578347578\n",
      "test accuracy :  0.7777777777777778\n"
     ]
    },
    {
     "name": "stderr",
     "output_type": "stream",
     "text": [
      "\u001b[32m[I 2022-08-28 22:22:52,629]\u001b[0m A new study created in memory with name: xgboost Study\u001b[0m\n",
      "\u001b[32m[I 2022-08-28 22:22:53,572]\u001b[0m Trial 0 finished with value: 0.7692307692307693 and parameters: {'n_estimators': 249, 'learning_rate': 0.005595832742110544, 'max_depth': 5, 'min_child_weight': 5, 'colsample_bytree': 0.7, 'subsample': 0.6, 'gamma': 2.2, 'reg_alpha': 4.058887170320906, 'reg_lambda': 1.4265711221073665}. Best is trial 0 with value: 0.7692307692307693.\u001b[0m\n",
      "\u001b[32m[I 2022-08-28 22:22:53,739]\u001b[0m A new study created in memory with name: xgboost Study\u001b[0m\n"
     ]
    },
    {
     "name": "stdout",
     "output_type": "stream",
     "text": [
      "Optuna Best score :  0.7692307692307693\n",
      "test accuracy :  0.8888888888888888\n"
     ]
    },
    {
     "name": "stderr",
     "output_type": "stream",
     "text": [
      "\u001b[32m[I 2022-08-28 22:22:54,073]\u001b[0m Trial 0 finished with value: 0.7578347578347578 and parameters: {'n_estimators': 57, 'learning_rate': 0.01311677735207692, 'max_depth': 5, 'min_child_weight': 6, 'colsample_bytree': 1.0, 'subsample': 1.0, 'gamma': 3.0, 'reg_alpha': 2.531556435648844, 'reg_lambda': 2.6928701380125526}. Best is trial 0 with value: 0.7578347578347578.\u001b[0m\n",
      "\u001b[32m[I 2022-08-28 22:22:54,129]\u001b[0m A new study created in memory with name: xgboost Study\u001b[0m\n"
     ]
    },
    {
     "name": "stdout",
     "output_type": "stream",
     "text": [
      "Optuna Best score :  0.7578347578347578\n",
      "test accuracy :  0.7777777777777778\n"
     ]
    },
    {
     "name": "stderr",
     "output_type": "stream",
     "text": [
      "\u001b[32m[I 2022-08-28 22:22:55,531]\u001b[0m Trial 0 finished with value: 0.7663817663817664 and parameters: {'n_estimators': 275, 'learning_rate': 0.0056555042071181946, 'max_depth': 4, 'min_child_weight': 6, 'colsample_bytree': 1.0, 'subsample': 1.0, 'gamma': 1.3, 'reg_alpha': 1.9434198942670333, 'reg_lambda': 2.627413084505556}. Best is trial 0 with value: 0.7663817663817664.\u001b[0m\n"
     ]
    },
    {
     "name": "stdout",
     "output_type": "stream",
     "text": [
      "Optuna Best score :  0.7663817663817664\n"
     ]
    },
    {
     "name": "stderr",
     "output_type": "stream",
     "text": [
      "\u001b[32m[I 2022-08-28 22:22:55,794]\u001b[0m A new study created in memory with name: xgboost Study\u001b[0m\n"
     ]
    },
    {
     "name": "stdout",
     "output_type": "stream",
     "text": [
      "test accuracy :  0.8888888888888888\n"
     ]
    },
    {
     "name": "stderr",
     "output_type": "stream",
     "text": [
      "\u001b[32m[I 2022-08-28 22:22:56,782]\u001b[0m Trial 0 finished with value: 0.7606837606837606 and parameters: {'n_estimators': 173, 'learning_rate': 0.00083792098475635, 'max_depth': 8, 'min_child_weight': 3, 'colsample_bytree': 1.0, 'subsample': 0.8, 'gamma': 1.1, 'reg_alpha': 3.189021299073327, 'reg_lambda': 2.6220180154201724}. Best is trial 0 with value: 0.7606837606837606.\u001b[0m\n",
      "\u001b[32m[I 2022-08-28 22:22:56,942]\u001b[0m A new study created in memory with name: xgboost Study\u001b[0m\n"
     ]
    },
    {
     "name": "stdout",
     "output_type": "stream",
     "text": [
      "Optuna Best score :  0.7606837606837606\n",
      "test accuracy :  0.6666666666666666\n"
     ]
    },
    {
     "name": "stderr",
     "output_type": "stream",
     "text": [
      "\u001b[32m[I 2022-08-28 22:22:57,520]\u001b[0m Trial 0 finished with value: 0.7663817663817664 and parameters: {'n_estimators': 122, 'learning_rate': 0.00019814885725945368, 'max_depth': 7, 'min_child_weight': 6, 'colsample_bytree': 1.0, 'subsample': 0.8, 'gamma': 2.1, 'reg_alpha': 3.400968164684875, 'reg_lambda': 2.4733384171881783}. Best is trial 0 with value: 0.7663817663817664.\u001b[0m\n",
      "\u001b[32m[I 2022-08-28 22:22:57,619]\u001b[0m A new study created in memory with name: xgboost Study\u001b[0m\n"
     ]
    },
    {
     "name": "stdout",
     "output_type": "stream",
     "text": [
      "Optuna Best score :  0.7663817663817664\n",
      "test accuracy :  0.6666666666666666\n"
     ]
    },
    {
     "name": "stderr",
     "output_type": "stream",
     "text": [
      "\u001b[32m[I 2022-08-28 22:23:00,089]\u001b[0m Trial 0 finished with value: 0.7777777777777778 and parameters: {'n_estimators': 491, 'learning_rate': 0.04004540663984456, 'max_depth': 9, 'min_child_weight': 3, 'colsample_bytree': 0.6, 'subsample': 0.9, 'gamma': 2.7, 'reg_alpha': 4.814720255674183, 'reg_lambda': 3.3191595949105195}. Best is trial 0 with value: 0.7777777777777778.\u001b[0m\n"
     ]
    },
    {
     "name": "stdout",
     "output_type": "stream",
     "text": [
      "Optuna Best score :  0.7777777777777778\n"
     ]
    },
    {
     "name": "stderr",
     "output_type": "stream",
     "text": [
      "\u001b[32m[I 2022-08-28 22:23:00,544]\u001b[0m A new study created in memory with name: xgboost Study\u001b[0m\n"
     ]
    },
    {
     "name": "stdout",
     "output_type": "stream",
     "text": [
      "test accuracy :  0.6666666666666666\n"
     ]
    },
    {
     "name": "stderr",
     "output_type": "stream",
     "text": [
      "\u001b[32m[I 2022-08-28 22:23:01,999]\u001b[0m Trial 0 finished with value: 0.7521367521367521 and parameters: {'n_estimators': 225, 'learning_rate': 0.0001903455723320209, 'max_depth': 7, 'min_child_weight': 3, 'colsample_bytree': 1.0, 'subsample': 1.0, 'gamma': 1.9000000000000001, 'reg_alpha': 2.125473877961378, 'reg_lambda': 3.4492998418119205}. Best is trial 0 with value: 0.7521367521367521.\u001b[0m\n"
     ]
    },
    {
     "name": "stdout",
     "output_type": "stream",
     "text": [
      "Optuna Best score :  0.7521367521367521\n",
      "test accuracy :  0.3333333333333333\n"
     ]
    },
    {
     "name": "stderr",
     "output_type": "stream",
     "text": [
      "\u001b[32m[I 2022-08-28 22:23:02,247]\u001b[0m A new study created in memory with name: xgboost Study\u001b[0m\n",
      "\u001b[32m[I 2022-08-28 22:23:03,970]\u001b[0m Trial 0 finished with value: 0.7549857549857549 and parameters: {'n_estimators': 449, 'learning_rate': 0.00024268954115243773, 'max_depth': 3, 'min_child_weight': 6, 'colsample_bytree': 0.6, 'subsample': 0.9, 'gamma': 0.4, 'reg_alpha': 3.577671621935351, 'reg_lambda': 4.511967861123894}. Best is trial 0 with value: 0.7549857549857549.\u001b[0m\n"
     ]
    },
    {
     "name": "stdout",
     "output_type": "stream",
     "text": [
      "Optuna Best score :  0.7549857549857549\n"
     ]
    },
    {
     "name": "stderr",
     "output_type": "stream",
     "text": [
      "\u001b[32m[I 2022-08-28 22:23:04,237]\u001b[0m A new study created in memory with name: xgboost Study\u001b[0m\n"
     ]
    },
    {
     "name": "stdout",
     "output_type": "stream",
     "text": [
      "test accuracy :  0.5555555555555556\n"
     ]
    },
    {
     "name": "stderr",
     "output_type": "stream",
     "text": [
      "\u001b[32m[I 2022-08-28 22:23:04,572]\u001b[0m Trial 0 finished with value: 0.7264957264957265 and parameters: {'n_estimators': 73, 'learning_rate': 0.00016832020808169008, 'max_depth': 7, 'min_child_weight': 8, 'colsample_bytree': 1.0, 'subsample': 0.5, 'gamma': 3.6, 'reg_alpha': 3.38313210881419, 'reg_lambda': 4.817883719821394}. Best is trial 0 with value: 0.7264957264957265.\u001b[0m\n",
      "\u001b[32m[I 2022-08-28 22:23:04,622]\u001b[0m A new study created in memory with name: xgboost Study\u001b[0m\n"
     ]
    },
    {
     "name": "stdout",
     "output_type": "stream",
     "text": [
      "Optuna Best score :  0.7264957264957265\n",
      "test accuracy :  0.7777777777777778\n"
     ]
    },
    {
     "name": "stderr",
     "output_type": "stream",
     "text": [
      "\u001b[32m[I 2022-08-28 22:23:05,379]\u001b[0m Trial 0 finished with value: 0.7350427350427351 and parameters: {'n_estimators': 231, 'learning_rate': 0.0002492853177412892, 'max_depth': 9, 'min_child_weight': 8, 'colsample_bytree': 0.6, 'subsample': 0.6, 'gamma': 4.800000000000001, 'reg_alpha': 4.293663243831675, 'reg_lambda': 1.9381776651413425}. Best is trial 0 with value: 0.7350427350427351.\u001b[0m\n"
     ]
    },
    {
     "name": "stdout",
     "output_type": "stream",
     "text": [
      "Optuna Best score :  0.7350427350427351\n",
      "test accuracy :  0.6666666666666666\n",
      "\n",
      "mean accuracy :  0.7611111111111113\n",
      "mean precision :  0.7611111111111113\n",
      "mean recall :  0.7020833333333334\n",
      "mean f1 :  0.6698419635919639\n",
      "mean roc_auc :  0.7020833333333334\n",
      "\n"
     ]
    }
   ],
   "source": [
    "clf = XGBClassifier(random_state=42)\n",
    "shap_df_list, metric_df = NestedCVwithOptuna(XBGObjective, clf, 'xgboost')"
   ]
  },
  {
   "cell_type": "markdown",
   "metadata": {},
   "source": [
    "## 40개의 모델의 개별 performance metric + 평균 performnace metric을 저장한다\n",
    "## 각 모델별 test set의 feature에 따른 shap value를 저장한다"
   ]
  },
  {
   "cell_type": "code",
   "execution_count": null,
   "metadata": {},
   "outputs": [],
   "source": [
    "if label_name == 'three_label':\n",
    "    shap_values_df_0 = pd.concat(shap_df_list[0])\n",
    "    shap_values_df_1 = pd.concat(shap_df_list[1])\n",
    "    shap_values_df_2 = pd.concat(shap_df_list[2])\n",
    "\n",
    "    with pd.ExcelWriter(f\"./xgb_result_fs_2label.xlsx\") as writer:\n",
    "        metric_df.to_excel(writer, sheet_name=\"performance metric\", index=False)\n",
    "        shap_values_df_0.to_excel(writer, sheet_name=\"shap_list_0\", index=False)\n",
    "        shap_values_df_1.to_excel(writer, sheet_name=\"shap_list_1\", index=False)\n",
    "        shap_values_df_2.to_excel(writer, sheet_name=\"shap_list_2\", index=False)\n",
    "\n",
    "if label_name != 'three_label':\n",
    "    shap_values_df = pd.concat(shap_df_list[0])\n",
    "\n",
    "    with pd.ExcelWriter(f\"./xgb_result_fs_2label.xlsx\") as writer:\n",
    "        metric_df.to_excel(writer, sheet_name=\"performance metric\", index=False)\n",
    "        shap_values_df.to_excel(writer, sheet_name=\"shap_list\", index=False)"
   ]
  },
  {
   "cell_type": "markdown",
   "metadata": {},
   "source": [
    "# Random Forest Bayesian"
   ]
  },
  {
   "cell_type": "code",
   "execution_count": 40,
   "metadata": {},
   "outputs": [],
   "source": [
    "class RFObjective(object):\n",
    "    def __init__(self, X, y):\n",
    "        self.X = X\n",
    "        self.y = y\n",
    "    \n",
    "    def __call__(self, trial: Trial):\n",
    "        rf_params = {\n",
    "            'n_estimators': trial.suggest_int('n_estimators', 50, 500),\n",
    "            'max_depth': trial.suggest_int('max_depth', 3, 10),\n",
    "            'min_samples_leaf': trial.suggest_int('min_samples_leaf', 2, 10),\n",
    "            'min_samples_split': trial.suggest_int('min_samples_split', 2, 10),\n",
    "            'random_state': 42\n",
    "        }\n",
    "\n",
    "        clf = RandomForestClassifier(**rf_params)\n",
    "\n",
    "        mean_accuracy = InnerCrossValidation(clf, self.X, self.y, cv_method, n_fold)\n",
    "\n",
    "        return mean_accuracy"
   ]
  },
  {
   "cell_type": "code",
   "execution_count": 41,
   "metadata": {},
   "outputs": [
    {
     "name": "stderr",
     "output_type": "stream",
     "text": [
      "\u001b[32m[I 2022-08-28 22:23:06,299]\u001b[0m A new study created in memory with name: randomforest Study\u001b[0m\n"
     ]
    },
    {
     "name": "stdout",
     "output_type": "stream",
     "text": [
      "class_nums :  2\n"
     ]
    },
    {
     "name": "stderr",
     "output_type": "stream",
     "text": [
      "\u001b[32m[I 2022-08-28 22:23:07,191]\u001b[0m Trial 0 finished with value: 0.7806267806267806 and parameters: {'n_estimators': 134, 'max_depth': 8, 'min_samples_leaf': 7, 'min_samples_split': 4}. Best is trial 0 with value: 0.7806267806267806.\u001b[0m\n",
      "\u001b[32m[I 2022-08-28 22:23:07,303]\u001b[0m A new study created in memory with name: randomforest Study\u001b[0m\n"
     ]
    },
    {
     "name": "stdout",
     "output_type": "stream",
     "text": [
      "Optuna Best score :  0.7806267806267806\n",
      "test accuracy :  1.0\n"
     ]
    },
    {
     "name": "stderr",
     "output_type": "stream",
     "text": [
      "\u001b[32m[I 2022-08-28 22:23:07,972]\u001b[0m Trial 0 finished with value: 0.8005698005698005 and parameters: {'n_estimators': 101, 'max_depth': 8, 'min_samples_leaf': 7, 'min_samples_split': 5}. Best is trial 0 with value: 0.8005698005698005.\u001b[0m\n",
      "\u001b[32m[I 2022-08-28 22:23:08,057]\u001b[0m A new study created in memory with name: randomforest Study\u001b[0m\n"
     ]
    },
    {
     "name": "stdout",
     "output_type": "stream",
     "text": [
      "Optuna Best score :  0.8005698005698005\n",
      "test accuracy :  1.0\n"
     ]
    },
    {
     "name": "stderr",
     "output_type": "stream",
     "text": [
      "\u001b[32m[I 2022-08-28 22:23:10,049]\u001b[0m Trial 0 finished with value: 0.7891737891737892 and parameters: {'n_estimators': 293, 'max_depth': 6, 'min_samples_leaf': 2, 'min_samples_split': 5}. Best is trial 0 with value: 0.7891737891737892.\u001b[0m\n"
     ]
    },
    {
     "name": "stdout",
     "output_type": "stream",
     "text": [
      "Optuna Best score :  0.7891737891737892\n",
      "test accuracy :  1.0\n"
     ]
    },
    {
     "name": "stderr",
     "output_type": "stream",
     "text": [
      "\u001b[32m[I 2022-08-28 22:23:10,294]\u001b[0m A new study created in memory with name: randomforest Study\u001b[0m\n",
      "\u001b[32m[I 2022-08-28 22:23:11,360]\u001b[0m Trial 0 finished with value: 0.7692307692307693 and parameters: {'n_estimators': 170, 'max_depth': 6, 'min_samples_leaf': 9, 'min_samples_split': 10}. Best is trial 0 with value: 0.7692307692307693.\u001b[0m\n",
      "\u001b[32m[I 2022-08-28 22:23:11,497]\u001b[0m A new study created in memory with name: randomforest Study\u001b[0m\n"
     ]
    },
    {
     "name": "stdout",
     "output_type": "stream",
     "text": [
      "Optuna Best score :  0.7692307692307693\n",
      "test accuracy :  1.0\n"
     ]
    },
    {
     "name": "stderr",
     "output_type": "stream",
     "text": [
      "\u001b[32m[I 2022-08-28 22:23:14,054]\u001b[0m Trial 0 finished with value: 0.7834757834757835 and parameters: {'n_estimators': 424, 'max_depth': 4, 'min_samples_leaf': 2, 'min_samples_split': 10}. Best is trial 0 with value: 0.7834757834757835.\u001b[0m\n"
     ]
    },
    {
     "name": "stdout",
     "output_type": "stream",
     "text": [
      "Optuna Best score :  0.7834757834757835\n"
     ]
    },
    {
     "name": "stderr",
     "output_type": "stream",
     "text": [
      "\u001b[32m[I 2022-08-28 22:23:14,363]\u001b[0m A new study created in memory with name: randomforest Study\u001b[0m\n"
     ]
    },
    {
     "name": "stdout",
     "output_type": "stream",
     "text": [
      "test accuracy :  1.0\n"
     ]
    },
    {
     "name": "stderr",
     "output_type": "stream",
     "text": [
      "\u001b[32m[I 2022-08-28 22:23:15,162]\u001b[0m Trial 0 finished with value: 0.792022792022792 and parameters: {'n_estimators': 117, 'max_depth': 6, 'min_samples_leaf': 3, 'min_samples_split': 2}. Best is trial 0 with value: 0.792022792022792.\u001b[0m\n",
      "\u001b[32m[I 2022-08-28 22:23:15,263]\u001b[0m A new study created in memory with name: randomforest Study\u001b[0m\n"
     ]
    },
    {
     "name": "stdout",
     "output_type": "stream",
     "text": [
      "Optuna Best score :  0.792022792022792\n",
      "test accuracy :  1.0\n"
     ]
    },
    {
     "name": "stderr",
     "output_type": "stream",
     "text": [
      "\u001b[32m[I 2022-08-28 22:23:16,308]\u001b[0m Trial 0 finished with value: 0.7777777777777778 and parameters: {'n_estimators': 170, 'max_depth': 4, 'min_samples_leaf': 2, 'min_samples_split': 5}. Best is trial 0 with value: 0.7777777777777778.\u001b[0m\n",
      "\u001b[32m[I 2022-08-28 22:23:16,435]\u001b[0m A new study created in memory with name: randomforest Study\u001b[0m\n"
     ]
    },
    {
     "name": "stdout",
     "output_type": "stream",
     "text": [
      "Optuna Best score :  0.7777777777777778\n",
      "test accuracy :  1.0\n"
     ]
    },
    {
     "name": "stderr",
     "output_type": "stream",
     "text": [
      "\u001b[32m[I 2022-08-28 22:23:18,153]\u001b[0m Trial 0 finished with value: 0.7977207977207977 and parameters: {'n_estimators': 257, 'max_depth': 7, 'min_samples_leaf': 4, 'min_samples_split': 8}. Best is trial 0 with value: 0.7977207977207977.\u001b[0m\n"
     ]
    },
    {
     "name": "stdout",
     "output_type": "stream",
     "text": [
      "Optuna Best score :  0.7977207977207977\n"
     ]
    },
    {
     "name": "stderr",
     "output_type": "stream",
     "text": [
      "\u001b[32m[I 2022-08-28 22:23:18,382]\u001b[0m A new study created in memory with name: randomforest Study\u001b[0m\n"
     ]
    },
    {
     "name": "stdout",
     "output_type": "stream",
     "text": [
      "test accuracy :  1.0\n"
     ]
    },
    {
     "name": "stderr",
     "output_type": "stream",
     "text": [
      "\u001b[32m[I 2022-08-28 22:23:20,149]\u001b[0m Trial 0 finished with value: 0.7891737891737892 and parameters: {'n_estimators': 261, 'max_depth': 7, 'min_samples_leaf': 3, 'min_samples_split': 3}. Best is trial 0 with value: 0.7891737891737892.\u001b[0m\n"
     ]
    },
    {
     "name": "stdout",
     "output_type": "stream",
     "text": [
      "Optuna Best score :  0.7891737891737892\n"
     ]
    },
    {
     "name": "stderr",
     "output_type": "stream",
     "text": [
      "\u001b[32m[I 2022-08-28 22:23:20,374]\u001b[0m A new study created in memory with name: randomforest Study\u001b[0m\n"
     ]
    },
    {
     "name": "stdout",
     "output_type": "stream",
     "text": [
      "test accuracy :  1.0\n"
     ]
    },
    {
     "name": "stderr",
     "output_type": "stream",
     "text": [
      "\u001b[32m[I 2022-08-28 22:23:21,287]\u001b[0m Trial 0 finished with value: 0.8062678062678063 and parameters: {'n_estimators': 132, 'max_depth': 10, 'min_samples_leaf': 4, 'min_samples_split': 10}. Best is trial 0 with value: 0.8062678062678063.\u001b[0m\n",
      "\u001b[32m[I 2022-08-28 22:23:21,400]\u001b[0m A new study created in memory with name: randomforest Study\u001b[0m\n"
     ]
    },
    {
     "name": "stdout",
     "output_type": "stream",
     "text": [
      "Optuna Best score :  0.8062678062678063\n",
      "test accuracy :  0.8888888888888888\n"
     ]
    },
    {
     "name": "stderr",
     "output_type": "stream",
     "text": [
      "\u001b[32m[I 2022-08-28 22:23:21,832]\u001b[0m Trial 0 finished with value: 0.7948717948717948 and parameters: {'n_estimators': 60, 'max_depth': 8, 'min_samples_leaf': 4, 'min_samples_split': 5}. Best is trial 0 with value: 0.7948717948717948.\u001b[0m\n",
      "\u001b[32m[I 2022-08-28 22:23:21,888]\u001b[0m A new study created in memory with name: randomforest Study\u001b[0m\n"
     ]
    },
    {
     "name": "stdout",
     "output_type": "stream",
     "text": [
      "Optuna Best score :  0.7948717948717948\n",
      "test accuracy :  0.6666666666666666\n"
     ]
    },
    {
     "name": "stderr",
     "output_type": "stream",
     "text": [
      "\u001b[32m[I 2022-08-28 22:23:22,893]\u001b[0m Trial 0 finished with value: 0.7863247863247863 and parameters: {'n_estimators': 158, 'max_depth': 6, 'min_samples_leaf': 9, 'min_samples_split': 6}. Best is trial 0 with value: 0.7863247863247863.\u001b[0m\n",
      "\u001b[32m[I 2022-08-28 22:23:23,018]\u001b[0m A new study created in memory with name: randomforest Study\u001b[0m\n"
     ]
    },
    {
     "name": "stdout",
     "output_type": "stream",
     "text": [
      "Optuna Best score :  0.7863247863247863\n",
      "test accuracy :  0.6666666666666666\n"
     ]
    },
    {
     "name": "stderr",
     "output_type": "stream",
     "text": [
      "\u001b[32m[I 2022-08-28 22:23:25,341]\u001b[0m Trial 0 finished with value: 0.8034188034188035 and parameters: {'n_estimators': 379, 'max_depth': 4, 'min_samples_leaf': 2, 'min_samples_split': 8}. Best is trial 0 with value: 0.8034188034188035.\u001b[0m\n"
     ]
    },
    {
     "name": "stdout",
     "output_type": "stream",
     "text": [
      "Optuna Best score :  0.8034188034188035\n"
     ]
    },
    {
     "name": "stderr",
     "output_type": "stream",
     "text": [
      "\u001b[32m[I 2022-08-28 22:23:25,620]\u001b[0m A new study created in memory with name: randomforest Study\u001b[0m\n"
     ]
    },
    {
     "name": "stdout",
     "output_type": "stream",
     "text": [
      "test accuracy :  0.6666666666666666\n"
     ]
    },
    {
     "name": "stderr",
     "output_type": "stream",
     "text": [
      "\u001b[32m[I 2022-08-28 22:23:28,465]\u001b[0m Trial 0 finished with value: 0.7891737891737892 and parameters: {'n_estimators': 443, 'max_depth': 8, 'min_samples_leaf': 7, 'min_samples_split': 2}. Best is trial 0 with value: 0.7891737891737892.\u001b[0m\n"
     ]
    },
    {
     "name": "stdout",
     "output_type": "stream",
     "text": [
      "Optuna Best score :  0.7891737891737892\n"
     ]
    },
    {
     "name": "stderr",
     "output_type": "stream",
     "text": [
      "\u001b[32m[I 2022-08-28 22:23:28,818]\u001b[0m A new study created in memory with name: randomforest Study\u001b[0m\n"
     ]
    },
    {
     "name": "stdout",
     "output_type": "stream",
     "text": [
      "test accuracy :  0.7777777777777778\n"
     ]
    },
    {
     "name": "stderr",
     "output_type": "stream",
     "text": [
      "\u001b[32m[I 2022-08-28 22:23:31,832]\u001b[0m Trial 0 finished with value: 0.7948717948717948 and parameters: {'n_estimators': 493, 'max_depth': 4, 'min_samples_leaf': 2, 'min_samples_split': 6}. Best is trial 0 with value: 0.7948717948717948.\u001b[0m\n"
     ]
    },
    {
     "name": "stdout",
     "output_type": "stream",
     "text": [
      "Optuna Best score :  0.7948717948717948\n"
     ]
    },
    {
     "name": "stderr",
     "output_type": "stream",
     "text": [
      "\u001b[32m[I 2022-08-28 22:23:32,196]\u001b[0m A new study created in memory with name: randomforest Study\u001b[0m\n"
     ]
    },
    {
     "name": "stdout",
     "output_type": "stream",
     "text": [
      "test accuracy :  0.7777777777777778\n"
     ]
    },
    {
     "name": "stderr",
     "output_type": "stream",
     "text": [
      "\u001b[32m[I 2022-08-28 22:23:34,047]\u001b[0m Trial 0 finished with value: 0.7863247863247863 and parameters: {'n_estimators': 329, 'max_depth': 3, 'min_samples_leaf': 4, 'min_samples_split': 10}. Best is trial 0 with value: 0.7863247863247863.\u001b[0m\n",
      "\u001b[32m[I 2022-08-28 22:23:34,270]\u001b[0m A new study created in memory with name: randomforest Study\u001b[0m\n"
     ]
    },
    {
     "name": "stdout",
     "output_type": "stream",
     "text": [
      "Optuna Best score :  0.7863247863247863\n",
      "test accuracy :  0.6666666666666666\n"
     ]
    },
    {
     "name": "stderr",
     "output_type": "stream",
     "text": [
      "\u001b[32m[I 2022-08-28 22:23:36,160]\u001b[0m Trial 0 finished with value: 0.7977207977207977 and parameters: {'n_estimators': 305, 'max_depth': 10, 'min_samples_leaf': 9, 'min_samples_split': 6}. Best is trial 0 with value: 0.7977207977207977.\u001b[0m\n",
      "\u001b[32m[I 2022-08-28 22:23:36,394]\u001b[0m A new study created in memory with name: randomforest Study\u001b[0m\n"
     ]
    },
    {
     "name": "stdout",
     "output_type": "stream",
     "text": [
      "Optuna Best score :  0.7977207977207977\n",
      "test accuracy :  0.5555555555555556\n"
     ]
    },
    {
     "name": "stderr",
     "output_type": "stream",
     "text": [
      "\u001b[32m[I 2022-08-28 22:23:38,046]\u001b[0m Trial 0 finished with value: 0.8034188034188035 and parameters: {'n_estimators': 258, 'max_depth': 6, 'min_samples_leaf': 6, 'min_samples_split': 4}. Best is trial 0 with value: 0.8034188034188035.\u001b[0m\n",
      "\u001b[32m[I 2022-08-28 22:23:38,255]\u001b[0m A new study created in memory with name: randomforest Study\u001b[0m\n"
     ]
    },
    {
     "name": "stdout",
     "output_type": "stream",
     "text": [
      "Optuna Best score :  0.8034188034188035\n",
      "test accuracy :  0.7777777777777778\n"
     ]
    },
    {
     "name": "stderr",
     "output_type": "stream",
     "text": [
      "\u001b[32m[I 2022-08-28 22:23:41,019]\u001b[0m Trial 0 finished with value: 0.7863247863247863 and parameters: {'n_estimators': 435, 'max_depth': 8, 'min_samples_leaf': 7, 'min_samples_split': 3}. Best is trial 0 with value: 0.7863247863247863.\u001b[0m\n"
     ]
    },
    {
     "name": "stdout",
     "output_type": "stream",
     "text": [
      "Optuna Best score :  0.7863247863247863\n"
     ]
    },
    {
     "name": "stderr",
     "output_type": "stream",
     "text": [
      "\u001b[32m[I 2022-08-28 22:23:41,373]\u001b[0m A new study created in memory with name: randomforest Study\u001b[0m\n"
     ]
    },
    {
     "name": "stdout",
     "output_type": "stream",
     "text": [
      "test accuracy :  1.0\n"
     ]
    },
    {
     "name": "stderr",
     "output_type": "stream",
     "text": [
      "\u001b[32m[I 2022-08-28 22:23:44,111]\u001b[0m Trial 0 finished with value: 0.7806267806267806 and parameters: {'n_estimators': 484, 'max_depth': 3, 'min_samples_leaf': 7, 'min_samples_split': 9}. Best is trial 0 with value: 0.7806267806267806.\u001b[0m\n"
     ]
    },
    {
     "name": "stdout",
     "output_type": "stream",
     "text": [
      "Optuna Best score :  0.7806267806267806\n"
     ]
    },
    {
     "name": "stderr",
     "output_type": "stream",
     "text": [
      "\u001b[32m[I 2022-08-28 22:23:44,435]\u001b[0m A new study created in memory with name: randomforest Study\u001b[0m\n"
     ]
    },
    {
     "name": "stdout",
     "output_type": "stream",
     "text": [
      "test accuracy :  0.8888888888888888\n"
     ]
    },
    {
     "name": "stderr",
     "output_type": "stream",
     "text": [
      "\u001b[32m[I 2022-08-28 22:23:46,961]\u001b[0m Trial 0 finished with value: 0.8005698005698005 and parameters: {'n_estimators': 380, 'max_depth': 8, 'min_samples_leaf': 5, 'min_samples_split': 7}. Best is trial 0 with value: 0.8005698005698005.\u001b[0m\n"
     ]
    },
    {
     "name": "stdout",
     "output_type": "stream",
     "text": [
      "Optuna Best score :  0.8005698005698005\n"
     ]
    },
    {
     "name": "stderr",
     "output_type": "stream",
     "text": [
      "\u001b[32m[I 2022-08-28 22:23:47,280]\u001b[0m A new study created in memory with name: randomforest Study\u001b[0m\n"
     ]
    },
    {
     "name": "stdout",
     "output_type": "stream",
     "text": [
      "test accuracy :  0.6666666666666666\n"
     ]
    },
    {
     "name": "stderr",
     "output_type": "stream",
     "text": [
      "\u001b[32m[I 2022-08-28 22:23:49,658]\u001b[0m Trial 0 finished with value: 0.7891737891737892 and parameters: {'n_estimators': 371, 'max_depth': 7, 'min_samples_leaf': 6, 'min_samples_split': 2}. Best is trial 0 with value: 0.7891737891737892.\u001b[0m\n"
     ]
    },
    {
     "name": "stdout",
     "output_type": "stream",
     "text": [
      "Optuna Best score :  0.7891737891737892\n"
     ]
    },
    {
     "name": "stderr",
     "output_type": "stream",
     "text": [
      "\u001b[32m[I 2022-08-28 22:23:50,015]\u001b[0m A new study created in memory with name: randomforest Study\u001b[0m\n"
     ]
    },
    {
     "name": "stdout",
     "output_type": "stream",
     "text": [
      "test accuracy :  0.6666666666666666\n"
     ]
    },
    {
     "name": "stderr",
     "output_type": "stream",
     "text": [
      "\u001b[32m[I 2022-08-28 22:23:52,067]\u001b[0m Trial 0 finished with value: 0.7977207977207977 and parameters: {'n_estimators': 333, 'max_depth': 5, 'min_samples_leaf': 7, 'min_samples_split': 4}. Best is trial 0 with value: 0.7977207977207977.\u001b[0m\n"
     ]
    },
    {
     "name": "stdout",
     "output_type": "stream",
     "text": [
      "Optuna Best score :  0.7977207977207977\n"
     ]
    },
    {
     "name": "stderr",
     "output_type": "stream",
     "text": [
      "\u001b[32m[I 2022-08-28 22:23:52,320]\u001b[0m A new study created in memory with name: randomforest Study\u001b[0m\n"
     ]
    },
    {
     "name": "stdout",
     "output_type": "stream",
     "text": [
      "test accuracy :  0.6666666666666666\n"
     ]
    },
    {
     "name": "stderr",
     "output_type": "stream",
     "text": [
      "\u001b[32m[I 2022-08-28 22:23:53,675]\u001b[0m Trial 0 finished with value: 0.7863247863247863 and parameters: {'n_estimators': 222, 'max_depth': 4, 'min_samples_leaf': 3, 'min_samples_split': 7}. Best is trial 0 with value: 0.7863247863247863.\u001b[0m\n",
      "\u001b[32m[I 2022-08-28 22:23:53,839]\u001b[0m A new study created in memory with name: randomforest Study\u001b[0m\n"
     ]
    },
    {
     "name": "stdout",
     "output_type": "stream",
     "text": [
      "Optuna Best score :  0.7863247863247863\n",
      "test accuracy :  0.7777777777777778\n"
     ]
    },
    {
     "name": "stderr",
     "output_type": "stream",
     "text": [
      "\u001b[32m[I 2022-08-28 22:23:55,525]\u001b[0m Trial 0 finished with value: 0.8062678062678063 and parameters: {'n_estimators': 240, 'max_depth': 9, 'min_samples_leaf': 2, 'min_samples_split': 4}. Best is trial 0 with value: 0.8062678062678063.\u001b[0m\n",
      "\u001b[32m[I 2022-08-28 22:23:55,738]\u001b[0m A new study created in memory with name: randomforest Study\u001b[0m\n"
     ]
    },
    {
     "name": "stdout",
     "output_type": "stream",
     "text": [
      "Optuna Best score :  0.8062678062678063\n",
      "test accuracy :  0.5555555555555556\n"
     ]
    },
    {
     "name": "stderr",
     "output_type": "stream",
     "text": [
      "\u001b[32m[I 2022-08-28 22:23:57,317]\u001b[0m Trial 0 finished with value: 0.8034188034188035 and parameters: {'n_estimators': 243, 'max_depth': 9, 'min_samples_leaf': 6, 'min_samples_split': 7}. Best is trial 0 with value: 0.8034188034188035.\u001b[0m\n",
      "\u001b[32m[I 2022-08-28 22:23:57,523]\u001b[0m A new study created in memory with name: randomforest Study\u001b[0m\n"
     ]
    },
    {
     "name": "stdout",
     "output_type": "stream",
     "text": [
      "Optuna Best score :  0.8034188034188035\n",
      "test accuracy :  0.8888888888888888\n"
     ]
    },
    {
     "name": "stderr",
     "output_type": "stream",
     "text": [
      "\u001b[32m[I 2022-08-28 22:23:58,911]\u001b[0m Trial 0 finished with value: 0.792022792022792 and parameters: {'n_estimators': 214, 'max_depth': 8, 'min_samples_leaf': 6, 'min_samples_split': 3}. Best is trial 0 with value: 0.792022792022792.\u001b[0m\n",
      "\u001b[32m[I 2022-08-28 22:23:59,089]\u001b[0m A new study created in memory with name: randomforest Study\u001b[0m\n"
     ]
    },
    {
     "name": "stdout",
     "output_type": "stream",
     "text": [
      "Optuna Best score :  0.792022792022792\n",
      "test accuracy :  0.8888888888888888\n"
     ]
    },
    {
     "name": "stderr",
     "output_type": "stream",
     "text": [
      "\u001b[32m[I 2022-08-28 22:23:59,983]\u001b[0m Trial 0 finished with value: 0.7977207977207977 and parameters: {'n_estimators': 147, 'max_depth': 4, 'min_samples_leaf': 6, 'min_samples_split': 7}. Best is trial 0 with value: 0.7977207977207977.\u001b[0m\n",
      "\u001b[32m[I 2022-08-28 22:24:00,093]\u001b[0m A new study created in memory with name: randomforest Study\u001b[0m\n"
     ]
    },
    {
     "name": "stdout",
     "output_type": "stream",
     "text": [
      "Optuna Best score :  0.7977207977207977\n",
      "test accuracy :  0.5555555555555556\n"
     ]
    },
    {
     "name": "stderr",
     "output_type": "stream",
     "text": [
      "\u001b[32m[I 2022-08-28 22:24:01,174]\u001b[0m Trial 0 finished with value: 0.7948717948717948 and parameters: {'n_estimators': 169, 'max_depth': 8, 'min_samples_leaf': 7, 'min_samples_split': 3}. Best is trial 0 with value: 0.7948717948717948.\u001b[0m\n",
      "\u001b[32m[I 2022-08-28 22:24:01,311]\u001b[0m A new study created in memory with name: randomforest Study\u001b[0m\n"
     ]
    },
    {
     "name": "stdout",
     "output_type": "stream",
     "text": [
      "Optuna Best score :  0.7948717948717948\n",
      "test accuracy :  0.5555555555555556\n"
     ]
    },
    {
     "name": "stderr",
     "output_type": "stream",
     "text": [
      "\u001b[32m[I 2022-08-28 22:24:02,110]\u001b[0m Trial 0 finished with value: 0.792022792022792 and parameters: {'n_estimators': 134, 'max_depth': 4, 'min_samples_leaf': 10, 'min_samples_split': 9}. Best is trial 0 with value: 0.792022792022792.\u001b[0m\n",
      "\u001b[32m[I 2022-08-28 22:24:02,215]\u001b[0m A new study created in memory with name: randomforest Study\u001b[0m\n"
     ]
    },
    {
     "name": "stdout",
     "output_type": "stream",
     "text": [
      "Optuna Best score :  0.792022792022792\n",
      "test accuracy :  0.7777777777777778\n"
     ]
    },
    {
     "name": "stderr",
     "output_type": "stream",
     "text": [
      "\u001b[32m[I 2022-08-28 22:24:05,466]\u001b[0m Trial 0 finished with value: 0.7948717948717948 and parameters: {'n_estimators': 469, 'max_depth': 9, 'min_samples_leaf': 2, 'min_samples_split': 6}. Best is trial 0 with value: 0.7948717948717948.\u001b[0m\n"
     ]
    },
    {
     "name": "stdout",
     "output_type": "stream",
     "text": [
      "Optuna Best score :  0.7948717948717948\n"
     ]
    },
    {
     "name": "stderr",
     "output_type": "stream",
     "text": [
      "\u001b[32m[I 2022-08-28 22:24:05,886]\u001b[0m A new study created in memory with name: randomforest Study\u001b[0m\n"
     ]
    },
    {
     "name": "stdout",
     "output_type": "stream",
     "text": [
      "test accuracy :  0.8888888888888888\n"
     ]
    },
    {
     "name": "stderr",
     "output_type": "stream",
     "text": [
      "\u001b[32m[I 2022-08-28 22:24:08,589]\u001b[0m Trial 0 finished with value: 0.7948717948717948 and parameters: {'n_estimators': 415, 'max_depth': 9, 'min_samples_leaf': 6, 'min_samples_split': 4}. Best is trial 0 with value: 0.7948717948717948.\u001b[0m\n"
     ]
    },
    {
     "name": "stdout",
     "output_type": "stream",
     "text": [
      "Optuna Best score :  0.7948717948717948\n"
     ]
    },
    {
     "name": "stderr",
     "output_type": "stream",
     "text": [
      "\u001b[32m[I 2022-08-28 22:24:08,927]\u001b[0m A new study created in memory with name: randomforest Study\u001b[0m\n"
     ]
    },
    {
     "name": "stdout",
     "output_type": "stream",
     "text": [
      "test accuracy :  0.7777777777777778\n"
     ]
    },
    {
     "name": "stderr",
     "output_type": "stream",
     "text": [
      "\u001b[32m[I 2022-08-28 22:24:09,614]\u001b[0m Trial 0 finished with value: 0.8034188034188035 and parameters: {'n_estimators': 104, 'max_depth': 9, 'min_samples_leaf': 7, 'min_samples_split': 2}. Best is trial 0 with value: 0.8034188034188035.\u001b[0m\n",
      "\u001b[32m[I 2022-08-28 22:24:09,705]\u001b[0m A new study created in memory with name: randomforest Study\u001b[0m\n"
     ]
    },
    {
     "name": "stdout",
     "output_type": "stream",
     "text": [
      "Optuna Best score :  0.8034188034188035\n",
      "test accuracy :  0.6666666666666666\n"
     ]
    },
    {
     "name": "stderr",
     "output_type": "stream",
     "text": [
      "\u001b[32m[I 2022-08-28 22:24:12,729]\u001b[0m Trial 0 finished with value: 0.792022792022792 and parameters: {'n_estimators': 492, 'max_depth': 4, 'min_samples_leaf': 2, 'min_samples_split': 2}. Best is trial 0 with value: 0.792022792022792.\u001b[0m\n"
     ]
    },
    {
     "name": "stdout",
     "output_type": "stream",
     "text": [
      "Optuna Best score :  0.792022792022792\n"
     ]
    },
    {
     "name": "stderr",
     "output_type": "stream",
     "text": [
      "\u001b[32m[I 2022-08-28 22:24:13,095]\u001b[0m A new study created in memory with name: randomforest Study\u001b[0m\n"
     ]
    },
    {
     "name": "stdout",
     "output_type": "stream",
     "text": [
      "test accuracy :  0.8888888888888888\n"
     ]
    },
    {
     "name": "stderr",
     "output_type": "stream",
     "text": [
      "\u001b[32m[I 2022-08-28 22:24:15,818]\u001b[0m Trial 0 finished with value: 0.7777777777777778 and parameters: {'n_estimators': 489, 'max_depth': 3, 'min_samples_leaf': 7, 'min_samples_split': 10}. Best is trial 0 with value: 0.7777777777777778.\u001b[0m\n"
     ]
    },
    {
     "name": "stdout",
     "output_type": "stream",
     "text": [
      "Optuna Best score :  0.7777777777777778\n"
     ]
    },
    {
     "name": "stderr",
     "output_type": "stream",
     "text": [
      "\u001b[32m[I 2022-08-28 22:24:16,157]\u001b[0m A new study created in memory with name: randomforest Study\u001b[0m\n"
     ]
    },
    {
     "name": "stdout",
     "output_type": "stream",
     "text": [
      "test accuracy :  0.7777777777777778\n"
     ]
    },
    {
     "name": "stderr",
     "output_type": "stream",
     "text": [
      "\u001b[32m[I 2022-08-28 22:24:19,116]\u001b[0m Trial 0 finished with value: 0.7806267806267806 and parameters: {'n_estimators': 472, 'max_depth': 10, 'min_samples_leaf': 8, 'min_samples_split': 8}. Best is trial 0 with value: 0.7806267806267806.\u001b[0m\n"
     ]
    },
    {
     "name": "stdout",
     "output_type": "stream",
     "text": [
      "Optuna Best score :  0.7806267806267806\n"
     ]
    },
    {
     "name": "stderr",
     "output_type": "stream",
     "text": [
      "\u001b[32m[I 2022-08-28 22:24:19,484]\u001b[0m A new study created in memory with name: randomforest Study\u001b[0m\n"
     ]
    },
    {
     "name": "stdout",
     "output_type": "stream",
     "text": [
      "test accuracy :  0.6666666666666666\n"
     ]
    },
    {
     "name": "stderr",
     "output_type": "stream",
     "text": [
      "\u001b[32m[I 2022-08-28 22:24:20,665]\u001b[0m Trial 0 finished with value: 0.7948717948717948 and parameters: {'n_estimators': 185, 'max_depth': 5, 'min_samples_leaf': 6, 'min_samples_split': 2}. Best is trial 0 with value: 0.7948717948717948.\u001b[0m\n",
      "\u001b[32m[I 2022-08-28 22:24:20,814]\u001b[0m A new study created in memory with name: randomforest Study\u001b[0m\n"
     ]
    },
    {
     "name": "stdout",
     "output_type": "stream",
     "text": [
      "Optuna Best score :  0.7948717948717948\n",
      "test accuracy :  0.3333333333333333\n"
     ]
    },
    {
     "name": "stderr",
     "output_type": "stream",
     "text": [
      "\u001b[32m[I 2022-08-28 22:24:21,340]\u001b[0m Trial 0 finished with value: 0.7863247863247863 and parameters: {'n_estimators': 81, 'max_depth': 10, 'min_samples_leaf': 9, 'min_samples_split': 8}. Best is trial 0 with value: 0.7863247863247863.\u001b[0m\n",
      "\u001b[32m[I 2022-08-28 22:24:21,409]\u001b[0m A new study created in memory with name: randomforest Study\u001b[0m\n"
     ]
    },
    {
     "name": "stdout",
     "output_type": "stream",
     "text": [
      "Optuna Best score :  0.7863247863247863\n",
      "test accuracy :  0.7777777777777778\n"
     ]
    },
    {
     "name": "stderr",
     "output_type": "stream",
     "text": [
      "\u001b[32m[I 2022-08-28 22:24:21,816]\u001b[0m Trial 0 finished with value: 0.7806267806267806 and parameters: {'n_estimators': 60, 'max_depth': 7, 'min_samples_leaf': 7, 'min_samples_split': 9}. Best is trial 0 with value: 0.7806267806267806.\u001b[0m\n",
      "\u001b[32m[I 2022-08-28 22:24:21,869]\u001b[0m A new study created in memory with name: randomforest Study\u001b[0m\n"
     ]
    },
    {
     "name": "stdout",
     "output_type": "stream",
     "text": [
      "Optuna Best score :  0.7806267806267806\n",
      "test accuracy :  0.8888888888888888\n"
     ]
    },
    {
     "name": "stderr",
     "output_type": "stream",
     "text": [
      "\u001b[32m[I 2022-08-28 22:24:22,264]\u001b[0m Trial 0 finished with value: 0.7834757834757835 and parameters: {'n_estimators': 65, 'max_depth': 3, 'min_samples_leaf': 6, 'min_samples_split': 7}. Best is trial 0 with value: 0.7834757834757835.\u001b[0m\n"
     ]
    },
    {
     "name": "stdout",
     "output_type": "stream",
     "text": [
      "Optuna Best score :  0.7834757834757835\n",
      "test accuracy :  0.7777777777777778\n",
      "\n",
      "mean accuracy :  0.7944444444444447\n",
      "mean precision :  0.7944444444444447\n",
      "mean recall :  0.7375000000000002\n",
      "mean f1 :  0.7188267982017983\n",
      "mean roc_auc :  0.7375000000000002\n",
      "\n"
     ]
    }
   ],
   "source": [
    "clf = RandomForestClassifier(random_state=42)\n",
    "shap_df_list, metric_df = NestedCVwithOptuna(RFObjective, clf, 'randomforest')"
   ]
  },
  {
   "cell_type": "markdown",
   "metadata": {},
   "source": [
    "## 40개의 모델의 개별 performance metric + 평균 performnace metric을 저장한다\n",
    "## 각 모델별 test set의 feature에 따른 shap value를 저장한다"
   ]
  },
  {
   "cell_type": "code",
   "execution_count": 42,
   "metadata": {},
   "outputs": [],
   "source": [
    "if label_name == 'three_label':\n",
    "    shap_values_df_0 = pd.concat(shap_df_list[0])\n",
    "    shap_values_df_1 = pd.concat(shap_df_list[1])\n",
    "    shap_values_df_2 = pd.concat(shap_df_list[2])\n",
    "\n",
    "    with pd.ExcelWriter(f\"./rf_result_fs_2label.xlsx\") as writer:\n",
    "        metric_df.to_excel(writer, sheet_name=\"performance metric\", index=False)\n",
    "        shap_values_df_0.to_excel(writer, sheet_name=\"shap_list_0\", index=False)\n",
    "        shap_values_df_1.to_excel(writer, sheet_name=\"shap_list_1\", index=False)\n",
    "        shap_values_df_2.to_excel(writer, sheet_name=\"shap_list_2\", index=False)\n",
    "\n",
    "if label_name != 'three_label':\n",
    "    shap_values_df = pd.concat(shap_df_list[0])\n",
    "\n",
    "    with pd.ExcelWriter(f\"./rf_result_fs_2label.xlsx\") as writer:\n",
    "        metric_df.to_excel(writer, sheet_name=\"performance metric\", index=False)\n",
    "        shap_values_df.to_excel(writer, sheet_name=\"shap_list\", index=False)"
   ]
  },
  {
   "cell_type": "markdown",
   "metadata": {},
   "source": [
    "# GBM Bayesian"
   ]
  },
  {
   "cell_type": "code",
   "execution_count": 50,
   "metadata": {},
   "outputs": [],
   "source": [
    "class GBMObjective(object):\n",
    "    def __init__(self, X, y):\n",
    "        self.X = X\n",
    "        self.y = y\n",
    "    \n",
    "    def __call__(self, trial: Trial):\n",
    "        gbm_params = {\n",
    "            'n_estimators': trial.suggest_int('n_estimators', 50, 500),\n",
    "            'learning_rate': trial.suggest_loguniform(\"learning_rate\", 1e-3, 1e-1),\n",
    "            'max_depth': trial.suggest_int('max_depth', 3, 10),\n",
    "            'max_features': trial.suggest_categorical('max_features', [None, 'sqrt']),\n",
    "            'min_samples_leaf': trial.suggest_int('min_samples_leaf', 2, 10),\n",
    "            'min_samples_split': trial.suggest_int('min_samples_split', 2, 10),\n",
    "            'subsample': trial.suggest_float('subsample', 0.6, 1.0, step=0.1), \n",
    "            'random_state': 42\n",
    "        }\n",
    "\n",
    "        clf = GradientBoostingClassifier(**gbm_params)\n",
    "\n",
    "        mean_accuracy = InnerCrossValidation(clf, self.X, self.y, cv_method, n_fold)\n",
    "\n",
    "        return mean_accuracy"
   ]
  },
  {
   "cell_type": "code",
   "execution_count": 51,
   "metadata": {},
   "outputs": [
    {
     "name": "stderr",
     "output_type": "stream",
     "text": [
      "\u001b[32m[I 2022-08-28 22:24:23,418]\u001b[0m A new study created in memory with name: gbm Study\u001b[0m\n"
     ]
    },
    {
     "name": "stdout",
     "output_type": "stream",
     "text": [
      "class_nums :  2\n"
     ]
    },
    {
     "name": "stderr",
     "output_type": "stream",
     "text": [
      "\u001b[32m[I 2022-08-28 22:24:24,090]\u001b[0m Trial 0 finished with value: 0.8005698005698005 and parameters: {'n_estimators': 139, 'learning_rate': 0.031178084281101547, 'max_depth': 4, 'max_features': 'sqrt', 'min_samples_leaf': 2, 'min_samples_split': 7, 'subsample': 1.0}. Best is trial 0 with value: 0.8005698005698005.\u001b[0m\n",
      "\u001b[32m[I 2022-08-28 22:24:24,177]\u001b[0m A new study created in memory with name: gbm Study\u001b[0m\n"
     ]
    },
    {
     "name": "stdout",
     "output_type": "stream",
     "text": [
      "Optuna Best score :  0.8005698005698005\n",
      "test accuracy :  1.0\n"
     ]
    },
    {
     "ename": "KeyboardInterrupt",
     "evalue": "",
     "output_type": "error",
     "traceback": [
      "\u001b[0;31m---------------------------------------------------------------------------\u001b[0m",
      "\u001b[0;31mKeyboardInterrupt\u001b[0m                         Traceback (most recent call last)",
      "\u001b[1;32m/Users/junhyeong/repo/KAIST/제출용/hyperparameter.ipynb 셀 72\u001b[0m in \u001b[0;36m<cell line: 2>\u001b[0;34m()\u001b[0m\n\u001b[1;32m      <a href='vscode-notebook-cell:/Users/junhyeong/repo/KAIST/%EC%A0%9C%EC%B6%9C%EC%9A%A9/hyperparameter.ipynb#Y163sZmlsZQ%3D%3D?line=0'>1</a>\u001b[0m clf \u001b[39m=\u001b[39m GradientBoostingClassifier(random_state\u001b[39m=\u001b[39m\u001b[39m42\u001b[39m)\n\u001b[0;32m----> <a href='vscode-notebook-cell:/Users/junhyeong/repo/KAIST/%EC%A0%9C%EC%B6%9C%EC%9A%A9/hyperparameter.ipynb#Y163sZmlsZQ%3D%3D?line=1'>2</a>\u001b[0m shap_values, X_test, metric_df \u001b[39m=\u001b[39m NestedCVwithOptuna(GBMObjective, clf, \u001b[39m'\u001b[39;49m\u001b[39mgbm\u001b[39;49m\u001b[39m'\u001b[39;49m)\n",
      "\u001b[1;32m/Users/junhyeong/repo/KAIST/제출용/hyperparameter.ipynb 셀 72\u001b[0m in \u001b[0;36mNestedCVwithOptuna\u001b[0;34m(objective, clf, clf_name)\u001b[0m\n\u001b[1;32m     <a href='vscode-notebook-cell:/Users/junhyeong/repo/KAIST/%EC%A0%9C%EC%B6%9C%EC%9A%A9/hyperparameter.ipynb#Y163sZmlsZQ%3D%3D?line=24'>25</a>\u001b[0m sampler \u001b[39m=\u001b[39m TPESampler()\n\u001b[1;32m     <a href='vscode-notebook-cell:/Users/junhyeong/repo/KAIST/%EC%A0%9C%EC%B6%9C%EC%9A%A9/hyperparameter.ipynb#Y163sZmlsZQ%3D%3D?line=26'>27</a>\u001b[0m study \u001b[39m=\u001b[39m optuna\u001b[39m.\u001b[39mcreate_study(direction\u001b[39m=\u001b[39m\u001b[39m'\u001b[39m\u001b[39mmaximize\u001b[39m\u001b[39m'\u001b[39m, sampler\u001b[39m=\u001b[39msampler, study_name\u001b[39m=\u001b[39m\u001b[39mf\u001b[39m\u001b[39m'\u001b[39m\u001b[39m{\u001b[39;00mclf_name\u001b[39m}\u001b[39;00m\u001b[39m Study\u001b[39m\u001b[39m'\u001b[39m)\n\u001b[0;32m---> <a href='vscode-notebook-cell:/Users/junhyeong/repo/KAIST/%EC%A0%9C%EC%B6%9C%EC%9A%A9/hyperparameter.ipynb#Y163sZmlsZQ%3D%3D?line=27'>28</a>\u001b[0m study\u001b[39m.\u001b[39;49moptimize(objective(X_train, y_train), n_trials\u001b[39m=\u001b[39;49mn_trials)\n\u001b[1;32m     <a href='vscode-notebook-cell:/Users/junhyeong/repo/KAIST/%EC%A0%9C%EC%B6%9C%EC%9A%A9/hyperparameter.ipynb#Y163sZmlsZQ%3D%3D?line=29'>30</a>\u001b[0m best_params \u001b[39m=\u001b[39m study\u001b[39m.\u001b[39mbest_params\n\u001b[1;32m     <a href='vscode-notebook-cell:/Users/junhyeong/repo/KAIST/%EC%A0%9C%EC%B6%9C%EC%9A%A9/hyperparameter.ipynb#Y163sZmlsZQ%3D%3D?line=30'>31</a>\u001b[0m \u001b[39mprint\u001b[39m(\u001b[39m'\u001b[39m\u001b[39mOptuna Best score : \u001b[39m\u001b[39m'\u001b[39m, study\u001b[39m.\u001b[39mbest_value)\n",
      "File \u001b[0;32m/opt/homebrew/Caskroom/miniforge/base/envs/strong-design/lib/python3.9/site-packages/optuna/study/study.py:400\u001b[0m, in \u001b[0;36mStudy.optimize\u001b[0;34m(self, func, n_trials, timeout, n_jobs, catch, callbacks, gc_after_trial, show_progress_bar)\u001b[0m\n\u001b[1;32m    392\u001b[0m \u001b[39mif\u001b[39;00m n_jobs \u001b[39m!=\u001b[39m \u001b[39m1\u001b[39m:\n\u001b[1;32m    393\u001b[0m     warnings\u001b[39m.\u001b[39mwarn(\n\u001b[1;32m    394\u001b[0m         \u001b[39m\"\u001b[39m\u001b[39m`n_jobs` argument has been deprecated in v2.7.0. \u001b[39m\u001b[39m\"\u001b[39m\n\u001b[1;32m    395\u001b[0m         \u001b[39m\"\u001b[39m\u001b[39mThis feature will be removed in v4.0.0. \u001b[39m\u001b[39m\"\u001b[39m\n\u001b[1;32m    396\u001b[0m         \u001b[39m\"\u001b[39m\u001b[39mSee https://github.com/optuna/optuna/releases/tag/v2.7.0.\u001b[39m\u001b[39m\"\u001b[39m,\n\u001b[1;32m    397\u001b[0m         \u001b[39mFutureWarning\u001b[39;00m,\n\u001b[1;32m    398\u001b[0m     )\n\u001b[0;32m--> 400\u001b[0m _optimize(\n\u001b[1;32m    401\u001b[0m     study\u001b[39m=\u001b[39;49m\u001b[39mself\u001b[39;49m,\n\u001b[1;32m    402\u001b[0m     func\u001b[39m=\u001b[39;49mfunc,\n\u001b[1;32m    403\u001b[0m     n_trials\u001b[39m=\u001b[39;49mn_trials,\n\u001b[1;32m    404\u001b[0m     timeout\u001b[39m=\u001b[39;49mtimeout,\n\u001b[1;32m    405\u001b[0m     n_jobs\u001b[39m=\u001b[39;49mn_jobs,\n\u001b[1;32m    406\u001b[0m     catch\u001b[39m=\u001b[39;49mcatch,\n\u001b[1;32m    407\u001b[0m     callbacks\u001b[39m=\u001b[39;49mcallbacks,\n\u001b[1;32m    408\u001b[0m     gc_after_trial\u001b[39m=\u001b[39;49mgc_after_trial,\n\u001b[1;32m    409\u001b[0m     show_progress_bar\u001b[39m=\u001b[39;49mshow_progress_bar,\n\u001b[1;32m    410\u001b[0m )\n",
      "File \u001b[0;32m/opt/homebrew/Caskroom/miniforge/base/envs/strong-design/lib/python3.9/site-packages/optuna/study/_optimize.py:66\u001b[0m, in \u001b[0;36m_optimize\u001b[0;34m(study, func, n_trials, timeout, n_jobs, catch, callbacks, gc_after_trial, show_progress_bar)\u001b[0m\n\u001b[1;32m     64\u001b[0m \u001b[39mtry\u001b[39;00m:\n\u001b[1;32m     65\u001b[0m     \u001b[39mif\u001b[39;00m n_jobs \u001b[39m==\u001b[39m \u001b[39m1\u001b[39m:\n\u001b[0;32m---> 66\u001b[0m         _optimize_sequential(\n\u001b[1;32m     67\u001b[0m             study,\n\u001b[1;32m     68\u001b[0m             func,\n\u001b[1;32m     69\u001b[0m             n_trials,\n\u001b[1;32m     70\u001b[0m             timeout,\n\u001b[1;32m     71\u001b[0m             catch,\n\u001b[1;32m     72\u001b[0m             callbacks,\n\u001b[1;32m     73\u001b[0m             gc_after_trial,\n\u001b[1;32m     74\u001b[0m             reseed_sampler_rng\u001b[39m=\u001b[39;49m\u001b[39mFalse\u001b[39;49;00m,\n\u001b[1;32m     75\u001b[0m             time_start\u001b[39m=\u001b[39;49m\u001b[39mNone\u001b[39;49;00m,\n\u001b[1;32m     76\u001b[0m             progress_bar\u001b[39m=\u001b[39;49mprogress_bar,\n\u001b[1;32m     77\u001b[0m         )\n\u001b[1;32m     78\u001b[0m     \u001b[39melse\u001b[39;00m:\n\u001b[1;32m     79\u001b[0m         \u001b[39mif\u001b[39;00m show_progress_bar:\n",
      "File \u001b[0;32m/opt/homebrew/Caskroom/miniforge/base/envs/strong-design/lib/python3.9/site-packages/optuna/study/_optimize.py:163\u001b[0m, in \u001b[0;36m_optimize_sequential\u001b[0;34m(study, func, n_trials, timeout, catch, callbacks, gc_after_trial, reseed_sampler_rng, time_start, progress_bar)\u001b[0m\n\u001b[1;32m    160\u001b[0m         \u001b[39mbreak\u001b[39;00m\n\u001b[1;32m    162\u001b[0m \u001b[39mtry\u001b[39;00m:\n\u001b[0;32m--> 163\u001b[0m     trial \u001b[39m=\u001b[39m _run_trial(study, func, catch)\n\u001b[1;32m    164\u001b[0m \u001b[39mexcept\u001b[39;00m \u001b[39mException\u001b[39;00m:\n\u001b[1;32m    165\u001b[0m     \u001b[39mraise\u001b[39;00m\n",
      "File \u001b[0;32m/opt/homebrew/Caskroom/miniforge/base/envs/strong-design/lib/python3.9/site-packages/optuna/study/_optimize.py:213\u001b[0m, in \u001b[0;36m_run_trial\u001b[0;34m(study, func, catch)\u001b[0m\n\u001b[1;32m    210\u001b[0m     thread\u001b[39m.\u001b[39mstart()\n\u001b[1;32m    212\u001b[0m \u001b[39mtry\u001b[39;00m:\n\u001b[0;32m--> 213\u001b[0m     value_or_values \u001b[39m=\u001b[39m func(trial)\n\u001b[1;32m    214\u001b[0m \u001b[39mexcept\u001b[39;00m exceptions\u001b[39m.\u001b[39mTrialPruned \u001b[39mas\u001b[39;00m e:\n\u001b[1;32m    215\u001b[0m     \u001b[39m# TODO(mamu): Handle multi-objective cases.\u001b[39;00m\n\u001b[1;32m    216\u001b[0m     state \u001b[39m=\u001b[39m TrialState\u001b[39m.\u001b[39mPRUNED\n",
      "\u001b[1;32m/Users/junhyeong/repo/KAIST/제출용/hyperparameter.ipynb 셀 72\u001b[0m in \u001b[0;36mGBMObjective.__call__\u001b[0;34m(self, trial)\u001b[0m\n\u001b[1;32m      <a href='vscode-notebook-cell:/Users/junhyeong/repo/KAIST/%EC%A0%9C%EC%B6%9C%EC%9A%A9/hyperparameter.ipynb#Y163sZmlsZQ%3D%3D?line=6'>7</a>\u001b[0m gbm_params \u001b[39m=\u001b[39m {\n\u001b[1;32m      <a href='vscode-notebook-cell:/Users/junhyeong/repo/KAIST/%EC%A0%9C%EC%B6%9C%EC%9A%A9/hyperparameter.ipynb#Y163sZmlsZQ%3D%3D?line=7'>8</a>\u001b[0m     \u001b[39m'\u001b[39m\u001b[39mn_estimators\u001b[39m\u001b[39m'\u001b[39m: trial\u001b[39m.\u001b[39msuggest_int(\u001b[39m'\u001b[39m\u001b[39mn_estimators\u001b[39m\u001b[39m'\u001b[39m, \u001b[39m50\u001b[39m, \u001b[39m500\u001b[39m),\n\u001b[1;32m      <a href='vscode-notebook-cell:/Users/junhyeong/repo/KAIST/%EC%A0%9C%EC%B6%9C%EC%9A%A9/hyperparameter.ipynb#Y163sZmlsZQ%3D%3D?line=8'>9</a>\u001b[0m     \u001b[39m'\u001b[39m\u001b[39mlearning_rate\u001b[39m\u001b[39m'\u001b[39m: trial\u001b[39m.\u001b[39msuggest_loguniform(\u001b[39m\"\u001b[39m\u001b[39mlearning_rate\u001b[39m\u001b[39m\"\u001b[39m, \u001b[39m1e-3\u001b[39m, \u001b[39m1e-1\u001b[39m),\n\u001b[0;32m   (...)\u001b[0m\n\u001b[1;32m     <a href='vscode-notebook-cell:/Users/junhyeong/repo/KAIST/%EC%A0%9C%EC%B6%9C%EC%9A%A9/hyperparameter.ipynb#Y163sZmlsZQ%3D%3D?line=14'>15</a>\u001b[0m     \u001b[39m'\u001b[39m\u001b[39mrandom_state\u001b[39m\u001b[39m'\u001b[39m: \u001b[39m42\u001b[39m\n\u001b[1;32m     <a href='vscode-notebook-cell:/Users/junhyeong/repo/KAIST/%EC%A0%9C%EC%B6%9C%EC%9A%A9/hyperparameter.ipynb#Y163sZmlsZQ%3D%3D?line=15'>16</a>\u001b[0m }\n\u001b[1;32m     <a href='vscode-notebook-cell:/Users/junhyeong/repo/KAIST/%EC%A0%9C%EC%B6%9C%EC%9A%A9/hyperparameter.ipynb#Y163sZmlsZQ%3D%3D?line=17'>18</a>\u001b[0m clf \u001b[39m=\u001b[39m GradientBoostingClassifier(\u001b[39m*\u001b[39m\u001b[39m*\u001b[39mgbm_params)\n\u001b[0;32m---> <a href='vscode-notebook-cell:/Users/junhyeong/repo/KAIST/%EC%A0%9C%EC%B6%9C%EC%9A%A9/hyperparameter.ipynb#Y163sZmlsZQ%3D%3D?line=19'>20</a>\u001b[0m mean_accuracy \u001b[39m=\u001b[39m InnerCrossValidation(clf, \u001b[39mself\u001b[39;49m\u001b[39m.\u001b[39;49mX, \u001b[39mself\u001b[39;49m\u001b[39m.\u001b[39;49my, cv_method, n_fold)\n\u001b[1;32m     <a href='vscode-notebook-cell:/Users/junhyeong/repo/KAIST/%EC%A0%9C%EC%B6%9C%EC%9A%A9/hyperparameter.ipynb#Y163sZmlsZQ%3D%3D?line=21'>22</a>\u001b[0m \u001b[39mreturn\u001b[39;00m mean_accuracy\n",
      "\u001b[1;32m/Users/junhyeong/repo/KAIST/제출용/hyperparameter.ipynb 셀 72\u001b[0m in \u001b[0;36mInnerCrossValidation\u001b[0;34m(clf, X, y, cv_method, n_fold)\u001b[0m\n\u001b[1;32m     <a href='vscode-notebook-cell:/Users/junhyeong/repo/KAIST/%EC%A0%9C%EC%B6%9C%EC%9A%A9/hyperparameter.ipynb#Y163sZmlsZQ%3D%3D?line=22'>23</a>\u001b[0m classifier \u001b[39m=\u001b[39m clone(clf)\n\u001b[1;32m     <a href='vscode-notebook-cell:/Users/junhyeong/repo/KAIST/%EC%A0%9C%EC%B6%9C%EC%9A%A9/hyperparameter.ipynb#Y163sZmlsZQ%3D%3D?line=24'>25</a>\u001b[0m \u001b[39m# 모델을 학습한다\u001b[39;00m\n\u001b[0;32m---> <a href='vscode-notebook-cell:/Users/junhyeong/repo/KAIST/%EC%A0%9C%EC%B6%9C%EC%9A%A9/hyperparameter.ipynb#Y163sZmlsZQ%3D%3D?line=25'>26</a>\u001b[0m classifier\u001b[39m.\u001b[39;49mfit(X_train, y_train)\n\u001b[1;32m     <a href='vscode-notebook-cell:/Users/junhyeong/repo/KAIST/%EC%A0%9C%EC%B6%9C%EC%9A%A9/hyperparameter.ipynb#Y163sZmlsZQ%3D%3D?line=27'>28</a>\u001b[0m y_pred \u001b[39m=\u001b[39m classifier\u001b[39m.\u001b[39mpredict(X_val)\n\u001b[1;32m     <a href='vscode-notebook-cell:/Users/junhyeong/repo/KAIST/%EC%A0%9C%EC%B6%9C%EC%9A%A9/hyperparameter.ipynb#Y163sZmlsZQ%3D%3D?line=28'>29</a>\u001b[0m y_pred_prob \u001b[39m=\u001b[39m classifier\u001b[39m.\u001b[39mpredict_proba(X_val)\n",
      "File \u001b[0;32m/opt/homebrew/Caskroom/miniforge/base/envs/strong-design/lib/python3.9/site-packages/sklearn/ensemble/_gb.py:668\u001b[0m, in \u001b[0;36mBaseGradientBoosting.fit\u001b[0;34m(self, X, y, sample_weight, monitor)\u001b[0m\n\u001b[1;32m    665\u001b[0m     \u001b[39mself\u001b[39m\u001b[39m.\u001b[39m_resize_state()\n\u001b[1;32m    667\u001b[0m \u001b[39m# fit the boosting stages\u001b[39;00m\n\u001b[0;32m--> 668\u001b[0m n_stages \u001b[39m=\u001b[39m \u001b[39mself\u001b[39;49m\u001b[39m.\u001b[39;49m_fit_stages(\n\u001b[1;32m    669\u001b[0m     X,\n\u001b[1;32m    670\u001b[0m     y,\n\u001b[1;32m    671\u001b[0m     raw_predictions,\n\u001b[1;32m    672\u001b[0m     sample_weight,\n\u001b[1;32m    673\u001b[0m     \u001b[39mself\u001b[39;49m\u001b[39m.\u001b[39;49m_rng,\n\u001b[1;32m    674\u001b[0m     X_val,\n\u001b[1;32m    675\u001b[0m     y_val,\n\u001b[1;32m    676\u001b[0m     sample_weight_val,\n\u001b[1;32m    677\u001b[0m     begin_at_stage,\n\u001b[1;32m    678\u001b[0m     monitor,\n\u001b[1;32m    679\u001b[0m )\n\u001b[1;32m    681\u001b[0m \u001b[39m# change shape of arrays after fit (early-stopping or additional ests)\u001b[39;00m\n\u001b[1;32m    682\u001b[0m \u001b[39mif\u001b[39;00m n_stages \u001b[39m!=\u001b[39m \u001b[39mself\u001b[39m\u001b[39m.\u001b[39mestimators_\u001b[39m.\u001b[39mshape[\u001b[39m0\u001b[39m]:\n",
      "File \u001b[0;32m/opt/homebrew/Caskroom/miniforge/base/envs/strong-design/lib/python3.9/site-packages/sklearn/ensemble/_gb.py:745\u001b[0m, in \u001b[0;36mBaseGradientBoosting._fit_stages\u001b[0;34m(self, X, y, raw_predictions, sample_weight, random_state, X_val, y_val, sample_weight_val, begin_at_stage, monitor)\u001b[0m\n\u001b[1;32m    738\u001b[0m     old_oob_score \u001b[39m=\u001b[39m loss_(\n\u001b[1;32m    739\u001b[0m         y[\u001b[39m~\u001b[39msample_mask],\n\u001b[1;32m    740\u001b[0m         raw_predictions[\u001b[39m~\u001b[39msample_mask],\n\u001b[1;32m    741\u001b[0m         sample_weight[\u001b[39m~\u001b[39msample_mask],\n\u001b[1;32m    742\u001b[0m     )\n\u001b[1;32m    744\u001b[0m \u001b[39m# fit next stage of trees\u001b[39;00m\n\u001b[0;32m--> 745\u001b[0m raw_predictions \u001b[39m=\u001b[39m \u001b[39mself\u001b[39;49m\u001b[39m.\u001b[39;49m_fit_stage(\n\u001b[1;32m    746\u001b[0m     i,\n\u001b[1;32m    747\u001b[0m     X,\n\u001b[1;32m    748\u001b[0m     y,\n\u001b[1;32m    749\u001b[0m     raw_predictions,\n\u001b[1;32m    750\u001b[0m     sample_weight,\n\u001b[1;32m    751\u001b[0m     sample_mask,\n\u001b[1;32m    752\u001b[0m     random_state,\n\u001b[1;32m    753\u001b[0m     X_csc,\n\u001b[1;32m    754\u001b[0m     X_csr,\n\u001b[1;32m    755\u001b[0m )\n\u001b[1;32m    757\u001b[0m \u001b[39m# track deviance (= loss)\u001b[39;00m\n\u001b[1;32m    758\u001b[0m \u001b[39mif\u001b[39;00m do_oob:\n",
      "File \u001b[0;32m/opt/homebrew/Caskroom/miniforge/base/envs/strong-design/lib/python3.9/site-packages/sklearn/ensemble/_gb.py:247\u001b[0m, in \u001b[0;36mBaseGradientBoosting._fit_stage\u001b[0;34m(self, i, X, y, raw_predictions, sample_weight, sample_mask, random_state, X_csc, X_csr)\u001b[0m\n\u001b[1;32m    244\u001b[0m     sample_weight \u001b[39m=\u001b[39m sample_weight \u001b[39m*\u001b[39m sample_mask\u001b[39m.\u001b[39mastype(np\u001b[39m.\u001b[39mfloat64)\n\u001b[1;32m    246\u001b[0m X \u001b[39m=\u001b[39m X_csr \u001b[39mif\u001b[39;00m X_csr \u001b[39mis\u001b[39;00m \u001b[39mnot\u001b[39;00m \u001b[39mNone\u001b[39;00m \u001b[39melse\u001b[39;00m X\n\u001b[0;32m--> 247\u001b[0m tree\u001b[39m.\u001b[39;49mfit(X, residual, sample_weight\u001b[39m=\u001b[39;49msample_weight, check_input\u001b[39m=\u001b[39;49m\u001b[39mFalse\u001b[39;49;00m)\n\u001b[1;32m    249\u001b[0m \u001b[39m# update tree leaves\u001b[39;00m\n\u001b[1;32m    250\u001b[0m loss\u001b[39m.\u001b[39mupdate_terminal_regions(\n\u001b[1;32m    251\u001b[0m     tree\u001b[39m.\u001b[39mtree_,\n\u001b[1;32m    252\u001b[0m     X,\n\u001b[0;32m   (...)\u001b[0m\n\u001b[1;32m    259\u001b[0m     k\u001b[39m=\u001b[39mk,\n\u001b[1;32m    260\u001b[0m )\n",
      "File \u001b[0;32m/opt/homebrew/Caskroom/miniforge/base/envs/strong-design/lib/python3.9/site-packages/sklearn/tree/_classes.py:1342\u001b[0m, in \u001b[0;36mDecisionTreeRegressor.fit\u001b[0;34m(self, X, y, sample_weight, check_input)\u001b[0m\n\u001b[1;32m   1313\u001b[0m \u001b[39mdef\u001b[39;00m \u001b[39mfit\u001b[39m(\u001b[39mself\u001b[39m, X, y, sample_weight\u001b[39m=\u001b[39m\u001b[39mNone\u001b[39;00m, check_input\u001b[39m=\u001b[39m\u001b[39mTrue\u001b[39;00m):\n\u001b[1;32m   1314\u001b[0m     \u001b[39m\"\"\"Build a decision tree regressor from the training set (X, y).\u001b[39;00m\n\u001b[1;32m   1315\u001b[0m \n\u001b[1;32m   1316\u001b[0m \u001b[39m    Parameters\u001b[39;00m\n\u001b[0;32m   (...)\u001b[0m\n\u001b[1;32m   1339\u001b[0m \u001b[39m        Fitted estimator.\u001b[39;00m\n\u001b[1;32m   1340\u001b[0m \u001b[39m    \"\"\"\u001b[39;00m\n\u001b[0;32m-> 1342\u001b[0m     \u001b[39msuper\u001b[39;49m()\u001b[39m.\u001b[39;49mfit(\n\u001b[1;32m   1343\u001b[0m         X,\n\u001b[1;32m   1344\u001b[0m         y,\n\u001b[1;32m   1345\u001b[0m         sample_weight\u001b[39m=\u001b[39;49msample_weight,\n\u001b[1;32m   1346\u001b[0m         check_input\u001b[39m=\u001b[39;49mcheck_input,\n\u001b[1;32m   1347\u001b[0m     )\n\u001b[1;32m   1348\u001b[0m     \u001b[39mreturn\u001b[39;00m \u001b[39mself\u001b[39m\n",
      "File \u001b[0;32m/opt/homebrew/Caskroom/miniforge/base/envs/strong-design/lib/python3.9/site-packages/sklearn/tree/_classes.py:458\u001b[0m, in \u001b[0;36mBaseDecisionTree.fit\u001b[0;34m(self, X, y, sample_weight, check_input)\u001b[0m\n\u001b[1;32m    447\u001b[0m \u001b[39melse\u001b[39;00m:\n\u001b[1;32m    448\u001b[0m     builder \u001b[39m=\u001b[39m BestFirstTreeBuilder(\n\u001b[1;32m    449\u001b[0m         splitter,\n\u001b[1;32m    450\u001b[0m         min_samples_split,\n\u001b[0;32m   (...)\u001b[0m\n\u001b[1;32m    455\u001b[0m         \u001b[39mself\u001b[39m\u001b[39m.\u001b[39mmin_impurity_decrease,\n\u001b[1;32m    456\u001b[0m     )\n\u001b[0;32m--> 458\u001b[0m builder\u001b[39m.\u001b[39;49mbuild(\u001b[39mself\u001b[39;49m\u001b[39m.\u001b[39;49mtree_, X, y, sample_weight)\n\u001b[1;32m    460\u001b[0m \u001b[39mif\u001b[39;00m \u001b[39mself\u001b[39m\u001b[39m.\u001b[39mn_outputs_ \u001b[39m==\u001b[39m \u001b[39m1\u001b[39m \u001b[39mand\u001b[39;00m is_classifier(\u001b[39mself\u001b[39m):\n\u001b[1;32m    461\u001b[0m     \u001b[39mself\u001b[39m\u001b[39m.\u001b[39mn_classes_ \u001b[39m=\u001b[39m \u001b[39mself\u001b[39m\u001b[39m.\u001b[39mn_classes_[\u001b[39m0\u001b[39m]\n",
      "\u001b[0;31mKeyboardInterrupt\u001b[0m: "
     ]
    }
   ],
   "source": [
    "clf = GradientBoostingClassifier(random_state=42)\n",
    "shap_df_list, metric_df = NestedCVwithOptuna(GBMObjective, clf, 'gbm')"
   ]
  },
  {
   "cell_type": "markdown",
   "metadata": {},
   "source": [
    "## 40개의 모델의 개별 performance metric + 평균 performnace metric을 저장한다\n",
    "## 각 모델별 test set의 feature에 따른 shap value를 저장한다"
   ]
  },
  {
   "cell_type": "code",
   "execution_count": null,
   "metadata": {},
   "outputs": [],
   "source": [
    "if label_name == 'three_label':\n",
    "    shap_values_df_0 = pd.concat(shap_df_list[0])\n",
    "    shap_values_df_1 = pd.concat(shap_df_list[1])\n",
    "    shap_values_df_2 = pd.concat(shap_df_list[2])\n",
    "\n",
    "    with pd.ExcelWriter(f\"./gbm_result_fs_2label.xlsx\") as writer:\n",
    "        metric_df.to_excel(writer, sheet_name=\"performance metric\", index=False)\n",
    "        shap_values_df_0.to_excel(writer, sheet_name=\"shap_list_0\", index=False)\n",
    "        shap_values_df_1.to_excel(writer, sheet_name=\"shap_list_1\", index=False)\n",
    "        shap_values_df_2.to_excel(writer, sheet_name=\"shap_list_2\", index=False)\n",
    "\n",
    "if label_name != 'three_label':\n",
    "    shap_values_df = pd.concat(shap_df_list[0])\n",
    "\n",
    "    with pd.ExcelWriter(f\"./gbm_result_fs_2label.xlsx\") as writer:\n",
    "        metric_df.to_excel(writer, sheet_name=\"performance metric\", index=False)\n",
    "        shap_values_df.to_excel(writer, sheet_name=\"shap_list\", index=False)"
   ]
  }
 ],
 "metadata": {
  "kernelspec": {
   "display_name": "Python 3 (ipykernel)",
   "language": "python",
   "name": "python3"
  },
  "language_info": {
   "codemirror_mode": {
    "name": "ipython",
    "version": 3
   },
   "file_extension": ".py",
   "mimetype": "text/x-python",
   "name": "python",
   "nbconvert_exporter": "python",
   "pygments_lexer": "ipython3",
   "version": "3.10.4"
  },
  "vscode": {
   "interpreter": {
    "hash": "3ed2154bd5b5757405c8b05723ca1c1b7d64f46b962974a845269f33b48b03ad"
   }
  }
 },
 "nbformat": 4,
 "nbformat_minor": 2
}
