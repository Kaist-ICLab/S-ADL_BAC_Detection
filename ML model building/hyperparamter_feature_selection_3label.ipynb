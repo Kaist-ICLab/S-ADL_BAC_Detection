{
 "cells": [
  {
   "cell_type": "code",
   "execution_count": 1,
   "metadata": {},
   "outputs": [],
   "source": [
    "import pandas as pd\n",
    "import numpy as np\n",
    "import copy\n",
    "import shap\n",
    "import seaborn as sns\n",
    "import matplotlib.pyplot as plt\n",
    "import optuna\n",
    "from optuna.samplers import TPESampler\n",
    "from optuna.trial import Trial\n",
    "from xgboost import XGBClassifier\n",
    "from lightgbm import LGBMClassifier\n",
    "from sklearn.feature_selection import RFECV\n",
    "from sklearn.preprocessing import MinMaxScaler, MaxAbsScaler, StandardScaler, RobustScaler\n",
    "from sklearn.ensemble import RandomForestClassifier, GradientBoostingClassifier\n",
    "from sklearn.model_selection import GridSearchCV, train_test_split, KFold, LeaveOneOut, StratifiedKFold, cross_val_score\n",
    "from sklearn.metrics import accuracy_score, precision_score, recall_score, f1_score, roc_auc_score, confusion_matrix\n",
    "from sklearn.utils import shuffle\n",
    "from sklearn.base import clone\n",
    "from sklearn import preprocessing"
   ]
  },
  {
   "cell_type": "code",
   "execution_count": 2,
   "metadata": {},
   "outputs": [],
   "source": [
    "import warnings\n",
    "warnings.filterwarnings('ignore')"
   ]
  },
  {
   "cell_type": "code",
   "execution_count": 3,
   "metadata": {},
   "outputs": [],
   "source": [
    "filename = './머신러닝데이터.xlsx'"
   ]
  },
  {
   "cell_type": "code",
   "execution_count": 4,
   "metadata": {},
   "outputs": [],
   "source": [
    "# Imputation한 데이터를 불러온다\n",
    "scoring_transition_1 = pd.read_excel(filename, sheet_name='scoring_result_merged', engine='openpyxl')\n",
    "scoring_transition_0 = pd.read_excel(filename, sheet_name='scoring_origin', engine='openpyxl')\n",
    "task_completion_time = pd.read_excel(filename, sheet_name='task_completion_time_mean_imput', engine='openpyxl')\n",
    "sms_reply = pd.read_excel(filename, sheet_name='SMS_reply', engine='openpyxl')\n",
    "weather_searching_site_region = pd.read_excel(filename, sheet_name='weather_searching_사이트주소', engine='openpyxl')"
   ]
  },
  {
   "cell_type": "markdown",
   "metadata": {},
   "source": [
    "# 모든 Feature List\n",
    "sms_reply, weather_searching_사이트주소는 feature 리스트가 같습니다"
   ]
  },
  {
   "cell_type": "code",
   "execution_count": 5,
   "metadata": {},
   "outputs": [],
   "source": [
    "# scoring = ['Routine_Screen_Unlock_Pattern', 'Routine_Phone_Register', 'Routine_Phone_Receive', 'Routine_SMS_Reply', 'Routine_Camera', \n",
    "# 'Routine_Location_Searching', 'Routine_Weather_Searching', 'Routine_Transfer', 'Routine_Location_Switching', 'Routine_Weather_Switching', \n",
    "# 'Transition_Phone_Register', 'Transition_Phone_Receive', 'Transition_SMS_Reply', 'Transition_Camera', 'Transition_Location_Searching', \n",
    "# 'Transition_Weather_Searching', 'Transition_Transfer', 'Transition_Location_Switching', 'Transition_Weather_Switching', 'Result_Phone_Register', \n",
    "# 'Result_Phone_Receive', 'Result_SMS_Reply', 'Result_Camera', 'Result_Location_Searching', 'Result_Weather_Searching', 'Result_Transfer', \n",
    "# 'Result_Location_Switching', 'Result_Weather_Switching', 'routine_sum_trial', 'transition_sum_trial', 'result_sum_trial', 'all_sum_trial']\n",
    "\n",
    "# task = ['average_noti_response_app_start', 'median_noti_response_app_start', 'phone_register_noti_response', 'phone_register_total_time_nt', \n",
    "# 'phone_register_screen_unlocking_time', 'phone_register_sms_start_time', 'phone_register_instruction_check_time', 'phone_register_total_time', \n",
    "# 'phone_register_phone_number_register_time', 'phone_register_call_time', 'phone_receive_noti response', 'phone_receive_total_time_nt', 'phone_receive_total_time', \n",
    "# 'phone_receive_missing_call_time_1', 'phone_receive_missing_call_time_2', 'sms_reply_noti_response_time', 'sms_reply_total_time_nt', 'sms_reply_compeltion_time', \n",
    "# 'sms_reply_total_time', 'camera_noti_response', 'camera_total_time_nt', 'camera_instruction_check_time', 'camera_total_time', 'camera_taken_time', \n",
    "# 'camera_gallery_delete_time', 'transfer_noti_response_time', 'transfer_total_time_nt', 'transfer_instruction_check_time', 'transfer_total_time', \n",
    "# 'transfer_usage_time', 'transfer_share_time', 'weather_searching_noti_response', 'weather_searching_total_time_nt', 'weather_searching_instruction_check_time', \n",
    "# 'weather_searching_total_time', 'weather_information_searching_time', 'weather_information_sharing_time', 'weather_switching_notification_response_time', \n",
    "# 'weather_switching_total_time_nt', 'weather_switching_instruction_check_time', 'weather_switching_total_time', \n",
    "# 'weather_switching_first_searching_keyword_typing_time', 'weather_switching_second_searching_keyword_typing_time', \n",
    "# 'weather_switching_information_searching_time', 'weather_switching_information_sharing_texting_time', 'location_searching_noti_response_time', \n",
    "# 'location_searching_total_time_nt', 'location_searching_instruction_check_time', 'location_searching_total_time', 'location_searching_food_typing_time', \n",
    "# 'location_searching_foodtyping_mapfinding_time', 'location_searching_mapfinding_time', 'location_searching_route_sharing_texting_time', \n",
    "# 'location_switching_notification_response', 'location_switching_total_time_nt', 'location_switching_instruction_check', 'location_switching_total_time', \n",
    "# 'location_switching_first_map_typing_time', 'location_switching_second_map_typing_time', 'location_switching_map_finding_time', \n",
    "# 'location_switching_map_route_sharing_time']\n",
    "\n",
    "# sms_and_ws = ['average intercharacter time', 'std intercharacter time', 'median intercharacter time', 'min intercharacter time', 'max intercharacter time', \n",
    "# 'total_time (S)', 'total_count', 'IS (C+IF+INF+F)', 'backspace (F)', 'C', 'IF', 'INF', 'Shift', 'ISø (IS+S)', 'T (total_count-F)', 'WPS', 'WPM', 'AdjWPS', \n",
    "# 'AdjWPM', 'CPS', 'KSPS', 'GPS', 'KSPC', 'GPC', 'MSD', 'COER', 'UER', 'TER', 'CE', 'PC', 'UB', 'WB', 'CPC']"
   ]
  },
  {
   "cell_type": "code",
   "execution_count": 6,
   "metadata": {},
   "outputs": [],
   "source": [
    "# BAC column만 가져온다(Label)\n",
    "y = scoring_transition_1['BAC']\n",
    "\n",
    "# Participant, BAC column을 제거한다\n",
    "scoring_transition_1 = scoring_transition_1.drop(['Participant', 'BAC'], axis=1)\n",
    "scoring_transition_0 = scoring_transition_0.drop(['Participant', 'BAC'], axis=1)\n",
    "task_completion_time = task_completion_time.drop(['Participant', 'BAC'], axis=1)\n",
    "sms_reply = sms_reply.drop(['Participant', 'BAC'], axis=1)\n",
    "weather_searching_site_region = weather_searching_site_region.drop(['Participant', 'BAC'], axis=1)"
   ]
  },
  {
   "cell_type": "code",
   "execution_count": 7,
   "metadata": {},
   "outputs": [],
   "source": [
    "# 라벨 3개용 features\n",
    "# 각 데이터별로 필요한 column들만 뽑는다\n",
    "scoring_transition_1_columns = []\n",
    "\n",
    "scoring_transition_0_columns = ['Routine_Screen_Unlock_Pattern', 'Transition_Phone_Register', 'Transition_Phone_Receive', 'Transition_SMS_Reply', \n",
    "'Transition_Camera', 'Transition_Weather_Searching', 'Transition_Transfer', 'transition_sum_trial']\n",
    "\n",
    "task_completion_time_columns = ['average_noti_response_app_start', 'median_noti_response_app_start', 'phone_register_noti_response', \n",
    "'phone_register_screen_unlocking_time', 'phone_register_phone_number_register_time', 'phone_register_call_time', 'phone_register_total_time', \n",
    "'phone_receive_total_time', 'phone_receive_missing_call_time_1', 'phone_receive_missing_call_time_2', 'sms_reply_compeltion_time', 'sms_reply_total_time', \n",
    "'camera_taken_time', 'camera_gallery_delete_time', 'camera_total_time', 'transfer_usage_time', 'transfer_share_time', 'transfer_total_time', \n",
    "'weather_information_searching_time', 'weather_information_sharing_time', 'weather_searching_total_time']\n",
    "\n",
    "sms_reply_columns = ['average intercharacter time', 'median intercharacter time', 'min intercharacter time', 'max intercharacter time', \n",
    "'CPS', 'KSPS', 'GPS', 'COER', 'UER', 'TER', 'UB', 'WB']\n",
    "\n",
    "weather_searching_site_region_columns = ['average intercharacter time', 'median intercharacter time', 'min intercharacter time', 'max intercharacter time', \n",
    "'CPS', 'KSPS', 'COER', 'UB', 'WB']"
   ]
  },
  {
   "cell_type": "code",
   "execution_count": 8,
   "metadata": {},
   "outputs": [],
   "source": [
    "# 라벨을 2개용 features\n",
    "scoring_transition_1_columns_two_label = []\n",
    "\n",
    "scoring_transition_0_columns_two_label = ['Routine_Screen_Unlock_Pattern', 'Transition_Phone_Register', 'Transition_Phone_Receive', 'Transition_SMS_Reply', \n",
    "'Transition_Camera', 'Transition_Weather_Searching', 'Transition_Transfer', 'transition_sum_trial']\n",
    "\n",
    "task_completion_time_columns_two_label = ['average_noti_response_app_start', 'median_noti_response_app_start', 'phone_register_noti_response', \n",
    "'phone_register_screen_unlocking_time', 'phone_register_phone_number_register_time', 'phone_register_call_time', 'phone_register_total_time', \n",
    "'phone_receive_total_time', 'phone_receive_missing_call_time_1', 'phone_receive_missing_call_time_2', 'sms_reply_compeltion_time', 'sms_reply_total_time', \n",
    "'camera_taken_time', 'camera_gallery_delete_time', 'camera_total_time', 'transfer_usage_time', 'transfer_share_time', 'transfer_total_time', \n",
    "'weather_information_searching_time', 'weather_information_sharing_time', 'weather_searching_total_time']\n",
    "\n",
    "sms_reply_columns_two_label = ['average intercharacter time', 'median intercharacter time', 'min intercharacter time', 'max intercharacter time', \n",
    "'CPS', 'KSPS', 'GPS', 'COER', 'UER', 'TER', 'UB', 'WB']\n",
    "\n",
    "weather_searching_site_region_columns_two_label = ['average intercharacter time', 'median intercharacter time', 'min intercharacter time', 'max intercharacter time', \n",
    "'CPS', 'KSPS', 'COER', 'UB', 'WB']"
   ]
  },
  {
   "cell_type": "code",
   "execution_count": 9,
   "metadata": {},
   "outputs": [],
   "source": [
    "# 위에서 정한 feature들로 각각의 데이터 프레임을 생성한다\n",
    "scoring_transition_1_df = scoring_transition_1[scoring_transition_1_columns]\n",
    "scoring_transition_0_df = scoring_transition_0[scoring_transition_0_columns]\n",
    "task_completion_time_df = task_completion_time[task_completion_time_columns]\n",
    "sms_reply_df = sms_reply[sms_reply_columns]\n",
    "weather_searching_site_region_df = weather_searching_site_region[weather_searching_site_region_columns]\n",
    "\n",
    "scoring_transition_1_df_two_label = scoring_transition_1[scoring_transition_1_columns_two_label]\n",
    "scoring_transition_0_df_two_label = scoring_transition_0[scoring_transition_0_columns_two_label]\n",
    "task_completion_time_df_two_label = task_completion_time[task_completion_time_columns_two_label]\n",
    "sms_reply_df_two_label = sms_reply[sms_reply_columns_two_label]\n",
    "weather_searching_site_region_df_two_label = weather_searching_site_region[weather_searching_site_region_columns_two_label]"
   ]
  },
  {
   "cell_type": "markdown",
   "metadata": {},
   "source": [
    "# feature명 수정하기\n",
    "위에서 적은 feature명을 그대로 복사해서 가져온 다음 바꾸려는 feature만 수정하면 됩니다"
   ]
  },
  {
   "cell_type": "code",
   "execution_count": 10,
   "metadata": {},
   "outputs": [],
   "source": [
    "# 라벨 3개용 features의 feature명을 수정한다!\n",
    "scoring_transition_1_columns = []\n",
    "\n",
    "scoring_transition_0_columns = ['Routine_Screen_Unlock_Pattern', 'Transition_Phone_Register', 'Transition_Phone_Receive', 'Transition_SMS_Reply', \n",
    "'Transition_Camera', 'Transition_Weather_Searching', 'Transition_Transfer', 'transition_sum_trial']\n",
    "\n",
    "task_completion_time_columns = ['average_noti_response_app_start', 'median_noti_response_app_start', 'phone_register_noti_response', \n",
    "'phone_register_screen_unlocking_time', 'phone_register_phone_number_register_time', 'phone_register_call_time', 'phone_register_total_time', \n",
    "'phone_receive_total_time', 'phone_receive_missing_call_time_1', 'phone_receive_missing_call_time_2', 'sms_reply_compeltion_time', 'sms_reply_total_time', \n",
    "'camera_taken_time', 'camera_gallery_delete_time', 'camera_total_time', 'transfer_usage_time', 'transfer_share_time', 'transfer_total_time', \n",
    "'weather_information_searching_time', 'weather_information_sharing_time', 'weather_searching_total_time']\n",
    "\n",
    "sms_reply_columns = ['average intercharacter time', 'median intercharacter time', 'min intercharacter time', 'max intercharacter time', \n",
    "'CPS', 'KSPS', 'GPS', 'COER', 'UER', 'TER', 'UB', 'WB']\n",
    "\n",
    "weather_searching_site_region_columns = ['average intercharacter time', 'median intercharacter time', 'min intercharacter time', 'max intercharacter time', \n",
    "'CPS', 'KSPS', 'COER', 'UB', 'WB']\n",
    "\n",
    "scoring_transition_1_df.columns = scoring_transition_1_columns\n",
    "scoring_transition_0_df.columns = scoring_transition_0_columns\n",
    "task_completion_time_df.columns = task_completion_time_columns\n",
    "sms_reply_df.columns = sms_reply_columns\n",
    "weather_searching_site_region_df.columns = weather_searching_site_region_columns"
   ]
  },
  {
   "cell_type": "code",
   "execution_count": 11,
   "metadata": {},
   "outputs": [],
   "source": [
    "# 라벨을 2개용 features의 feature명을 수정한다!\n",
    "scoring_transition_1_columns_two_label = []\n",
    "\n",
    "scoring_transition_0_columns_two_label = ['Routine_Screen_Unlock_Pattern', 'Transition_Phone_Register', 'Transition_Phone_Receive', 'Transition_SMS_Reply', \n",
    "'Transition_Camera', 'Transition_Weather_Searching', 'Transition_Transfer', 'transition_sum_trial']\n",
    "\n",
    "task_completion_time_columns_two_label = ['average_noti_response_app_start', 'median_noti_response_app_start', 'phone_register_noti_response', \n",
    "'phone_register_screen_unlocking_time', 'phone_register_phone_number_register_time', 'phone_register_call_time', 'phone_register_total_time', \n",
    "'phone_receive_total_time', 'phone_receive_missing_call_time_1', 'phone_receive_missing_call_time_2', 'sms_reply_compeltion_time', 'sms_reply_total_time', \n",
    "'camera_taken_time', 'camera_gallery_delete_time', 'camera_total_time', 'transfer_usage_time', 'transfer_share_time', 'transfer_total_time', \n",
    "'weather_information_searching_time', 'weather_information_sharing_time', 'weather_searching_total_time']\n",
    "\n",
    "sms_reply_columns_two_label = ['average intercharacter time', 'median intercharacter time', 'min intercharacter time', 'max intercharacter time', \n",
    "'CPS', 'KSPS', 'GPS', 'COER', 'UER', 'TER', 'UB', 'WB']\n",
    "\n",
    "weather_searching_site_region_columns_two_label = ['average intercharacter time', 'median intercharacter time', 'min intercharacter time', 'max intercharacter time', \n",
    "'CPS', 'KSPS', 'COER', 'UB', 'WB']\n",
    "\n",
    "scoring_transition_1_df_two_label.columns = scoring_transition_1_columns_two_label\n",
    "scoring_transition_0_df_two_label.columns = scoring_transition_0_columns_two_label\n",
    "task_completion_time_df_two_label.columns = task_completion_time_columns_two_label\n",
    "sms_reply_df_two_label.columns = sms_reply_columns_two_label\n",
    "weather_searching_site_region_df_two_label.columns = weather_searching_site_region_columns_two_label"
   ]
  },
  {
   "cell_type": "code",
   "execution_count": 12,
   "metadata": {},
   "outputs": [],
   "source": [
    "# sms reply와 weather searching 사이트 주소의 feature명이 똑같으므로 feature명을 수정한다\n",
    "sms_reply_df_columns = ['sms_' + col_name for col_name in sms_reply_df.columns] # sms reply feature 이름 앞에 sms_를 붙인다\n",
    "weather_searching_site_region_df_columns = ['ws_' + col_name for col_name in weather_searching_site_region_df.columns] # ws feature 이름 앞에 ws_를 붙인다\n",
    "\n",
    "sms_reply_df.columns = sms_reply_df_columns # 수정된 sms reply feature명을 적용한다\n",
    "weather_searching_site_region_df.columns = weather_searching_site_region_df_columns # 수정된 ws feature명을 적용한다\n",
    "\n",
    "# 위와 동일하게 작동한다\n",
    "sms_reply_df_two_label_columns = ['sms_' + col_name for col_name in sms_reply_df_two_label.columns]\n",
    "weather_searching_site_region_df_two_label_columns = ['ws_' + col_name for col_name in weather_searching_site_region_df_two_label.columns]\n",
    "\n",
    "sms_reply_df_two_label.columns = sms_reply_df_two_label_columns\n",
    "weather_searching_site_region_df_two_label.columns = weather_searching_site_region_df_two_label_columns"
   ]
  },
  {
   "cell_type": "markdown",
   "metadata": {},
   "source": [
    "### merged_df : Label 3개인 데이터 집합\n",
    "### merged_df_two_label : Label 2개인 데이터 집합"
   ]
  },
  {
   "cell_type": "code",
   "execution_count": 13,
   "metadata": {},
   "outputs": [],
   "source": [
    "# 필요한 데이터 프레임들을 합친다\n",
    "merged_df_list = [scoring_transition_1_df, scoring_transition_0_df, task_completion_time_df, sms_reply_df, weather_searching_site_region_df]\n",
    "merged_df_list_two_label = [scoring_transition_1_df_two_label, scoring_transition_0_df_two_label, task_completion_time_df_two_label, \n",
    "sms_reply_df_two_label, weather_searching_site_region_df_two_label]\n",
    "\n",
    "merged_df = pd.concat(merged_df_list, axis=1)\n",
    "merged_df_two_label = pd.concat(merged_df_list_two_label, axis=1)"
   ]
  },
  {
   "cell_type": "code",
   "execution_count": 14,
   "metadata": {},
   "outputs": [],
   "source": [
    "# Categorical 데이터에 대해서 인코딩한다\n",
    "# 어떤 데이터가 Categorical 데이터인가?\n",
    "\n",
    "# 라벨에 대해서 인코딩한다\n",
    "encoder = preprocessing.LabelEncoder()\n",
    "y = encoder.fit_transform(y)"
   ]
  },
  {
   "cell_type": "markdown",
   "metadata": {},
   "source": [
    "### N : 3개 라벨에 대한 feature 개수 / M : 2개 라벨에 대한 feature 개수\n",
    "merged_df.shape = (360, N), y.shape = (360, 1), 라벨 수: 3 </br>\n",
    "merged_df_two_label.shape = (360, M), changed_label.shape = (360, 1), 라벨 수: 2 </br>\n",
    "changed_df.shape = (240, M), changed_y.shape = (240, 1), 라벨 수: 2 </br>"
   ]
  },
  {
   "cell_type": "code",
   "execution_count": 15,
   "metadata": {},
   "outputs": [],
   "source": [
    "# 라벨에 대해서 인코딩한다(0 -> 0, 0.06 -> 1, 0.09 -> 2)\n",
    "encoder = preprocessing.LabelEncoder()\n",
    "y = encoder.fit_transform(y)\n",
    "\n",
    "# 3개의 라벨을 2개의 라벨로 바꾼다\n",
    "changed_label = copy.deepcopy(y)\n",
    "\n",
    "for i in range(len(changed_label)):\n",
    "    if changed_label[i] == 1:\n",
    "        changed_label[i] = 0\n",
    "\n",
    "for i in range(len(changed_label)):\n",
    "    if changed_label[i] == 2:\n",
    "        changed_label[i] = 1\n",
    "\n",
    "# 라벨 0과 라벨 0.06의 평균을 구해서 하나의 라벨로 만든다\n",
    "temp_y = pd.Series(y, name='Label')\n",
    "temp_df = pd.concat([temp_y, merged_df_two_label], axis=1)\n",
    "\n",
    "changed_df = pd.DataFrame(columns=temp_df.columns)\n",
    "\n",
    "num = 0\n",
    "for row_idx in range(0, len(temp_df), 9):\n",
    "    for i in range(3):\n",
    "        changed_df.loc[num] = (temp_df.loc[row_idx + i] + temp_df.loc[row_idx + i + 3])/2\n",
    "        num += 1\n",
    "    for i in range(3):\n",
    "        changed_df.loc[num] = temp_df.loc[row_idx + 6 + i]\n",
    "        num += 1\n",
    "\n",
    "changed_y = changed_df['Label']\n",
    "changed_df = changed_df.drop(['Label'], axis=1)\n",
    "changed_y = encoder.fit_transform(changed_y)\n",
    "\n",
    "# 3 Labels, 2 Labels(just change), 2 Labels(average)에 대한 데이터\n",
    "label_processing = ['3 Labels', '2 Labels(just change)', '2 Labels(average)']\n",
    "data_list = [(merged_df, y), (merged_df_two_label, changed_label), (changed_df, changed_y)]"
   ]
  },
  {
   "cell_type": "code",
   "execution_count": 16,
   "metadata": {},
   "outputs": [],
   "source": [
    "scaler_list = {\n",
    "    'minmax': MinMaxScaler(),\n",
    "    'maxabs': MaxAbsScaler(),\n",
    "    'standard': StandardScaler(),\n",
    "    'robust': RobustScaler()\n",
    "}\n",
    "\n",
    "label_list = {\n",
    "    'three_label': data_list[0],\n",
    "    'two_label_changed': data_list[1],\n",
    "    'two_label_average': data_list[2]\n",
    "}\n",
    "\n",
    "# scaler_name과 label_name을 인자로 받아서 해당하는 X, y를 반환한다\n",
    "def getXy(scaler_name, label_name):\n",
    "    if scaler_name not in scaler_list.keys() and scaler_name != 'no_scale':\n",
    "        raise ValueError(\"scaler_name must be 'minmax' or 'maxabs' or 'standard' or 'robust' or 'no_scale!\")\n",
    "\n",
    "    if label_name not in label_list.keys():\n",
    "        raise ValueError(\"label_name must be 'three_label' or 'two_label_changed' or 'two_label_average'!\")\n",
    "\n",
    "    X, y = label_list[label_name]\n",
    "\n",
    "    if scaler_name != 'no_scale':\n",
    "        scaler = scaler_list[scaler_name]\n",
    "        df = X.copy()\n",
    "\n",
    "        df[df.columns] = scaler.fit_transform(df[df.columns])\n",
    "\n",
    "        X = df\n",
    "        X[X.columns] = scaler.fit_transform(X[X.columns])\n",
    "    \n",
    "    return (X, y)"
   ]
  },
  {
   "cell_type": "markdown",
   "metadata": {},
   "source": [
    "# 어떤 label의 데이터로 돌릴 것인지, 어떤 scaler를 적용할 것인지, inner loop에서 어떤 cv 방법을 적용할 것인지, Stratified K-fold의 K를 정한다"
   ]
  },
  {
   "cell_type": "markdown",
   "metadata": {},
   "source": [
    "### scaler_name = 'minmax' or 'maxabs' or 'standard' or 'robust' or 'no_scale'\n",
    "### label_name = 'three_label' or 'two_label_changed' or 'two_label_average'\n",
    "### cv_method = 'loso' or 'k_fold'\n",
    "### n_fold = 39(default)"
   ]
  },
  {
   "cell_type": "code",
   "execution_count": 17,
   "metadata": {},
   "outputs": [],
   "source": [
    "scaler_name = 'no_scale'\n",
    "label_name = 'two_label_changed'\n",
    "cv_method = 'k_fold'\n",
    "n_fold = 9\n",
    "\n",
    "X, y = getXy(scaler_name=scaler_name, label_name=label_name)"
   ]
  },
  {
   "cell_type": "markdown",
   "metadata": {},
   "source": [
    "# Optuna의 반복 수를 설정한다"
   ]
  },
  {
   "cell_type": "code",
   "execution_count": 18,
   "metadata": {},
   "outputs": [],
   "source": [
    "n_trials = 1"
   ]
  },
  {
   "cell_type": "code",
   "execution_count": 59,
   "metadata": {},
   "outputs": [],
   "source": [
    "def NestedCVwithOptuna(objective, clf, clf_name):\n",
    "    metric_df = pd.DataFrame(columns=['model', 'accuracy', 'precision', 'recall', 'f1_score', 'roc_auc_score'])\n",
    "\n",
    "    # 클래스가 몇 개인지 확인한다\n",
    "    class_nums = len(set(y))\n",
    "    print('class_nums : ', class_nums)\n",
    "    n_splits = 40\n",
    "    kfold = KFold(n_splits=n_splits)\n",
    "\n",
    "    mean_accuracy = 0\n",
    "    mean_precision = 0\n",
    "    mean_recall = 0\n",
    "    mean_f1 = 0\n",
    "    mean_roc_auc = 0\n",
    "    \n",
    "    list_shap_values = list()\n",
    "    list_test_sets = list()\n",
    "    \n",
    "    shap_df_list = [[], [], []]\n",
    "\n",
    "    for num, (train_idx, val_idx) in enumerate(kfold.split(X)):\n",
    "        X_train, X_val = X.iloc[train_idx, :], X.iloc[val_idx, :]\n",
    "        y_train, y_val = y[train_idx], y[val_idx]\n",
    "        \n",
    "        classifier = clone(clf)\n",
    "\n",
    "        # Feature Selection을 진행한다\n",
    "        selector = RFECV(classifier, step=2, cv=9, min_features_to_select=20)\n",
    "        selector = selector.fit(X_train, y_train)\n",
    "\n",
    "        columns = X_train.columns\n",
    "        selected_list = selector.support_\n",
    "\n",
    "        selected_features = [col_name for i, col_name in enumerate(columns) if selected_list[i]]\n",
    "\n",
    "        # 뽑힌 feature들로 데이터를 만든다\n",
    "        X_train = X_train[selected_features]\n",
    "        X_val = X_val[selected_features]\n",
    "\n",
    "        # Bayesian Optimization을 진행한다\n",
    "        sampler = TPESampler()\n",
    "\n",
    "        study = optuna.create_study(direction='maximize', sampler=sampler, study_name=f'{clf_name} Study')\n",
    "        study.optimize(objective(X_train, y_train), n_trials=n_trials)\n",
    "\n",
    "        best_params = study.best_params\n",
    "        print('Optuna Best score : ', study.best_value)\n",
    "        print('Best parameters : ', best_params)\n",
    "        print('Selected features Num: ', len(selected_features))\n",
    "        print('Selected features : ', selected_features)\n",
    "\n",
    "        if clf_name == 'lightgbm':\n",
    "            best_clf = LGBMClassifier(**best_params, random_state=42)\n",
    "        elif clf_name == 'xgboost':\n",
    "            best_clf = XGBClassifier(**best_params, random_state=42)\n",
    "        elif clf_name == 'randomforest':\n",
    "            best_clf = RandomForestClassifier(**best_params, random_state=42)\n",
    "        elif clf_name == 'gbm':\n",
    "            best_clf = GradientBoostingClassifier(**best_params, random_state=42)\n",
    "        \n",
    "        best_clf.fit(X_train, y_train)\n",
    "\n",
    "        y_pred = best_clf.predict(X_val)\n",
    "        y_pred_prob = best_clf.predict_proba(X_val)\n",
    "\n",
    "        # 개별 performance metric을 구한다\n",
    "        accuracy = accuracy_score(y_val, y_pred)\n",
    "        precision = precision_score(y_val, y_pred, average='macro')\n",
    "        recall = recall_score(y_val, y_pred, average='macro')\n",
    "        f1 = f1_score(y_val, y_pred, average='macro')\n",
    "        if class_nums > 2:\n",
    "            roc_auc = roc_auc_score(y_val, y_pred_prob, average='macro', multi_class='ovr')\n",
    "        else:\n",
    "            roc_auc = roc_auc_score(y_val, y_pred)\n",
    "        \n",
    "        # 개별 performance metric을 데이터 프레임으로 저장한다\n",
    "        metric_df.loc[len(metric_df)] = [f'model_{num+1}', accuracy, precision, recall, f1, roc_auc]\n",
    "\n",
    "        # 평균 performance metric을 구한다\n",
    "        mean_accuracy += accuracy / n_splits\n",
    "        mean_precision += accuracy / n_splits\n",
    "        mean_recall += recall / n_splits\n",
    "        mean_f1 += f1 / n_splits\n",
    "        mean_roc_auc += roc_auc / n_splits\n",
    "\n",
    "        print('test accuracy : ', accuracy)\n",
    "\n",
    "        # explaining model\n",
    "        explainer = shap.TreeExplainer(best_clf)\n",
    "        shap_values = explainer.shap_values(X_val)\n",
    "        \n",
    "        if class_nums > 2:\n",
    "            for i in range(3):\n",
    "                shap_df = pd.DataFrame(shap_values[i], columns=X_train.columns)\n",
    "                shap_df_list[i].append(shap_df)\n",
    "        elif len(shap_values) == 2:\n",
    "            for i in range(2):\n",
    "                shap_df = pd.DataFrame(shap_values[i], columns=X_train.columns)\n",
    "                shap_df_list[i].append(shap_df)\n",
    "        else:\n",
    "            shap_df = pd.DataFrame(shap_values, columns=X_train.columns)\n",
    "            shap_df_list[0].append(shap_df)\n",
    "\n",
    "    print()\n",
    "    print('mean accuracy : ', mean_accuracy)\n",
    "    print('mean precision : ', mean_precision)\n",
    "    print('mean recall : ', mean_recall)\n",
    "    print('mean f1 : ', mean_f1)\n",
    "    print('mean roc_auc : ', mean_roc_auc)\n",
    "    print()\n",
    "\n",
    "    metric_df.loc[len(metric_df)] = ['mean', mean_accuracy, mean_precision, mean_recall, mean_f1, mean_roc_auc]\n",
    "\n",
    "    return (shap_df_list, metric_df)"
   ]
  },
  {
   "cell_type": "markdown",
   "metadata": {},
   "source": [
    "## Accuracy가 아닌 다른 metric을 기준으로 Optuna을 하려면 precision ~ roc_auc 주석 중 하나를 풀고 return 해주면 됩니다"
   ]
  },
  {
   "cell_type": "code",
   "execution_count": 60,
   "metadata": {},
   "outputs": [],
   "source": [
    "def InnerCrossValidation(clf, X, y, cv_method, n_fold=39):\n",
    "    class_nums = len(set(y))\n",
    "    if cv_method == 'loso':\n",
    "        kfold = KFold(n_splits=39)\n",
    "        splits = kfold.split(X)\n",
    "    elif cv_method == 'k_fold':\n",
    "        stratified_kfold = StratifiedKFold(n_splits=n_fold)\n",
    "        splits = stratified_kfold.split(X, y)\n",
    "    else:\n",
    "        raise ValueError(\"cv_method must be 'loso' or 'k_fold'!\")\n",
    "    \n",
    "    train_X_len = len(X)\n",
    "    if train_X_len % n_fold != 0:\n",
    "        raise ValueError(f\"{train_X_len} / {n_fold} is not Integer!\")\n",
    "\n",
    "    y_true_list, y_pred_list = [], []\n",
    "    y_pred_prob_list = []\n",
    "    \n",
    "    for train_idx, val_idx in splits:\n",
    "        X_train, X_val = X.iloc[train_idx, :], X.iloc[val_idx, :]\n",
    "        y_train, y_val = y[train_idx], y[val_idx]\n",
    "        \n",
    "        classifier = clone(clf)\n",
    "\n",
    "        # 모델을 학습한다\n",
    "        classifier.fit(X_train, y_train)\n",
    "\n",
    "        y_pred = classifier.predict(X_val)\n",
    "        y_pred_prob = classifier.predict_proba(X_val)\n",
    "        \n",
    "        # 실제, 예측 라벨을 저장한다\n",
    "        y_true_list.extend(y_val)\n",
    "        y_pred_list.extend(y_pred)\n",
    "        y_pred_prob_list.extend(y_pred_prob)\n",
    "    \n",
    "    # 여기를 바꾸면 됩니다\n",
    "    accuracy = accuracy_score(y_true_list, y_pred_list)\n",
    "    # precision = precision_score(y_true_list, y_pred_list, average='macro')\n",
    "    # recall = recall_score(y_true_list, y_pred_list, average='macro')\n",
    "    # f1 = f1_score(y_true_list, y_pred_list, average='macro')\n",
    "    # if class_nums > 2:\n",
    "    #     roc_auc = roc_auc_score(y_val, y_pred_prob, average='macro', multi_class='ovr')\n",
    "    # else:\n",
    "    #     roc_auc = roc_auc_score(y_val, y_pred)\n",
    "\n",
    "    # 반환하는 변수를 바꿔줘야 합니다\n",
    "    return accuracy"
   ]
  },
  {
   "cell_type": "markdown",
   "metadata": {},
   "source": [
    "# Lightgbm Bayesian"
   ]
  },
  {
   "cell_type": "code",
   "execution_count": 61,
   "metadata": {},
   "outputs": [],
   "source": [
    "class LGBMObjective(object):\n",
    "    def __init__(self, X, y):\n",
    "        self.X = X\n",
    "        self.y = y\n",
    "    \n",
    "    def __call__(self, trial: Trial):\n",
    "        lgbm_params = {\n",
    "            'n_estimators': trial.suggest_int('n_estimators', 100, 500),\n",
    "            'learning_rate': trial.suggest_loguniform(\"learning_rate\", 1e-3, 1e-1),\n",
    "            'num_leaves': trial.suggest_int('num_leaves', 2, 256),\n",
    "            'colsample_bytree': trial.suggest_float('colsample_bytree', 0.6, 1.0, step=0.1),\n",
    "            'min_child_samples': trial.suggest_int('min_child_samples', 5, 100),\n",
    "            'subsample': trial.suggest_float('subsample', 0.6, 1.0, step=0.1), \n",
    "            'reg_alpha': trial.suggest_float('reg_alpha', 1.0, 5.0), # lambda_l1\n",
    "            'reg_lambda': trial.suggest_float('reg_lambda', 1.0, 5.0), # lambda_l2\n",
    "            'random_state': 42\n",
    "        }\n",
    "\n",
    "        clf = LGBMClassifier(**lgbm_params)\n",
    "\n",
    "        mean_accuracy = InnerCrossValidation(clf, self.X, self.y, cv_method, n_fold)\n",
    "\n",
    "        return mean_accuracy"
   ]
  },
  {
   "cell_type": "code",
   "execution_count": 62,
   "metadata": {},
   "outputs": [
    {
     "name": "stdout",
     "output_type": "stream",
     "text": [
      "class_nums :  2\n"
     ]
    },
    {
     "name": "stderr",
     "output_type": "stream",
     "text": [
      "\u001b[32m[I 2022-08-29 00:31:24,872]\u001b[0m A new study created in memory with name: lightgbm Study\u001b[0m\n",
      "\u001b[32m[I 2022-08-29 00:31:27,521]\u001b[0m Trial 0 finished with value: 0.7777777777777778 and parameters: {'n_estimators': 372, 'learning_rate': 0.04039568529438273, 'num_leaves': 101, 'colsample_bytree': 0.9, 'min_child_samples': 8, 'subsample': 0.6, 'reg_alpha': 1.2089113402209128, 'reg_lambda': 3.814423241478219}. Best is trial 0 with value: 0.7777777777777778.\u001b[0m\n"
     ]
    },
    {
     "name": "stdout",
     "output_type": "stream",
     "text": [
      "Optuna Best score :  0.7777777777777778\n",
      "Best parameters :  {'n_estimators': 372, 'learning_rate': 0.04039568529438273, 'num_leaves': 101, 'colsample_bytree': 0.9, 'min_child_samples': 8, 'subsample': 0.6, 'reg_alpha': 1.2089113402209128, 'reg_lambda': 3.814423241478219}\n",
      "Selected features Num:  38\n",
      "Selected features :  ['average_noti_response_app_start', 'median_noti_response_app_start', 'phone_register_noti_response', 'phone_register_screen_unlocking_time', 'phone_register_phone_number_register_time', 'phone_register_call_time', 'phone_register_total_time', 'phone_receive_total_time', 'phone_receive_missing_call_time_1', 'phone_receive_missing_call_time_2', 'sms_reply_compeltion_time', 'sms_reply_total_time', 'camera_taken_time', 'camera_gallery_delete_time', 'camera_total_time', 'transfer_usage_time', 'transfer_share_time', 'transfer_total_time', 'weather_information_searching_time', 'weather_information_sharing_time', 'weather_searching_total_time', 'sms_average intercharacter time', 'sms_median intercharacter time', 'sms_min intercharacter time', 'sms_max intercharacter time', 'sms_CPS', 'sms_KSPS', 'sms_GPS', 'sms_COER', 'sms_TER', 'sms_UB', 'ws_average intercharacter time', 'ws_median intercharacter time', 'ws_min intercharacter time', 'ws_max intercharacter time', 'ws_CPS', 'ws_KSPS', 'ws_COER']\n",
      "test accuracy :  1.0\n"
     ]
    },
    {
     "name": "stderr",
     "output_type": "stream",
     "text": [
      "\u001b[32m[I 2022-08-29 00:31:39,447]\u001b[0m A new study created in memory with name: lightgbm Study\u001b[0m\n",
      "\u001b[32m[I 2022-08-29 00:31:39,695]\u001b[0m Trial 0 finished with value: 0.6666666666666666 and parameters: {'n_estimators': 108, 'learning_rate': 0.0012774167045818592, 'num_leaves': 197, 'colsample_bytree': 0.6, 'min_child_samples': 43, 'subsample': 0.9, 'reg_alpha': 1.8118835890207468, 'reg_lambda': 4.951960913517542}. Best is trial 0 with value: 0.6666666666666666.\u001b[0m\n"
     ]
    },
    {
     "name": "stdout",
     "output_type": "stream",
     "text": [
      "Optuna Best score :  0.6666666666666666\n",
      "Best parameters :  {'n_estimators': 108, 'learning_rate': 0.0012774167045818592, 'num_leaves': 197, 'colsample_bytree': 0.6, 'min_child_samples': 43, 'subsample': 0.9, 'reg_alpha': 1.8118835890207468, 'reg_lambda': 4.951960913517542}\n",
      "Selected features Num:  20\n",
      "Selected features :  ['average_noti_response_app_start', 'median_noti_response_app_start', 'phone_register_noti_response', 'phone_register_screen_unlocking_time', 'phone_register_phone_number_register_time', 'phone_register_call_time', 'phone_receive_missing_call_time_2', 'sms_reply_compeltion_time', 'camera_gallery_delete_time', 'transfer_usage_time', 'transfer_total_time', 'weather_information_searching_time', 'weather_information_sharing_time', 'sms_min intercharacter time', 'sms_max intercharacter time', 'sms_TER', 'ws_median intercharacter time', 'ws_CPS', 'ws_KSPS', 'ws_COER']\n",
      "test accuracy :  0.6666666666666666\n"
     ]
    },
    {
     "name": "stderr",
     "output_type": "stream",
     "text": [
      "\u001b[32m[I 2022-08-29 00:31:50,519]\u001b[0m A new study created in memory with name: lightgbm Study\u001b[0m\n",
      "\u001b[32m[I 2022-08-29 00:31:52,215]\u001b[0m Trial 0 finished with value: 0.7806267806267806 and parameters: {'n_estimators': 340, 'learning_rate': 0.010845483603503979, 'num_leaves': 253, 'colsample_bytree': 1.0, 'min_child_samples': 18, 'subsample': 0.8, 'reg_alpha': 2.8157966634241167, 'reg_lambda': 2.127100135141429}. Best is trial 0 with value: 0.7806267806267806.\u001b[0m\n"
     ]
    },
    {
     "name": "stdout",
     "output_type": "stream",
     "text": [
      "Optuna Best score :  0.7806267806267806\n",
      "Best parameters :  {'n_estimators': 340, 'learning_rate': 0.010845483603503979, 'num_leaves': 253, 'colsample_bytree': 1.0, 'min_child_samples': 18, 'subsample': 0.8, 'reg_alpha': 2.8157966634241167, 'reg_lambda': 2.127100135141429}\n",
      "Selected features Num:  30\n",
      "Selected features :  ['average_noti_response_app_start', 'median_noti_response_app_start', 'phone_register_noti_response', 'phone_register_screen_unlocking_time', 'phone_register_phone_number_register_time', 'phone_register_call_time', 'phone_receive_total_time', 'phone_receive_missing_call_time_2', 'sms_reply_compeltion_time', 'sms_reply_total_time', 'camera_gallery_delete_time', 'camera_total_time', 'transfer_usage_time', 'transfer_total_time', 'weather_information_searching_time', 'weather_information_sharing_time', 'weather_searching_total_time', 'sms_median intercharacter time', 'sms_min intercharacter time', 'sms_max intercharacter time', 'sms_CPS', 'sms_KSPS', 'sms_TER', 'sms_UB', 'ws_median intercharacter time', 'ws_min intercharacter time', 'ws_max intercharacter time', 'ws_CPS', 'ws_KSPS', 'ws_COER']\n",
      "test accuracy :  1.0\n"
     ]
    },
    {
     "name": "stderr",
     "output_type": "stream",
     "text": [
      "\u001b[32m[I 2022-08-29 00:32:02,216]\u001b[0m A new study created in memory with name: lightgbm Study\u001b[0m\n",
      "\u001b[32m[I 2022-08-29 00:32:03,701]\u001b[0m Trial 0 finished with value: 0.7891737891737892 and parameters: {'n_estimators': 214, 'learning_rate': 0.03148750449853724, 'num_leaves': 13, 'colsample_bytree': 0.8, 'min_child_samples': 6, 'subsample': 0.7, 'reg_alpha': 3.41868698575857, 'reg_lambda': 3.07598876330211}. Best is trial 0 with value: 0.7891737891737892.\u001b[0m\n"
     ]
    },
    {
     "name": "stdout",
     "output_type": "stream",
     "text": [
      "Optuna Best score :  0.7891737891737892\n",
      "Best parameters :  {'n_estimators': 214, 'learning_rate': 0.03148750449853724, 'num_leaves': 13, 'colsample_bytree': 0.8, 'min_child_samples': 6, 'subsample': 0.7, 'reg_alpha': 3.41868698575857, 'reg_lambda': 3.07598876330211}\n",
      "Selected features Num:  36\n",
      "Selected features :  ['average_noti_response_app_start', 'median_noti_response_app_start', 'phone_register_noti_response', 'phone_register_screen_unlocking_time', 'phone_register_phone_number_register_time', 'phone_register_call_time', 'phone_register_total_time', 'phone_receive_total_time', 'phone_receive_missing_call_time_1', 'phone_receive_missing_call_time_2', 'sms_reply_compeltion_time', 'sms_reply_total_time', 'camera_taken_time', 'camera_gallery_delete_time', 'camera_total_time', 'transfer_usage_time', 'transfer_total_time', 'weather_information_searching_time', 'weather_information_sharing_time', 'weather_searching_total_time', 'sms_average intercharacter time', 'sms_median intercharacter time', 'sms_min intercharacter time', 'sms_max intercharacter time', 'sms_CPS', 'sms_KSPS', 'sms_COER', 'sms_TER', 'sms_UB', 'ws_average intercharacter time', 'ws_median intercharacter time', 'ws_min intercharacter time', 'ws_max intercharacter time', 'ws_CPS', 'ws_KSPS', 'ws_COER']\n",
      "test accuracy :  1.0\n"
     ]
    },
    {
     "name": "stderr",
     "output_type": "stream",
     "text": [
      "\u001b[32m[I 2022-08-29 00:32:13,750]\u001b[0m A new study created in memory with name: lightgbm Study\u001b[0m\n",
      "\u001b[32m[I 2022-08-29 00:32:14,281]\u001b[0m Trial 0 finished with value: 0.7663817663817664 and parameters: {'n_estimators': 271, 'learning_rate': 0.03449283962153545, 'num_leaves': 69, 'colsample_bytree': 0.9, 'min_child_samples': 70, 'subsample': 0.9, 'reg_alpha': 2.5790333650836663, 'reg_lambda': 2.621442561024316}. Best is trial 0 with value: 0.7663817663817664.\u001b[0m\n"
     ]
    },
    {
     "name": "stdout",
     "output_type": "stream",
     "text": [
      "Optuna Best score :  0.7663817663817664\n",
      "Best parameters :  {'n_estimators': 271, 'learning_rate': 0.03449283962153545, 'num_leaves': 69, 'colsample_bytree': 0.9, 'min_child_samples': 70, 'subsample': 0.9, 'reg_alpha': 2.5790333650836663, 'reg_lambda': 2.621442561024316}\n",
      "Selected features Num:  32\n",
      "Selected features :  ['average_noti_response_app_start', 'median_noti_response_app_start', 'phone_register_noti_response', 'phone_register_screen_unlocking_time', 'phone_register_phone_number_register_time', 'phone_register_call_time', 'phone_register_total_time', 'phone_receive_total_time', 'phone_receive_missing_call_time_2', 'sms_reply_compeltion_time', 'sms_reply_total_time', 'camera_gallery_delete_time', 'camera_total_time', 'transfer_usage_time', 'transfer_total_time', 'weather_information_searching_time', 'weather_information_sharing_time', 'weather_searching_total_time', 'sms_median intercharacter time', 'sms_min intercharacter time', 'sms_max intercharacter time', 'sms_CPS', 'sms_KSPS', 'sms_TER', 'sms_UB', 'ws_average intercharacter time', 'ws_median intercharacter time', 'ws_min intercharacter time', 'ws_max intercharacter time', 'ws_CPS', 'ws_KSPS', 'ws_COER']\n",
      "test accuracy :  1.0\n"
     ]
    },
    {
     "name": "stderr",
     "output_type": "stream",
     "text": [
      "\u001b[32m[I 2022-08-29 00:32:23,647]\u001b[0m A new study created in memory with name: lightgbm Study\u001b[0m\n",
      "\u001b[32m[I 2022-08-29 00:32:25,040]\u001b[0m Trial 0 finished with value: 0.7692307692307693 and parameters: {'n_estimators': 401, 'learning_rate': 0.004386504604660451, 'num_leaves': 180, 'colsample_bytree': 0.8, 'min_child_samples': 40, 'subsample': 0.9, 'reg_alpha': 1.3924564864169011, 'reg_lambda': 4.159846567932638}. Best is trial 0 with value: 0.7692307692307693.\u001b[0m\n"
     ]
    },
    {
     "name": "stdout",
     "output_type": "stream",
     "text": [
      "Optuna Best score :  0.7692307692307693\n",
      "Best parameters :  {'n_estimators': 401, 'learning_rate': 0.004386504604660451, 'num_leaves': 180, 'colsample_bytree': 0.8, 'min_child_samples': 40, 'subsample': 0.9, 'reg_alpha': 1.3924564864169011, 'reg_lambda': 4.159846567932638}\n",
      "Selected features Num:  42\n",
      "Selected features :  ['transition_sum_trial', 'average_noti_response_app_start', 'median_noti_response_app_start', 'phone_register_noti_response', 'phone_register_screen_unlocking_time', 'phone_register_phone_number_register_time', 'phone_register_call_time', 'phone_register_total_time', 'phone_receive_total_time', 'phone_receive_missing_call_time_1', 'phone_receive_missing_call_time_2', 'sms_reply_compeltion_time', 'sms_reply_total_time', 'camera_taken_time', 'camera_gallery_delete_time', 'camera_total_time', 'transfer_usage_time', 'transfer_share_time', 'transfer_total_time', 'weather_information_searching_time', 'weather_information_sharing_time', 'weather_searching_total_time', 'sms_average intercharacter time', 'sms_median intercharacter time', 'sms_min intercharacter time', 'sms_max intercharacter time', 'sms_CPS', 'sms_KSPS', 'sms_GPS', 'sms_COER', 'sms_UER', 'sms_TER', 'sms_UB', 'sms_WB', 'ws_average intercharacter time', 'ws_median intercharacter time', 'ws_min intercharacter time', 'ws_max intercharacter time', 'ws_CPS', 'ws_KSPS', 'ws_COER', 'ws_UB']\n",
      "test accuracy :  1.0\n"
     ]
    },
    {
     "name": "stderr",
     "output_type": "stream",
     "text": [
      "\u001b[32m[I 2022-08-29 00:32:35,758]\u001b[0m A new study created in memory with name: lightgbm Study\u001b[0m\n",
      "\u001b[32m[I 2022-08-29 00:32:36,122]\u001b[0m Trial 0 finished with value: 0.6666666666666666 and parameters: {'n_estimators': 233, 'learning_rate': 0.005742436692923547, 'num_leaves': 131, 'colsample_bytree': 1.0, 'min_child_samples': 97, 'subsample': 0.6, 'reg_alpha': 3.670183980083784, 'reg_lambda': 3.2820491151626205}. Best is trial 0 with value: 0.6666666666666666.\u001b[0m\n"
     ]
    },
    {
     "name": "stdout",
     "output_type": "stream",
     "text": [
      "Optuna Best score :  0.6666666666666666\n",
      "Best parameters :  {'n_estimators': 233, 'learning_rate': 0.005742436692923547, 'num_leaves': 131, 'colsample_bytree': 1.0, 'min_child_samples': 97, 'subsample': 0.6, 'reg_alpha': 3.670183980083784, 'reg_lambda': 3.2820491151626205}\n",
      "Selected features Num:  32\n",
      "Selected features :  ['average_noti_response_app_start', 'median_noti_response_app_start', 'phone_register_noti_response', 'phone_register_screen_unlocking_time', 'phone_register_phone_number_register_time', 'phone_register_call_time', 'phone_register_total_time', 'phone_receive_total_time', 'phone_receive_missing_call_time_2', 'sms_reply_compeltion_time', 'sms_reply_total_time', 'camera_taken_time', 'camera_gallery_delete_time', 'camera_total_time', 'transfer_usage_time', 'transfer_total_time', 'weather_information_searching_time', 'weather_information_sharing_time', 'weather_searching_total_time', 'sms_median intercharacter time', 'sms_min intercharacter time', 'sms_max intercharacter time', 'sms_CPS', 'sms_KSPS', 'sms_TER', 'ws_average intercharacter time', 'ws_median intercharacter time', 'ws_min intercharacter time', 'ws_max intercharacter time', 'ws_CPS', 'ws_KSPS', 'ws_COER']\n",
      "test accuracy :  1.0\n"
     ]
    },
    {
     "name": "stderr",
     "output_type": "stream",
     "text": [
      "\u001b[32m[I 2022-08-29 00:32:45,702]\u001b[0m A new study created in memory with name: lightgbm Study\u001b[0m\n",
      "\u001b[32m[I 2022-08-29 00:32:46,769]\u001b[0m Trial 0 finished with value: 0.7635327635327636 and parameters: {'n_estimators': 129, 'learning_rate': 0.011320922759871685, 'num_leaves': 229, 'colsample_bytree': 0.6, 'min_child_samples': 5, 'subsample': 0.9, 'reg_alpha': 2.776336273567712, 'reg_lambda': 2.402801683035644}. Best is trial 0 with value: 0.7635327635327636.\u001b[0m\n"
     ]
    },
    {
     "name": "stdout",
     "output_type": "stream",
     "text": [
      "Optuna Best score :  0.7635327635327636\n",
      "Best parameters :  {'n_estimators': 129, 'learning_rate': 0.011320922759871685, 'num_leaves': 229, 'colsample_bytree': 0.6, 'min_child_samples': 5, 'subsample': 0.9, 'reg_alpha': 2.776336273567712, 'reg_lambda': 2.402801683035644}\n",
      "Selected features Num:  40\n",
      "Selected features :  ['average_noti_response_app_start', 'median_noti_response_app_start', 'phone_register_noti_response', 'phone_register_screen_unlocking_time', 'phone_register_phone_number_register_time', 'phone_register_call_time', 'phone_register_total_time', 'phone_receive_total_time', 'phone_receive_missing_call_time_1', 'phone_receive_missing_call_time_2', 'sms_reply_compeltion_time', 'sms_reply_total_time', 'camera_taken_time', 'camera_gallery_delete_time', 'camera_total_time', 'transfer_usage_time', 'transfer_share_time', 'transfer_total_time', 'weather_information_searching_time', 'weather_information_sharing_time', 'weather_searching_total_time', 'sms_average intercharacter time', 'sms_median intercharacter time', 'sms_min intercharacter time', 'sms_max intercharacter time', 'sms_CPS', 'sms_KSPS', 'sms_GPS', 'sms_COER', 'sms_TER', 'sms_UB', 'sms_WB', 'ws_average intercharacter time', 'ws_median intercharacter time', 'ws_min intercharacter time', 'ws_max intercharacter time', 'ws_CPS', 'ws_KSPS', 'ws_COER', 'ws_UB']\n",
      "test accuracy :  1.0\n"
     ]
    },
    {
     "name": "stderr",
     "output_type": "stream",
     "text": [
      "\u001b[32m[I 2022-08-29 00:32:57,231]\u001b[0m A new study created in memory with name: lightgbm Study\u001b[0m\n",
      "\u001b[32m[I 2022-08-29 00:32:57,861]\u001b[0m Trial 0 finished with value: 0.7692307692307693 and parameters: {'n_estimators': 333, 'learning_rate': 0.08503896776232589, 'num_leaves': 126, 'colsample_bytree': 0.9, 'min_child_samples': 61, 'subsample': 0.9, 'reg_alpha': 2.367770313739447, 'reg_lambda': 3.0895181373051606}. Best is trial 0 with value: 0.7692307692307693.\u001b[0m\n"
     ]
    },
    {
     "name": "stdout",
     "output_type": "stream",
     "text": [
      "Optuna Best score :  0.7692307692307693\n",
      "Best parameters :  {'n_estimators': 333, 'learning_rate': 0.08503896776232589, 'num_leaves': 126, 'colsample_bytree': 0.9, 'min_child_samples': 61, 'subsample': 0.9, 'reg_alpha': 2.367770313739447, 'reg_lambda': 3.0895181373051606}\n",
      "Selected features Num:  26\n",
      "Selected features :  ['average_noti_response_app_start', 'median_noti_response_app_start', 'phone_register_noti_response', 'phone_register_screen_unlocking_time', 'phone_register_call_time', 'phone_register_total_time', 'phone_receive_total_time', 'phone_receive_missing_call_time_2', 'sms_reply_compeltion_time', 'camera_gallery_delete_time', 'camera_total_time', 'transfer_usage_time', 'transfer_total_time', 'weather_information_searching_time', 'weather_information_sharing_time', 'sms_median intercharacter time', 'sms_min intercharacter time', 'sms_max intercharacter time', 'sms_CPS', 'sms_KSPS', 'sms_TER', 'ws_median intercharacter time', 'ws_min intercharacter time', 'ws_CPS', 'ws_KSPS', 'ws_COER']\n",
      "test accuracy :  1.0\n"
     ]
    },
    {
     "name": "stderr",
     "output_type": "stream",
     "text": [
      "\u001b[32m[I 2022-08-29 00:33:08,885]\u001b[0m A new study created in memory with name: lightgbm Study\u001b[0m\n",
      "\u001b[32m[I 2022-08-29 00:33:09,366]\u001b[0m Trial 0 finished with value: 0.7407407407407407 and parameters: {'n_estimators': 280, 'learning_rate': 0.007203694359000519, 'num_leaves': 172, 'colsample_bytree': 0.9, 'min_child_samples': 72, 'subsample': 0.6, 'reg_alpha': 2.603878282291447, 'reg_lambda': 3.62504842991095}. Best is trial 0 with value: 0.7407407407407407.\u001b[0m\n"
     ]
    },
    {
     "name": "stdout",
     "output_type": "stream",
     "text": [
      "Optuna Best score :  0.7407407407407407\n",
      "Best parameters :  {'n_estimators': 280, 'learning_rate': 0.007203694359000519, 'num_leaves': 172, 'colsample_bytree': 0.9, 'min_child_samples': 72, 'subsample': 0.6, 'reg_alpha': 2.603878282291447, 'reg_lambda': 3.62504842991095}\n",
      "Selected features Num:  36\n",
      "Selected features :  ['average_noti_response_app_start', 'median_noti_response_app_start', 'phone_register_noti_response', 'phone_register_screen_unlocking_time', 'phone_register_phone_number_register_time', 'phone_register_call_time', 'phone_register_total_time', 'phone_receive_total_time', 'phone_receive_missing_call_time_1', 'phone_receive_missing_call_time_2', 'sms_reply_compeltion_time', 'sms_reply_total_time', 'camera_taken_time', 'camera_gallery_delete_time', 'camera_total_time', 'transfer_usage_time', 'transfer_share_time', 'transfer_total_time', 'weather_information_searching_time', 'weather_information_sharing_time', 'weather_searching_total_time', 'sms_median intercharacter time', 'sms_min intercharacter time', 'sms_max intercharacter time', 'sms_CPS', 'sms_KSPS', 'sms_COER', 'sms_TER', 'sms_UB', 'ws_average intercharacter time', 'ws_median intercharacter time', 'ws_min intercharacter time', 'ws_max intercharacter time', 'ws_CPS', 'ws_KSPS', 'ws_COER']\n",
      "test accuracy :  0.6666666666666666\n"
     ]
    },
    {
     "name": "stderr",
     "output_type": "stream",
     "text": [
      "\u001b[32m[I 2022-08-29 00:33:19,904]\u001b[0m A new study created in memory with name: lightgbm Study\u001b[0m\n",
      "\u001b[32m[I 2022-08-29 00:33:20,240]\u001b[0m Trial 0 finished with value: 0.7635327635327636 and parameters: {'n_estimators': 166, 'learning_rate': 0.021469402952087647, 'num_leaves': 59, 'colsample_bytree': 0.6, 'min_child_samples': 67, 'subsample': 0.9, 'reg_alpha': 4.510543513998328, 'reg_lambda': 2.664424135355453}. Best is trial 0 with value: 0.7635327635327636.\u001b[0m\n"
     ]
    },
    {
     "name": "stdout",
     "output_type": "stream",
     "text": [
      "Optuna Best score :  0.7635327635327636\n",
      "Best parameters :  {'n_estimators': 166, 'learning_rate': 0.021469402952087647, 'num_leaves': 59, 'colsample_bytree': 0.6, 'min_child_samples': 67, 'subsample': 0.9, 'reg_alpha': 4.510543513998328, 'reg_lambda': 2.664424135355453}\n",
      "Selected features Num:  32\n",
      "Selected features :  ['average_noti_response_app_start', 'median_noti_response_app_start', 'phone_register_noti_response', 'phone_register_screen_unlocking_time', 'phone_register_phone_number_register_time', 'phone_register_call_time', 'phone_register_total_time', 'phone_receive_total_time', 'phone_receive_missing_call_time_2', 'sms_reply_compeltion_time', 'sms_reply_total_time', 'camera_taken_time', 'camera_gallery_delete_time', 'camera_total_time', 'transfer_usage_time', 'transfer_total_time', 'weather_information_searching_time', 'weather_information_sharing_time', 'weather_searching_total_time', 'sms_median intercharacter time', 'sms_min intercharacter time', 'sms_max intercharacter time', 'sms_CPS', 'sms_KSPS', 'sms_TER', 'ws_average intercharacter time', 'ws_median intercharacter time', 'ws_min intercharacter time', 'ws_max intercharacter time', 'ws_CPS', 'ws_KSPS', 'ws_COER']\n",
      "test accuracy :  0.6666666666666666\n"
     ]
    },
    {
     "name": "stderr",
     "output_type": "stream",
     "text": [
      "\u001b[32m[I 2022-08-29 00:33:30,429]\u001b[0m A new study created in memory with name: lightgbm Study\u001b[0m\n",
      "\u001b[32m[I 2022-08-29 00:33:30,732]\u001b[0m Trial 0 finished with value: 0.7521367521367521 and parameters: {'n_estimators': 179, 'learning_rate': 0.016798962096860177, 'num_leaves': 75, 'colsample_bytree': 1.0, 'min_child_samples': 92, 'subsample': 0.6, 'reg_alpha': 2.66089861153102, 'reg_lambda': 3.662271630488631}. Best is trial 0 with value: 0.7521367521367521.\u001b[0m\n"
     ]
    },
    {
     "name": "stdout",
     "output_type": "stream",
     "text": [
      "Optuna Best score :  0.7521367521367521\n",
      "Best parameters :  {'n_estimators': 179, 'learning_rate': 0.016798962096860177, 'num_leaves': 75, 'colsample_bytree': 1.0, 'min_child_samples': 92, 'subsample': 0.6, 'reg_alpha': 2.66089861153102, 'reg_lambda': 3.662271630488631}\n",
      "Selected features Num:  38\n",
      "Selected features :  ['average_noti_response_app_start', 'median_noti_response_app_start', 'phone_register_noti_response', 'phone_register_screen_unlocking_time', 'phone_register_phone_number_register_time', 'phone_register_call_time', 'phone_register_total_time', 'phone_receive_total_time', 'phone_receive_missing_call_time_1', 'phone_receive_missing_call_time_2', 'sms_reply_compeltion_time', 'sms_reply_total_time', 'camera_taken_time', 'camera_gallery_delete_time', 'camera_total_time', 'transfer_usage_time', 'transfer_share_time', 'transfer_total_time', 'weather_information_searching_time', 'weather_information_sharing_time', 'weather_searching_total_time', 'sms_average intercharacter time', 'sms_median intercharacter time', 'sms_min intercharacter time', 'sms_max intercharacter time', 'sms_CPS', 'sms_KSPS', 'sms_COER', 'sms_TER', 'sms_UB', 'ws_average intercharacter time', 'ws_median intercharacter time', 'ws_min intercharacter time', 'ws_max intercharacter time', 'ws_CPS', 'ws_KSPS', 'ws_COER', 'ws_UB']\n",
      "test accuracy :  0.6666666666666666\n"
     ]
    },
    {
     "name": "stderr",
     "output_type": "stream",
     "text": [
      "\u001b[32m[I 2022-08-29 00:33:40,643]\u001b[0m A new study created in memory with name: lightgbm Study\u001b[0m\n",
      "\u001b[32m[I 2022-08-29 00:33:41,617]\u001b[0m Trial 0 finished with value: 0.7977207977207977 and parameters: {'n_estimators': 300, 'learning_rate': 0.010155075004339306, 'num_leaves': 25, 'colsample_bytree': 0.8, 'min_child_samples': 46, 'subsample': 0.6, 'reg_alpha': 2.4339179691410253, 'reg_lambda': 3.8180643582356435}. Best is trial 0 with value: 0.7977207977207977.\u001b[0m\n"
     ]
    },
    {
     "name": "stdout",
     "output_type": "stream",
     "text": [
      "Optuna Best score :  0.7977207977207977\n",
      "Best parameters :  {'n_estimators': 300, 'learning_rate': 0.010155075004339306, 'num_leaves': 25, 'colsample_bytree': 0.8, 'min_child_samples': 46, 'subsample': 0.6, 'reg_alpha': 2.4339179691410253, 'reg_lambda': 3.8180643582356435}\n",
      "Selected features Num:  42\n",
      "Selected features :  ['Routine_Screen_Unlock_Pattern', 'average_noti_response_app_start', 'median_noti_response_app_start', 'phone_register_noti_response', 'phone_register_screen_unlocking_time', 'phone_register_phone_number_register_time', 'phone_register_call_time', 'phone_register_total_time', 'phone_receive_total_time', 'phone_receive_missing_call_time_1', 'phone_receive_missing_call_time_2', 'sms_reply_compeltion_time', 'sms_reply_total_time', 'camera_taken_time', 'camera_gallery_delete_time', 'camera_total_time', 'transfer_usage_time', 'transfer_share_time', 'transfer_total_time', 'weather_information_searching_time', 'weather_information_sharing_time', 'weather_searching_total_time', 'sms_average intercharacter time', 'sms_median intercharacter time', 'sms_min intercharacter time', 'sms_max intercharacter time', 'sms_CPS', 'sms_KSPS', 'sms_GPS', 'sms_COER', 'sms_UER', 'sms_TER', 'sms_UB', 'sms_WB', 'ws_average intercharacter time', 'ws_median intercharacter time', 'ws_min intercharacter time', 'ws_max intercharacter time', 'ws_CPS', 'ws_KSPS', 'ws_COER', 'ws_UB']\n",
      "test accuracy :  0.6666666666666666\n"
     ]
    },
    {
     "name": "stderr",
     "output_type": "stream",
     "text": [
      "\u001b[32m[I 2022-08-29 00:33:52,652]\u001b[0m A new study created in memory with name: lightgbm Study\u001b[0m\n",
      "\u001b[32m[I 2022-08-29 00:33:53,343]\u001b[0m Trial 0 finished with value: 0.7891737891737892 and parameters: {'n_estimators': 393, 'learning_rate': 0.05538363009498413, 'num_leaves': 239, 'colsample_bytree': 1.0, 'min_child_samples': 62, 'subsample': 0.9, 'reg_alpha': 3.7541495706022125, 'reg_lambda': 3.389404709960322}. Best is trial 0 with value: 0.7891737891737892.\u001b[0m\n"
     ]
    },
    {
     "name": "stdout",
     "output_type": "stream",
     "text": [
      "Optuna Best score :  0.7891737891737892\n",
      "Best parameters :  {'n_estimators': 393, 'learning_rate': 0.05538363009498413, 'num_leaves': 239, 'colsample_bytree': 1.0, 'min_child_samples': 62, 'subsample': 0.9, 'reg_alpha': 3.7541495706022125, 'reg_lambda': 3.389404709960322}\n",
      "Selected features Num:  32\n",
      "Selected features :  ['average_noti_response_app_start', 'median_noti_response_app_start', 'phone_register_noti_response', 'phone_register_screen_unlocking_time', 'phone_register_phone_number_register_time', 'phone_register_call_time', 'phone_register_total_time', 'phone_receive_total_time', 'phone_receive_missing_call_time_2', 'sms_reply_compeltion_time', 'sms_reply_total_time', 'camera_taken_time', 'camera_gallery_delete_time', 'transfer_usage_time', 'transfer_share_time', 'transfer_total_time', 'weather_information_searching_time', 'weather_information_sharing_time', 'weather_searching_total_time', 'sms_median intercharacter time', 'sms_min intercharacter time', 'sms_max intercharacter time', 'sms_CPS', 'sms_KSPS', 'sms_COER', 'sms_TER', 'ws_median intercharacter time', 'ws_min intercharacter time', 'ws_max intercharacter time', 'ws_CPS', 'ws_KSPS', 'ws_COER']\n",
      "test accuracy :  0.7777777777777778\n"
     ]
    },
    {
     "name": "stderr",
     "output_type": "stream",
     "text": [
      "\u001b[32m[I 2022-08-29 00:34:03,102]\u001b[0m A new study created in memory with name: lightgbm Study\u001b[0m\n",
      "\u001b[32m[I 2022-08-29 00:34:03,827]\u001b[0m Trial 0 finished with value: 0.7435897435897436 and parameters: {'n_estimators': 350, 'learning_rate': 0.00430714939124474, 'num_leaves': 89, 'colsample_bytree': 0.8, 'min_child_samples': 61, 'subsample': 1.0, 'reg_alpha': 1.1256722784558106, 'reg_lambda': 4.977409966109782}. Best is trial 0 with value: 0.7435897435897436.\u001b[0m\n"
     ]
    },
    {
     "name": "stdout",
     "output_type": "stream",
     "text": [
      "Optuna Best score :  0.7435897435897436\n",
      "Best parameters :  {'n_estimators': 350, 'learning_rate': 0.00430714939124474, 'num_leaves': 89, 'colsample_bytree': 0.8, 'min_child_samples': 61, 'subsample': 1.0, 'reg_alpha': 1.1256722784558106, 'reg_lambda': 4.977409966109782}\n",
      "Selected features Num:  40\n",
      "Selected features :  ['transition_sum_trial', 'average_noti_response_app_start', 'median_noti_response_app_start', 'phone_register_noti_response', 'phone_register_screen_unlocking_time', 'phone_register_phone_number_register_time', 'phone_register_call_time', 'phone_register_total_time', 'phone_receive_total_time', 'phone_receive_missing_call_time_1', 'phone_receive_missing_call_time_2', 'sms_reply_compeltion_time', 'sms_reply_total_time', 'camera_taken_time', 'camera_gallery_delete_time', 'camera_total_time', 'transfer_usage_time', 'transfer_share_time', 'transfer_total_time', 'weather_information_searching_time', 'weather_information_sharing_time', 'weather_searching_total_time', 'sms_average intercharacter time', 'sms_median intercharacter time', 'sms_min intercharacter time', 'sms_max intercharacter time', 'sms_CPS', 'sms_KSPS', 'sms_GPS', 'sms_COER', 'sms_TER', 'sms_UB', 'sms_WB', 'ws_average intercharacter time', 'ws_median intercharacter time', 'ws_min intercharacter time', 'ws_max intercharacter time', 'ws_CPS', 'ws_KSPS', 'ws_COER']\n",
      "test accuracy :  0.7777777777777778\n"
     ]
    },
    {
     "name": "stderr",
     "output_type": "stream",
     "text": [
      "\u001b[32m[I 2022-08-29 00:34:15,279]\u001b[0m A new study created in memory with name: lightgbm Study\u001b[0m\n",
      "\u001b[32m[I 2022-08-29 00:34:18,510]\u001b[0m Trial 0 finished with value: 0.7863247863247863 and parameters: {'n_estimators': 467, 'learning_rate': 0.011623458941844547, 'num_leaves': 118, 'colsample_bytree': 0.8, 'min_child_samples': 7, 'subsample': 0.9, 'reg_alpha': 3.492315681006897, 'reg_lambda': 3.6800957867755844}. Best is trial 0 with value: 0.7863247863247863.\u001b[0m\n"
     ]
    },
    {
     "name": "stdout",
     "output_type": "stream",
     "text": [
      "Optuna Best score :  0.7863247863247863\n",
      "Best parameters :  {'n_estimators': 467, 'learning_rate': 0.011623458941844547, 'num_leaves': 118, 'colsample_bytree': 0.8, 'min_child_samples': 7, 'subsample': 0.9, 'reg_alpha': 3.492315681006897, 'reg_lambda': 3.6800957867755844}\n",
      "Selected features Num:  32\n",
      "Selected features :  ['average_noti_response_app_start', 'median_noti_response_app_start', 'phone_register_noti_response', 'phone_register_screen_unlocking_time', 'phone_register_phone_number_register_time', 'phone_register_call_time', 'phone_register_total_time', 'phone_receive_total_time', 'phone_receive_missing_call_time_2', 'sms_reply_compeltion_time', 'sms_reply_total_time', 'camera_taken_time', 'camera_gallery_delete_time', 'transfer_usage_time', 'transfer_share_time', 'transfer_total_time', 'weather_information_searching_time', 'weather_information_sharing_time', 'sms_median intercharacter time', 'sms_min intercharacter time', 'sms_max intercharacter time', 'sms_CPS', 'sms_KSPS', 'sms_TER', 'sms_UB', 'ws_average intercharacter time', 'ws_median intercharacter time', 'ws_min intercharacter time', 'ws_max intercharacter time', 'ws_CPS', 'ws_KSPS', 'ws_COER']\n",
      "test accuracy :  0.6666666666666666\n"
     ]
    },
    {
     "name": "stderr",
     "output_type": "stream",
     "text": [
      "\u001b[32m[I 2022-08-29 00:34:29,465]\u001b[0m A new study created in memory with name: lightgbm Study\u001b[0m\n",
      "\u001b[32m[I 2022-08-29 00:34:30,697]\u001b[0m Trial 0 finished with value: 0.7806267806267806 and parameters: {'n_estimators': 113, 'learning_rate': 0.04900223193015766, 'num_leaves': 136, 'colsample_bytree': 1.0, 'min_child_samples': 5, 'subsample': 0.9, 'reg_alpha': 1.5594275493645928, 'reg_lambda': 4.220406650831182}. Best is trial 0 with value: 0.7806267806267806.\u001b[0m\n"
     ]
    },
    {
     "name": "stdout",
     "output_type": "stream",
     "text": [
      "Optuna Best score :  0.7806267806267806\n",
      "Best parameters :  {'n_estimators': 113, 'learning_rate': 0.04900223193015766, 'num_leaves': 136, 'colsample_bytree': 1.0, 'min_child_samples': 5, 'subsample': 0.9, 'reg_alpha': 1.5594275493645928, 'reg_lambda': 4.220406650831182}\n",
      "Selected features Num:  22\n",
      "Selected features :  ['average_noti_response_app_start', 'median_noti_response_app_start', 'phone_register_screen_unlocking_time', 'phone_register_phone_number_register_time', 'phone_register_call_time', 'phone_receive_total_time', 'phone_receive_missing_call_time_2', 'sms_reply_compeltion_time', 'camera_gallery_delete_time', 'transfer_usage_time', 'transfer_total_time', 'weather_information_sharing_time', 'sms_median intercharacter time', 'sms_max intercharacter time', 'sms_KSPS', 'sms_TER', 'sms_UB', 'ws_median intercharacter time', 'ws_min intercharacter time', 'ws_CPS', 'ws_KSPS', 'ws_COER']\n",
      "test accuracy :  0.5555555555555556\n"
     ]
    },
    {
     "name": "stderr",
     "output_type": "stream",
     "text": [
      "\u001b[32m[I 2022-08-29 00:34:40,265]\u001b[0m A new study created in memory with name: lightgbm Study\u001b[0m\n",
      "\u001b[32m[I 2022-08-29 00:34:41,227]\u001b[0m Trial 0 finished with value: 0.6666666666666666 and parameters: {'n_estimators': 316, 'learning_rate': 0.0013876052566088684, 'num_leaves': 62, 'colsample_bytree': 0.8, 'min_child_samples': 22, 'subsample': 0.9, 'reg_alpha': 4.516996120244235, 'reg_lambda': 2.922514915780542}. Best is trial 0 with value: 0.6666666666666666.\u001b[0m\n"
     ]
    },
    {
     "name": "stdout",
     "output_type": "stream",
     "text": [
      "Optuna Best score :  0.6666666666666666\n",
      "Best parameters :  {'n_estimators': 316, 'learning_rate': 0.0013876052566088684, 'num_leaves': 62, 'colsample_bytree': 0.8, 'min_child_samples': 22, 'subsample': 0.9, 'reg_alpha': 4.516996120244235, 'reg_lambda': 2.922514915780542}\n",
      "Selected features Num:  30\n",
      "Selected features :  ['average_noti_response_app_start', 'median_noti_response_app_start', 'phone_register_noti_response', 'phone_register_screen_unlocking_time', 'phone_register_phone_number_register_time', 'phone_register_call_time', 'phone_register_total_time', 'phone_receive_total_time', 'phone_receive_missing_call_time_2', 'sms_reply_compeltion_time', 'camera_gallery_delete_time', 'transfer_usage_time', 'transfer_share_time', 'transfer_total_time', 'weather_information_searching_time', 'weather_information_sharing_time', 'sms_median intercharacter time', 'sms_min intercharacter time', 'sms_max intercharacter time', 'sms_CPS', 'sms_KSPS', 'sms_COER', 'sms_TER', 'ws_average intercharacter time', 'ws_median intercharacter time', 'ws_min intercharacter time', 'ws_max intercharacter time', 'ws_CPS', 'ws_KSPS', 'ws_COER']\n",
      "test accuracy :  0.6666666666666666\n"
     ]
    },
    {
     "name": "stderr",
     "output_type": "stream",
     "text": [
      "\u001b[32m[I 2022-08-29 00:34:51,176]\u001b[0m A new study created in memory with name: lightgbm Study\u001b[0m\n",
      "\u001b[32m[I 2022-08-29 00:34:51,782]\u001b[0m Trial 0 finished with value: 0.7977207977207977 and parameters: {'n_estimators': 353, 'learning_rate': 0.0808152680590488, 'num_leaves': 253, 'colsample_bytree': 1.0, 'min_child_samples': 30, 'subsample': 0.6, 'reg_alpha': 4.664507839581347, 'reg_lambda': 4.953830867086028}. Best is trial 0 with value: 0.7977207977207977.\u001b[0m\n"
     ]
    },
    {
     "name": "stdout",
     "output_type": "stream",
     "text": [
      "Optuna Best score :  0.7977207977207977\n",
      "Best parameters :  {'n_estimators': 353, 'learning_rate': 0.0808152680590488, 'num_leaves': 253, 'colsample_bytree': 1.0, 'min_child_samples': 30, 'subsample': 0.6, 'reg_alpha': 4.664507839581347, 'reg_lambda': 4.953830867086028}\n",
      "Selected features Num:  26\n",
      "Selected features :  ['average_noti_response_app_start', 'median_noti_response_app_start', 'phone_register_noti_response', 'phone_register_screen_unlocking_time', 'phone_register_phone_number_register_time', 'phone_register_call_time', 'phone_register_total_time', 'phone_receive_total_time', 'phone_receive_missing_call_time_2', 'sms_reply_compeltion_time', 'camera_gallery_delete_time', 'transfer_usage_time', 'transfer_total_time', 'weather_information_searching_time', 'weather_information_sharing_time', 'sms_min intercharacter time', 'sms_max intercharacter time', 'sms_CPS', 'sms_KSPS', 'sms_TER', 'ws_median intercharacter time', 'ws_min intercharacter time', 'ws_max intercharacter time', 'ws_CPS', 'ws_KSPS', 'ws_COER']\n",
      "test accuracy :  0.7777777777777778\n"
     ]
    },
    {
     "name": "stderr",
     "output_type": "stream",
     "text": [
      "\u001b[32m[I 2022-08-29 00:35:00,965]\u001b[0m A new study created in memory with name: lightgbm Study\u001b[0m\n",
      "\u001b[32m[I 2022-08-29 00:35:01,398]\u001b[0m Trial 0 finished with value: 0.6666666666666666 and parameters: {'n_estimators': 226, 'learning_rate': 0.0011989970451306733, 'num_leaves': 178, 'colsample_bytree': 0.8, 'min_child_samples': 64, 'subsample': 1.0, 'reg_alpha': 2.8899608811064783, 'reg_lambda': 2.6171395432378137}. Best is trial 0 with value: 0.6666666666666666.\u001b[0m\n"
     ]
    },
    {
     "name": "stdout",
     "output_type": "stream",
     "text": [
      "Optuna Best score :  0.6666666666666666\n",
      "Best parameters :  {'n_estimators': 226, 'learning_rate': 0.0011989970451306733, 'num_leaves': 178, 'colsample_bytree': 0.8, 'min_child_samples': 64, 'subsample': 1.0, 'reg_alpha': 2.8899608811064783, 'reg_lambda': 2.6171395432378137}\n",
      "Selected features Num:  38\n",
      "Selected features :  ['average_noti_response_app_start', 'median_noti_response_app_start', 'phone_register_noti_response', 'phone_register_screen_unlocking_time', 'phone_register_phone_number_register_time', 'phone_register_call_time', 'phone_register_total_time', 'phone_receive_total_time', 'phone_receive_missing_call_time_1', 'phone_receive_missing_call_time_2', 'sms_reply_compeltion_time', 'sms_reply_total_time', 'camera_taken_time', 'camera_gallery_delete_time', 'camera_total_time', 'transfer_usage_time', 'transfer_share_time', 'transfer_total_time', 'weather_information_searching_time', 'weather_information_sharing_time', 'weather_searching_total_time', 'sms_average intercharacter time', 'sms_median intercharacter time', 'sms_min intercharacter time', 'sms_max intercharacter time', 'sms_CPS', 'sms_KSPS', 'sms_COER', 'sms_TER', 'sms_UB', 'ws_average intercharacter time', 'ws_median intercharacter time', 'ws_min intercharacter time', 'ws_max intercharacter time', 'ws_CPS', 'ws_KSPS', 'ws_COER', 'ws_UB']\n",
      "test accuracy :  0.6666666666666666\n"
     ]
    },
    {
     "name": "stderr",
     "output_type": "stream",
     "text": [
      "\u001b[32m[I 2022-08-29 00:35:10,746]\u001b[0m A new study created in memory with name: lightgbm Study\u001b[0m\n",
      "\u001b[32m[I 2022-08-29 00:35:11,045]\u001b[0m Trial 0 finished with value: 0.792022792022792 and parameters: {'n_estimators': 266, 'learning_rate': 0.05430944518506282, 'num_leaves': 168, 'colsample_bytree': 0.8, 'min_child_samples': 98, 'subsample': 1.0, 'reg_alpha': 4.266222938759796, 'reg_lambda': 1.1895462763060674}. Best is trial 0 with value: 0.792022792022792.\u001b[0m\n"
     ]
    },
    {
     "name": "stdout",
     "output_type": "stream",
     "text": [
      "Optuna Best score :  0.792022792022792\n",
      "Best parameters :  {'n_estimators': 266, 'learning_rate': 0.05430944518506282, 'num_leaves': 168, 'colsample_bytree': 0.8, 'min_child_samples': 98, 'subsample': 1.0, 'reg_alpha': 4.266222938759796, 'reg_lambda': 1.1895462763060674}\n",
      "Selected features Num:  22\n",
      "Selected features :  ['average_noti_response_app_start', 'median_noti_response_app_start', 'phone_register_noti_response', 'phone_register_screen_unlocking_time', 'phone_register_call_time', 'phone_register_total_time', 'phone_receive_total_time', 'phone_receive_missing_call_time_2', 'sms_reply_compeltion_time', 'camera_gallery_delete_time', 'transfer_total_time', 'weather_information_sharing_time', 'weather_searching_total_time', 'sms_median intercharacter time', 'sms_min intercharacter time', 'sms_max intercharacter time', 'sms_KSPS', 'sms_UB', 'ws_average intercharacter time', 'ws_median intercharacter time', 'ws_CPS', 'ws_COER']\n",
      "test accuracy :  0.5555555555555556\n"
     ]
    },
    {
     "name": "stderr",
     "output_type": "stream",
     "text": [
      "\u001b[32m[I 2022-08-29 00:35:18,906]\u001b[0m A new study created in memory with name: lightgbm Study\u001b[0m\n",
      "\u001b[32m[I 2022-08-29 00:35:19,342]\u001b[0m Trial 0 finished with value: 0.6666666666666666 and parameters: {'n_estimators': 290, 'learning_rate': 0.0011251830129970432, 'num_leaves': 214, 'colsample_bytree': 0.7, 'min_child_samples': 69, 'subsample': 0.9, 'reg_alpha': 1.5447360190374781, 'reg_lambda': 4.9963330150053205}. Best is trial 0 with value: 0.6666666666666666.\u001b[0m\n"
     ]
    },
    {
     "name": "stdout",
     "output_type": "stream",
     "text": [
      "Optuna Best score :  0.6666666666666666\n",
      "Best parameters :  {'n_estimators': 290, 'learning_rate': 0.0011251830129970432, 'num_leaves': 214, 'colsample_bytree': 0.7, 'min_child_samples': 69, 'subsample': 0.9, 'reg_alpha': 1.5447360190374781, 'reg_lambda': 4.9963330150053205}\n",
      "Selected features Num:  38\n",
      "Selected features :  ['average_noti_response_app_start', 'median_noti_response_app_start', 'phone_register_noti_response', 'phone_register_screen_unlocking_time', 'phone_register_phone_number_register_time', 'phone_register_call_time', 'phone_register_total_time', 'phone_receive_total_time', 'phone_receive_missing_call_time_1', 'phone_receive_missing_call_time_2', 'sms_reply_compeltion_time', 'sms_reply_total_time', 'camera_taken_time', 'camera_gallery_delete_time', 'camera_total_time', 'transfer_usage_time', 'transfer_share_time', 'transfer_total_time', 'weather_information_searching_time', 'weather_information_sharing_time', 'weather_searching_total_time', 'sms_average intercharacter time', 'sms_median intercharacter time', 'sms_min intercharacter time', 'sms_max intercharacter time', 'sms_CPS', 'sms_KSPS', 'sms_COER', 'sms_TER', 'sms_UB', 'ws_average intercharacter time', 'ws_median intercharacter time', 'ws_min intercharacter time', 'ws_max intercharacter time', 'ws_CPS', 'ws_KSPS', 'ws_COER', 'ws_UB']\n",
      "test accuracy :  0.6666666666666666\n"
     ]
    },
    {
     "name": "stderr",
     "output_type": "stream",
     "text": [
      "\u001b[32m[I 2022-08-29 00:35:26,985]\u001b[0m A new study created in memory with name: lightgbm Study\u001b[0m\n",
      "\u001b[32m[I 2022-08-29 00:35:27,280]\u001b[0m Trial 0 finished with value: 0.6666666666666666 and parameters: {'n_estimators': 174, 'learning_rate': 0.0030630669498707803, 'num_leaves': 71, 'colsample_bytree': 0.8, 'min_child_samples': 81, 'subsample': 0.8, 'reg_alpha': 1.0743027182760976, 'reg_lambda': 3.2773604698536616}. Best is trial 0 with value: 0.6666666666666666.\u001b[0m\n"
     ]
    },
    {
     "name": "stdout",
     "output_type": "stream",
     "text": [
      "Optuna Best score :  0.6666666666666666\n",
      "Best parameters :  {'n_estimators': 174, 'learning_rate': 0.0030630669498707803, 'num_leaves': 71, 'colsample_bytree': 0.8, 'min_child_samples': 81, 'subsample': 0.8, 'reg_alpha': 1.0743027182760976, 'reg_lambda': 3.2773604698536616}\n",
      "Selected features Num:  40\n",
      "Selected features :  ['average_noti_response_app_start', 'median_noti_response_app_start', 'phone_register_noti_response', 'phone_register_screen_unlocking_time', 'phone_register_phone_number_register_time', 'phone_register_call_time', 'phone_register_total_time', 'phone_receive_total_time', 'phone_receive_missing_call_time_1', 'phone_receive_missing_call_time_2', 'sms_reply_compeltion_time', 'sms_reply_total_time', 'camera_taken_time', 'camera_gallery_delete_time', 'camera_total_time', 'transfer_usage_time', 'transfer_share_time', 'transfer_total_time', 'weather_information_searching_time', 'weather_information_sharing_time', 'weather_searching_total_time', 'sms_average intercharacter time', 'sms_median intercharacter time', 'sms_min intercharacter time', 'sms_max intercharacter time', 'sms_CPS', 'sms_KSPS', 'sms_GPS', 'sms_COER', 'sms_TER', 'sms_UB', 'sms_WB', 'ws_average intercharacter time', 'ws_median intercharacter time', 'ws_min intercharacter time', 'ws_max intercharacter time', 'ws_CPS', 'ws_KSPS', 'ws_COER', 'ws_UB']\n",
      "test accuracy :  0.6666666666666666\n"
     ]
    },
    {
     "name": "stderr",
     "output_type": "stream",
     "text": [
      "\u001b[32m[I 2022-08-29 00:35:33,712]\u001b[0m A new study created in memory with name: lightgbm Study\u001b[0m\n",
      "\u001b[32m[I 2022-08-29 00:35:34,311]\u001b[0m Trial 0 finished with value: 0.7635327635327636 and parameters: {'n_estimators': 490, 'learning_rate': 0.005420555731070484, 'num_leaves': 28, 'colsample_bytree': 0.9, 'min_child_samples': 71, 'subsample': 0.8, 'reg_alpha': 2.42821658303504, 'reg_lambda': 2.1169478028337188}. Best is trial 0 with value: 0.7635327635327636.\u001b[0m\n"
     ]
    },
    {
     "name": "stdout",
     "output_type": "stream",
     "text": [
      "Optuna Best score :  0.7635327635327636\n",
      "Best parameters :  {'n_estimators': 490, 'learning_rate': 0.005420555731070484, 'num_leaves': 28, 'colsample_bytree': 0.9, 'min_child_samples': 71, 'subsample': 0.8, 'reg_alpha': 2.42821658303504, 'reg_lambda': 2.1169478028337188}\n",
      "Selected features Num:  32\n",
      "Selected features :  ['average_noti_response_app_start', 'median_noti_response_app_start', 'phone_register_noti_response', 'phone_register_screen_unlocking_time', 'phone_register_phone_number_register_time', 'phone_register_call_time', 'phone_register_total_time', 'phone_receive_total_time', 'phone_receive_missing_call_time_2', 'sms_reply_compeltion_time', 'camera_taken_time', 'camera_gallery_delete_time', 'transfer_usage_time', 'transfer_total_time', 'weather_information_searching_time', 'weather_information_sharing_time', 'weather_searching_total_time', 'sms_median intercharacter time', 'sms_min intercharacter time', 'sms_max intercharacter time', 'sms_CPS', 'sms_KSPS', 'sms_COER', 'sms_TER', 'sms_UB', 'ws_average intercharacter time', 'ws_median intercharacter time', 'ws_min intercharacter time', 'ws_max intercharacter time', 'ws_CPS', 'ws_KSPS', 'ws_COER']\n",
      "test accuracy :  0.7777777777777778\n"
     ]
    },
    {
     "name": "stderr",
     "output_type": "stream",
     "text": [
      "\u001b[32m[I 2022-08-29 00:35:40,559]\u001b[0m A new study created in memory with name: lightgbm Study\u001b[0m\n",
      "\u001b[32m[I 2022-08-29 00:35:40,838]\u001b[0m Trial 0 finished with value: 0.6666666666666666 and parameters: {'n_estimators': 125, 'learning_rate': 0.002094972557873669, 'num_leaves': 147, 'colsample_bytree': 0.7, 'min_child_samples': 36, 'subsample': 0.7, 'reg_alpha': 4.552920086798473, 'reg_lambda': 4.315430510802482}. Best is trial 0 with value: 0.6666666666666666.\u001b[0m\n"
     ]
    },
    {
     "name": "stdout",
     "output_type": "stream",
     "text": [
      "Optuna Best score :  0.6666666666666666\n",
      "Best parameters :  {'n_estimators': 125, 'learning_rate': 0.002094972557873669, 'num_leaves': 147, 'colsample_bytree': 0.7, 'min_child_samples': 36, 'subsample': 0.7, 'reg_alpha': 4.552920086798473, 'reg_lambda': 4.315430510802482}\n",
      "Selected features Num:  36\n",
      "Selected features :  ['average_noti_response_app_start', 'median_noti_response_app_start', 'phone_register_noti_response', 'phone_register_screen_unlocking_time', 'phone_register_phone_number_register_time', 'phone_register_call_time', 'phone_register_total_time', 'phone_receive_total_time', 'phone_receive_missing_call_time_1', 'phone_receive_missing_call_time_2', 'sms_reply_compeltion_time', 'sms_reply_total_time', 'camera_gallery_delete_time', 'camera_total_time', 'transfer_usage_time', 'transfer_share_time', 'transfer_total_time', 'weather_information_searching_time', 'weather_information_sharing_time', 'weather_searching_total_time', 'sms_median intercharacter time', 'sms_min intercharacter time', 'sms_max intercharacter time', 'sms_CPS', 'sms_KSPS', 'sms_GPS', 'sms_COER', 'sms_TER', 'sms_UB', 'ws_average intercharacter time', 'ws_median intercharacter time', 'ws_min intercharacter time', 'ws_max intercharacter time', 'ws_CPS', 'ws_KSPS', 'ws_COER']\n",
      "test accuracy :  0.6666666666666666\n"
     ]
    },
    {
     "name": "stderr",
     "output_type": "stream",
     "text": [
      "\u001b[32m[I 2022-08-29 00:35:46,927]\u001b[0m A new study created in memory with name: lightgbm Study\u001b[0m\n",
      "\u001b[32m[I 2022-08-29 00:35:47,501]\u001b[0m Trial 0 finished with value: 0.7806267806267806 and parameters: {'n_estimators': 452, 'learning_rate': 0.033127528685445044, 'num_leaves': 164, 'colsample_bytree': 1.0, 'min_child_samples': 73, 'subsample': 1.0, 'reg_alpha': 4.47677250092303, 'reg_lambda': 2.602728916959454}. Best is trial 0 with value: 0.7806267806267806.\u001b[0m\n"
     ]
    },
    {
     "name": "stdout",
     "output_type": "stream",
     "text": [
      "Optuna Best score :  0.7806267806267806\n",
      "Best parameters :  {'n_estimators': 452, 'learning_rate': 0.033127528685445044, 'num_leaves': 164, 'colsample_bytree': 1.0, 'min_child_samples': 73, 'subsample': 1.0, 'reg_alpha': 4.47677250092303, 'reg_lambda': 2.602728916959454}\n",
      "Selected features Num:  44\n",
      "Selected features :  ['Routine_Screen_Unlock_Pattern', 'Transition_Transfer', 'transition_sum_trial', 'average_noti_response_app_start', 'median_noti_response_app_start', 'phone_register_noti_response', 'phone_register_screen_unlocking_time', 'phone_register_phone_number_register_time', 'phone_register_call_time', 'phone_register_total_time', 'phone_receive_total_time', 'phone_receive_missing_call_time_1', 'phone_receive_missing_call_time_2', 'sms_reply_compeltion_time', 'sms_reply_total_time', 'camera_taken_time', 'camera_gallery_delete_time', 'camera_total_time', 'transfer_usage_time', 'transfer_share_time', 'transfer_total_time', 'weather_information_searching_time', 'weather_information_sharing_time', 'weather_searching_total_time', 'sms_average intercharacter time', 'sms_median intercharacter time', 'sms_min intercharacter time', 'sms_max intercharacter time', 'sms_CPS', 'sms_KSPS', 'sms_GPS', 'sms_COER', 'sms_UER', 'sms_TER', 'sms_UB', 'sms_WB', 'ws_average intercharacter time', 'ws_median intercharacter time', 'ws_min intercharacter time', 'ws_max intercharacter time', 'ws_CPS', 'ws_KSPS', 'ws_COER', 'ws_UB']\n",
      "test accuracy :  0.8888888888888888\n"
     ]
    },
    {
     "name": "stderr",
     "output_type": "stream",
     "text": [
      "\u001b[32m[I 2022-08-29 00:35:53,803]\u001b[0m A new study created in memory with name: lightgbm Study\u001b[0m\n",
      "\u001b[32m[I 2022-08-29 00:35:54,236]\u001b[0m Trial 0 finished with value: 0.7777777777777778 and parameters: {'n_estimators': 191, 'learning_rate': 0.03182110086259778, 'num_leaves': 244, 'colsample_bytree': 0.6, 'min_child_samples': 45, 'subsample': 0.7, 'reg_alpha': 1.2679885959430086, 'reg_lambda': 2.120083198853613}. Best is trial 0 with value: 0.7777777777777778.\u001b[0m\n"
     ]
    },
    {
     "name": "stdout",
     "output_type": "stream",
     "text": [
      "Optuna Best score :  0.7777777777777778\n",
      "Best parameters :  {'n_estimators': 191, 'learning_rate': 0.03182110086259778, 'num_leaves': 244, 'colsample_bytree': 0.6, 'min_child_samples': 45, 'subsample': 0.7, 'reg_alpha': 1.2679885959430086, 'reg_lambda': 2.120083198853613}\n",
      "Selected features Num:  36\n",
      "Selected features :  ['average_noti_response_app_start', 'median_noti_response_app_start', 'phone_register_noti_response', 'phone_register_screen_unlocking_time', 'phone_register_phone_number_register_time', 'phone_register_call_time', 'phone_register_total_time', 'phone_receive_total_time', 'phone_receive_missing_call_time_1', 'phone_receive_missing_call_time_2', 'sms_reply_compeltion_time', 'sms_reply_total_time', 'camera_taken_time', 'camera_gallery_delete_time', 'camera_total_time', 'transfer_usage_time', 'transfer_share_time', 'transfer_total_time', 'weather_information_searching_time', 'weather_information_sharing_time', 'weather_searching_total_time', 'sms_median intercharacter time', 'sms_min intercharacter time', 'sms_max intercharacter time', 'sms_CPS', 'sms_KSPS', 'sms_COER', 'sms_TER', 'sms_UB', 'ws_average intercharacter time', 'ws_median intercharacter time', 'ws_min intercharacter time', 'ws_max intercharacter time', 'ws_CPS', 'ws_KSPS', 'ws_COER']\n",
      "test accuracy :  0.5555555555555556\n"
     ]
    },
    {
     "name": "stderr",
     "output_type": "stream",
     "text": [
      "\u001b[32m[I 2022-08-29 00:36:00,101]\u001b[0m A new study created in memory with name: lightgbm Study\u001b[0m\n",
      "\u001b[32m[I 2022-08-29 00:36:02,036]\u001b[0m Trial 0 finished with value: 0.7293447293447294 and parameters: {'n_estimators': 460, 'learning_rate': 0.0021505849718623056, 'num_leaves': 200, 'colsample_bytree': 0.6, 'min_child_samples': 18, 'subsample': 1.0, 'reg_alpha': 4.6226737617417974, 'reg_lambda': 3.815410235831862}. Best is trial 0 with value: 0.7293447293447294.\u001b[0m\n"
     ]
    },
    {
     "name": "stdout",
     "output_type": "stream",
     "text": [
      "Optuna Best score :  0.7293447293447294\n",
      "Best parameters :  {'n_estimators': 460, 'learning_rate': 0.0021505849718623056, 'num_leaves': 200, 'colsample_bytree': 0.6, 'min_child_samples': 18, 'subsample': 1.0, 'reg_alpha': 4.6226737617417974, 'reg_lambda': 3.815410235831862}\n",
      "Selected features Num:  42\n",
      "Selected features :  ['transition_sum_trial', 'average_noti_response_app_start', 'median_noti_response_app_start', 'phone_register_noti_response', 'phone_register_screen_unlocking_time', 'phone_register_phone_number_register_time', 'phone_register_call_time', 'phone_register_total_time', 'phone_receive_total_time', 'phone_receive_missing_call_time_1', 'phone_receive_missing_call_time_2', 'sms_reply_compeltion_time', 'sms_reply_total_time', 'camera_taken_time', 'camera_gallery_delete_time', 'camera_total_time', 'transfer_usage_time', 'transfer_share_time', 'transfer_total_time', 'weather_information_searching_time', 'weather_information_sharing_time', 'weather_searching_total_time', 'sms_average intercharacter time', 'sms_median intercharacter time', 'sms_min intercharacter time', 'sms_max intercharacter time', 'sms_CPS', 'sms_KSPS', 'sms_GPS', 'sms_COER', 'sms_UER', 'sms_TER', 'sms_UB', 'sms_WB', 'ws_average intercharacter time', 'ws_median intercharacter time', 'ws_min intercharacter time', 'ws_max intercharacter time', 'ws_CPS', 'ws_KSPS', 'ws_COER', 'ws_UB']\n",
      "test accuracy :  0.6666666666666666\n"
     ]
    },
    {
     "name": "stderr",
     "output_type": "stream",
     "text": [
      "\u001b[32m[I 2022-08-29 00:36:09,688]\u001b[0m A new study created in memory with name: lightgbm Study\u001b[0m\n",
      "\u001b[32m[I 2022-08-29 00:36:10,128]\u001b[0m Trial 0 finished with value: 0.6666666666666666 and parameters: {'n_estimators': 397, 'learning_rate': 0.001295094303089626, 'num_leaves': 3, 'colsample_bytree': 0.7, 'min_child_samples': 51, 'subsample': 0.6, 'reg_alpha': 4.217034629714612, 'reg_lambda': 3.0747925777228873}. Best is trial 0 with value: 0.6666666666666666.\u001b[0m\n"
     ]
    },
    {
     "name": "stdout",
     "output_type": "stream",
     "text": [
      "Optuna Best score :  0.6666666666666666\n",
      "Best parameters :  {'n_estimators': 397, 'learning_rate': 0.001295094303089626, 'num_leaves': 3, 'colsample_bytree': 0.7, 'min_child_samples': 51, 'subsample': 0.6, 'reg_alpha': 4.217034629714612, 'reg_lambda': 3.0747925777228873}\n",
      "Selected features Num:  38\n",
      "Selected features :  ['average_noti_response_app_start', 'median_noti_response_app_start', 'phone_register_noti_response', 'phone_register_screen_unlocking_time', 'phone_register_phone_number_register_time', 'phone_register_call_time', 'phone_register_total_time', 'phone_receive_total_time', 'phone_receive_missing_call_time_1', 'phone_receive_missing_call_time_2', 'sms_reply_compeltion_time', 'sms_reply_total_time', 'camera_taken_time', 'camera_gallery_delete_time', 'camera_total_time', 'transfer_usage_time', 'transfer_share_time', 'transfer_total_time', 'weather_information_searching_time', 'weather_information_sharing_time', 'weather_searching_total_time', 'sms_average intercharacter time', 'sms_median intercharacter time', 'sms_min intercharacter time', 'sms_max intercharacter time', 'sms_CPS', 'sms_KSPS', 'sms_GPS', 'sms_TER', 'sms_UB', 'sms_WB', 'ws_average intercharacter time', 'ws_median intercharacter time', 'ws_min intercharacter time', 'ws_max intercharacter time', 'ws_CPS', 'ws_KSPS', 'ws_COER']\n",
      "test accuracy :  0.6666666666666666\n"
     ]
    },
    {
     "name": "stderr",
     "output_type": "stream",
     "text": [
      "\u001b[32m[I 2022-08-29 00:36:17,269]\u001b[0m A new study created in memory with name: lightgbm Study\u001b[0m\n",
      "\u001b[32m[I 2022-08-29 00:36:19,802]\u001b[0m Trial 0 finished with value: 0.7977207977207977 and parameters: {'n_estimators': 270, 'learning_rate': 0.01284478441744208, 'num_leaves': 148, 'colsample_bytree': 0.6, 'min_child_samples': 5, 'subsample': 0.9, 'reg_alpha': 2.185266803819865, 'reg_lambda': 4.11845859248351}. Best is trial 0 with value: 0.7977207977207977.\u001b[0m\n"
     ]
    },
    {
     "name": "stdout",
     "output_type": "stream",
     "text": [
      "Optuna Best score :  0.7977207977207977\n",
      "Best parameters :  {'n_estimators': 270, 'learning_rate': 0.01284478441744208, 'num_leaves': 148, 'colsample_bytree': 0.6, 'min_child_samples': 5, 'subsample': 0.9, 'reg_alpha': 2.185266803819865, 'reg_lambda': 4.11845859248351}\n",
      "Selected features Num:  38\n",
      "Selected features :  ['average_noti_response_app_start', 'median_noti_response_app_start', 'phone_register_noti_response', 'phone_register_screen_unlocking_time', 'phone_register_phone_number_register_time', 'phone_register_call_time', 'phone_register_total_time', 'phone_receive_total_time', 'phone_receive_missing_call_time_1', 'phone_receive_missing_call_time_2', 'sms_reply_compeltion_time', 'sms_reply_total_time', 'camera_taken_time', 'camera_gallery_delete_time', 'camera_total_time', 'transfer_usage_time', 'transfer_share_time', 'transfer_total_time', 'weather_information_searching_time', 'weather_information_sharing_time', 'weather_searching_total_time', 'sms_average intercharacter time', 'sms_median intercharacter time', 'sms_min intercharacter time', 'sms_max intercharacter time', 'sms_CPS', 'sms_KSPS', 'sms_GPS', 'sms_COER', 'sms_TER', 'sms_UB', 'ws_average intercharacter time', 'ws_median intercharacter time', 'ws_min intercharacter time', 'ws_max intercharacter time', 'ws_CPS', 'ws_KSPS', 'ws_COER']\n",
      "test accuracy :  0.7777777777777778\n"
     ]
    },
    {
     "name": "stderr",
     "output_type": "stream",
     "text": [
      "\u001b[32m[I 2022-08-29 00:36:27,811]\u001b[0m A new study created in memory with name: lightgbm Study\u001b[0m\n",
      "\u001b[32m[I 2022-08-29 00:36:28,402]\u001b[0m Trial 0 finished with value: 0.792022792022792 and parameters: {'n_estimators': 323, 'learning_rate': 0.09417347224240731, 'num_leaves': 199, 'colsample_bytree': 0.8, 'min_child_samples': 52, 'subsample': 0.8, 'reg_alpha': 1.193223030844381, 'reg_lambda': 1.4511733199249717}. Best is trial 0 with value: 0.792022792022792.\u001b[0m\n"
     ]
    },
    {
     "name": "stdout",
     "output_type": "stream",
     "text": [
      "Optuna Best score :  0.792022792022792\n",
      "Best parameters :  {'n_estimators': 323, 'learning_rate': 0.09417347224240731, 'num_leaves': 199, 'colsample_bytree': 0.8, 'min_child_samples': 52, 'subsample': 0.8, 'reg_alpha': 1.193223030844381, 'reg_lambda': 1.4511733199249717}\n",
      "Selected features Num:  34\n",
      "Selected features :  ['average_noti_response_app_start', 'median_noti_response_app_start', 'phone_register_noti_response', 'phone_register_screen_unlocking_time', 'phone_register_phone_number_register_time', 'phone_register_call_time', 'phone_register_total_time', 'phone_receive_total_time', 'phone_receive_missing_call_time_2', 'sms_reply_compeltion_time', 'sms_reply_total_time', 'camera_taken_time', 'camera_gallery_delete_time', 'camera_total_time', 'transfer_usage_time', 'transfer_share_time', 'transfer_total_time', 'weather_information_searching_time', 'weather_information_sharing_time', 'weather_searching_total_time', 'sms_median intercharacter time', 'sms_min intercharacter time', 'sms_max intercharacter time', 'sms_CPS', 'sms_KSPS', 'sms_COER', 'sms_TER', 'sms_UB', 'ws_average intercharacter time', 'ws_median intercharacter time', 'ws_min intercharacter time', 'ws_CPS', 'ws_KSPS', 'ws_COER']\n",
      "test accuracy :  0.5555555555555556\n"
     ]
    },
    {
     "name": "stderr",
     "output_type": "stream",
     "text": [
      "\u001b[32m[I 2022-08-29 00:36:36,405]\u001b[0m A new study created in memory with name: lightgbm Study\u001b[0m\n",
      "\u001b[32m[I 2022-08-29 00:36:37,078]\u001b[0m Trial 0 finished with value: 0.6809116809116809 and parameters: {'n_estimators': 381, 'learning_rate': 0.0030651739050323204, 'num_leaves': 171, 'colsample_bytree': 0.7, 'min_child_samples': 96, 'subsample': 1.0, 'reg_alpha': 1.466836765963098, 'reg_lambda': 4.435714506700927}. Best is trial 0 with value: 0.6809116809116809.\u001b[0m\n"
     ]
    },
    {
     "name": "stdout",
     "output_type": "stream",
     "text": [
      "Optuna Best score :  0.6809116809116809\n",
      "Best parameters :  {'n_estimators': 381, 'learning_rate': 0.0030651739050323204, 'num_leaves': 171, 'colsample_bytree': 0.7, 'min_child_samples': 96, 'subsample': 1.0, 'reg_alpha': 1.466836765963098, 'reg_lambda': 4.435714506700927}\n",
      "Selected features Num:  40\n",
      "Selected features :  ['average_noti_response_app_start', 'median_noti_response_app_start', 'phone_register_noti_response', 'phone_register_screen_unlocking_time', 'phone_register_phone_number_register_time', 'phone_register_call_time', 'phone_register_total_time', 'phone_receive_total_time', 'phone_receive_missing_call_time_1', 'phone_receive_missing_call_time_2', 'sms_reply_compeltion_time', 'sms_reply_total_time', 'camera_taken_time', 'camera_gallery_delete_time', 'camera_total_time', 'transfer_usage_time', 'transfer_share_time', 'transfer_total_time', 'weather_information_searching_time', 'weather_information_sharing_time', 'weather_searching_total_time', 'sms_average intercharacter time', 'sms_median intercharacter time', 'sms_min intercharacter time', 'sms_max intercharacter time', 'sms_CPS', 'sms_KSPS', 'sms_GPS', 'sms_COER', 'sms_TER', 'sms_UB', 'sms_WB', 'ws_average intercharacter time', 'ws_median intercharacter time', 'ws_min intercharacter time', 'ws_max intercharacter time', 'ws_CPS', 'ws_KSPS', 'ws_COER', 'ws_UB']\n",
      "test accuracy :  0.6666666666666666\n"
     ]
    },
    {
     "name": "stderr",
     "output_type": "stream",
     "text": [
      "\u001b[32m[I 2022-08-29 00:36:44,811]\u001b[0m A new study created in memory with name: lightgbm Study\u001b[0m\n",
      "\u001b[32m[I 2022-08-29 00:36:45,512]\u001b[0m Trial 0 finished with value: 0.7407407407407407 and parameters: {'n_estimators': 415, 'learning_rate': 0.002574949616883585, 'num_leaves': 36, 'colsample_bytree': 1.0, 'min_child_samples': 51, 'subsample': 0.9, 'reg_alpha': 2.4145272083964557, 'reg_lambda': 2.519096502849755}. Best is trial 0 with value: 0.7407407407407407.\u001b[0m\n"
     ]
    },
    {
     "name": "stdout",
     "output_type": "stream",
     "text": [
      "Optuna Best score :  0.7407407407407407\n",
      "Best parameters :  {'n_estimators': 415, 'learning_rate': 0.002574949616883585, 'num_leaves': 36, 'colsample_bytree': 1.0, 'min_child_samples': 51, 'subsample': 0.9, 'reg_alpha': 2.4145272083964557, 'reg_lambda': 2.519096502849755}\n",
      "Selected features Num:  20\n",
      "Selected features :  ['average_noti_response_app_start', 'median_noti_response_app_start', 'phone_register_noti_response', 'phone_register_screen_unlocking_time', 'phone_register_call_time', 'phone_receive_total_time', 'sms_reply_compeltion_time', 'camera_gallery_delete_time', 'transfer_usage_time', 'transfer_total_time', 'weather_information_searching_time', 'weather_information_sharing_time', 'sms_max intercharacter time', 'sms_KSPS', 'sms_TER', 'ws_average intercharacter time', 'ws_median intercharacter time', 'ws_CPS', 'ws_KSPS', 'ws_COER']\n",
      "test accuracy :  0.7777777777777778\n"
     ]
    },
    {
     "name": "stderr",
     "output_type": "stream",
     "text": [
      "\u001b[32m[I 2022-08-29 00:36:53,140]\u001b[0m A new study created in memory with name: lightgbm Study\u001b[0m\n",
      "\u001b[32m[I 2022-08-29 00:36:54,456]\u001b[0m Trial 0 finished with value: 0.7663817663817664 and parameters: {'n_estimators': 490, 'learning_rate': 0.0026292073947639673, 'num_leaves': 49, 'colsample_bytree': 0.6, 'min_child_samples': 13, 'subsample': 1.0, 'reg_alpha': 1.4574305799282188, 'reg_lambda': 2.4694706633954246}. Best is trial 0 with value: 0.7663817663817664.\u001b[0m\n"
     ]
    },
    {
     "name": "stdout",
     "output_type": "stream",
     "text": [
      "Optuna Best score :  0.7663817663817664\n",
      "Best parameters :  {'n_estimators': 490, 'learning_rate': 0.0026292073947639673, 'num_leaves': 49, 'colsample_bytree': 0.6, 'min_child_samples': 13, 'subsample': 1.0, 'reg_alpha': 1.4574305799282188, 'reg_lambda': 2.4694706633954246}\n",
      "Selected features Num:  36\n",
      "Selected features :  ['average_noti_response_app_start', 'median_noti_response_app_start', 'phone_register_noti_response', 'phone_register_screen_unlocking_time', 'phone_register_phone_number_register_time', 'phone_register_call_time', 'phone_register_total_time', 'phone_receive_total_time', 'phone_receive_missing_call_time_1', 'phone_receive_missing_call_time_2', 'sms_reply_compeltion_time', 'sms_reply_total_time', 'camera_taken_time', 'camera_gallery_delete_time', 'camera_total_time', 'transfer_usage_time', 'transfer_share_time', 'transfer_total_time', 'weather_information_searching_time', 'weather_information_sharing_time', 'weather_searching_total_time', 'sms_average intercharacter time', 'sms_median intercharacter time', 'sms_min intercharacter time', 'sms_max intercharacter time', 'sms_CPS', 'sms_COER', 'sms_TER', 'sms_UB', 'ws_average intercharacter time', 'ws_median intercharacter time', 'ws_min intercharacter time', 'ws_max intercharacter time', 'ws_CPS', 'ws_KSPS', 'ws_COER']\n",
      "test accuracy :  0.6666666666666666\n"
     ]
    },
    {
     "name": "stderr",
     "output_type": "stream",
     "text": [
      "\u001b[32m[I 2022-08-29 00:37:01,374]\u001b[0m A new study created in memory with name: lightgbm Study\u001b[0m\n",
      "\u001b[32m[I 2022-08-29 00:37:01,761]\u001b[0m Trial 0 finished with value: 0.7806267806267806 and parameters: {'n_estimators': 315, 'learning_rate': 0.04354821898814804, 'num_leaves': 79, 'colsample_bytree': 1.0, 'min_child_samples': 91, 'subsample': 0.6, 'reg_alpha': 3.69474661484168, 'reg_lambda': 1.0498828653499461}. Best is trial 0 with value: 0.7806267806267806.\u001b[0m\n"
     ]
    },
    {
     "name": "stdout",
     "output_type": "stream",
     "text": [
      "Optuna Best score :  0.7806267806267806\n",
      "Best parameters :  {'n_estimators': 315, 'learning_rate': 0.04354821898814804, 'num_leaves': 79, 'colsample_bytree': 1.0, 'min_child_samples': 91, 'subsample': 0.6, 'reg_alpha': 3.69474661484168, 'reg_lambda': 1.0498828653499461}\n",
      "Selected features Num:  30\n",
      "Selected features :  ['average_noti_response_app_start', 'median_noti_response_app_start', 'phone_register_noti_response', 'phone_register_screen_unlocking_time', 'phone_register_phone_number_register_time', 'phone_register_call_time', 'phone_register_total_time', 'phone_receive_total_time', 'phone_receive_missing_call_time_2', 'sms_reply_compeltion_time', 'camera_gallery_delete_time', 'transfer_usage_time', 'transfer_total_time', 'weather_information_searching_time', 'weather_information_sharing_time', 'weather_searching_total_time', 'sms_median intercharacter time', 'sms_min intercharacter time', 'sms_max intercharacter time', 'sms_CPS', 'sms_KSPS', 'sms_COER', 'sms_TER', 'sms_UB', 'ws_median intercharacter time', 'ws_min intercharacter time', 'ws_max intercharacter time', 'ws_CPS', 'ws_KSPS', 'ws_COER']\n",
      "test accuracy :  0.6666666666666666\n"
     ]
    },
    {
     "name": "stderr",
     "output_type": "stream",
     "text": [
      "\u001b[32m[I 2022-08-29 00:37:08,704]\u001b[0m A new study created in memory with name: lightgbm Study\u001b[0m\n",
      "\u001b[32m[I 2022-08-29 00:37:09,140]\u001b[0m Trial 0 finished with value: 0.6666666666666666 and parameters: {'n_estimators': 180, 'learning_rate': 0.0014434716215996513, 'num_leaves': 188, 'colsample_bytree': 0.8, 'min_child_samples': 29, 'subsample': 0.6, 'reg_alpha': 1.158169363365916, 'reg_lambda': 1.8555539949073876}. Best is trial 0 with value: 0.6666666666666666.\u001b[0m\n"
     ]
    },
    {
     "name": "stdout",
     "output_type": "stream",
     "text": [
      "Optuna Best score :  0.6666666666666666\n",
      "Best parameters :  {'n_estimators': 180, 'learning_rate': 0.0014434716215996513, 'num_leaves': 188, 'colsample_bytree': 0.8, 'min_child_samples': 29, 'subsample': 0.6, 'reg_alpha': 1.158169363365916, 'reg_lambda': 1.8555539949073876}\n",
      "Selected features Num:  36\n",
      "Selected features :  ['average_noti_response_app_start', 'median_noti_response_app_start', 'phone_register_noti_response', 'phone_register_screen_unlocking_time', 'phone_register_phone_number_register_time', 'phone_register_call_time', 'phone_register_total_time', 'phone_receive_total_time', 'phone_receive_missing_call_time_1', 'phone_receive_missing_call_time_2', 'sms_reply_compeltion_time', 'sms_reply_total_time', 'camera_taken_time', 'camera_gallery_delete_time', 'camera_total_time', 'transfer_usage_time', 'transfer_total_time', 'weather_information_searching_time', 'weather_information_sharing_time', 'weather_searching_total_time', 'sms_average intercharacter time', 'sms_median intercharacter time', 'sms_min intercharacter time', 'sms_max intercharacter time', 'sms_CPS', 'sms_KSPS', 'sms_COER', 'sms_TER', 'sms_UB', 'ws_average intercharacter time', 'ws_median intercharacter time', 'ws_min intercharacter time', 'ws_max intercharacter time', 'ws_CPS', 'ws_KSPS', 'ws_COER']\n",
      "test accuracy :  0.6666666666666666\n"
     ]
    },
    {
     "name": "stderr",
     "output_type": "stream",
     "text": [
      "\u001b[32m[I 2022-08-29 00:37:15,980]\u001b[0m A new study created in memory with name: lightgbm Study\u001b[0m\n",
      "\u001b[32m[I 2022-08-29 00:37:16,439]\u001b[0m Trial 0 finished with value: 0.6666666666666666 and parameters: {'n_estimators': 133, 'learning_rate': 0.0031396163205134435, 'num_leaves': 40, 'colsample_bytree': 0.9, 'min_child_samples': 7, 'subsample': 0.9, 'reg_alpha': 4.999117601535151, 'reg_lambda': 4.4053834121981525}. Best is trial 0 with value: 0.6666666666666666.\u001b[0m\n"
     ]
    },
    {
     "name": "stdout",
     "output_type": "stream",
     "text": [
      "Optuna Best score :  0.6666666666666666\n",
      "Best parameters :  {'n_estimators': 133, 'learning_rate': 0.0031396163205134435, 'num_leaves': 40, 'colsample_bytree': 0.9, 'min_child_samples': 7, 'subsample': 0.9, 'reg_alpha': 4.999117601535151, 'reg_lambda': 4.4053834121981525}\n",
      "Selected features Num:  30\n",
      "Selected features :  ['average_noti_response_app_start', 'median_noti_response_app_start', 'phone_register_noti_response', 'phone_register_screen_unlocking_time', 'phone_register_phone_number_register_time', 'phone_register_call_time', 'phone_register_total_time', 'phone_receive_total_time', 'phone_receive_missing_call_time_2', 'sms_reply_compeltion_time', 'sms_reply_total_time', 'camera_gallery_delete_time', 'camera_total_time', 'transfer_usage_time', 'transfer_total_time', 'weather_information_searching_time', 'weather_information_sharing_time', 'weather_searching_total_time', 'sms_median intercharacter time', 'sms_min intercharacter time', 'sms_max intercharacter time', 'sms_CPS', 'sms_COER', 'sms_TER', 'sms_UB', 'ws_average intercharacter time', 'ws_median intercharacter time', 'ws_min intercharacter time', 'ws_CPS', 'ws_COER']\n",
      "test accuracy :  0.6666666666666666\n"
     ]
    },
    {
     "name": "stderr",
     "output_type": "stream",
     "text": [
      "\u001b[32m[I 2022-08-29 00:37:23,122]\u001b[0m A new study created in memory with name: lightgbm Study\u001b[0m\n",
      "\u001b[32m[I 2022-08-29 00:37:23,515]\u001b[0m Trial 0 finished with value: 0.7492877492877493 and parameters: {'n_estimators': 204, 'learning_rate': 0.004774595235652467, 'num_leaves': 12, 'colsample_bytree': 0.6, 'min_child_samples': 53, 'subsample': 1.0, 'reg_alpha': 1.849662025337539, 'reg_lambda': 1.8262010537552507}. Best is trial 0 with value: 0.7492877492877493.\u001b[0m\n"
     ]
    },
    {
     "name": "stdout",
     "output_type": "stream",
     "text": [
      "Optuna Best score :  0.7492877492877493\n",
      "Best parameters :  {'n_estimators': 204, 'learning_rate': 0.004774595235652467, 'num_leaves': 12, 'colsample_bytree': 0.6, 'min_child_samples': 53, 'subsample': 1.0, 'reg_alpha': 1.849662025337539, 'reg_lambda': 1.8262010537552507}\n",
      "Selected features Num:  42\n",
      "Selected features :  ['transition_sum_trial', 'average_noti_response_app_start', 'median_noti_response_app_start', 'phone_register_noti_response', 'phone_register_screen_unlocking_time', 'phone_register_phone_number_register_time', 'phone_register_call_time', 'phone_register_total_time', 'phone_receive_total_time', 'phone_receive_missing_call_time_1', 'phone_receive_missing_call_time_2', 'sms_reply_compeltion_time', 'sms_reply_total_time', 'camera_taken_time', 'camera_gallery_delete_time', 'camera_total_time', 'transfer_usage_time', 'transfer_share_time', 'transfer_total_time', 'weather_information_searching_time', 'weather_information_sharing_time', 'weather_searching_total_time', 'sms_average intercharacter time', 'sms_median intercharacter time', 'sms_min intercharacter time', 'sms_max intercharacter time', 'sms_CPS', 'sms_KSPS', 'sms_GPS', 'sms_COER', 'sms_UER', 'sms_TER', 'sms_UB', 'sms_WB', 'ws_average intercharacter time', 'ws_median intercharacter time', 'ws_min intercharacter time', 'ws_max intercharacter time', 'ws_CPS', 'ws_KSPS', 'ws_COER', 'ws_UB']\n",
      "test accuracy :  0.6666666666666666\n"
     ]
    },
    {
     "name": "stderr",
     "output_type": "stream",
     "text": [
      "\u001b[32m[I 2022-08-29 00:37:29,996]\u001b[0m A new study created in memory with name: lightgbm Study\u001b[0m\n",
      "\u001b[32m[I 2022-08-29 00:37:30,458]\u001b[0m Trial 0 finished with value: 0.7578347578347578 and parameters: {'n_estimators': 242, 'learning_rate': 0.011808987259591303, 'num_leaves': 109, 'colsample_bytree': 0.7, 'min_child_samples': 32, 'subsample': 0.7, 'reg_alpha': 3.92223714099638, 'reg_lambda': 4.902649662666024}. Best is trial 0 with value: 0.7578347578347578.\u001b[0m\n"
     ]
    },
    {
     "name": "stdout",
     "output_type": "stream",
     "text": [
      "Optuna Best score :  0.7578347578347578\n",
      "Best parameters :  {'n_estimators': 242, 'learning_rate': 0.011808987259591303, 'num_leaves': 109, 'colsample_bytree': 0.7, 'min_child_samples': 32, 'subsample': 0.7, 'reg_alpha': 3.92223714099638, 'reg_lambda': 4.902649662666024}\n",
      "Selected features Num:  44\n",
      "Selected features :  ['Transition_SMS_Reply', 'Transition_Camera', 'transition_sum_trial', 'average_noti_response_app_start', 'median_noti_response_app_start', 'phone_register_noti_response', 'phone_register_screen_unlocking_time', 'phone_register_phone_number_register_time', 'phone_register_call_time', 'phone_register_total_time', 'phone_receive_total_time', 'phone_receive_missing_call_time_1', 'phone_receive_missing_call_time_2', 'sms_reply_compeltion_time', 'sms_reply_total_time', 'camera_taken_time', 'camera_gallery_delete_time', 'camera_total_time', 'transfer_usage_time', 'transfer_share_time', 'transfer_total_time', 'weather_information_searching_time', 'weather_information_sharing_time', 'weather_searching_total_time', 'sms_average intercharacter time', 'sms_median intercharacter time', 'sms_min intercharacter time', 'sms_max intercharacter time', 'sms_CPS', 'sms_KSPS', 'sms_GPS', 'sms_COER', 'sms_TER', 'sms_UB', 'sms_WB', 'ws_average intercharacter time', 'ws_median intercharacter time', 'ws_min intercharacter time', 'ws_max intercharacter time', 'ws_CPS', 'ws_KSPS', 'ws_COER', 'ws_UB', 'ws_WB']\n",
      "test accuracy :  0.8888888888888888\n"
     ]
    },
    {
     "name": "stderr",
     "output_type": "stream",
     "text": [
      "\u001b[32m[I 2022-08-29 00:37:37,238]\u001b[0m A new study created in memory with name: lightgbm Study\u001b[0m\n",
      "\u001b[32m[I 2022-08-29 00:37:37,567]\u001b[0m Trial 0 finished with value: 0.7977207977207977 and parameters: {'n_estimators': 284, 'learning_rate': 0.026730585845044393, 'num_leaves': 3, 'colsample_bytree': 1.0, 'min_child_samples': 23, 'subsample': 1.0, 'reg_alpha': 1.7205383605329772, 'reg_lambda': 4.91434700601009}. Best is trial 0 with value: 0.7977207977207977.\u001b[0m\n"
     ]
    },
    {
     "name": "stdout",
     "output_type": "stream",
     "text": [
      "Optuna Best score :  0.7977207977207977\n",
      "Best parameters :  {'n_estimators': 284, 'learning_rate': 0.026730585845044393, 'num_leaves': 3, 'colsample_bytree': 1.0, 'min_child_samples': 23, 'subsample': 1.0, 'reg_alpha': 1.7205383605329772, 'reg_lambda': 4.91434700601009}\n",
      "Selected features Num:  32\n",
      "Selected features :  ['average_noti_response_app_start', 'median_noti_response_app_start', 'phone_register_noti_response', 'phone_register_screen_unlocking_time', 'phone_register_phone_number_register_time', 'phone_register_call_time', 'phone_register_total_time', 'phone_receive_total_time', 'phone_receive_missing_call_time_2', 'sms_reply_compeltion_time', 'sms_reply_total_time', 'camera_gallery_delete_time', 'camera_total_time', 'transfer_usage_time', 'transfer_share_time', 'transfer_total_time', 'weather_information_searching_time', 'weather_information_sharing_time', 'weather_searching_total_time', 'sms_median intercharacter time', 'sms_min intercharacter time', 'sms_max intercharacter time', 'sms_CPS', 'sms_KSPS', 'sms_TER', 'ws_average intercharacter time', 'ws_median intercharacter time', 'ws_min intercharacter time', 'ws_max intercharacter time', 'ws_CPS', 'ws_KSPS', 'ws_COER']\n",
      "test accuracy :  0.6666666666666666\n",
      "\n",
      "mean accuracy :  0.7500000000000004\n",
      "mean precision :  0.7500000000000004\n",
      "mean recall :  0.6520833333333332\n",
      "mean f1 :  0.60099358974359\n",
      "mean roc_auc :  0.6520833333333332\n",
      "\n"
     ]
    }
   ],
   "source": [
    "clf = LGBMClassifier(random_state=42)\n",
    "shap_df_list, metric_df = NestedCVwithOptuna(LGBMObjective, clf, 'lightgbm')"
   ]
  },
  {
   "cell_type": "markdown",
   "metadata": {},
   "source": [
    "## 40개의 모델의 개별 performance metric + 평균 performnace metric을 저장한다\n",
    "## 각 모델별 test set의 feature에 따른 shap value를 저장한다"
   ]
  },
  {
   "cell_type": "code",
   "execution_count": 71,
   "metadata": {},
   "outputs": [],
   "source": [
    "if label_name == 'three_label':\n",
    "    shap_values_df_0 = pd.concat(shap_df_list[0])\n",
    "    shap_values_df_1 = pd.concat(shap_df_list[1])\n",
    "    shap_values_df_2 = pd.concat(shap_df_list[2])\n",
    "\n",
    "    with pd.ExcelWriter(f\"./lgbm_result.xlsx\") as writer:\n",
    "        metric_df.to_excel(writer, sheet_name=\"performance metric\", index=False)\n",
    "        shap_values_df_0.to_excel(writer, sheet_name=\"shap_list_0\", index=False)\n",
    "        shap_values_df_1.to_excel(writer, sheet_name=\"shap_list_1\", index=False)\n",
    "        shap_values_df_2.to_excel(writer, sheet_name=\"shap_list_2\", index=False)\n",
    "\n",
    "if label_name != 'three_label':\n",
    "    shap_values_df = pd.concat(shap_df_list[0])\n",
    "\n",
    "    with pd.ExcelWriter(f\"./lgbm_result.xlsx\") as writer:\n",
    "        metric_df.to_excel(writer, sheet_name=\"performance metric\", index=False)\n",
    "        shap_values_df.to_excel(writer, sheet_name=\"shap_list\", index=False)"
   ]
  },
  {
   "cell_type": "markdown",
   "metadata": {},
   "source": [
    "# Xgboost Bayesian"
   ]
  },
  {
   "cell_type": "code",
   "execution_count": 31,
   "metadata": {},
   "outputs": [],
   "source": [
    "class XBGObjective(object):\n",
    "    def __init__(self, X, y):\n",
    "        self.X = X\n",
    "        self.y = y\n",
    "\n",
    "    def __call__(self, trial: Trial):    \n",
    "        xgb_params = {\n",
    "            'n_estimators': trial.suggest_int('n_estimators', 50, 500),\n",
    "            'learning_rate': trial.suggest_loguniform(\"learning_rate\", 1e-4, 1e-1),\n",
    "            'max_depth': trial.suggest_int('max_depth', 3, 10),\n",
    "            'min_child_weight': trial.suggest_int('min_child_weight', 1, 9),\n",
    "            'colsample_bytree': trial.suggest_float('colsample_bytree', 0.5, 1.0, step=0.1),\n",
    "            'subsample': trial.suggest_float('subsample', 0.5, 1.0, step=0.1),\n",
    "            'gamma': trial.suggest_float('gamma', 0.0, 5.0, step=0.1),\n",
    "            'reg_alpha': trial.suggest_float('reg_alpha', 1.0, 5.0), # lambda_l1\n",
    "            'reg_lambda': trial.suggest_float('reg_lambda', 1.0, 5.0), # lambda_l2\n",
    "            'random_state': 42\n",
    "        }\n",
    "\n",
    "        clf = XGBClassifier(**xgb_params)\n",
    "\n",
    "        mean_accuracy = InnerCrossValidation(clf, self.X, self.y, cv_method, n_fold)\n",
    "\n",
    "        return mean_accuracy"
   ]
  },
  {
   "cell_type": "code",
   "execution_count": 32,
   "metadata": {},
   "outputs": [
    {
     "name": "stderr",
     "output_type": "stream",
     "text": [
      "\u001b[32m[I 2022-08-28 22:22:07,306]\u001b[0m A new study created in memory with name: xgboost Study\u001b[0m\n"
     ]
    },
    {
     "name": "stdout",
     "output_type": "stream",
     "text": [
      "class_nums :  2\n"
     ]
    },
    {
     "name": "stderr",
     "output_type": "stream",
     "text": [
      "\u001b[32m[I 2022-08-28 22:22:10,122]\u001b[0m Trial 0 finished with value: 0.7692307692307693 and parameters: {'n_estimators': 439, 'learning_rate': 0.0002472873616023207, 'max_depth': 8, 'min_child_weight': 2, 'colsample_bytree': 0.7, 'subsample': 0.9, 'gamma': 0.2, 'reg_alpha': 1.779755163462574, 'reg_lambda': 1.8620792710380027}. Best is trial 0 with value: 0.7692307692307693.\u001b[0m\n"
     ]
    },
    {
     "name": "stdout",
     "output_type": "stream",
     "text": [
      "Optuna Best score :  0.7692307692307693\n"
     ]
    },
    {
     "name": "stderr",
     "output_type": "stream",
     "text": [
      "\u001b[32m[I 2022-08-28 22:22:10,569]\u001b[0m A new study created in memory with name: xgboost Study\u001b[0m\n"
     ]
    },
    {
     "name": "stdout",
     "output_type": "stream",
     "text": [
      "test accuracy :  1.0\n"
     ]
    },
    {
     "name": "stderr",
     "output_type": "stream",
     "text": [
      "\u001b[32m[I 2022-08-28 22:22:12,646]\u001b[0m Trial 0 finished with value: 0.7692307692307693 and parameters: {'n_estimators': 415, 'learning_rate': 0.007132260495815669, 'max_depth': 4, 'min_child_weight': 2, 'colsample_bytree': 0.7, 'subsample': 0.7, 'gamma': 4.1000000000000005, 'reg_alpha': 4.150335636616924, 'reg_lambda': 3.0634693174330714}. Best is trial 0 with value: 0.7692307692307693.\u001b[0m\n"
     ]
    },
    {
     "name": "stdout",
     "output_type": "stream",
     "text": [
      "Optuna Best score :  0.7692307692307693\n"
     ]
    },
    {
     "name": "stderr",
     "output_type": "stream",
     "text": [
      "\u001b[32m[I 2022-08-28 22:22:12,966]\u001b[0m A new study created in memory with name: xgboost Study\u001b[0m\n"
     ]
    },
    {
     "name": "stdout",
     "output_type": "stream",
     "text": [
      "test accuracy :  1.0\n"
     ]
    },
    {
     "name": "stderr",
     "output_type": "stream",
     "text": [
      "\u001b[32m[I 2022-08-28 22:22:15,356]\u001b[0m Trial 0 finished with value: 0.7435897435897436 and parameters: {'n_estimators': 417, 'learning_rate': 0.0002570443509561165, 'max_depth': 7, 'min_child_weight': 4, 'colsample_bytree': 0.6, 'subsample': 0.9, 'gamma': 0.7000000000000001, 'reg_alpha': 4.94986912699046, 'reg_lambda': 4.991730690571341}. Best is trial 0 with value: 0.7435897435897436.\u001b[0m\n"
     ]
    },
    {
     "name": "stdout",
     "output_type": "stream",
     "text": [
      "Optuna Best score :  0.7435897435897436\n"
     ]
    },
    {
     "name": "stderr",
     "output_type": "stream",
     "text": [
      "\u001b[32m[I 2022-08-28 22:22:15,700]\u001b[0m A new study created in memory with name: xgboost Study\u001b[0m\n"
     ]
    },
    {
     "name": "stdout",
     "output_type": "stream",
     "text": [
      "test accuracy :  1.0\n"
     ]
    },
    {
     "name": "stderr",
     "output_type": "stream",
     "text": [
      "\u001b[32m[I 2022-08-28 22:22:17,148]\u001b[0m Trial 0 finished with value: 0.7492877492877493 and parameters: {'n_estimators': 346, 'learning_rate': 0.0001573611932151284, 'max_depth': 3, 'min_child_weight': 7, 'colsample_bytree': 0.5, 'subsample': 0.7, 'gamma': 2.8000000000000003, 'reg_alpha': 3.283777247927489, 'reg_lambda': 1.572738845633281}. Best is trial 0 with value: 0.7492877492877493.\u001b[0m\n"
     ]
    },
    {
     "name": "stdout",
     "output_type": "stream",
     "text": [
      "Optuna Best score :  0.7492877492877493\n",
      "test accuracy :  1.0\n"
     ]
    },
    {
     "name": "stderr",
     "output_type": "stream",
     "text": [
      "\u001b[32m[I 2022-08-28 22:22:17,355]\u001b[0m A new study created in memory with name: xgboost Study\u001b[0m\n",
      "\u001b[32m[I 2022-08-28 22:22:18,380]\u001b[0m Trial 0 finished with value: 0.792022792022792 and parameters: {'n_estimators': 168, 'learning_rate': 0.025089503356483633, 'max_depth': 6, 'min_child_weight': 2, 'colsample_bytree': 0.9, 'subsample': 0.8, 'gamma': 3.0, 'reg_alpha': 1.5952222536120066, 'reg_lambda': 4.283981902958346}. Best is trial 0 with value: 0.792022792022792.\u001b[0m\n"
     ]
    },
    {
     "name": "stdout",
     "output_type": "stream",
     "text": [
      "Optuna Best score :  0.792022792022792\n",
      "test accuracy :  1.0\n"
     ]
    },
    {
     "name": "stderr",
     "output_type": "stream",
     "text": [
      "\u001b[32m[I 2022-08-28 22:22:18,590]\u001b[0m A new study created in memory with name: xgboost Study\u001b[0m\n",
      "\u001b[32m[I 2022-08-28 22:22:19,565]\u001b[0m Trial 0 finished with value: 0.7321937321937322 and parameters: {'n_estimators': 244, 'learning_rate': 0.0007769840413821829, 'max_depth': 7, 'min_child_weight': 9, 'colsample_bytree': 0.6, 'subsample': 0.7, 'gamma': 0.7000000000000001, 'reg_alpha': 3.356698722631553, 'reg_lambda': 1.0990767541893942}. Best is trial 0 with value: 0.7321937321937322.\u001b[0m\n",
      "\u001b[32m[I 2022-08-28 22:22:19,719]\u001b[0m A new study created in memory with name: xgboost Study\u001b[0m\n"
     ]
    },
    {
     "name": "stdout",
     "output_type": "stream",
     "text": [
      "Optuna Best score :  0.7321937321937322\n",
      "test accuracy :  1.0\n"
     ]
    },
    {
     "name": "stderr",
     "output_type": "stream",
     "text": [
      "\u001b[32m[I 2022-08-28 22:22:20,928]\u001b[0m Trial 0 finished with value: 0.7663817663817664 and parameters: {'n_estimators': 307, 'learning_rate': 0.09095157633421118, 'max_depth': 3, 'min_child_weight': 1, 'colsample_bytree': 0.9, 'subsample': 0.8, 'gamma': 0.6000000000000001, 'reg_alpha': 4.350634051157123, 'reg_lambda': 1.760735260969088}. Best is trial 0 with value: 0.7663817663817664.\u001b[0m\n",
      "\u001b[32m[I 2022-08-28 22:22:21,127]\u001b[0m A new study created in memory with name: xgboost Study\u001b[0m\n"
     ]
    },
    {
     "name": "stdout",
     "output_type": "stream",
     "text": [
      "Optuna Best score :  0.7663817663817664\n",
      "test accuracy :  1.0\n"
     ]
    },
    {
     "name": "stderr",
     "output_type": "stream",
     "text": [
      "\u001b[32m[I 2022-08-28 22:22:22,308]\u001b[0m Trial 0 finished with value: 0.7549857549857549 and parameters: {'n_estimators': 246, 'learning_rate': 0.00024992198130392463, 'max_depth': 4, 'min_child_weight': 8, 'colsample_bytree': 0.8, 'subsample': 1.0, 'gamma': 0.30000000000000004, 'reg_alpha': 2.051589433203005, 'reg_lambda': 3.0637623989450273}. Best is trial 0 with value: 0.7549857549857549.\u001b[0m\n",
      "\u001b[32m[I 2022-08-28 22:22:22,488]\u001b[0m A new study created in memory with name: xgboost Study\u001b[0m\n"
     ]
    },
    {
     "name": "stdout",
     "output_type": "stream",
     "text": [
      "Optuna Best score :  0.7549857549857549\n",
      "test accuracy :  1.0\n"
     ]
    },
    {
     "name": "stderr",
     "output_type": "stream",
     "text": [
      "\u001b[32m[I 2022-08-28 22:22:24,181]\u001b[0m Trial 0 finished with value: 0.7207977207977208 and parameters: {'n_estimators': 447, 'learning_rate': 0.0008726794771117431, 'max_depth': 9, 'min_child_weight': 9, 'colsample_bytree': 0.7, 'subsample': 0.5, 'gamma': 4.2, 'reg_alpha': 1.915290709386512, 'reg_lambda': 2.4510578273217}. Best is trial 0 with value: 0.7207977207977208.\u001b[0m\n"
     ]
    },
    {
     "name": "stdout",
     "output_type": "stream",
     "text": [
      "Optuna Best score :  0.7207977207977208\n",
      "test accuracy :  1.0\n"
     ]
    },
    {
     "name": "stderr",
     "output_type": "stream",
     "text": [
      "\u001b[32m[I 2022-08-28 22:22:24,411]\u001b[0m A new study created in memory with name: xgboost Study\u001b[0m\n",
      "\u001b[32m[I 2022-08-28 22:22:26,016]\u001b[0m Trial 0 finished with value: 0.7521367521367521 and parameters: {'n_estimators': 394, 'learning_rate': 0.00161859702010901, 'max_depth': 7, 'min_child_weight': 7, 'colsample_bytree': 1.0, 'subsample': 0.6, 'gamma': 0.7000000000000001, 'reg_alpha': 4.367850190240267, 'reg_lambda': 2.0140485069666036}. Best is trial 0 with value: 0.7521367521367521.\u001b[0m\n"
     ]
    },
    {
     "name": "stdout",
     "output_type": "stream",
     "text": [
      "Optuna Best score :  0.7521367521367521\n",
      "test accuracy :  0.8888888888888888\n"
     ]
    },
    {
     "name": "stderr",
     "output_type": "stream",
     "text": [
      "\u001b[32m[I 2022-08-28 22:22:26,238]\u001b[0m A new study created in memory with name: xgboost Study\u001b[0m\n",
      "\u001b[32m[I 2022-08-28 22:22:27,233]\u001b[0m Trial 0 finished with value: 0.7606837606837606 and parameters: {'n_estimators': 209, 'learning_rate': 0.0008953223623360992, 'max_depth': 8, 'min_child_weight': 3, 'colsample_bytree': 1.0, 'subsample': 0.6, 'gamma': 1.8, 'reg_alpha': 2.280002930115382, 'reg_lambda': 4.044638042927836}. Best is trial 0 with value: 0.7606837606837606.\u001b[0m\n",
      "\u001b[32m[I 2022-08-28 22:22:27,397]\u001b[0m A new study created in memory with name: xgboost Study\u001b[0m\n"
     ]
    },
    {
     "name": "stdout",
     "output_type": "stream",
     "text": [
      "Optuna Best score :  0.7606837606837606\n",
      "test accuracy :  0.6666666666666666\n"
     ]
    },
    {
     "name": "stderr",
     "output_type": "stream",
     "text": [
      "\u001b[32m[I 2022-08-28 22:22:28,146]\u001b[0m Trial 0 finished with value: 0.7635327635327636 and parameters: {'n_estimators': 166, 'learning_rate': 0.00040130162236227566, 'max_depth': 7, 'min_child_weight': 8, 'colsample_bytree': 0.6, 'subsample': 0.7, 'gamma': 0.2, 'reg_alpha': 1.8819207012063157, 'reg_lambda': 2.3677426958828907}. Best is trial 0 with value: 0.7635327635327636.\u001b[0m\n",
      "\u001b[32m[I 2022-08-28 22:22:28,249]\u001b[0m A new study created in memory with name: xgboost Study\u001b[0m\n"
     ]
    },
    {
     "name": "stdout",
     "output_type": "stream",
     "text": [
      "Optuna Best score :  0.7635327635327636\n",
      "test accuracy :  0.6666666666666666\n"
     ]
    },
    {
     "name": "stderr",
     "output_type": "stream",
     "text": [
      "\u001b[32m[I 2022-08-28 22:22:31,018]\u001b[0m Trial 0 finished with value: 0.811965811965812 and parameters: {'n_estimators': 444, 'learning_rate': 0.004378699808908474, 'max_depth': 10, 'min_child_weight': 2, 'colsample_bytree': 0.7, 'subsample': 1.0, 'gamma': 0.6000000000000001, 'reg_alpha': 3.3145528850981107, 'reg_lambda': 1.9343786183710492}. Best is trial 0 with value: 0.811965811965812.\u001b[0m\n"
     ]
    },
    {
     "name": "stdout",
     "output_type": "stream",
     "text": [
      "Optuna Best score :  0.811965811965812\n"
     ]
    },
    {
     "name": "stderr",
     "output_type": "stream",
     "text": [
      "\u001b[32m[I 2022-08-28 22:22:31,512]\u001b[0m A new study created in memory with name: xgboost Study\u001b[0m\n"
     ]
    },
    {
     "name": "stdout",
     "output_type": "stream",
     "text": [
      "test accuracy :  0.6666666666666666\n"
     ]
    },
    {
     "name": "stderr",
     "output_type": "stream",
     "text": [
      "\u001b[32m[I 2022-08-28 22:22:32,650]\u001b[0m Trial 0 finished with value: 0.7207977207977208 and parameters: {'n_estimators': 341, 'learning_rate': 0.00016339633720776007, 'max_depth': 9, 'min_child_weight': 9, 'colsample_bytree': 0.8, 'subsample': 0.5, 'gamma': 4.9, 'reg_alpha': 1.7994311580937428, 'reg_lambda': 4.995017967395645}. Best is trial 0 with value: 0.7207977207977208.\u001b[0m\n"
     ]
    },
    {
     "name": "stdout",
     "output_type": "stream",
     "text": [
      "Optuna Best score :  0.7207977207977208\n",
      "test accuracy :  0.7777777777777778\n"
     ]
    },
    {
     "name": "stderr",
     "output_type": "stream",
     "text": [
      "\u001b[32m[I 2022-08-28 22:22:32,853]\u001b[0m A new study created in memory with name: xgboost Study\u001b[0m\n",
      "\u001b[32m[I 2022-08-28 22:22:34,484]\u001b[0m Trial 0 finished with value: 0.7692307692307693 and parameters: {'n_estimators': 391, 'learning_rate': 0.00016026547273547122, 'max_depth': 4, 'min_child_weight': 7, 'colsample_bytree': 1.0, 'subsample': 0.8, 'gamma': 3.2, 'reg_alpha': 1.761623104921235, 'reg_lambda': 3.7139157764696806}. Best is trial 0 with value: 0.7692307692307693.\u001b[0m\n"
     ]
    },
    {
     "name": "stdout",
     "output_type": "stream",
     "text": [
      "Optuna Best score :  0.7692307692307693\n"
     ]
    },
    {
     "name": "stderr",
     "output_type": "stream",
     "text": [
      "\u001b[32m[I 2022-08-28 22:22:34,740]\u001b[0m A new study created in memory with name: xgboost Study\u001b[0m\n"
     ]
    },
    {
     "name": "stdout",
     "output_type": "stream",
     "text": [
      "test accuracy :  0.8888888888888888\n"
     ]
    },
    {
     "name": "stderr",
     "output_type": "stream",
     "text": [
      "\u001b[32m[I 2022-08-28 22:22:35,588]\u001b[0m Trial 0 finished with value: 0.8034188034188035 and parameters: {'n_estimators': 112, 'learning_rate': 0.01710329921442241, 'max_depth': 7, 'min_child_weight': 1, 'colsample_bytree': 1.0, 'subsample': 0.7, 'gamma': 0.7000000000000001, 'reg_alpha': 3.393052380189377, 'reg_lambda': 3.547883247208093}. Best is trial 0 with value: 0.8034188034188035.\u001b[0m\n",
      "\u001b[32m[I 2022-08-28 22:22:35,720]\u001b[0m A new study created in memory with name: xgboost Study\u001b[0m\n"
     ]
    },
    {
     "name": "stdout",
     "output_type": "stream",
     "text": [
      "Optuna Best score :  0.8034188034188035\n",
      "test accuracy :  0.6666666666666666\n"
     ]
    },
    {
     "name": "stderr",
     "output_type": "stream",
     "text": [
      "\u001b[32m[I 2022-08-28 22:22:36,017]\u001b[0m Trial 0 finished with value: 0.792022792022792 and parameters: {'n_estimators': 53, 'learning_rate': 0.033172906398642045, 'max_depth': 9, 'min_child_weight': 9, 'colsample_bytree': 1.0, 'subsample': 1.0, 'gamma': 4.0, 'reg_alpha': 1.5614012217235347, 'reg_lambda': 1.9987292840603494}. Best is trial 0 with value: 0.792022792022792.\u001b[0m\n",
      "\u001b[32m[I 2022-08-28 22:22:36,066]\u001b[0m A new study created in memory with name: xgboost Study\u001b[0m\n"
     ]
    },
    {
     "name": "stdout",
     "output_type": "stream",
     "text": [
      "Optuna Best score :  0.792022792022792\n",
      "test accuracy :  0.5555555555555556\n"
     ]
    },
    {
     "name": "stderr",
     "output_type": "stream",
     "text": [
      "\u001b[32m[I 2022-08-28 22:22:36,496]\u001b[0m Trial 0 finished with value: 0.8034188034188035 and parameters: {'n_estimators': 73, 'learning_rate': 0.03227378099468157, 'max_depth': 6, 'min_child_weight': 3, 'colsample_bytree': 0.8, 'subsample': 0.8, 'gamma': 0.7000000000000001, 'reg_alpha': 3.3129076697197464, 'reg_lambda': 2.2597201480697566}. Best is trial 0 with value: 0.8034188034188035.\u001b[0m\n",
      "\u001b[32m[I 2022-08-28 22:22:36,572]\u001b[0m A new study created in memory with name: xgboost Study\u001b[0m\n"
     ]
    },
    {
     "name": "stdout",
     "output_type": "stream",
     "text": [
      "Optuna Best score :  0.8034188034188035\n",
      "test accuracy :  0.5555555555555556\n"
     ]
    },
    {
     "name": "stderr",
     "output_type": "stream",
     "text": [
      "\u001b[32m[I 2022-08-28 22:22:37,735]\u001b[0m Trial 0 finished with value: 0.7635327635327636 and parameters: {'n_estimators': 302, 'learning_rate': 0.004119735069549154, 'max_depth': 7, 'min_child_weight': 9, 'colsample_bytree': 1.0, 'subsample': 0.8, 'gamma': 3.1, 'reg_alpha': 4.663193467446092, 'reg_lambda': 2.73695559996948}. Best is trial 0 with value: 0.7635327635327636.\u001b[0m\n"
     ]
    },
    {
     "name": "stdout",
     "output_type": "stream",
     "text": [
      "Optuna Best score :  0.7635327635327636\n",
      "test accuracy :  0.6666666666666666\n"
     ]
    },
    {
     "name": "stderr",
     "output_type": "stream",
     "text": [
      "\u001b[32m[I 2022-08-28 22:22:37,956]\u001b[0m A new study created in memory with name: xgboost Study\u001b[0m\n",
      "\u001b[32m[I 2022-08-28 22:22:38,622]\u001b[0m Trial 0 finished with value: 0.8091168091168092 and parameters: {'n_estimators': 116, 'learning_rate': 0.05626625117181885, 'max_depth': 6, 'min_child_weight': 3, 'colsample_bytree': 0.9, 'subsample': 0.8, 'gamma': 1.4000000000000001, 'reg_alpha': 4.173592042364968, 'reg_lambda': 4.163138993672922}. Best is trial 0 with value: 0.8091168091168092.\u001b[0m\n",
      "\u001b[32m[I 2022-08-28 22:22:38,737]\u001b[0m A new study created in memory with name: xgboost Study\u001b[0m\n"
     ]
    },
    {
     "name": "stdout",
     "output_type": "stream",
     "text": [
      "Optuna Best score :  0.8091168091168092\n",
      "test accuracy :  0.8888888888888888\n"
     ]
    },
    {
     "name": "stderr",
     "output_type": "stream",
     "text": [
      "\u001b[32m[I 2022-08-28 22:22:41,146]\u001b[0m Trial 0 finished with value: 0.7977207977207977 and parameters: {'n_estimators': 421, 'learning_rate': 0.006143330167985399, 'max_depth': 5, 'min_child_weight': 1, 'colsample_bytree': 0.7, 'subsample': 0.7, 'gamma': 0.9, 'reg_alpha': 2.3253818557510124, 'reg_lambda': 4.891949713723024}. Best is trial 0 with value: 0.7977207977207977.\u001b[0m\n"
     ]
    },
    {
     "name": "stdout",
     "output_type": "stream",
     "text": [
      "Optuna Best score :  0.7977207977207977\n"
     ]
    },
    {
     "name": "stderr",
     "output_type": "stream",
     "text": [
      "\u001b[32m[I 2022-08-28 22:22:41,547]\u001b[0m A new study created in memory with name: xgboost Study\u001b[0m\n"
     ]
    },
    {
     "name": "stdout",
     "output_type": "stream",
     "text": [
      "test accuracy :  0.8888888888888888\n"
     ]
    },
    {
     "name": "stderr",
     "output_type": "stream",
     "text": [
      "\u001b[32m[I 2022-08-28 22:22:42,031]\u001b[0m Trial 0 finished with value: 0.7606837606837606 and parameters: {'n_estimators': 71, 'learning_rate': 0.01116865379534018, 'max_depth': 9, 'min_child_weight': 4, 'colsample_bytree': 0.9, 'subsample': 1.0, 'gamma': 2.5, 'reg_alpha': 1.0548660234217122, 'reg_lambda': 4.277259114861744}. Best is trial 0 with value: 0.7606837606837606.\u001b[0m\n",
      "\u001b[32m[I 2022-08-28 22:22:42,105]\u001b[0m A new study created in memory with name: xgboost Study\u001b[0m\n"
     ]
    },
    {
     "name": "stdout",
     "output_type": "stream",
     "text": [
      "Optuna Best score :  0.7606837606837606\n",
      "test accuracy :  0.5555555555555556\n"
     ]
    },
    {
     "name": "stderr",
     "output_type": "stream",
     "text": [
      "\u001b[32m[I 2022-08-28 22:22:43,126]\u001b[0m Trial 0 finished with value: 0.7777777777777778 and parameters: {'n_estimators': 241, 'learning_rate': 0.007499792891369625, 'max_depth': 6, 'min_child_weight': 9, 'colsample_bytree': 1.0, 'subsample': 1.0, 'gamma': 0.4, 'reg_alpha': 3.0076557128557417, 'reg_lambda': 1.8582469201558158}. Best is trial 0 with value: 0.7777777777777778.\u001b[0m\n",
      "\u001b[32m[I 2022-08-28 22:22:43,293]\u001b[0m A new study created in memory with name: xgboost Study\u001b[0m\n"
     ]
    },
    {
     "name": "stdout",
     "output_type": "stream",
     "text": [
      "Optuna Best score :  0.7777777777777778\n",
      "test accuracy :  0.6666666666666666\n"
     ]
    },
    {
     "name": "stderr",
     "output_type": "stream",
     "text": [
      "\u001b[32m[I 2022-08-28 22:22:43,958]\u001b[0m Trial 0 finished with value: 0.7521367521367521 and parameters: {'n_estimators': 154, 'learning_rate': 0.0006847696586085113, 'max_depth': 8, 'min_child_weight': 8, 'colsample_bytree': 0.8, 'subsample': 0.9, 'gamma': 0.2, 'reg_alpha': 3.349715160290812, 'reg_lambda': 4.940499441870771}. Best is trial 0 with value: 0.7521367521367521.\u001b[0m\n",
      "\u001b[32m[I 2022-08-28 22:22:44,067]\u001b[0m A new study created in memory with name: xgboost Study\u001b[0m\n"
     ]
    },
    {
     "name": "stdout",
     "output_type": "stream",
     "text": [
      "Optuna Best score :  0.7521367521367521\n",
      "test accuracy :  0.7777777777777778\n"
     ]
    },
    {
     "name": "stderr",
     "output_type": "stream",
     "text": [
      "\u001b[32m[I 2022-08-28 22:22:44,699]\u001b[0m Trial 0 finished with value: 0.7806267806267806 and parameters: {'n_estimators': 133, 'learning_rate': 0.012598290593487547, 'max_depth': 4, 'min_child_weight': 3, 'colsample_bytree': 0.8, 'subsample': 0.6, 'gamma': 0.30000000000000004, 'reg_alpha': 3.2355134603118816, 'reg_lambda': 3.7431853866748828}. Best is trial 0 with value: 0.7806267806267806.\u001b[0m\n",
      "\u001b[32m[I 2022-08-28 22:22:44,803]\u001b[0m A new study created in memory with name: xgboost Study\u001b[0m\n"
     ]
    },
    {
     "name": "stdout",
     "output_type": "stream",
     "text": [
      "Optuna Best score :  0.7806267806267806\n",
      "test accuracy :  0.5555555555555556\n"
     ]
    },
    {
     "name": "stderr",
     "output_type": "stream",
     "text": [
      "\u001b[32m[I 2022-08-28 22:22:46,080]\u001b[0m Trial 0 finished with value: 0.7720797720797721 and parameters: {'n_estimators': 275, 'learning_rate': 0.010286677422048212, 'max_depth': 9, 'min_child_weight': 8, 'colsample_bytree': 1.0, 'subsample': 1.0, 'gamma': 2.8000000000000003, 'reg_alpha': 3.700403454423865, 'reg_lambda': 4.564813216709039}. Best is trial 0 with value: 0.7720797720797721.\u001b[0m\n"
     ]
    },
    {
     "name": "stdout",
     "output_type": "stream",
     "text": [
      "Optuna Best score :  0.7720797720797721\n"
     ]
    },
    {
     "name": "stderr",
     "output_type": "stream",
     "text": [
      "\u001b[32m[I 2022-08-28 22:22:46,350]\u001b[0m A new study created in memory with name: xgboost Study\u001b[0m\n"
     ]
    },
    {
     "name": "stdout",
     "output_type": "stream",
     "text": [
      "test accuracy :  0.7777777777777778\n"
     ]
    },
    {
     "name": "stderr",
     "output_type": "stream",
     "text": [
      "\u001b[32m[I 2022-08-28 22:22:47,890]\u001b[0m Trial 0 finished with value: 0.7606837606837606 and parameters: {'n_estimators': 469, 'learning_rate': 0.0002540971537179174, 'max_depth': 8, 'min_child_weight': 8, 'colsample_bytree': 1.0, 'subsample': 0.5, 'gamma': 0.0, 'reg_alpha': 3.963776706566543, 'reg_lambda': 1.8202682753781558}. Best is trial 0 with value: 0.7606837606837606.\u001b[0m\n"
     ]
    },
    {
     "name": "stdout",
     "output_type": "stream",
     "text": [
      "Optuna Best score :  0.7606837606837606\n",
      "test accuracy :  0.4444444444444444\n"
     ]
    },
    {
     "name": "stderr",
     "output_type": "stream",
     "text": [
      "\u001b[32m[I 2022-08-28 22:22:48,122]\u001b[0m A new study created in memory with name: xgboost Study\u001b[0m\n",
      "\u001b[32m[I 2022-08-28 22:22:49,750]\u001b[0m Trial 0 finished with value: 0.7948717948717948 and parameters: {'n_estimators': 410, 'learning_rate': 0.025120095667334915, 'max_depth': 3, 'min_child_weight': 5, 'colsample_bytree': 0.5, 'subsample': 0.5, 'gamma': 1.4000000000000001, 'reg_alpha': 4.717131717540265, 'reg_lambda': 3.115180967165032}. Best is trial 0 with value: 0.7948717948717948.\u001b[0m\n"
     ]
    },
    {
     "name": "stdout",
     "output_type": "stream",
     "text": [
      "Optuna Best score :  0.7948717948717948\n"
     ]
    },
    {
     "name": "stderr",
     "output_type": "stream",
     "text": [
      "\u001b[32m[I 2022-08-28 22:22:49,994]\u001b[0m A new study created in memory with name: xgboost Study\u001b[0m\n"
     ]
    },
    {
     "name": "stdout",
     "output_type": "stream",
     "text": [
      "test accuracy :  0.6666666666666666\n"
     ]
    },
    {
     "name": "stderr",
     "output_type": "stream",
     "text": [
      "\u001b[32m[I 2022-08-28 22:22:51,119]\u001b[0m Trial 0 finished with value: 0.7891737891737892 and parameters: {'n_estimators': 322, 'learning_rate': 0.026264286023403954, 'max_depth': 8, 'min_child_weight': 7, 'colsample_bytree': 0.8, 'subsample': 0.6, 'gamma': 3.0, 'reg_alpha': 3.474122818221138, 'reg_lambda': 4.574992509269601}. Best is trial 0 with value: 0.7891737891737892.\u001b[0m\n",
      "\u001b[32m[I 2022-08-28 22:22:51,291]\u001b[0m A new study created in memory with name: xgboost Study\u001b[0m\n"
     ]
    },
    {
     "name": "stdout",
     "output_type": "stream",
     "text": [
      "Optuna Best score :  0.7891737891737892\n",
      "test accuracy :  0.5555555555555556\n"
     ]
    },
    {
     "name": "stderr",
     "output_type": "stream",
     "text": [
      "\u001b[32m[I 2022-08-28 22:22:52,419]\u001b[0m Trial 0 finished with value: 0.7578347578347578 and parameters: {'n_estimators': 312, 'learning_rate': 0.08674427249976438, 'max_depth': 4, 'min_child_weight': 8, 'colsample_bytree': 0.5, 'subsample': 0.8, 'gamma': 0.0, 'reg_alpha': 2.4573375535396864, 'reg_lambda': 2.031313436920013}. Best is trial 0 with value: 0.7578347578347578.\u001b[0m\n"
     ]
    },
    {
     "name": "stdout",
     "output_type": "stream",
     "text": [
      "Optuna Best score :  0.7578347578347578\n",
      "test accuracy :  0.7777777777777778\n"
     ]
    },
    {
     "name": "stderr",
     "output_type": "stream",
     "text": [
      "\u001b[32m[I 2022-08-28 22:22:52,629]\u001b[0m A new study created in memory with name: xgboost Study\u001b[0m\n",
      "\u001b[32m[I 2022-08-28 22:22:53,572]\u001b[0m Trial 0 finished with value: 0.7692307692307693 and parameters: {'n_estimators': 249, 'learning_rate': 0.005595832742110544, 'max_depth': 5, 'min_child_weight': 5, 'colsample_bytree': 0.7, 'subsample': 0.6, 'gamma': 2.2, 'reg_alpha': 4.058887170320906, 'reg_lambda': 1.4265711221073665}. Best is trial 0 with value: 0.7692307692307693.\u001b[0m\n",
      "\u001b[32m[I 2022-08-28 22:22:53,739]\u001b[0m A new study created in memory with name: xgboost Study\u001b[0m\n"
     ]
    },
    {
     "name": "stdout",
     "output_type": "stream",
     "text": [
      "Optuna Best score :  0.7692307692307693\n",
      "test accuracy :  0.8888888888888888\n"
     ]
    },
    {
     "name": "stderr",
     "output_type": "stream",
     "text": [
      "\u001b[32m[I 2022-08-28 22:22:54,073]\u001b[0m Trial 0 finished with value: 0.7578347578347578 and parameters: {'n_estimators': 57, 'learning_rate': 0.01311677735207692, 'max_depth': 5, 'min_child_weight': 6, 'colsample_bytree': 1.0, 'subsample': 1.0, 'gamma': 3.0, 'reg_alpha': 2.531556435648844, 'reg_lambda': 2.6928701380125526}. Best is trial 0 with value: 0.7578347578347578.\u001b[0m\n",
      "\u001b[32m[I 2022-08-28 22:22:54,129]\u001b[0m A new study created in memory with name: xgboost Study\u001b[0m\n"
     ]
    },
    {
     "name": "stdout",
     "output_type": "stream",
     "text": [
      "Optuna Best score :  0.7578347578347578\n",
      "test accuracy :  0.7777777777777778\n"
     ]
    },
    {
     "name": "stderr",
     "output_type": "stream",
     "text": [
      "\u001b[32m[I 2022-08-28 22:22:55,531]\u001b[0m Trial 0 finished with value: 0.7663817663817664 and parameters: {'n_estimators': 275, 'learning_rate': 0.0056555042071181946, 'max_depth': 4, 'min_child_weight': 6, 'colsample_bytree': 1.0, 'subsample': 1.0, 'gamma': 1.3, 'reg_alpha': 1.9434198942670333, 'reg_lambda': 2.627413084505556}. Best is trial 0 with value: 0.7663817663817664.\u001b[0m\n"
     ]
    },
    {
     "name": "stdout",
     "output_type": "stream",
     "text": [
      "Optuna Best score :  0.7663817663817664\n"
     ]
    },
    {
     "name": "stderr",
     "output_type": "stream",
     "text": [
      "\u001b[32m[I 2022-08-28 22:22:55,794]\u001b[0m A new study created in memory with name: xgboost Study\u001b[0m\n"
     ]
    },
    {
     "name": "stdout",
     "output_type": "stream",
     "text": [
      "test accuracy :  0.8888888888888888\n"
     ]
    },
    {
     "name": "stderr",
     "output_type": "stream",
     "text": [
      "\u001b[32m[I 2022-08-28 22:22:56,782]\u001b[0m Trial 0 finished with value: 0.7606837606837606 and parameters: {'n_estimators': 173, 'learning_rate': 0.00083792098475635, 'max_depth': 8, 'min_child_weight': 3, 'colsample_bytree': 1.0, 'subsample': 0.8, 'gamma': 1.1, 'reg_alpha': 3.189021299073327, 'reg_lambda': 2.6220180154201724}. Best is trial 0 with value: 0.7606837606837606.\u001b[0m\n",
      "\u001b[32m[I 2022-08-28 22:22:56,942]\u001b[0m A new study created in memory with name: xgboost Study\u001b[0m\n"
     ]
    },
    {
     "name": "stdout",
     "output_type": "stream",
     "text": [
      "Optuna Best score :  0.7606837606837606\n",
      "test accuracy :  0.6666666666666666\n"
     ]
    },
    {
     "name": "stderr",
     "output_type": "stream",
     "text": [
      "\u001b[32m[I 2022-08-28 22:22:57,520]\u001b[0m Trial 0 finished with value: 0.7663817663817664 and parameters: {'n_estimators': 122, 'learning_rate': 0.00019814885725945368, 'max_depth': 7, 'min_child_weight': 6, 'colsample_bytree': 1.0, 'subsample': 0.8, 'gamma': 2.1, 'reg_alpha': 3.400968164684875, 'reg_lambda': 2.4733384171881783}. Best is trial 0 with value: 0.7663817663817664.\u001b[0m\n",
      "\u001b[32m[I 2022-08-28 22:22:57,619]\u001b[0m A new study created in memory with name: xgboost Study\u001b[0m\n"
     ]
    },
    {
     "name": "stdout",
     "output_type": "stream",
     "text": [
      "Optuna Best score :  0.7663817663817664\n",
      "test accuracy :  0.6666666666666666\n"
     ]
    },
    {
     "name": "stderr",
     "output_type": "stream",
     "text": [
      "\u001b[32m[I 2022-08-28 22:23:00,089]\u001b[0m Trial 0 finished with value: 0.7777777777777778 and parameters: {'n_estimators': 491, 'learning_rate': 0.04004540663984456, 'max_depth': 9, 'min_child_weight': 3, 'colsample_bytree': 0.6, 'subsample': 0.9, 'gamma': 2.7, 'reg_alpha': 4.814720255674183, 'reg_lambda': 3.3191595949105195}. Best is trial 0 with value: 0.7777777777777778.\u001b[0m\n"
     ]
    },
    {
     "name": "stdout",
     "output_type": "stream",
     "text": [
      "Optuna Best score :  0.7777777777777778\n"
     ]
    },
    {
     "name": "stderr",
     "output_type": "stream",
     "text": [
      "\u001b[32m[I 2022-08-28 22:23:00,544]\u001b[0m A new study created in memory with name: xgboost Study\u001b[0m\n"
     ]
    },
    {
     "name": "stdout",
     "output_type": "stream",
     "text": [
      "test accuracy :  0.6666666666666666\n"
     ]
    },
    {
     "name": "stderr",
     "output_type": "stream",
     "text": [
      "\u001b[32m[I 2022-08-28 22:23:01,999]\u001b[0m Trial 0 finished with value: 0.7521367521367521 and parameters: {'n_estimators': 225, 'learning_rate': 0.0001903455723320209, 'max_depth': 7, 'min_child_weight': 3, 'colsample_bytree': 1.0, 'subsample': 1.0, 'gamma': 1.9000000000000001, 'reg_alpha': 2.125473877961378, 'reg_lambda': 3.4492998418119205}. Best is trial 0 with value: 0.7521367521367521.\u001b[0m\n"
     ]
    },
    {
     "name": "stdout",
     "output_type": "stream",
     "text": [
      "Optuna Best score :  0.7521367521367521\n",
      "test accuracy :  0.3333333333333333\n"
     ]
    },
    {
     "name": "stderr",
     "output_type": "stream",
     "text": [
      "\u001b[32m[I 2022-08-28 22:23:02,247]\u001b[0m A new study created in memory with name: xgboost Study\u001b[0m\n",
      "\u001b[32m[I 2022-08-28 22:23:03,970]\u001b[0m Trial 0 finished with value: 0.7549857549857549 and parameters: {'n_estimators': 449, 'learning_rate': 0.00024268954115243773, 'max_depth': 3, 'min_child_weight': 6, 'colsample_bytree': 0.6, 'subsample': 0.9, 'gamma': 0.4, 'reg_alpha': 3.577671621935351, 'reg_lambda': 4.511967861123894}. Best is trial 0 with value: 0.7549857549857549.\u001b[0m\n"
     ]
    },
    {
     "name": "stdout",
     "output_type": "stream",
     "text": [
      "Optuna Best score :  0.7549857549857549\n"
     ]
    },
    {
     "name": "stderr",
     "output_type": "stream",
     "text": [
      "\u001b[32m[I 2022-08-28 22:23:04,237]\u001b[0m A new study created in memory with name: xgboost Study\u001b[0m\n"
     ]
    },
    {
     "name": "stdout",
     "output_type": "stream",
     "text": [
      "test accuracy :  0.5555555555555556\n"
     ]
    },
    {
     "name": "stderr",
     "output_type": "stream",
     "text": [
      "\u001b[32m[I 2022-08-28 22:23:04,572]\u001b[0m Trial 0 finished with value: 0.7264957264957265 and parameters: {'n_estimators': 73, 'learning_rate': 0.00016832020808169008, 'max_depth': 7, 'min_child_weight': 8, 'colsample_bytree': 1.0, 'subsample': 0.5, 'gamma': 3.6, 'reg_alpha': 3.38313210881419, 'reg_lambda': 4.817883719821394}. Best is trial 0 with value: 0.7264957264957265.\u001b[0m\n",
      "\u001b[32m[I 2022-08-28 22:23:04,622]\u001b[0m A new study created in memory with name: xgboost Study\u001b[0m\n"
     ]
    },
    {
     "name": "stdout",
     "output_type": "stream",
     "text": [
      "Optuna Best score :  0.7264957264957265\n",
      "test accuracy :  0.7777777777777778\n"
     ]
    },
    {
     "name": "stderr",
     "output_type": "stream",
     "text": [
      "\u001b[32m[I 2022-08-28 22:23:05,379]\u001b[0m Trial 0 finished with value: 0.7350427350427351 and parameters: {'n_estimators': 231, 'learning_rate': 0.0002492853177412892, 'max_depth': 9, 'min_child_weight': 8, 'colsample_bytree': 0.6, 'subsample': 0.6, 'gamma': 4.800000000000001, 'reg_alpha': 4.293663243831675, 'reg_lambda': 1.9381776651413425}. Best is trial 0 with value: 0.7350427350427351.\u001b[0m\n"
     ]
    },
    {
     "name": "stdout",
     "output_type": "stream",
     "text": [
      "Optuna Best score :  0.7350427350427351\n",
      "test accuracy :  0.6666666666666666\n",
      "\n",
      "mean accuracy :  0.7611111111111113\n",
      "mean precision :  0.7611111111111113\n",
      "mean recall :  0.7020833333333334\n",
      "mean f1 :  0.6698419635919639\n",
      "mean roc_auc :  0.7020833333333334\n",
      "\n"
     ]
    }
   ],
   "source": [
    "clf = XGBClassifier(random_state=42)\n",
    "shap_df_list, metric_df = NestedCVwithOptuna(XBGObjective, clf, 'xgboost')"
   ]
  },
  {
   "cell_type": "markdown",
   "metadata": {},
   "source": [
    "## 40개의 모델의 개별 performance metric + 평균 performnace metric을 저장한다\n",
    "## 각 모델별 test set의 feature에 따른 shap value를 저장한다"
   ]
  },
  {
   "cell_type": "code",
   "execution_count": 33,
   "metadata": {},
   "outputs": [],
   "source": [
    "if label_name == 'three_label':\n",
    "    shap_values_df_0 = pd.concat(shap_df_list[0])\n",
    "    shap_values_df_1 = pd.concat(shap_df_list[1])\n",
    "    shap_values_df_2 = pd.concat(shap_df_list[2])\n",
    "\n",
    "    with pd.ExcelWriter(f\"./xgb_result.xlsx\") as writer:\n",
    "        metric_df.to_excel(writer, sheet_name=\"performance metric\", index=False)\n",
    "        shap_values_df_0.to_excel(writer, sheet_name=\"shap_list_0\", index=False)\n",
    "        shap_values_df_1.to_excel(writer, sheet_name=\"shap_list_1\", index=False)\n",
    "        shap_values_df_2.to_excel(writer, sheet_name=\"shap_list_2\", index=False)\n",
    "\n",
    "if label_name != 'three_label':\n",
    "    shap_values_df = pd.concat(shap_df_list[0])\n",
    "\n",
    "    with pd.ExcelWriter(f\"./xgb_result.xlsx\") as writer:\n",
    "        metric_df.to_excel(writer, sheet_name=\"performance metric\", index=False)\n",
    "        shap_values_df.to_excel(writer, sheet_name=\"shap_list\", index=False)"
   ]
  },
  {
   "cell_type": "markdown",
   "metadata": {},
   "source": [
    "# Random Forest Bayesian"
   ]
  },
  {
   "cell_type": "code",
   "execution_count": 40,
   "metadata": {},
   "outputs": [],
   "source": [
    "class RFObjective(object):\n",
    "    def __init__(self, X, y):\n",
    "        self.X = X\n",
    "        self.y = y\n",
    "    \n",
    "    def __call__(self, trial: Trial):\n",
    "        rf_params = {\n",
    "            'n_estimators': trial.suggest_int('n_estimators', 50, 500),\n",
    "            'max_depth': trial.suggest_int('max_depth', 3, 10),\n",
    "            'min_samples_leaf': trial.suggest_int('min_samples_leaf', 2, 10),\n",
    "            'min_samples_split': trial.suggest_int('min_samples_split', 2, 10),\n",
    "            'random_state': 42\n",
    "        }\n",
    "\n",
    "        clf = RandomForestClassifier(**rf_params)\n",
    "\n",
    "        mean_accuracy = InnerCrossValidation(clf, self.X, self.y, cv_method, n_fold)\n",
    "\n",
    "        return mean_accuracy"
   ]
  },
  {
   "cell_type": "code",
   "execution_count": 41,
   "metadata": {},
   "outputs": [
    {
     "name": "stderr",
     "output_type": "stream",
     "text": [
      "\u001b[32m[I 2022-08-28 22:23:06,299]\u001b[0m A new study created in memory with name: randomforest Study\u001b[0m\n"
     ]
    },
    {
     "name": "stdout",
     "output_type": "stream",
     "text": [
      "class_nums :  2\n"
     ]
    },
    {
     "name": "stderr",
     "output_type": "stream",
     "text": [
      "\u001b[32m[I 2022-08-28 22:23:07,191]\u001b[0m Trial 0 finished with value: 0.7806267806267806 and parameters: {'n_estimators': 134, 'max_depth': 8, 'min_samples_leaf': 7, 'min_samples_split': 4}. Best is trial 0 with value: 0.7806267806267806.\u001b[0m\n",
      "\u001b[32m[I 2022-08-28 22:23:07,303]\u001b[0m A new study created in memory with name: randomforest Study\u001b[0m\n"
     ]
    },
    {
     "name": "stdout",
     "output_type": "stream",
     "text": [
      "Optuna Best score :  0.7806267806267806\n",
      "test accuracy :  1.0\n"
     ]
    },
    {
     "name": "stderr",
     "output_type": "stream",
     "text": [
      "\u001b[32m[I 2022-08-28 22:23:07,972]\u001b[0m Trial 0 finished with value: 0.8005698005698005 and parameters: {'n_estimators': 101, 'max_depth': 8, 'min_samples_leaf': 7, 'min_samples_split': 5}. Best is trial 0 with value: 0.8005698005698005.\u001b[0m\n",
      "\u001b[32m[I 2022-08-28 22:23:08,057]\u001b[0m A new study created in memory with name: randomforest Study\u001b[0m\n"
     ]
    },
    {
     "name": "stdout",
     "output_type": "stream",
     "text": [
      "Optuna Best score :  0.8005698005698005\n",
      "test accuracy :  1.0\n"
     ]
    },
    {
     "name": "stderr",
     "output_type": "stream",
     "text": [
      "\u001b[32m[I 2022-08-28 22:23:10,049]\u001b[0m Trial 0 finished with value: 0.7891737891737892 and parameters: {'n_estimators': 293, 'max_depth': 6, 'min_samples_leaf': 2, 'min_samples_split': 5}. Best is trial 0 with value: 0.7891737891737892.\u001b[0m\n"
     ]
    },
    {
     "name": "stdout",
     "output_type": "stream",
     "text": [
      "Optuna Best score :  0.7891737891737892\n",
      "test accuracy :  1.0\n"
     ]
    },
    {
     "name": "stderr",
     "output_type": "stream",
     "text": [
      "\u001b[32m[I 2022-08-28 22:23:10,294]\u001b[0m A new study created in memory with name: randomforest Study\u001b[0m\n",
      "\u001b[32m[I 2022-08-28 22:23:11,360]\u001b[0m Trial 0 finished with value: 0.7692307692307693 and parameters: {'n_estimators': 170, 'max_depth': 6, 'min_samples_leaf': 9, 'min_samples_split': 10}. Best is trial 0 with value: 0.7692307692307693.\u001b[0m\n",
      "\u001b[32m[I 2022-08-28 22:23:11,497]\u001b[0m A new study created in memory with name: randomforest Study\u001b[0m\n"
     ]
    },
    {
     "name": "stdout",
     "output_type": "stream",
     "text": [
      "Optuna Best score :  0.7692307692307693\n",
      "test accuracy :  1.0\n"
     ]
    },
    {
     "name": "stderr",
     "output_type": "stream",
     "text": [
      "\u001b[32m[I 2022-08-28 22:23:14,054]\u001b[0m Trial 0 finished with value: 0.7834757834757835 and parameters: {'n_estimators': 424, 'max_depth': 4, 'min_samples_leaf': 2, 'min_samples_split': 10}. Best is trial 0 with value: 0.7834757834757835.\u001b[0m\n"
     ]
    },
    {
     "name": "stdout",
     "output_type": "stream",
     "text": [
      "Optuna Best score :  0.7834757834757835\n"
     ]
    },
    {
     "name": "stderr",
     "output_type": "stream",
     "text": [
      "\u001b[32m[I 2022-08-28 22:23:14,363]\u001b[0m A new study created in memory with name: randomforest Study\u001b[0m\n"
     ]
    },
    {
     "name": "stdout",
     "output_type": "stream",
     "text": [
      "test accuracy :  1.0\n"
     ]
    },
    {
     "name": "stderr",
     "output_type": "stream",
     "text": [
      "\u001b[32m[I 2022-08-28 22:23:15,162]\u001b[0m Trial 0 finished with value: 0.792022792022792 and parameters: {'n_estimators': 117, 'max_depth': 6, 'min_samples_leaf': 3, 'min_samples_split': 2}. Best is trial 0 with value: 0.792022792022792.\u001b[0m\n",
      "\u001b[32m[I 2022-08-28 22:23:15,263]\u001b[0m A new study created in memory with name: randomforest Study\u001b[0m\n"
     ]
    },
    {
     "name": "stdout",
     "output_type": "stream",
     "text": [
      "Optuna Best score :  0.792022792022792\n",
      "test accuracy :  1.0\n"
     ]
    },
    {
     "name": "stderr",
     "output_type": "stream",
     "text": [
      "\u001b[32m[I 2022-08-28 22:23:16,308]\u001b[0m Trial 0 finished with value: 0.7777777777777778 and parameters: {'n_estimators': 170, 'max_depth': 4, 'min_samples_leaf': 2, 'min_samples_split': 5}. Best is trial 0 with value: 0.7777777777777778.\u001b[0m\n",
      "\u001b[32m[I 2022-08-28 22:23:16,435]\u001b[0m A new study created in memory with name: randomforest Study\u001b[0m\n"
     ]
    },
    {
     "name": "stdout",
     "output_type": "stream",
     "text": [
      "Optuna Best score :  0.7777777777777778\n",
      "test accuracy :  1.0\n"
     ]
    },
    {
     "name": "stderr",
     "output_type": "stream",
     "text": [
      "\u001b[32m[I 2022-08-28 22:23:18,153]\u001b[0m Trial 0 finished with value: 0.7977207977207977 and parameters: {'n_estimators': 257, 'max_depth': 7, 'min_samples_leaf': 4, 'min_samples_split': 8}. Best is trial 0 with value: 0.7977207977207977.\u001b[0m\n"
     ]
    },
    {
     "name": "stdout",
     "output_type": "stream",
     "text": [
      "Optuna Best score :  0.7977207977207977\n"
     ]
    },
    {
     "name": "stderr",
     "output_type": "stream",
     "text": [
      "\u001b[32m[I 2022-08-28 22:23:18,382]\u001b[0m A new study created in memory with name: randomforest Study\u001b[0m\n"
     ]
    },
    {
     "name": "stdout",
     "output_type": "stream",
     "text": [
      "test accuracy :  1.0\n"
     ]
    },
    {
     "name": "stderr",
     "output_type": "stream",
     "text": [
      "\u001b[32m[I 2022-08-28 22:23:20,149]\u001b[0m Trial 0 finished with value: 0.7891737891737892 and parameters: {'n_estimators': 261, 'max_depth': 7, 'min_samples_leaf': 3, 'min_samples_split': 3}. Best is trial 0 with value: 0.7891737891737892.\u001b[0m\n"
     ]
    },
    {
     "name": "stdout",
     "output_type": "stream",
     "text": [
      "Optuna Best score :  0.7891737891737892\n"
     ]
    },
    {
     "name": "stderr",
     "output_type": "stream",
     "text": [
      "\u001b[32m[I 2022-08-28 22:23:20,374]\u001b[0m A new study created in memory with name: randomforest Study\u001b[0m\n"
     ]
    },
    {
     "name": "stdout",
     "output_type": "stream",
     "text": [
      "test accuracy :  1.0\n"
     ]
    },
    {
     "name": "stderr",
     "output_type": "stream",
     "text": [
      "\u001b[32m[I 2022-08-28 22:23:21,287]\u001b[0m Trial 0 finished with value: 0.8062678062678063 and parameters: {'n_estimators': 132, 'max_depth': 10, 'min_samples_leaf': 4, 'min_samples_split': 10}. Best is trial 0 with value: 0.8062678062678063.\u001b[0m\n",
      "\u001b[32m[I 2022-08-28 22:23:21,400]\u001b[0m A new study created in memory with name: randomforest Study\u001b[0m\n"
     ]
    },
    {
     "name": "stdout",
     "output_type": "stream",
     "text": [
      "Optuna Best score :  0.8062678062678063\n",
      "test accuracy :  0.8888888888888888\n"
     ]
    },
    {
     "name": "stderr",
     "output_type": "stream",
     "text": [
      "\u001b[32m[I 2022-08-28 22:23:21,832]\u001b[0m Trial 0 finished with value: 0.7948717948717948 and parameters: {'n_estimators': 60, 'max_depth': 8, 'min_samples_leaf': 4, 'min_samples_split': 5}. Best is trial 0 with value: 0.7948717948717948.\u001b[0m\n",
      "\u001b[32m[I 2022-08-28 22:23:21,888]\u001b[0m A new study created in memory with name: randomforest Study\u001b[0m\n"
     ]
    },
    {
     "name": "stdout",
     "output_type": "stream",
     "text": [
      "Optuna Best score :  0.7948717948717948\n",
      "test accuracy :  0.6666666666666666\n"
     ]
    },
    {
     "name": "stderr",
     "output_type": "stream",
     "text": [
      "\u001b[32m[I 2022-08-28 22:23:22,893]\u001b[0m Trial 0 finished with value: 0.7863247863247863 and parameters: {'n_estimators': 158, 'max_depth': 6, 'min_samples_leaf': 9, 'min_samples_split': 6}. Best is trial 0 with value: 0.7863247863247863.\u001b[0m\n",
      "\u001b[32m[I 2022-08-28 22:23:23,018]\u001b[0m A new study created in memory with name: randomforest Study\u001b[0m\n"
     ]
    },
    {
     "name": "stdout",
     "output_type": "stream",
     "text": [
      "Optuna Best score :  0.7863247863247863\n",
      "test accuracy :  0.6666666666666666\n"
     ]
    },
    {
     "name": "stderr",
     "output_type": "stream",
     "text": [
      "\u001b[32m[I 2022-08-28 22:23:25,341]\u001b[0m Trial 0 finished with value: 0.8034188034188035 and parameters: {'n_estimators': 379, 'max_depth': 4, 'min_samples_leaf': 2, 'min_samples_split': 8}. Best is trial 0 with value: 0.8034188034188035.\u001b[0m\n"
     ]
    },
    {
     "name": "stdout",
     "output_type": "stream",
     "text": [
      "Optuna Best score :  0.8034188034188035\n"
     ]
    },
    {
     "name": "stderr",
     "output_type": "stream",
     "text": [
      "\u001b[32m[I 2022-08-28 22:23:25,620]\u001b[0m A new study created in memory with name: randomforest Study\u001b[0m\n"
     ]
    },
    {
     "name": "stdout",
     "output_type": "stream",
     "text": [
      "test accuracy :  0.6666666666666666\n"
     ]
    },
    {
     "name": "stderr",
     "output_type": "stream",
     "text": [
      "\u001b[32m[I 2022-08-28 22:23:28,465]\u001b[0m Trial 0 finished with value: 0.7891737891737892 and parameters: {'n_estimators': 443, 'max_depth': 8, 'min_samples_leaf': 7, 'min_samples_split': 2}. Best is trial 0 with value: 0.7891737891737892.\u001b[0m\n"
     ]
    },
    {
     "name": "stdout",
     "output_type": "stream",
     "text": [
      "Optuna Best score :  0.7891737891737892\n"
     ]
    },
    {
     "name": "stderr",
     "output_type": "stream",
     "text": [
      "\u001b[32m[I 2022-08-28 22:23:28,818]\u001b[0m A new study created in memory with name: randomforest Study\u001b[0m\n"
     ]
    },
    {
     "name": "stdout",
     "output_type": "stream",
     "text": [
      "test accuracy :  0.7777777777777778\n"
     ]
    },
    {
     "name": "stderr",
     "output_type": "stream",
     "text": [
      "\u001b[32m[I 2022-08-28 22:23:31,832]\u001b[0m Trial 0 finished with value: 0.7948717948717948 and parameters: {'n_estimators': 493, 'max_depth': 4, 'min_samples_leaf': 2, 'min_samples_split': 6}. Best is trial 0 with value: 0.7948717948717948.\u001b[0m\n"
     ]
    },
    {
     "name": "stdout",
     "output_type": "stream",
     "text": [
      "Optuna Best score :  0.7948717948717948\n"
     ]
    },
    {
     "name": "stderr",
     "output_type": "stream",
     "text": [
      "\u001b[32m[I 2022-08-28 22:23:32,196]\u001b[0m A new study created in memory with name: randomforest Study\u001b[0m\n"
     ]
    },
    {
     "name": "stdout",
     "output_type": "stream",
     "text": [
      "test accuracy :  0.7777777777777778\n"
     ]
    },
    {
     "name": "stderr",
     "output_type": "stream",
     "text": [
      "\u001b[32m[I 2022-08-28 22:23:34,047]\u001b[0m Trial 0 finished with value: 0.7863247863247863 and parameters: {'n_estimators': 329, 'max_depth': 3, 'min_samples_leaf': 4, 'min_samples_split': 10}. Best is trial 0 with value: 0.7863247863247863.\u001b[0m\n",
      "\u001b[32m[I 2022-08-28 22:23:34,270]\u001b[0m A new study created in memory with name: randomforest Study\u001b[0m\n"
     ]
    },
    {
     "name": "stdout",
     "output_type": "stream",
     "text": [
      "Optuna Best score :  0.7863247863247863\n",
      "test accuracy :  0.6666666666666666\n"
     ]
    },
    {
     "name": "stderr",
     "output_type": "stream",
     "text": [
      "\u001b[32m[I 2022-08-28 22:23:36,160]\u001b[0m Trial 0 finished with value: 0.7977207977207977 and parameters: {'n_estimators': 305, 'max_depth': 10, 'min_samples_leaf': 9, 'min_samples_split': 6}. Best is trial 0 with value: 0.7977207977207977.\u001b[0m\n",
      "\u001b[32m[I 2022-08-28 22:23:36,394]\u001b[0m A new study created in memory with name: randomforest Study\u001b[0m\n"
     ]
    },
    {
     "name": "stdout",
     "output_type": "stream",
     "text": [
      "Optuna Best score :  0.7977207977207977\n",
      "test accuracy :  0.5555555555555556\n"
     ]
    },
    {
     "name": "stderr",
     "output_type": "stream",
     "text": [
      "\u001b[32m[I 2022-08-28 22:23:38,046]\u001b[0m Trial 0 finished with value: 0.8034188034188035 and parameters: {'n_estimators': 258, 'max_depth': 6, 'min_samples_leaf': 6, 'min_samples_split': 4}. Best is trial 0 with value: 0.8034188034188035.\u001b[0m\n",
      "\u001b[32m[I 2022-08-28 22:23:38,255]\u001b[0m A new study created in memory with name: randomforest Study\u001b[0m\n"
     ]
    },
    {
     "name": "stdout",
     "output_type": "stream",
     "text": [
      "Optuna Best score :  0.8034188034188035\n",
      "test accuracy :  0.7777777777777778\n"
     ]
    },
    {
     "name": "stderr",
     "output_type": "stream",
     "text": [
      "\u001b[32m[I 2022-08-28 22:23:41,019]\u001b[0m Trial 0 finished with value: 0.7863247863247863 and parameters: {'n_estimators': 435, 'max_depth': 8, 'min_samples_leaf': 7, 'min_samples_split': 3}. Best is trial 0 with value: 0.7863247863247863.\u001b[0m\n"
     ]
    },
    {
     "name": "stdout",
     "output_type": "stream",
     "text": [
      "Optuna Best score :  0.7863247863247863\n"
     ]
    },
    {
     "name": "stderr",
     "output_type": "stream",
     "text": [
      "\u001b[32m[I 2022-08-28 22:23:41,373]\u001b[0m A new study created in memory with name: randomforest Study\u001b[0m\n"
     ]
    },
    {
     "name": "stdout",
     "output_type": "stream",
     "text": [
      "test accuracy :  1.0\n"
     ]
    },
    {
     "name": "stderr",
     "output_type": "stream",
     "text": [
      "\u001b[32m[I 2022-08-28 22:23:44,111]\u001b[0m Trial 0 finished with value: 0.7806267806267806 and parameters: {'n_estimators': 484, 'max_depth': 3, 'min_samples_leaf': 7, 'min_samples_split': 9}. Best is trial 0 with value: 0.7806267806267806.\u001b[0m\n"
     ]
    },
    {
     "name": "stdout",
     "output_type": "stream",
     "text": [
      "Optuna Best score :  0.7806267806267806\n"
     ]
    },
    {
     "name": "stderr",
     "output_type": "stream",
     "text": [
      "\u001b[32m[I 2022-08-28 22:23:44,435]\u001b[0m A new study created in memory with name: randomforest Study\u001b[0m\n"
     ]
    },
    {
     "name": "stdout",
     "output_type": "stream",
     "text": [
      "test accuracy :  0.8888888888888888\n"
     ]
    },
    {
     "name": "stderr",
     "output_type": "stream",
     "text": [
      "\u001b[32m[I 2022-08-28 22:23:46,961]\u001b[0m Trial 0 finished with value: 0.8005698005698005 and parameters: {'n_estimators': 380, 'max_depth': 8, 'min_samples_leaf': 5, 'min_samples_split': 7}. Best is trial 0 with value: 0.8005698005698005.\u001b[0m\n"
     ]
    },
    {
     "name": "stdout",
     "output_type": "stream",
     "text": [
      "Optuna Best score :  0.8005698005698005\n"
     ]
    },
    {
     "name": "stderr",
     "output_type": "stream",
     "text": [
      "\u001b[32m[I 2022-08-28 22:23:47,280]\u001b[0m A new study created in memory with name: randomforest Study\u001b[0m\n"
     ]
    },
    {
     "name": "stdout",
     "output_type": "stream",
     "text": [
      "test accuracy :  0.6666666666666666\n"
     ]
    },
    {
     "name": "stderr",
     "output_type": "stream",
     "text": [
      "\u001b[32m[I 2022-08-28 22:23:49,658]\u001b[0m Trial 0 finished with value: 0.7891737891737892 and parameters: {'n_estimators': 371, 'max_depth': 7, 'min_samples_leaf': 6, 'min_samples_split': 2}. Best is trial 0 with value: 0.7891737891737892.\u001b[0m\n"
     ]
    },
    {
     "name": "stdout",
     "output_type": "stream",
     "text": [
      "Optuna Best score :  0.7891737891737892\n"
     ]
    },
    {
     "name": "stderr",
     "output_type": "stream",
     "text": [
      "\u001b[32m[I 2022-08-28 22:23:50,015]\u001b[0m A new study created in memory with name: randomforest Study\u001b[0m\n"
     ]
    },
    {
     "name": "stdout",
     "output_type": "stream",
     "text": [
      "test accuracy :  0.6666666666666666\n"
     ]
    },
    {
     "name": "stderr",
     "output_type": "stream",
     "text": [
      "\u001b[32m[I 2022-08-28 22:23:52,067]\u001b[0m Trial 0 finished with value: 0.7977207977207977 and parameters: {'n_estimators': 333, 'max_depth': 5, 'min_samples_leaf': 7, 'min_samples_split': 4}. Best is trial 0 with value: 0.7977207977207977.\u001b[0m\n"
     ]
    },
    {
     "name": "stdout",
     "output_type": "stream",
     "text": [
      "Optuna Best score :  0.7977207977207977\n"
     ]
    },
    {
     "name": "stderr",
     "output_type": "stream",
     "text": [
      "\u001b[32m[I 2022-08-28 22:23:52,320]\u001b[0m A new study created in memory with name: randomforest Study\u001b[0m\n"
     ]
    },
    {
     "name": "stdout",
     "output_type": "stream",
     "text": [
      "test accuracy :  0.6666666666666666\n"
     ]
    },
    {
     "name": "stderr",
     "output_type": "stream",
     "text": [
      "\u001b[32m[I 2022-08-28 22:23:53,675]\u001b[0m Trial 0 finished with value: 0.7863247863247863 and parameters: {'n_estimators': 222, 'max_depth': 4, 'min_samples_leaf': 3, 'min_samples_split': 7}. Best is trial 0 with value: 0.7863247863247863.\u001b[0m\n",
      "\u001b[32m[I 2022-08-28 22:23:53,839]\u001b[0m A new study created in memory with name: randomforest Study\u001b[0m\n"
     ]
    },
    {
     "name": "stdout",
     "output_type": "stream",
     "text": [
      "Optuna Best score :  0.7863247863247863\n",
      "test accuracy :  0.7777777777777778\n"
     ]
    },
    {
     "name": "stderr",
     "output_type": "stream",
     "text": [
      "\u001b[32m[I 2022-08-28 22:23:55,525]\u001b[0m Trial 0 finished with value: 0.8062678062678063 and parameters: {'n_estimators': 240, 'max_depth': 9, 'min_samples_leaf': 2, 'min_samples_split': 4}. Best is trial 0 with value: 0.8062678062678063.\u001b[0m\n",
      "\u001b[32m[I 2022-08-28 22:23:55,738]\u001b[0m A new study created in memory with name: randomforest Study\u001b[0m\n"
     ]
    },
    {
     "name": "stdout",
     "output_type": "stream",
     "text": [
      "Optuna Best score :  0.8062678062678063\n",
      "test accuracy :  0.5555555555555556\n"
     ]
    },
    {
     "name": "stderr",
     "output_type": "stream",
     "text": [
      "\u001b[32m[I 2022-08-28 22:23:57,317]\u001b[0m Trial 0 finished with value: 0.8034188034188035 and parameters: {'n_estimators': 243, 'max_depth': 9, 'min_samples_leaf': 6, 'min_samples_split': 7}. Best is trial 0 with value: 0.8034188034188035.\u001b[0m\n",
      "\u001b[32m[I 2022-08-28 22:23:57,523]\u001b[0m A new study created in memory with name: randomforest Study\u001b[0m\n"
     ]
    },
    {
     "name": "stdout",
     "output_type": "stream",
     "text": [
      "Optuna Best score :  0.8034188034188035\n",
      "test accuracy :  0.8888888888888888\n"
     ]
    },
    {
     "name": "stderr",
     "output_type": "stream",
     "text": [
      "\u001b[32m[I 2022-08-28 22:23:58,911]\u001b[0m Trial 0 finished with value: 0.792022792022792 and parameters: {'n_estimators': 214, 'max_depth': 8, 'min_samples_leaf': 6, 'min_samples_split': 3}. Best is trial 0 with value: 0.792022792022792.\u001b[0m\n",
      "\u001b[32m[I 2022-08-28 22:23:59,089]\u001b[0m A new study created in memory with name: randomforest Study\u001b[0m\n"
     ]
    },
    {
     "name": "stdout",
     "output_type": "stream",
     "text": [
      "Optuna Best score :  0.792022792022792\n",
      "test accuracy :  0.8888888888888888\n"
     ]
    },
    {
     "name": "stderr",
     "output_type": "stream",
     "text": [
      "\u001b[32m[I 2022-08-28 22:23:59,983]\u001b[0m Trial 0 finished with value: 0.7977207977207977 and parameters: {'n_estimators': 147, 'max_depth': 4, 'min_samples_leaf': 6, 'min_samples_split': 7}. Best is trial 0 with value: 0.7977207977207977.\u001b[0m\n",
      "\u001b[32m[I 2022-08-28 22:24:00,093]\u001b[0m A new study created in memory with name: randomforest Study\u001b[0m\n"
     ]
    },
    {
     "name": "stdout",
     "output_type": "stream",
     "text": [
      "Optuna Best score :  0.7977207977207977\n",
      "test accuracy :  0.5555555555555556\n"
     ]
    },
    {
     "name": "stderr",
     "output_type": "stream",
     "text": [
      "\u001b[32m[I 2022-08-28 22:24:01,174]\u001b[0m Trial 0 finished with value: 0.7948717948717948 and parameters: {'n_estimators': 169, 'max_depth': 8, 'min_samples_leaf': 7, 'min_samples_split': 3}. Best is trial 0 with value: 0.7948717948717948.\u001b[0m\n",
      "\u001b[32m[I 2022-08-28 22:24:01,311]\u001b[0m A new study created in memory with name: randomforest Study\u001b[0m\n"
     ]
    },
    {
     "name": "stdout",
     "output_type": "stream",
     "text": [
      "Optuna Best score :  0.7948717948717948\n",
      "test accuracy :  0.5555555555555556\n"
     ]
    },
    {
     "name": "stderr",
     "output_type": "stream",
     "text": [
      "\u001b[32m[I 2022-08-28 22:24:02,110]\u001b[0m Trial 0 finished with value: 0.792022792022792 and parameters: {'n_estimators': 134, 'max_depth': 4, 'min_samples_leaf': 10, 'min_samples_split': 9}. Best is trial 0 with value: 0.792022792022792.\u001b[0m\n",
      "\u001b[32m[I 2022-08-28 22:24:02,215]\u001b[0m A new study created in memory with name: randomforest Study\u001b[0m\n"
     ]
    },
    {
     "name": "stdout",
     "output_type": "stream",
     "text": [
      "Optuna Best score :  0.792022792022792\n",
      "test accuracy :  0.7777777777777778\n"
     ]
    },
    {
     "name": "stderr",
     "output_type": "stream",
     "text": [
      "\u001b[32m[I 2022-08-28 22:24:05,466]\u001b[0m Trial 0 finished with value: 0.7948717948717948 and parameters: {'n_estimators': 469, 'max_depth': 9, 'min_samples_leaf': 2, 'min_samples_split': 6}. Best is trial 0 with value: 0.7948717948717948.\u001b[0m\n"
     ]
    },
    {
     "name": "stdout",
     "output_type": "stream",
     "text": [
      "Optuna Best score :  0.7948717948717948\n"
     ]
    },
    {
     "name": "stderr",
     "output_type": "stream",
     "text": [
      "\u001b[32m[I 2022-08-28 22:24:05,886]\u001b[0m A new study created in memory with name: randomforest Study\u001b[0m\n"
     ]
    },
    {
     "name": "stdout",
     "output_type": "stream",
     "text": [
      "test accuracy :  0.8888888888888888\n"
     ]
    },
    {
     "name": "stderr",
     "output_type": "stream",
     "text": [
      "\u001b[32m[I 2022-08-28 22:24:08,589]\u001b[0m Trial 0 finished with value: 0.7948717948717948 and parameters: {'n_estimators': 415, 'max_depth': 9, 'min_samples_leaf': 6, 'min_samples_split': 4}. Best is trial 0 with value: 0.7948717948717948.\u001b[0m\n"
     ]
    },
    {
     "name": "stdout",
     "output_type": "stream",
     "text": [
      "Optuna Best score :  0.7948717948717948\n"
     ]
    },
    {
     "name": "stderr",
     "output_type": "stream",
     "text": [
      "\u001b[32m[I 2022-08-28 22:24:08,927]\u001b[0m A new study created in memory with name: randomforest Study\u001b[0m\n"
     ]
    },
    {
     "name": "stdout",
     "output_type": "stream",
     "text": [
      "test accuracy :  0.7777777777777778\n"
     ]
    },
    {
     "name": "stderr",
     "output_type": "stream",
     "text": [
      "\u001b[32m[I 2022-08-28 22:24:09,614]\u001b[0m Trial 0 finished with value: 0.8034188034188035 and parameters: {'n_estimators': 104, 'max_depth': 9, 'min_samples_leaf': 7, 'min_samples_split': 2}. Best is trial 0 with value: 0.8034188034188035.\u001b[0m\n",
      "\u001b[32m[I 2022-08-28 22:24:09,705]\u001b[0m A new study created in memory with name: randomforest Study\u001b[0m\n"
     ]
    },
    {
     "name": "stdout",
     "output_type": "stream",
     "text": [
      "Optuna Best score :  0.8034188034188035\n",
      "test accuracy :  0.6666666666666666\n"
     ]
    },
    {
     "name": "stderr",
     "output_type": "stream",
     "text": [
      "\u001b[32m[I 2022-08-28 22:24:12,729]\u001b[0m Trial 0 finished with value: 0.792022792022792 and parameters: {'n_estimators': 492, 'max_depth': 4, 'min_samples_leaf': 2, 'min_samples_split': 2}. Best is trial 0 with value: 0.792022792022792.\u001b[0m\n"
     ]
    },
    {
     "name": "stdout",
     "output_type": "stream",
     "text": [
      "Optuna Best score :  0.792022792022792\n"
     ]
    },
    {
     "name": "stderr",
     "output_type": "stream",
     "text": [
      "\u001b[32m[I 2022-08-28 22:24:13,095]\u001b[0m A new study created in memory with name: randomforest Study\u001b[0m\n"
     ]
    },
    {
     "name": "stdout",
     "output_type": "stream",
     "text": [
      "test accuracy :  0.8888888888888888\n"
     ]
    },
    {
     "name": "stderr",
     "output_type": "stream",
     "text": [
      "\u001b[32m[I 2022-08-28 22:24:15,818]\u001b[0m Trial 0 finished with value: 0.7777777777777778 and parameters: {'n_estimators': 489, 'max_depth': 3, 'min_samples_leaf': 7, 'min_samples_split': 10}. Best is trial 0 with value: 0.7777777777777778.\u001b[0m\n"
     ]
    },
    {
     "name": "stdout",
     "output_type": "stream",
     "text": [
      "Optuna Best score :  0.7777777777777778\n"
     ]
    },
    {
     "name": "stderr",
     "output_type": "stream",
     "text": [
      "\u001b[32m[I 2022-08-28 22:24:16,157]\u001b[0m A new study created in memory with name: randomforest Study\u001b[0m\n"
     ]
    },
    {
     "name": "stdout",
     "output_type": "stream",
     "text": [
      "test accuracy :  0.7777777777777778\n"
     ]
    },
    {
     "name": "stderr",
     "output_type": "stream",
     "text": [
      "\u001b[32m[I 2022-08-28 22:24:19,116]\u001b[0m Trial 0 finished with value: 0.7806267806267806 and parameters: {'n_estimators': 472, 'max_depth': 10, 'min_samples_leaf': 8, 'min_samples_split': 8}. Best is trial 0 with value: 0.7806267806267806.\u001b[0m\n"
     ]
    },
    {
     "name": "stdout",
     "output_type": "stream",
     "text": [
      "Optuna Best score :  0.7806267806267806\n"
     ]
    },
    {
     "name": "stderr",
     "output_type": "stream",
     "text": [
      "\u001b[32m[I 2022-08-28 22:24:19,484]\u001b[0m A new study created in memory with name: randomforest Study\u001b[0m\n"
     ]
    },
    {
     "name": "stdout",
     "output_type": "stream",
     "text": [
      "test accuracy :  0.6666666666666666\n"
     ]
    },
    {
     "name": "stderr",
     "output_type": "stream",
     "text": [
      "\u001b[32m[I 2022-08-28 22:24:20,665]\u001b[0m Trial 0 finished with value: 0.7948717948717948 and parameters: {'n_estimators': 185, 'max_depth': 5, 'min_samples_leaf': 6, 'min_samples_split': 2}. Best is trial 0 with value: 0.7948717948717948.\u001b[0m\n",
      "\u001b[32m[I 2022-08-28 22:24:20,814]\u001b[0m A new study created in memory with name: randomforest Study\u001b[0m\n"
     ]
    },
    {
     "name": "stdout",
     "output_type": "stream",
     "text": [
      "Optuna Best score :  0.7948717948717948\n",
      "test accuracy :  0.3333333333333333\n"
     ]
    },
    {
     "name": "stderr",
     "output_type": "stream",
     "text": [
      "\u001b[32m[I 2022-08-28 22:24:21,340]\u001b[0m Trial 0 finished with value: 0.7863247863247863 and parameters: {'n_estimators': 81, 'max_depth': 10, 'min_samples_leaf': 9, 'min_samples_split': 8}. Best is trial 0 with value: 0.7863247863247863.\u001b[0m\n",
      "\u001b[32m[I 2022-08-28 22:24:21,409]\u001b[0m A new study created in memory with name: randomforest Study\u001b[0m\n"
     ]
    },
    {
     "name": "stdout",
     "output_type": "stream",
     "text": [
      "Optuna Best score :  0.7863247863247863\n",
      "test accuracy :  0.7777777777777778\n"
     ]
    },
    {
     "name": "stderr",
     "output_type": "stream",
     "text": [
      "\u001b[32m[I 2022-08-28 22:24:21,816]\u001b[0m Trial 0 finished with value: 0.7806267806267806 and parameters: {'n_estimators': 60, 'max_depth': 7, 'min_samples_leaf': 7, 'min_samples_split': 9}. Best is trial 0 with value: 0.7806267806267806.\u001b[0m\n",
      "\u001b[32m[I 2022-08-28 22:24:21,869]\u001b[0m A new study created in memory with name: randomforest Study\u001b[0m\n"
     ]
    },
    {
     "name": "stdout",
     "output_type": "stream",
     "text": [
      "Optuna Best score :  0.7806267806267806\n",
      "test accuracy :  0.8888888888888888\n"
     ]
    },
    {
     "name": "stderr",
     "output_type": "stream",
     "text": [
      "\u001b[32m[I 2022-08-28 22:24:22,264]\u001b[0m Trial 0 finished with value: 0.7834757834757835 and parameters: {'n_estimators': 65, 'max_depth': 3, 'min_samples_leaf': 6, 'min_samples_split': 7}. Best is trial 0 with value: 0.7834757834757835.\u001b[0m\n"
     ]
    },
    {
     "name": "stdout",
     "output_type": "stream",
     "text": [
      "Optuna Best score :  0.7834757834757835\n",
      "test accuracy :  0.7777777777777778\n",
      "\n",
      "mean accuracy :  0.7944444444444447\n",
      "mean precision :  0.7944444444444447\n",
      "mean recall :  0.7375000000000002\n",
      "mean f1 :  0.7188267982017983\n",
      "mean roc_auc :  0.7375000000000002\n",
      "\n"
     ]
    }
   ],
   "source": [
    "clf = RandomForestClassifier(random_state=42)\n",
    "shap_df_list, metric_df = NestedCVwithOptuna(RFObjective, clf, 'randomforest')"
   ]
  },
  {
   "cell_type": "markdown",
   "metadata": {},
   "source": [
    "## 40개의 모델의 개별 performance metric + 평균 performnace metric을 저장한다\n",
    "## 각 모델별 test set의 feature에 따른 shap value를 저장한다"
   ]
  },
  {
   "cell_type": "code",
   "execution_count": 42,
   "metadata": {},
   "outputs": [],
   "source": [
    "if label_name == 'three_label':\n",
    "    shap_values_df_0 = pd.concat(shap_df_list[0])\n",
    "    shap_values_df_1 = pd.concat(shap_df_list[1])\n",
    "    shap_values_df_2 = pd.concat(shap_df_list[2])\n",
    "\n",
    "    with pd.ExcelWriter(f\"./rf_result.xlsx\") as writer:\n",
    "        metric_df.to_excel(writer, sheet_name=\"performance metric\", index=False)\n",
    "        shap_values_df_0.to_excel(writer, sheet_name=\"shap_list_0\", index=False)\n",
    "        shap_values_df_1.to_excel(writer, sheet_name=\"shap_list_1\", index=False)\n",
    "        shap_values_df_2.to_excel(writer, sheet_name=\"shap_list_2\", index=False)\n",
    "\n",
    "if label_name != 'three_label':\n",
    "    shap_values_df = pd.concat(shap_df_list[0])\n",
    "\n",
    "    with pd.ExcelWriter(f\"./rf_result.xlsx\") as writer:\n",
    "        metric_df.to_excel(writer, sheet_name=\"performance metric\", index=False)\n",
    "        shap_values_df.to_excel(writer, sheet_name=\"shap_list\", index=False)"
   ]
  },
  {
   "cell_type": "markdown",
   "metadata": {},
   "source": [
    "# GBM Bayesian"
   ]
  },
  {
   "cell_type": "code",
   "execution_count": 50,
   "metadata": {},
   "outputs": [],
   "source": [
    "class GBMObjective(object):\n",
    "    def __init__(self, X, y):\n",
    "        self.X = X\n",
    "        self.y = y\n",
    "    \n",
    "    def __call__(self, trial: Trial):\n",
    "        gbm_params = {\n",
    "            'n_estimators': trial.suggest_int('n_estimators', 50, 500),\n",
    "            'learning_rate': trial.suggest_loguniform(\"learning_rate\", 1e-3, 1e-1),\n",
    "            'max_depth': trial.suggest_int('max_depth', 3, 10),\n",
    "            'max_features': trial.suggest_categorical('max_features', [None, 'sqrt']),\n",
    "            'min_samples_leaf': trial.suggest_int('min_samples_leaf', 2, 10),\n",
    "            'min_samples_split': trial.suggest_int('min_samples_split', 2, 10),\n",
    "            'subsample': trial.suggest_float('subsample', 0.6, 1.0, step=0.1), \n",
    "            'random_state': 42\n",
    "        }\n",
    "\n",
    "        clf = GradientBoostingClassifier(**gbm_params)\n",
    "\n",
    "        mean_accuracy = InnerCrossValidation(clf, self.X, self.y, cv_method, n_fold)\n",
    "\n",
    "        return mean_accuracy"
   ]
  },
  {
   "cell_type": "code",
   "execution_count": 51,
   "metadata": {},
   "outputs": [
    {
     "name": "stderr",
     "output_type": "stream",
     "text": [
      "\u001b[32m[I 2022-08-28 22:24:23,418]\u001b[0m A new study created in memory with name: gbm Study\u001b[0m\n"
     ]
    },
    {
     "name": "stdout",
     "output_type": "stream",
     "text": [
      "class_nums :  2\n"
     ]
    },
    {
     "name": "stderr",
     "output_type": "stream",
     "text": [
      "\u001b[32m[I 2022-08-28 22:24:24,090]\u001b[0m Trial 0 finished with value: 0.8005698005698005 and parameters: {'n_estimators': 139, 'learning_rate': 0.031178084281101547, 'max_depth': 4, 'max_features': 'sqrt', 'min_samples_leaf': 2, 'min_samples_split': 7, 'subsample': 1.0}. Best is trial 0 with value: 0.8005698005698005.\u001b[0m\n",
      "\u001b[32m[I 2022-08-28 22:24:24,177]\u001b[0m A new study created in memory with name: gbm Study\u001b[0m\n"
     ]
    },
    {
     "name": "stdout",
     "output_type": "stream",
     "text": [
      "Optuna Best score :  0.8005698005698005\n",
      "test accuracy :  1.0\n"
     ]
    },
    {
     "ename": "KeyboardInterrupt",
     "evalue": "",
     "output_type": "error",
     "traceback": [
      "\u001b[0;31m---------------------------------------------------------------------------\u001b[0m",
      "\u001b[0;31mKeyboardInterrupt\u001b[0m                         Traceback (most recent call last)",
      "\u001b[1;32m/Users/junhyeong/repo/KAIST/제출용/hyperparameter.ipynb 셀 72\u001b[0m in \u001b[0;36m<cell line: 2>\u001b[0;34m()\u001b[0m\n\u001b[1;32m      <a href='vscode-notebook-cell:/Users/junhyeong/repo/KAIST/%EC%A0%9C%EC%B6%9C%EC%9A%A9/hyperparameter.ipynb#Y163sZmlsZQ%3D%3D?line=0'>1</a>\u001b[0m clf \u001b[39m=\u001b[39m GradientBoostingClassifier(random_state\u001b[39m=\u001b[39m\u001b[39m42\u001b[39m)\n\u001b[0;32m----> <a href='vscode-notebook-cell:/Users/junhyeong/repo/KAIST/%EC%A0%9C%EC%B6%9C%EC%9A%A9/hyperparameter.ipynb#Y163sZmlsZQ%3D%3D?line=1'>2</a>\u001b[0m shap_values, X_test, metric_df \u001b[39m=\u001b[39m NestedCVwithOptuna(GBMObjective, clf, \u001b[39m'\u001b[39;49m\u001b[39mgbm\u001b[39;49m\u001b[39m'\u001b[39;49m)\n",
      "\u001b[1;32m/Users/junhyeong/repo/KAIST/제출용/hyperparameter.ipynb 셀 72\u001b[0m in \u001b[0;36mNestedCVwithOptuna\u001b[0;34m(objective, clf, clf_name)\u001b[0m\n\u001b[1;32m     <a href='vscode-notebook-cell:/Users/junhyeong/repo/KAIST/%EC%A0%9C%EC%B6%9C%EC%9A%A9/hyperparameter.ipynb#Y163sZmlsZQ%3D%3D?line=24'>25</a>\u001b[0m sampler \u001b[39m=\u001b[39m TPESampler()\n\u001b[1;32m     <a href='vscode-notebook-cell:/Users/junhyeong/repo/KAIST/%EC%A0%9C%EC%B6%9C%EC%9A%A9/hyperparameter.ipynb#Y163sZmlsZQ%3D%3D?line=26'>27</a>\u001b[0m study \u001b[39m=\u001b[39m optuna\u001b[39m.\u001b[39mcreate_study(direction\u001b[39m=\u001b[39m\u001b[39m'\u001b[39m\u001b[39mmaximize\u001b[39m\u001b[39m'\u001b[39m, sampler\u001b[39m=\u001b[39msampler, study_name\u001b[39m=\u001b[39m\u001b[39mf\u001b[39m\u001b[39m'\u001b[39m\u001b[39m{\u001b[39;00mclf_name\u001b[39m}\u001b[39;00m\u001b[39m Study\u001b[39m\u001b[39m'\u001b[39m)\n\u001b[0;32m---> <a href='vscode-notebook-cell:/Users/junhyeong/repo/KAIST/%EC%A0%9C%EC%B6%9C%EC%9A%A9/hyperparameter.ipynb#Y163sZmlsZQ%3D%3D?line=27'>28</a>\u001b[0m study\u001b[39m.\u001b[39;49moptimize(objective(X_train, y_train), n_trials\u001b[39m=\u001b[39;49mn_trials)\n\u001b[1;32m     <a href='vscode-notebook-cell:/Users/junhyeong/repo/KAIST/%EC%A0%9C%EC%B6%9C%EC%9A%A9/hyperparameter.ipynb#Y163sZmlsZQ%3D%3D?line=29'>30</a>\u001b[0m best_params \u001b[39m=\u001b[39m study\u001b[39m.\u001b[39mbest_params\n\u001b[1;32m     <a href='vscode-notebook-cell:/Users/junhyeong/repo/KAIST/%EC%A0%9C%EC%B6%9C%EC%9A%A9/hyperparameter.ipynb#Y163sZmlsZQ%3D%3D?line=30'>31</a>\u001b[0m \u001b[39mprint\u001b[39m(\u001b[39m'\u001b[39m\u001b[39mOptuna Best score : \u001b[39m\u001b[39m'\u001b[39m, study\u001b[39m.\u001b[39mbest_value)\n",
      "File \u001b[0;32m/opt/homebrew/Caskroom/miniforge/base/envs/strong-design/lib/python3.9/site-packages/optuna/study/study.py:400\u001b[0m, in \u001b[0;36mStudy.optimize\u001b[0;34m(self, func, n_trials, timeout, n_jobs, catch, callbacks, gc_after_trial, show_progress_bar)\u001b[0m\n\u001b[1;32m    392\u001b[0m \u001b[39mif\u001b[39;00m n_jobs \u001b[39m!=\u001b[39m \u001b[39m1\u001b[39m:\n\u001b[1;32m    393\u001b[0m     warnings\u001b[39m.\u001b[39mwarn(\n\u001b[1;32m    394\u001b[0m         \u001b[39m\"\u001b[39m\u001b[39m`n_jobs` argument has been deprecated in v2.7.0. \u001b[39m\u001b[39m\"\u001b[39m\n\u001b[1;32m    395\u001b[0m         \u001b[39m\"\u001b[39m\u001b[39mThis feature will be removed in v4.0.0. \u001b[39m\u001b[39m\"\u001b[39m\n\u001b[1;32m    396\u001b[0m         \u001b[39m\"\u001b[39m\u001b[39mSee https://github.com/optuna/optuna/releases/tag/v2.7.0.\u001b[39m\u001b[39m\"\u001b[39m,\n\u001b[1;32m    397\u001b[0m         \u001b[39mFutureWarning\u001b[39;00m,\n\u001b[1;32m    398\u001b[0m     )\n\u001b[0;32m--> 400\u001b[0m _optimize(\n\u001b[1;32m    401\u001b[0m     study\u001b[39m=\u001b[39;49m\u001b[39mself\u001b[39;49m,\n\u001b[1;32m    402\u001b[0m     func\u001b[39m=\u001b[39;49mfunc,\n\u001b[1;32m    403\u001b[0m     n_trials\u001b[39m=\u001b[39;49mn_trials,\n\u001b[1;32m    404\u001b[0m     timeout\u001b[39m=\u001b[39;49mtimeout,\n\u001b[1;32m    405\u001b[0m     n_jobs\u001b[39m=\u001b[39;49mn_jobs,\n\u001b[1;32m    406\u001b[0m     catch\u001b[39m=\u001b[39;49mcatch,\n\u001b[1;32m    407\u001b[0m     callbacks\u001b[39m=\u001b[39;49mcallbacks,\n\u001b[1;32m    408\u001b[0m     gc_after_trial\u001b[39m=\u001b[39;49mgc_after_trial,\n\u001b[1;32m    409\u001b[0m     show_progress_bar\u001b[39m=\u001b[39;49mshow_progress_bar,\n\u001b[1;32m    410\u001b[0m )\n",
      "File \u001b[0;32m/opt/homebrew/Caskroom/miniforge/base/envs/strong-design/lib/python3.9/site-packages/optuna/study/_optimize.py:66\u001b[0m, in \u001b[0;36m_optimize\u001b[0;34m(study, func, n_trials, timeout, n_jobs, catch, callbacks, gc_after_trial, show_progress_bar)\u001b[0m\n\u001b[1;32m     64\u001b[0m \u001b[39mtry\u001b[39;00m:\n\u001b[1;32m     65\u001b[0m     \u001b[39mif\u001b[39;00m n_jobs \u001b[39m==\u001b[39m \u001b[39m1\u001b[39m:\n\u001b[0;32m---> 66\u001b[0m         _optimize_sequential(\n\u001b[1;32m     67\u001b[0m             study,\n\u001b[1;32m     68\u001b[0m             func,\n\u001b[1;32m     69\u001b[0m             n_trials,\n\u001b[1;32m     70\u001b[0m             timeout,\n\u001b[1;32m     71\u001b[0m             catch,\n\u001b[1;32m     72\u001b[0m             callbacks,\n\u001b[1;32m     73\u001b[0m             gc_after_trial,\n\u001b[1;32m     74\u001b[0m             reseed_sampler_rng\u001b[39m=\u001b[39;49m\u001b[39mFalse\u001b[39;49;00m,\n\u001b[1;32m     75\u001b[0m             time_start\u001b[39m=\u001b[39;49m\u001b[39mNone\u001b[39;49;00m,\n\u001b[1;32m     76\u001b[0m             progress_bar\u001b[39m=\u001b[39;49mprogress_bar,\n\u001b[1;32m     77\u001b[0m         )\n\u001b[1;32m     78\u001b[0m     \u001b[39melse\u001b[39;00m:\n\u001b[1;32m     79\u001b[0m         \u001b[39mif\u001b[39;00m show_progress_bar:\n",
      "File \u001b[0;32m/opt/homebrew/Caskroom/miniforge/base/envs/strong-design/lib/python3.9/site-packages/optuna/study/_optimize.py:163\u001b[0m, in \u001b[0;36m_optimize_sequential\u001b[0;34m(study, func, n_trials, timeout, catch, callbacks, gc_after_trial, reseed_sampler_rng, time_start, progress_bar)\u001b[0m\n\u001b[1;32m    160\u001b[0m         \u001b[39mbreak\u001b[39;00m\n\u001b[1;32m    162\u001b[0m \u001b[39mtry\u001b[39;00m:\n\u001b[0;32m--> 163\u001b[0m     trial \u001b[39m=\u001b[39m _run_trial(study, func, catch)\n\u001b[1;32m    164\u001b[0m \u001b[39mexcept\u001b[39;00m \u001b[39mException\u001b[39;00m:\n\u001b[1;32m    165\u001b[0m     \u001b[39mraise\u001b[39;00m\n",
      "File \u001b[0;32m/opt/homebrew/Caskroom/miniforge/base/envs/strong-design/lib/python3.9/site-packages/optuna/study/_optimize.py:213\u001b[0m, in \u001b[0;36m_run_trial\u001b[0;34m(study, func, catch)\u001b[0m\n\u001b[1;32m    210\u001b[0m     thread\u001b[39m.\u001b[39mstart()\n\u001b[1;32m    212\u001b[0m \u001b[39mtry\u001b[39;00m:\n\u001b[0;32m--> 213\u001b[0m     value_or_values \u001b[39m=\u001b[39m func(trial)\n\u001b[1;32m    214\u001b[0m \u001b[39mexcept\u001b[39;00m exceptions\u001b[39m.\u001b[39mTrialPruned \u001b[39mas\u001b[39;00m e:\n\u001b[1;32m    215\u001b[0m     \u001b[39m# TODO(mamu): Handle multi-objective cases.\u001b[39;00m\n\u001b[1;32m    216\u001b[0m     state \u001b[39m=\u001b[39m TrialState\u001b[39m.\u001b[39mPRUNED\n",
      "\u001b[1;32m/Users/junhyeong/repo/KAIST/제출용/hyperparameter.ipynb 셀 72\u001b[0m in \u001b[0;36mGBMObjective.__call__\u001b[0;34m(self, trial)\u001b[0m\n\u001b[1;32m      <a href='vscode-notebook-cell:/Users/junhyeong/repo/KAIST/%EC%A0%9C%EC%B6%9C%EC%9A%A9/hyperparameter.ipynb#Y163sZmlsZQ%3D%3D?line=6'>7</a>\u001b[0m gbm_params \u001b[39m=\u001b[39m {\n\u001b[1;32m      <a href='vscode-notebook-cell:/Users/junhyeong/repo/KAIST/%EC%A0%9C%EC%B6%9C%EC%9A%A9/hyperparameter.ipynb#Y163sZmlsZQ%3D%3D?line=7'>8</a>\u001b[0m     \u001b[39m'\u001b[39m\u001b[39mn_estimators\u001b[39m\u001b[39m'\u001b[39m: trial\u001b[39m.\u001b[39msuggest_int(\u001b[39m'\u001b[39m\u001b[39mn_estimators\u001b[39m\u001b[39m'\u001b[39m, \u001b[39m50\u001b[39m, \u001b[39m500\u001b[39m),\n\u001b[1;32m      <a href='vscode-notebook-cell:/Users/junhyeong/repo/KAIST/%EC%A0%9C%EC%B6%9C%EC%9A%A9/hyperparameter.ipynb#Y163sZmlsZQ%3D%3D?line=8'>9</a>\u001b[0m     \u001b[39m'\u001b[39m\u001b[39mlearning_rate\u001b[39m\u001b[39m'\u001b[39m: trial\u001b[39m.\u001b[39msuggest_loguniform(\u001b[39m\"\u001b[39m\u001b[39mlearning_rate\u001b[39m\u001b[39m\"\u001b[39m, \u001b[39m1e-3\u001b[39m, \u001b[39m1e-1\u001b[39m),\n\u001b[0;32m   (...)\u001b[0m\n\u001b[1;32m     <a href='vscode-notebook-cell:/Users/junhyeong/repo/KAIST/%EC%A0%9C%EC%B6%9C%EC%9A%A9/hyperparameter.ipynb#Y163sZmlsZQ%3D%3D?line=14'>15</a>\u001b[0m     \u001b[39m'\u001b[39m\u001b[39mrandom_state\u001b[39m\u001b[39m'\u001b[39m: \u001b[39m42\u001b[39m\n\u001b[1;32m     <a href='vscode-notebook-cell:/Users/junhyeong/repo/KAIST/%EC%A0%9C%EC%B6%9C%EC%9A%A9/hyperparameter.ipynb#Y163sZmlsZQ%3D%3D?line=15'>16</a>\u001b[0m }\n\u001b[1;32m     <a href='vscode-notebook-cell:/Users/junhyeong/repo/KAIST/%EC%A0%9C%EC%B6%9C%EC%9A%A9/hyperparameter.ipynb#Y163sZmlsZQ%3D%3D?line=17'>18</a>\u001b[0m clf \u001b[39m=\u001b[39m GradientBoostingClassifier(\u001b[39m*\u001b[39m\u001b[39m*\u001b[39mgbm_params)\n\u001b[0;32m---> <a href='vscode-notebook-cell:/Users/junhyeong/repo/KAIST/%EC%A0%9C%EC%B6%9C%EC%9A%A9/hyperparameter.ipynb#Y163sZmlsZQ%3D%3D?line=19'>20</a>\u001b[0m mean_accuracy \u001b[39m=\u001b[39m InnerCrossValidation(clf, \u001b[39mself\u001b[39;49m\u001b[39m.\u001b[39;49mX, \u001b[39mself\u001b[39;49m\u001b[39m.\u001b[39;49my, cv_method, n_fold)\n\u001b[1;32m     <a href='vscode-notebook-cell:/Users/junhyeong/repo/KAIST/%EC%A0%9C%EC%B6%9C%EC%9A%A9/hyperparameter.ipynb#Y163sZmlsZQ%3D%3D?line=21'>22</a>\u001b[0m \u001b[39mreturn\u001b[39;00m mean_accuracy\n",
      "\u001b[1;32m/Users/junhyeong/repo/KAIST/제출용/hyperparameter.ipynb 셀 72\u001b[0m in \u001b[0;36mInnerCrossValidation\u001b[0;34m(clf, X, y, cv_method, n_fold)\u001b[0m\n\u001b[1;32m     <a href='vscode-notebook-cell:/Users/junhyeong/repo/KAIST/%EC%A0%9C%EC%B6%9C%EC%9A%A9/hyperparameter.ipynb#Y163sZmlsZQ%3D%3D?line=22'>23</a>\u001b[0m classifier \u001b[39m=\u001b[39m clone(clf)\n\u001b[1;32m     <a href='vscode-notebook-cell:/Users/junhyeong/repo/KAIST/%EC%A0%9C%EC%B6%9C%EC%9A%A9/hyperparameter.ipynb#Y163sZmlsZQ%3D%3D?line=24'>25</a>\u001b[0m \u001b[39m# 모델을 학습한다\u001b[39;00m\n\u001b[0;32m---> <a href='vscode-notebook-cell:/Users/junhyeong/repo/KAIST/%EC%A0%9C%EC%B6%9C%EC%9A%A9/hyperparameter.ipynb#Y163sZmlsZQ%3D%3D?line=25'>26</a>\u001b[0m classifier\u001b[39m.\u001b[39;49mfit(X_train, y_train)\n\u001b[1;32m     <a href='vscode-notebook-cell:/Users/junhyeong/repo/KAIST/%EC%A0%9C%EC%B6%9C%EC%9A%A9/hyperparameter.ipynb#Y163sZmlsZQ%3D%3D?line=27'>28</a>\u001b[0m y_pred \u001b[39m=\u001b[39m classifier\u001b[39m.\u001b[39mpredict(X_val)\n\u001b[1;32m     <a href='vscode-notebook-cell:/Users/junhyeong/repo/KAIST/%EC%A0%9C%EC%B6%9C%EC%9A%A9/hyperparameter.ipynb#Y163sZmlsZQ%3D%3D?line=28'>29</a>\u001b[0m y_pred_prob \u001b[39m=\u001b[39m classifier\u001b[39m.\u001b[39mpredict_proba(X_val)\n",
      "File \u001b[0;32m/opt/homebrew/Caskroom/miniforge/base/envs/strong-design/lib/python3.9/site-packages/sklearn/ensemble/_gb.py:668\u001b[0m, in \u001b[0;36mBaseGradientBoosting.fit\u001b[0;34m(self, X, y, sample_weight, monitor)\u001b[0m\n\u001b[1;32m    665\u001b[0m     \u001b[39mself\u001b[39m\u001b[39m.\u001b[39m_resize_state()\n\u001b[1;32m    667\u001b[0m \u001b[39m# fit the boosting stages\u001b[39;00m\n\u001b[0;32m--> 668\u001b[0m n_stages \u001b[39m=\u001b[39m \u001b[39mself\u001b[39;49m\u001b[39m.\u001b[39;49m_fit_stages(\n\u001b[1;32m    669\u001b[0m     X,\n\u001b[1;32m    670\u001b[0m     y,\n\u001b[1;32m    671\u001b[0m     raw_predictions,\n\u001b[1;32m    672\u001b[0m     sample_weight,\n\u001b[1;32m    673\u001b[0m     \u001b[39mself\u001b[39;49m\u001b[39m.\u001b[39;49m_rng,\n\u001b[1;32m    674\u001b[0m     X_val,\n\u001b[1;32m    675\u001b[0m     y_val,\n\u001b[1;32m    676\u001b[0m     sample_weight_val,\n\u001b[1;32m    677\u001b[0m     begin_at_stage,\n\u001b[1;32m    678\u001b[0m     monitor,\n\u001b[1;32m    679\u001b[0m )\n\u001b[1;32m    681\u001b[0m \u001b[39m# change shape of arrays after fit (early-stopping or additional ests)\u001b[39;00m\n\u001b[1;32m    682\u001b[0m \u001b[39mif\u001b[39;00m n_stages \u001b[39m!=\u001b[39m \u001b[39mself\u001b[39m\u001b[39m.\u001b[39mestimators_\u001b[39m.\u001b[39mshape[\u001b[39m0\u001b[39m]:\n",
      "File \u001b[0;32m/opt/homebrew/Caskroom/miniforge/base/envs/strong-design/lib/python3.9/site-packages/sklearn/ensemble/_gb.py:745\u001b[0m, in \u001b[0;36mBaseGradientBoosting._fit_stages\u001b[0;34m(self, X, y, raw_predictions, sample_weight, random_state, X_val, y_val, sample_weight_val, begin_at_stage, monitor)\u001b[0m\n\u001b[1;32m    738\u001b[0m     old_oob_score \u001b[39m=\u001b[39m loss_(\n\u001b[1;32m    739\u001b[0m         y[\u001b[39m~\u001b[39msample_mask],\n\u001b[1;32m    740\u001b[0m         raw_predictions[\u001b[39m~\u001b[39msample_mask],\n\u001b[1;32m    741\u001b[0m         sample_weight[\u001b[39m~\u001b[39msample_mask],\n\u001b[1;32m    742\u001b[0m     )\n\u001b[1;32m    744\u001b[0m \u001b[39m# fit next stage of trees\u001b[39;00m\n\u001b[0;32m--> 745\u001b[0m raw_predictions \u001b[39m=\u001b[39m \u001b[39mself\u001b[39;49m\u001b[39m.\u001b[39;49m_fit_stage(\n\u001b[1;32m    746\u001b[0m     i,\n\u001b[1;32m    747\u001b[0m     X,\n\u001b[1;32m    748\u001b[0m     y,\n\u001b[1;32m    749\u001b[0m     raw_predictions,\n\u001b[1;32m    750\u001b[0m     sample_weight,\n\u001b[1;32m    751\u001b[0m     sample_mask,\n\u001b[1;32m    752\u001b[0m     random_state,\n\u001b[1;32m    753\u001b[0m     X_csc,\n\u001b[1;32m    754\u001b[0m     X_csr,\n\u001b[1;32m    755\u001b[0m )\n\u001b[1;32m    757\u001b[0m \u001b[39m# track deviance (= loss)\u001b[39;00m\n\u001b[1;32m    758\u001b[0m \u001b[39mif\u001b[39;00m do_oob:\n",
      "File \u001b[0;32m/opt/homebrew/Caskroom/miniforge/base/envs/strong-design/lib/python3.9/site-packages/sklearn/ensemble/_gb.py:247\u001b[0m, in \u001b[0;36mBaseGradientBoosting._fit_stage\u001b[0;34m(self, i, X, y, raw_predictions, sample_weight, sample_mask, random_state, X_csc, X_csr)\u001b[0m\n\u001b[1;32m    244\u001b[0m     sample_weight \u001b[39m=\u001b[39m sample_weight \u001b[39m*\u001b[39m sample_mask\u001b[39m.\u001b[39mastype(np\u001b[39m.\u001b[39mfloat64)\n\u001b[1;32m    246\u001b[0m X \u001b[39m=\u001b[39m X_csr \u001b[39mif\u001b[39;00m X_csr \u001b[39mis\u001b[39;00m \u001b[39mnot\u001b[39;00m \u001b[39mNone\u001b[39;00m \u001b[39melse\u001b[39;00m X\n\u001b[0;32m--> 247\u001b[0m tree\u001b[39m.\u001b[39;49mfit(X, residual, sample_weight\u001b[39m=\u001b[39;49msample_weight, check_input\u001b[39m=\u001b[39;49m\u001b[39mFalse\u001b[39;49;00m)\n\u001b[1;32m    249\u001b[0m \u001b[39m# update tree leaves\u001b[39;00m\n\u001b[1;32m    250\u001b[0m loss\u001b[39m.\u001b[39mupdate_terminal_regions(\n\u001b[1;32m    251\u001b[0m     tree\u001b[39m.\u001b[39mtree_,\n\u001b[1;32m    252\u001b[0m     X,\n\u001b[0;32m   (...)\u001b[0m\n\u001b[1;32m    259\u001b[0m     k\u001b[39m=\u001b[39mk,\n\u001b[1;32m    260\u001b[0m )\n",
      "File \u001b[0;32m/opt/homebrew/Caskroom/miniforge/base/envs/strong-design/lib/python3.9/site-packages/sklearn/tree/_classes.py:1342\u001b[0m, in \u001b[0;36mDecisionTreeRegressor.fit\u001b[0;34m(self, X, y, sample_weight, check_input)\u001b[0m\n\u001b[1;32m   1313\u001b[0m \u001b[39mdef\u001b[39;00m \u001b[39mfit\u001b[39m(\u001b[39mself\u001b[39m, X, y, sample_weight\u001b[39m=\u001b[39m\u001b[39mNone\u001b[39;00m, check_input\u001b[39m=\u001b[39m\u001b[39mTrue\u001b[39;00m):\n\u001b[1;32m   1314\u001b[0m     \u001b[39m\"\"\"Build a decision tree regressor from the training set (X, y).\u001b[39;00m\n\u001b[1;32m   1315\u001b[0m \n\u001b[1;32m   1316\u001b[0m \u001b[39m    Parameters\u001b[39;00m\n\u001b[0;32m   (...)\u001b[0m\n\u001b[1;32m   1339\u001b[0m \u001b[39m        Fitted estimator.\u001b[39;00m\n\u001b[1;32m   1340\u001b[0m \u001b[39m    \"\"\"\u001b[39;00m\n\u001b[0;32m-> 1342\u001b[0m     \u001b[39msuper\u001b[39;49m()\u001b[39m.\u001b[39;49mfit(\n\u001b[1;32m   1343\u001b[0m         X,\n\u001b[1;32m   1344\u001b[0m         y,\n\u001b[1;32m   1345\u001b[0m         sample_weight\u001b[39m=\u001b[39;49msample_weight,\n\u001b[1;32m   1346\u001b[0m         check_input\u001b[39m=\u001b[39;49mcheck_input,\n\u001b[1;32m   1347\u001b[0m     )\n\u001b[1;32m   1348\u001b[0m     \u001b[39mreturn\u001b[39;00m \u001b[39mself\u001b[39m\n",
      "File \u001b[0;32m/opt/homebrew/Caskroom/miniforge/base/envs/strong-design/lib/python3.9/site-packages/sklearn/tree/_classes.py:458\u001b[0m, in \u001b[0;36mBaseDecisionTree.fit\u001b[0;34m(self, X, y, sample_weight, check_input)\u001b[0m\n\u001b[1;32m    447\u001b[0m \u001b[39melse\u001b[39;00m:\n\u001b[1;32m    448\u001b[0m     builder \u001b[39m=\u001b[39m BestFirstTreeBuilder(\n\u001b[1;32m    449\u001b[0m         splitter,\n\u001b[1;32m    450\u001b[0m         min_samples_split,\n\u001b[0;32m   (...)\u001b[0m\n\u001b[1;32m    455\u001b[0m         \u001b[39mself\u001b[39m\u001b[39m.\u001b[39mmin_impurity_decrease,\n\u001b[1;32m    456\u001b[0m     )\n\u001b[0;32m--> 458\u001b[0m builder\u001b[39m.\u001b[39;49mbuild(\u001b[39mself\u001b[39;49m\u001b[39m.\u001b[39;49mtree_, X, y, sample_weight)\n\u001b[1;32m    460\u001b[0m \u001b[39mif\u001b[39;00m \u001b[39mself\u001b[39m\u001b[39m.\u001b[39mn_outputs_ \u001b[39m==\u001b[39m \u001b[39m1\u001b[39m \u001b[39mand\u001b[39;00m is_classifier(\u001b[39mself\u001b[39m):\n\u001b[1;32m    461\u001b[0m     \u001b[39mself\u001b[39m\u001b[39m.\u001b[39mn_classes_ \u001b[39m=\u001b[39m \u001b[39mself\u001b[39m\u001b[39m.\u001b[39mn_classes_[\u001b[39m0\u001b[39m]\n",
      "\u001b[0;31mKeyboardInterrupt\u001b[0m: "
     ]
    }
   ],
   "source": [
    "clf = GradientBoostingClassifier(random_state=42)\n",
    "shap_df_list, metric_df = NestedCVwithOptuna(GBMObjective, clf, 'gbm')"
   ]
  },
  {
   "cell_type": "markdown",
   "metadata": {},
   "source": [
    "## 40개의 모델의 개별 performance metric + 평균 performnace metric을 저장한다\n",
    "## 각 모델별 test set의 feature에 따른 shap value를 저장한다"
   ]
  },
  {
   "cell_type": "code",
   "execution_count": null,
   "metadata": {},
   "outputs": [],
   "source": [
    "if label_name == 'three_label':\n",
    "    shap_values_df_0 = pd.concat(shap_df_list[0])\n",
    "    shap_values_df_1 = pd.concat(shap_df_list[1])\n",
    "    shap_values_df_2 = pd.concat(shap_df_list[2])\n",
    "\n",
    "    with pd.ExcelWriter(f\"./gbm_result.xlsx\") as writer:\n",
    "        metric_df.to_excel(writer, sheet_name=\"performance metric\", index=False)\n",
    "        shap_values_df_0.to_excel(writer, sheet_name=\"shap_list_0\", index=False)\n",
    "        shap_values_df_1.to_excel(writer, sheet_name=\"shap_list_1\", index=False)\n",
    "        shap_values_df_2.to_excel(writer, sheet_name=\"shap_list_2\", index=False)\n",
    "\n",
    "if label_name != 'three_label':\n",
    "    shap_values_df = pd.concat(shap_df_list[0])\n",
    "\n",
    "    with pd.ExcelWriter(f\"./gbm_result.xlsx\") as writer:\n",
    "        metric_df.to_excel(writer, sheet_name=\"performance metric\", index=False)\n",
    "        shap_values_df.to_excel(writer, sheet_name=\"shap_list\", index=False)"
   ]
  }
 ],
 "metadata": {
  "kernelspec": {
   "display_name": "Python 3 (ipykernel)",
   "language": "python",
   "name": "python3"
  },
  "language_info": {
   "codemirror_mode": {
    "name": "ipython",
    "version": 3
   },
   "file_extension": ".py",
   "mimetype": "text/x-python",
   "name": "python",
   "nbconvert_exporter": "python",
   "pygments_lexer": "ipython3",
   "version": "3.10.4"
  },
  "vscode": {
   "interpreter": {
    "hash": "3ed2154bd5b5757405c8b05723ca1c1b7d64f46b962974a845269f33b48b03ad"
   }
  }
 },
 "nbformat": 4,
 "nbformat_minor": 2
}
